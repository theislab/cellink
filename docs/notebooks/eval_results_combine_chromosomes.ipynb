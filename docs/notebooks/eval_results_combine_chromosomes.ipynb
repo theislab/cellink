{
 "cells": [
  {
   "cell_type": "code",
   "execution_count": 1,
   "id": "7f24c55f-6875-4327-8623-464d4c604d18",
   "metadata": {},
   "outputs": [
    {
     "name": "stderr",
     "output_type": "stream",
     "text": [
      "/opt/modules/i12g/anaconda/envs/mzb_scgenetics/lib/python3.10/site-packages/tqdm/auto.py:21: TqdmWarning: IProgress not found. Please update jupyter and ipywidgets. See https://ipywidgets.readthedocs.io/en/stable/user_install.html\n",
      "  from .autonotebook import tqdm as notebook_tqdm\n"
     ]
    }
   ],
   "source": [
    "import pandas as pd\n",
    "import pickle\n",
    "from pathlib import Path\n",
    "import os\n",
    "import pandas as pd\n",
    "import scanpy as sc\n",
    "import cellink as cl\n",
    "from cellink.tl._burden_testing import *"
   ]
  },
  {
   "cell_type": "markdown",
   "id": "704885c9-be28-466b-b06c-8a1911579d95",
   "metadata": {},
   "source": [
    "### Combine all results and do FDR correction"
   ]
  },
  {
   "cell_type": "code",
   "execution_count": 2,
   "id": "15e4d314-bc18-490d-b027-7e9f4327cd11",
   "metadata": {},
   "outputs": [],
   "source": [
    "chr1_all_results=pd.read_pickle(\"/s/project/sys_gen_students/2024_2025/project04_rare_variant_sc/output/association/chr1_all_results.pkl\")\n",
    "chr2_all_results=pd.read_pickle(\"/s/project/sys_gen_students/2024_2025/project04_rare_variant_sc/output/association/chr2_all_results.pkl\")\n",
    "chr3_all_results=pd.read_pickle(\"/s/project/sys_gen_students/2024_2025/project04_rare_variant_sc/output/association/chr3_all_results.pkl\")\n",
    "chr4_all_results=pd.read_pickle(\"/s/project/sys_gen_students/2024_2025/project04_rare_variant_sc/output/association/chr4_all_results.pkl\")\n",
    "chr5_all_results=pd.read_pickle(\"/s/project/sys_gen_students/2024_2025/project04_rare_variant_sc/output/association/chr5_all_results.pkl\")\n",
    "chr6_all_results=pd.read_pickle(\"/s/project/sys_gen_students/2024_2025/project04_rare_variant_sc/output/association/chr6_all_results.pkl\")\n",
    "chr7_all_results=pd.read_pickle(\"/s/project/sys_gen_students/2024_2025/project04_rare_variant_sc/output/association/chr7_all_results.pkl\")\n",
    "chr8_all_results=pd.read_pickle(\"/s/project/sys_gen_students/2024_2025/project04_rare_variant_sc/output/association/chr8_all_results.pkl\")\n",
    "chr9_all_results=pd.read_pickle(\"/s/project/sys_gen_students/2024_2025/project04_rare_variant_sc/output/association/chr9_all_results.pkl\")\n",
    "chr10_all_results=pd.read_pickle(\"/s/project/sys_gen_students/2024_2025/project04_rare_variant_sc/output/association/chr10_all_results.pkl\")\n",
    "chr11_all_results=pd.read_pickle(\"/s/project/sys_gen_students/2024_2025/project04_rare_variant_sc/output/association/chr11_all_results.pkl\")\n",
    "chr12_all_results=pd.read_pickle(\"/s/project/sys_gen_students/2024_2025/project04_rare_variant_sc/output/association/chr12_all_results.pkl\")\n",
    "chr13_all_results=pd.read_pickle(\"/s/project/sys_gen_students/2024_2025/project04_rare_variant_sc/output/association/chr13_all_results.pkl\")\n",
    "chr14_all_results=pd.read_pickle(\"/s/project/sys_gen_students/2024_2025/project04_rare_variant_sc/output/association/chr14_all_results.pkl\")\n",
    "chr15_all_results=pd.read_pickle(\"/s/project/sys_gen_students/2024_2025/project04_rare_variant_sc/output/association/chr15_all_results.pkl\")\n",
    "chr16_all_results=pd.read_pickle(\"/s/project/sys_gen_students/2024_2025/project04_rare_variant_sc/output/association/chr16_all_results.pkl\")\n",
    "chr17_all_results=pd.read_pickle(\"/s/project/sys_gen_students/2024_2025/project04_rare_variant_sc/output/association/chr17_all_results.pkl\")\n",
    "chr18_all_results=pd.read_pickle(\"/s/project/sys_gen_students/2024_2025/project04_rare_variant_sc/output/association/chr18_all_results.pkl\")\n",
    "chr19_all_results=pd.read_pickle(\"/s/project/sys_gen_students/2024_2025/project04_rare_variant_sc/output/association/chr19_all_results.pkl\")\n",
    "chr20_all_results=pd.read_pickle(\"/s/project/sys_gen_students/2024_2025/project04_rare_variant_sc/output/association/chr20_all_results.pkl\")\n",
    "chr21_all_results=pd.read_pickle(\"/s/project/sys_gen_students/2024_2025/project04_rare_variant_sc/output/association/chr21_all_results.pkl\")\n",
    "chr22_all_results=pd.read_pickle(\"/s/project/sys_gen_students/2024_2025/project04_rare_variant_sc/output/association/chr22_all_results.pkl\")\n"
   ]
  },
  {
   "cell_type": "code",
   "execution_count": 3,
   "id": "5ce8acaf-9732-4889-adea-5bc5c5209d07",
   "metadata": {},
   "outputs": [],
   "source": [
    "all_results = pd.concat([chr1_all_results, \n",
    "                    chr2_all_results,\n",
    "                   chr3_all_results,\n",
    "                   chr4_all_results,\n",
    "                   chr5_all_results,\n",
    "                    chr6_all_results, \n",
    "                    chr7_all_results,\n",
    "                   chr8_all_results,\n",
    "                   chr9_all_results,\n",
    "                   chr10_all_results,\n",
    "                    chr11_all_results,\n",
    "                   chr12_all_results,\n",
    "                   chr13_all_results,\n",
    "                    chr14_all_results, \n",
    "                    chr15_all_results,\n",
    "                   chr16_all_results,\n",
    "                   chr17_all_results,\n",
    "                   chr18_all_results,\n",
    "                   chr19_all_results,\n",
    "                   chr20_all_results,\n",
    "                   chr21_all_results,\n",
    "                   chr22_all_results,], ignore_index=True)"
   ]
  },
  {
   "cell_type": "code",
   "execution_count": 30,
   "id": "1480121b-11cd-4e19-b07e-e46d43b0bbbb",
   "metadata": {},
   "outputs": [],
   "source": [
    "all_results.to_csv('/s/project/sys_gen_students/2024_2025/project04_rare_variant_sc/output/association/all_results.csv', index=False) "
   ]
  },
  {
   "cell_type": "markdown",
   "id": "646a94c0-ec3b-4062-9763-93c272d30aaa",
   "metadata": {},
   "source": [
    "### correcting p values"
   ]
  },
  {
   "cell_type": "code",
   "execution_count": 5,
   "id": "e4142e73-9a3c-49f7-bc05-e76209e4c707",
   "metadata": {},
   "outputs": [],
   "source": [
    "df_final, df_to_plot = FDR_correction(all_results)"
   ]
  },
  {
   "cell_type": "code",
   "execution_count": 32,
   "id": "597ca323-e5ff-43ae-afb8-2acff2d66ce9",
   "metadata": {},
   "outputs": [],
   "source": [
    "df_to_plot.to_csv('/s/project/sys_gen_students/2024_2025/project04_rare_variant_sc/output/association/all_results_summary.csv', index=False) "
   ]
  },
  {
   "cell_type": "code",
   "execution_count": 31,
   "id": "7ab0a29d-d64a-46ef-abcf-26d47f90988c",
   "metadata": {},
   "outputs": [],
   "source": [
    "df_final.to_csv('/s/project/sys_gen_students/2024_2025/project04_rare_variant_sc/output/association/all_results_FDR_corrected.csv', index=False) \n"
   ]
  },
  {
   "cell_type": "markdown",
   "id": "4dd12e19-c4c2-4d13-a8d7-461b3cf11f0c",
   "metadata": {},
   "source": [
    "### filtering out unneeded cell types"
   ]
  },
  {
   "cell_type": "code",
   "execution_count": 41,
   "id": "ddb4151e-1e9e-4f6f-9eea-019aad3ad3e8",
   "metadata": {},
   "outputs": [],
   "source": [
    "df_to_plot_filtered =df_to_plot[~df_to_plot[\"celltype\"].isin([\"Erythrocytes\", \"Platelets\"])]"
   ]
  },
  {
   "cell_type": "code",
   "execution_count": null,
   "id": "466e9bed-9a83-493a-b03c-d227b8e27700",
   "metadata": {},
   "outputs": [],
   "source": [
    "df_final_filtered =df_final[(~df_final[\"cell_type\"].isin([\"Erythrocytes\", \"Platelets\"])) &\n",
    "                                (df_final[\"burden_type\"]!=\"GENE_TSS_DISTANCE\")]\n",
    "\n",
    "\n",
    "df_final_filtered.to_csv('/s/project/sys_gen_students/2024_2025/project04_rare_variant_sc/output/association/all_results_FDR_corrected_newest.csv', index=False) \n",
    "df_to_plot_filtered.to_csv('/s/project/sys_gen_students/2024_2025/project04_rare_variant_sc/output/association/all_results_summary_newest.csv', index=False) "
   ]
  }
 ],
 "metadata": {
  "kernelspec": {
   "display_name": "Python [conda env:anaconda-mzb_scgenetics]",
   "language": "python",
   "name": "conda-env-anaconda-mzb_scgenetics-py"
  },
  "language_info": {
   "codemirror_mode": {
    "name": "ipython",
    "version": 3
   },
   "file_extension": ".py",
   "mimetype": "text/x-python",
   "name": "python",
   "nbconvert_exporter": "python",
   "pygments_lexer": "ipython3",
   "version": "3.10.15"
  }
 },
 "nbformat": 4,
 "nbformat_minor": 5
}
