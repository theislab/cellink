{
 "cells": [
  {
   "cell_type": "code",
   "execution_count": 1,
   "id": "9992e6bf-f6b8-4023-ac28-81c07c8aa289",
   "metadata": {},
   "outputs": [],
   "source": [
    "%load_ext autoreload\n",
    "%autoreload 2"
   ]
  },
  {
   "cell_type": "code",
   "execution_count": 2,
   "id": "df6f91ac-d01b-42c8-90d7-8080fda37793",
   "metadata": {},
   "outputs": [
    {
     "name": "stderr",
     "output_type": "stream",
     "text": [
      "/data/nasif12/home_if12/l_mai/.conda/envs/mm_scgenetics/lib/python3.10/site-packages/tqdm/auto.py:21: TqdmWarning: IProgress not found. Please update jupyter and ipywidgets. See https://ipywidgets.readthedocs.io/en/stable/user_install.html\n",
      "  from .autonotebook import tqdm as notebook_tqdm\n"
     ]
    }
   ],
   "source": [
    "from pathlib import Path\n",
    "import os\n",
    "import pandas as pd\n",
    "import scanpy as sc\n",
    "import cellink as cl"
   ]
  },
  {
   "cell_type": "code",
   "execution_count": 3,
   "id": "33c88950-3429-418e-be8f-049a6cba5002",
   "metadata": {},
   "outputs": [],
   "source": [
    "from cellink.tl._burden_testing import *"
   ]
  },
  {
   "cell_type": "code",
   "execution_count": 4,
   "id": "d6fed0fb-3f3f-4588-ab05-6e379a04f74f",
   "metadata": {},
   "outputs": [],
   "source": [
    "cell_type_col = \"cell_label\""
   ]
  },
  {
   "cell_type": "code",
   "execution_count": 5,
   "id": "68891e79-3ec6-4ccb-8e03-3c1f89eaaddc",
   "metadata": {},
   "outputs": [],
   "source": [
    "base_data_dir = Path(\"/s/project/sys_gen_students/2024_2025/project04_rare_variant_sc/\")\n",
    "input_dir = base_data_dir / \"input_data\"\n",
    "output_dir = base_data_dir / \"output\"\n",
    "## defining the path to the data\n",
    "scdata_path = input_dir / \"chr22_OneK1K_cohort_gene_expression_matrix_14_celltypes.h5ad.gz\"\n",
    "gdata_path = input_dir / \"plink/\"\n",
    "dump_path = base_data_dir / \"output/example_output\"\n",
    "vep_anno_file = input_dir /  \"all_variants_annotated_fixed_ref_reversed_id.txt\"\n",
    "DNA_LM_file = input_dir/ \"onek1k_inf_scores_upstream_model.tsv\"\n",
    "## defining target chromosome\n",
    "target_chromosome = \"22\""
   ]
  },
  {
   "cell_type": "code",
   "execution_count": 6,
   "id": "05cb5d18",
   "metadata": {},
   "outputs": [],
   "source": [
    "# data\n",
    "data = pd.read_pickle(output_dir/\"data.pkl\")"
   ]
  },
  {
   "cell_type": "code",
   "execution_count": 9,
   "id": "642f9025",
   "metadata": {},
   "outputs": [
    {
     "data": {
      "text/html": [
       "<div>\n",
       "<style scoped>\n",
       "    .dataframe tbody tr th:only-of-type {\n",
       "        vertical-align: middle;\n",
       "    }\n",
       "\n",
       "    .dataframe tbody tr th {\n",
       "        vertical-align: top;\n",
       "    }\n",
       "\n",
       "    .dataframe thead th {\n",
       "        text-align: right;\n",
       "    }\n",
       "</style>\n",
       "<table border=\"1\" class=\"dataframe\">\n",
       "  <thead>\n",
       "    <tr style=\"text-align: right;\">\n",
       "      <th></th>\n",
       "      <th>gnomADe_EAS_AF</th>\n",
       "      <th>Feature_type</th>\n",
       "      <th>Consequence_intergenic_variant</th>\n",
       "      <th>PHENO</th>\n",
       "      <th>Consequence_start_lost</th>\n",
       "      <th>gnomADe_AMR_AF</th>\n",
       "      <th>Existing_variation</th>\n",
       "      <th>CLIN_SIG</th>\n",
       "      <th>CADD_RAW</th>\n",
       "      <th>gnomADe_NFE_AF</th>\n",
       "      <th>...</th>\n",
       "      <th>Consequence_splice_donor_5th_base_variant</th>\n",
       "      <th>Consequence_splice_donor_region_variant</th>\n",
       "      <th>Consequence_splice_donor_variant</th>\n",
       "      <th>Consequence_splice_polypyrimidine_tract_variant</th>\n",
       "      <th>Consequence_splice_region_variant</th>\n",
       "      <th>Consequence_stop_gained</th>\n",
       "      <th>Consequence_synonymous_variant</th>\n",
       "      <th>Consequence_upstream_gene_variant</th>\n",
       "      <th>DNA_LM_influence_score</th>\n",
       "      <th>MAF_beta_1.25</th>\n",
       "    </tr>\n",
       "    <tr>\n",
       "      <th>snp_id</th>\n",
       "      <th></th>\n",
       "      <th></th>\n",
       "      <th></th>\n",
       "      <th></th>\n",
       "      <th></th>\n",
       "      <th></th>\n",
       "      <th></th>\n",
       "      <th></th>\n",
       "      <th></th>\n",
       "      <th></th>\n",
       "      <th></th>\n",
       "      <th></th>\n",
       "      <th></th>\n",
       "      <th></th>\n",
       "      <th></th>\n",
       "      <th></th>\n",
       "      <th></th>\n",
       "      <th></th>\n",
       "      <th></th>\n",
       "      <th></th>\n",
       "      <th></th>\n",
       "    </tr>\n",
       "  </thead>\n",
       "  <tbody>\n",
       "    <tr>\n",
       "      <th>22_16849573_G_A</th>\n",
       "      <td>NaN</td>\n",
       "      <td>-</td>\n",
       "      <td>1</td>\n",
       "      <td>-</td>\n",
       "      <td>0</td>\n",
       "      <td>NaN</td>\n",
       "      <td>rs112435201</td>\n",
       "      <td>-</td>\n",
       "      <td>0.433139</td>\n",
       "      <td>NaN</td>\n",
       "      <td>...</td>\n",
       "      <td>0</td>\n",
       "      <td>0</td>\n",
       "      <td>0</td>\n",
       "      <td>0</td>\n",
       "      <td>0</td>\n",
       "      <td>0</td>\n",
       "      <td>0</td>\n",
       "      <td>0</td>\n",
       "      <td>0.053059</td>\n",
       "      <td>0.000227</td>\n",
       "    </tr>\n",
       "    <tr>\n",
       "      <th>22_16849971_T_A</th>\n",
       "      <td>NaN</td>\n",
       "      <td>-</td>\n",
       "      <td>1</td>\n",
       "      <td>-</td>\n",
       "      <td>0</td>\n",
       "      <td>NaN</td>\n",
       "      <td>rs7287956</td>\n",
       "      <td>-</td>\n",
       "      <td>0.442607</td>\n",
       "      <td>NaN</td>\n",
       "      <td>...</td>\n",
       "      <td>0</td>\n",
       "      <td>0</td>\n",
       "      <td>0</td>\n",
       "      <td>0</td>\n",
       "      <td>0</td>\n",
       "      <td>0</td>\n",
       "      <td>0</td>\n",
       "      <td>0</td>\n",
       "      <td>0.076044</td>\n",
       "      <td>0.000227</td>\n",
       "    </tr>\n",
       "    <tr>\n",
       "      <th>22_16850437_A_G</th>\n",
       "      <td>NaN</td>\n",
       "      <td>-</td>\n",
       "      <td>1</td>\n",
       "      <td>-</td>\n",
       "      <td>0</td>\n",
       "      <td>NaN</td>\n",
       "      <td>rs5748209</td>\n",
       "      <td>-</td>\n",
       "      <td>0.369731</td>\n",
       "      <td>NaN</td>\n",
       "      <td>...</td>\n",
       "      <td>0</td>\n",
       "      <td>0</td>\n",
       "      <td>0</td>\n",
       "      <td>0</td>\n",
       "      <td>0</td>\n",
       "      <td>0</td>\n",
       "      <td>0</td>\n",
       "      <td>0</td>\n",
       "      <td>0.054154</td>\n",
       "      <td>0.000227</td>\n",
       "    </tr>\n",
       "    <tr>\n",
       "      <th>22_16851225_T_C</th>\n",
       "      <td>NaN</td>\n",
       "      <td>-</td>\n",
       "      <td>1</td>\n",
       "      <td>-</td>\n",
       "      <td>0</td>\n",
       "      <td>NaN</td>\n",
       "      <td>rs5746874</td>\n",
       "      <td>-</td>\n",
       "      <td>0.393139</td>\n",
       "      <td>NaN</td>\n",
       "      <td>...</td>\n",
       "      <td>0</td>\n",
       "      <td>0</td>\n",
       "      <td>0</td>\n",
       "      <td>0</td>\n",
       "      <td>0</td>\n",
       "      <td>0</td>\n",
       "      <td>0</td>\n",
       "      <td>0</td>\n",
       "      <td>0.109348</td>\n",
       "      <td>0.000227</td>\n",
       "    </tr>\n",
       "    <tr>\n",
       "      <th>22_16851356_T_C</th>\n",
       "      <td>NaN</td>\n",
       "      <td>-</td>\n",
       "      <td>1</td>\n",
       "      <td>-</td>\n",
       "      <td>0</td>\n",
       "      <td>NaN</td>\n",
       "      <td>rs5748581</td>\n",
       "      <td>-</td>\n",
       "      <td>0.377289</td>\n",
       "      <td>NaN</td>\n",
       "      <td>...</td>\n",
       "      <td>0</td>\n",
       "      <td>0</td>\n",
       "      <td>0</td>\n",
       "      <td>0</td>\n",
       "      <td>0</td>\n",
       "      <td>0</td>\n",
       "      <td>0</td>\n",
       "      <td>0</td>\n",
       "      <td>0.116335</td>\n",
       "      <td>0.000227</td>\n",
       "    </tr>\n",
       "    <tr>\n",
       "      <th>...</th>\n",
       "      <td>...</td>\n",
       "      <td>...</td>\n",
       "      <td>...</td>\n",
       "      <td>...</td>\n",
       "      <td>...</td>\n",
       "      <td>...</td>\n",
       "      <td>...</td>\n",
       "      <td>...</td>\n",
       "      <td>...</td>\n",
       "      <td>...</td>\n",
       "      <td>...</td>\n",
       "      <td>...</td>\n",
       "      <td>...</td>\n",
       "      <td>...</td>\n",
       "      <td>...</td>\n",
       "      <td>...</td>\n",
       "      <td>...</td>\n",
       "      <td>...</td>\n",
       "      <td>...</td>\n",
       "      <td>...</td>\n",
       "      <td>...</td>\n",
       "    </tr>\n",
       "    <tr>\n",
       "      <th>22_51202748_G_A</th>\n",
       "      <td>NaN</td>\n",
       "      <td>Transcript</td>\n",
       "      <td>0</td>\n",
       "      <td>-</td>\n",
       "      <td>0</td>\n",
       "      <td>NaN</td>\n",
       "      <td>rs9616963</td>\n",
       "      <td>-</td>\n",
       "      <td>0.550962</td>\n",
       "      <td>NaN</td>\n",
       "      <td>...</td>\n",
       "      <td>0</td>\n",
       "      <td>0</td>\n",
       "      <td>0</td>\n",
       "      <td>0</td>\n",
       "      <td>0</td>\n",
       "      <td>0</td>\n",
       "      <td>0</td>\n",
       "      <td>0</td>\n",
       "      <td>0.033990</td>\n",
       "      <td>4.648319</td>\n",
       "    </tr>\n",
       "    <tr>\n",
       "      <th>22_51208568_T_G</th>\n",
       "      <td>NaN</td>\n",
       "      <td>Transcript</td>\n",
       "      <td>0</td>\n",
       "      <td>-</td>\n",
       "      <td>0</td>\n",
       "      <td>NaN</td>\n",
       "      <td>rs148425445</td>\n",
       "      <td>-</td>\n",
       "      <td>0.102244</td>\n",
       "      <td>NaN</td>\n",
       "      <td>...</td>\n",
       "      <td>0</td>\n",
       "      <td>0</td>\n",
       "      <td>0</td>\n",
       "      <td>0</td>\n",
       "      <td>0</td>\n",
       "      <td>0</td>\n",
       "      <td>0</td>\n",
       "      <td>0</td>\n",
       "      <td>0.031510</td>\n",
       "      <td>4.706528</td>\n",
       "    </tr>\n",
       "    <tr>\n",
       "      <th>22_51211031_G_A</th>\n",
       "      <td>NaN</td>\n",
       "      <td>Transcript</td>\n",
       "      <td>0</td>\n",
       "      <td>-</td>\n",
       "      <td>0</td>\n",
       "      <td>NaN</td>\n",
       "      <td>rs9616968</td>\n",
       "      <td>-</td>\n",
       "      <td>0.153297</td>\n",
       "      <td>NaN</td>\n",
       "      <td>...</td>\n",
       "      <td>0</td>\n",
       "      <td>0</td>\n",
       "      <td>0</td>\n",
       "      <td>0</td>\n",
       "      <td>0</td>\n",
       "      <td>0</td>\n",
       "      <td>0</td>\n",
       "      <td>0</td>\n",
       "      <td>0.024377</td>\n",
       "      <td>5.008209</td>\n",
       "    </tr>\n",
       "    <tr>\n",
       "      <th>22_51213613_T_C</th>\n",
       "      <td>NaN</td>\n",
       "      <td>Transcript</td>\n",
       "      <td>0</td>\n",
       "      <td>-</td>\n",
       "      <td>0</td>\n",
       "      <td>NaN</td>\n",
       "      <td>rs34726907</td>\n",
       "      <td>-</td>\n",
       "      <td>-0.394121</td>\n",
       "      <td>NaN</td>\n",
       "      <td>...</td>\n",
       "      <td>0</td>\n",
       "      <td>0</td>\n",
       "      <td>0</td>\n",
       "      <td>0</td>\n",
       "      <td>0</td>\n",
       "      <td>0</td>\n",
       "      <td>0</td>\n",
       "      <td>0</td>\n",
       "      <td>0.024270</td>\n",
       "      <td>0.825022</td>\n",
       "    </tr>\n",
       "    <tr>\n",
       "      <th>22_51216564_C_T</th>\n",
       "      <td>NaN</td>\n",
       "      <td>Transcript</td>\n",
       "      <td>0</td>\n",
       "      <td>-</td>\n",
       "      <td>0</td>\n",
       "      <td>NaN</td>\n",
       "      <td>rs9616970</td>\n",
       "      <td>-</td>\n",
       "      <td>-0.113869</td>\n",
       "      <td>NaN</td>\n",
       "      <td>...</td>\n",
       "      <td>0</td>\n",
       "      <td>0</td>\n",
       "      <td>0</td>\n",
       "      <td>0</td>\n",
       "      <td>0</td>\n",
       "      <td>0</td>\n",
       "      <td>0</td>\n",
       "      <td>0</td>\n",
       "      <td>0.020555</td>\n",
       "      <td>0.825022</td>\n",
       "    </tr>\n",
       "  </tbody>\n",
       "</table>\n",
       "<p>96257 rows × 59 columns</p>\n",
       "</div>"
      ],
      "text/plain": [
       "                 gnomADe_EAS_AF Feature_type  Consequence_intergenic_variant  \\\n",
       "snp_id                                                                         \n",
       "22_16849573_G_A             NaN            -                               1   \n",
       "22_16849971_T_A             NaN            -                               1   \n",
       "22_16850437_A_G             NaN            -                               1   \n",
       "22_16851225_T_C             NaN            -                               1   \n",
       "22_16851356_T_C             NaN            -                               1   \n",
       "...                         ...          ...                             ...   \n",
       "22_51202748_G_A             NaN   Transcript                               0   \n",
       "22_51208568_T_G             NaN   Transcript                               0   \n",
       "22_51211031_G_A             NaN   Transcript                               0   \n",
       "22_51213613_T_C             NaN   Transcript                               0   \n",
       "22_51216564_C_T             NaN   Transcript                               0   \n",
       "\n",
       "                PHENO  Consequence_start_lost  gnomADe_AMR_AF  \\\n",
       "snp_id                                                          \n",
       "22_16849573_G_A     -                       0             NaN   \n",
       "22_16849971_T_A     -                       0             NaN   \n",
       "22_16850437_A_G     -                       0             NaN   \n",
       "22_16851225_T_C     -                       0             NaN   \n",
       "22_16851356_T_C     -                       0             NaN   \n",
       "...               ...                     ...             ...   \n",
       "22_51202748_G_A     -                       0             NaN   \n",
       "22_51208568_T_G     -                       0             NaN   \n",
       "22_51211031_G_A     -                       0             NaN   \n",
       "22_51213613_T_C     -                       0             NaN   \n",
       "22_51216564_C_T     -                       0             NaN   \n",
       "\n",
       "                Existing_variation CLIN_SIG  CADD_RAW  gnomADe_NFE_AF  ...  \\\n",
       "snp_id                                                                 ...   \n",
       "22_16849573_G_A        rs112435201        -  0.433139             NaN  ...   \n",
       "22_16849971_T_A          rs7287956        -  0.442607             NaN  ...   \n",
       "22_16850437_A_G          rs5748209        -  0.369731             NaN  ...   \n",
       "22_16851225_T_C          rs5746874        -  0.393139             NaN  ...   \n",
       "22_16851356_T_C          rs5748581        -  0.377289             NaN  ...   \n",
       "...                            ...      ...       ...             ...  ...   \n",
       "22_51202748_G_A          rs9616963        -  0.550962             NaN  ...   \n",
       "22_51208568_T_G        rs148425445        -  0.102244             NaN  ...   \n",
       "22_51211031_G_A          rs9616968        -  0.153297             NaN  ...   \n",
       "22_51213613_T_C         rs34726907        - -0.394121             NaN  ...   \n",
       "22_51216564_C_T          rs9616970        - -0.113869             NaN  ...   \n",
       "\n",
       "                 Consequence_splice_donor_5th_base_variant  \\\n",
       "snp_id                                                       \n",
       "22_16849573_G_A                                          0   \n",
       "22_16849971_T_A                                          0   \n",
       "22_16850437_A_G                                          0   \n",
       "22_16851225_T_C                                          0   \n",
       "22_16851356_T_C                                          0   \n",
       "...                                                    ...   \n",
       "22_51202748_G_A                                          0   \n",
       "22_51208568_T_G                                          0   \n",
       "22_51211031_G_A                                          0   \n",
       "22_51213613_T_C                                          0   \n",
       "22_51216564_C_T                                          0   \n",
       "\n",
       "                 Consequence_splice_donor_region_variant  \\\n",
       "snp_id                                                     \n",
       "22_16849573_G_A                                        0   \n",
       "22_16849971_T_A                                        0   \n",
       "22_16850437_A_G                                        0   \n",
       "22_16851225_T_C                                        0   \n",
       "22_16851356_T_C                                        0   \n",
       "...                                                  ...   \n",
       "22_51202748_G_A                                        0   \n",
       "22_51208568_T_G                                        0   \n",
       "22_51211031_G_A                                        0   \n",
       "22_51213613_T_C                                        0   \n",
       "22_51216564_C_T                                        0   \n",
       "\n",
       "                 Consequence_splice_donor_variant  \\\n",
       "snp_id                                              \n",
       "22_16849573_G_A                                 0   \n",
       "22_16849971_T_A                                 0   \n",
       "22_16850437_A_G                                 0   \n",
       "22_16851225_T_C                                 0   \n",
       "22_16851356_T_C                                 0   \n",
       "...                                           ...   \n",
       "22_51202748_G_A                                 0   \n",
       "22_51208568_T_G                                 0   \n",
       "22_51211031_G_A                                 0   \n",
       "22_51213613_T_C                                 0   \n",
       "22_51216564_C_T                                 0   \n",
       "\n",
       "                Consequence_splice_polypyrimidine_tract_variant  \\\n",
       "snp_id                                                            \n",
       "22_16849573_G_A                                               0   \n",
       "22_16849971_T_A                                               0   \n",
       "22_16850437_A_G                                               0   \n",
       "22_16851225_T_C                                               0   \n",
       "22_16851356_T_C                                               0   \n",
       "...                                                         ...   \n",
       "22_51202748_G_A                                               0   \n",
       "22_51208568_T_G                                               0   \n",
       "22_51211031_G_A                                               0   \n",
       "22_51213613_T_C                                               0   \n",
       "22_51216564_C_T                                               0   \n",
       "\n",
       "                Consequence_splice_region_variant Consequence_stop_gained  \\\n",
       "snp_id                                                                      \n",
       "22_16849573_G_A                                 0                       0   \n",
       "22_16849971_T_A                                 0                       0   \n",
       "22_16850437_A_G                                 0                       0   \n",
       "22_16851225_T_C                                 0                       0   \n",
       "22_16851356_T_C                                 0                       0   \n",
       "...                                           ...                     ...   \n",
       "22_51202748_G_A                                 0                       0   \n",
       "22_51208568_T_G                                 0                       0   \n",
       "22_51211031_G_A                                 0                       0   \n",
       "22_51213613_T_C                                 0                       0   \n",
       "22_51216564_C_T                                 0                       0   \n",
       "\n",
       "                 Consequence_synonymous_variant  \\\n",
       "snp_id                                            \n",
       "22_16849573_G_A                               0   \n",
       "22_16849971_T_A                               0   \n",
       "22_16850437_A_G                               0   \n",
       "22_16851225_T_C                               0   \n",
       "22_16851356_T_C                               0   \n",
       "...                                         ...   \n",
       "22_51202748_G_A                               0   \n",
       "22_51208568_T_G                               0   \n",
       "22_51211031_G_A                               0   \n",
       "22_51213613_T_C                               0   \n",
       "22_51216564_C_T                               0   \n",
       "\n",
       "                 Consequence_upstream_gene_variant  DNA_LM_influence_score  \\\n",
       "snp_id                                                                       \n",
       "22_16849573_G_A                                  0                0.053059   \n",
       "22_16849971_T_A                                  0                0.076044   \n",
       "22_16850437_A_G                                  0                0.054154   \n",
       "22_16851225_T_C                                  0                0.109348   \n",
       "22_16851356_T_C                                  0                0.116335   \n",
       "...                                            ...                     ...   \n",
       "22_51202748_G_A                                  0                0.033990   \n",
       "22_51208568_T_G                                  0                0.031510   \n",
       "22_51211031_G_A                                  0                0.024377   \n",
       "22_51213613_T_C                                  0                0.024270   \n",
       "22_51216564_C_T                                  0                0.020555   \n",
       "\n",
       "                 MAF_beta_1.25  \n",
       "snp_id                          \n",
       "22_16849573_G_A       0.000227  \n",
       "22_16849971_T_A       0.000227  \n",
       "22_16850437_A_G       0.000227  \n",
       "22_16851225_T_C       0.000227  \n",
       "22_16851356_T_C       0.000227  \n",
       "...                        ...  \n",
       "22_51202748_G_A       4.648319  \n",
       "22_51208568_T_G       4.706528  \n",
       "22_51211031_G_A       5.008209  \n",
       "22_51213613_T_C       0.825022  \n",
       "22_51216564_C_T       0.825022  \n",
       "\n",
       "[96257 rows x 59 columns]"
      ]
     },
     "execution_count": 9,
     "metadata": {},
     "output_type": "execute_result"
    }
   ],
   "source": [
    "data.gdata.varm[\"annotations_0\"]"
   ]
  },
  {
   "cell_type": "code",
   "execution_count": null,
   "id": "2861f6aa",
   "metadata": {},
   "outputs": [],
   "source": [
    "data.gdata.varm[\"annotations_0\"]"
   ]
  },
  {
   "cell_type": "markdown",
   "id": "8ed2e976-2306-427d-9993-c81d13ae7db7",
   "metadata": {},
   "source": [
    "### Understanding burden computation"
   ]
  },
  {
   "cell_type": "code",
   "execution_count": 32,
   "id": "28a6881e-a583-4c35-805e-99ec5213e1d2",
   "metadata": {},
   "outputs": [
    {
     "data": {
      "text/plain": [
       "Index(['22_51197576_C_G', '22_51198868_C_T', '22_51198906_A_G',\n",
       "       '22_51198998_A_C', '22_51202748_G_A', '22_51208568_T_G',\n",
       "       '22_51211031_G_A', '22_51213613_T_C', '22_51216564_C_T'],\n",
       "      dtype='object', name='snp_id')"
      ]
     },
     "execution_count": 32,
     "metadata": {},
     "output_type": "execute_result"
    }
   ],
   "source": [
    "this_vars = data.gdata.varm[\"annotations_0\"][data.gdata.varm[\"annotations_0\"][\"Gene\"] == \"ENSG00000184319\"].index\n",
    "this_vars\n"
   ]
  },
  {
   "cell_type": "code",
   "execution_count": 24,
   "id": "4f22f316-96e6-4baa-a574-4413d8abf23e",
   "metadata": {},
   "outputs": [
    {
     "data": {
      "text/plain": [
       "snp_id\n",
       "22_16849573_G_A                  -\n",
       "22_16849971_T_A                  -\n",
       "22_16850437_A_G                  -\n",
       "22_16851225_T_C                  -\n",
       "22_16851356_T_C                  -\n",
       "                        ...       \n",
       "22_51202748_G_A    ENSG00000184319\n",
       "22_51208568_T_G    ENSG00000184319\n",
       "22_51211031_G_A    ENSG00000184319\n",
       "22_51213613_T_C    ENSG00000184319\n",
       "22_51216564_C_T    ENSG00000184319\n",
       "Name: Gene, Length: 96257, dtype: object"
      ]
     },
     "execution_count": 24,
     "metadata": {},
     "output_type": "execute_result"
    }
   ],
   "source": [
    "data.gdata.varm[\"annotations_0\"][\"Gene\"]"
   ]
  },
  {
   "cell_type": "code",
   "execution_count": 28,
   "id": "50794ce2-d5f3-4df5-9295-de55fbc3dce2",
   "metadata": {},
   "outputs": [
    {
     "data": {
      "text/plain": [
       "snp_id\n",
       "22_16849573_G_A    22:16849573\n",
       "22_16849971_T_A    22:16849971\n",
       "22_16850437_A_G    22:16850437\n",
       "22_16851225_T_C    22:16851225\n",
       "22_16851356_T_C    22:16851356\n",
       "                      ...     \n",
       "22_51202748_G_A    22:51202748\n",
       "22_51208568_T_G    22:51208568\n",
       "22_51211031_G_A    22:51211031\n",
       "22_51213613_T_C    22:51213613\n",
       "22_51216564_C_T    22:51216564\n",
       "Name: Location, Length: 96257, dtype: object"
      ]
     },
     "execution_count": 28,
     "metadata": {},
     "output_type": "execute_result"
    }
   ],
   "source": [
    "data.gdata.varm[\"annotations_0\"][\"Location\"]"
   ]
  },
  {
   "cell_type": "code",
   "execution_count": 46,
   "id": "a442310a-2cb8-456c-bb4c-7c060e6cb6f4",
   "metadata": {},
   "outputs": [],
   "source": [
    "## we need the location of the gene-> choose vars based on window\n",
    "#todo: test +/- strand"
   ]
  },
  {
   "cell_type": "code",
   "execution_count": 17,
   "id": "a1fc29f0-2bd7-4d60-9094-3f2c48456148",
   "metadata": {},
   "outputs": [],
   "source": [
    "import requests\n",
    "\n",
    "def get_gene_location(ensembl_id):\n",
    "    url = f\"https://rest.ensembl.org/lookup/id/{ensembl_id}?content-type=application/json\"\n",
    "    response = requests.get(url)\n",
    "    if response.ok:\n",
    "        data = response.json()\n",
    "        #print(data)\n",
    "        if data.get('strand') == 1: # forward\n",
    "            return f\"{data.get('seq_region_name')}:{data.get('start')}-{data.get('end')}\"\n",
    "        else: # reverse\n",
    "            return f\"{data.get('seq_region_name')}:{data.get('end')}-{data.get('start')}\"\n",
    "    else:\n",
    "        return f\"Error: {response.status_code}, {response.text}\"\n"
   ]
  },
  {
   "cell_type": "code",
   "execution_count": 20,
   "id": "9c833361-b861-4eac-a0da-239e13ff11e4",
   "metadata": {},
   "outputs": [
    {
     "name": "stdout",
     "output_type": "stream",
     "text": [
      "22:50798655-50799123\n",
      "11:116837622-116835751\n"
     ]
    }
   ],
   "source": [
    "#eg: forward\n",
    "gene_id = \"ENSG00000184319\"\n",
    "location = get_gene_location(gene_id)\n",
    "print(location)\n",
    "\n",
    "#eg: rev\n",
    "gene_id = \"ENSG00000118137\"\n",
    "location = get_gene_location(gene_id)\n",
    "print(location)\n"
   ]
  },
  {
   "cell_type": "code",
   "execution_count": 44,
   "id": "7272ca8b-0ee0-45fa-a731-bb46c0788391",
   "metadata": {},
   "outputs": [],
   "source": [
    "import pandas as pd\n",
    "\n",
    "def find_snps_near_gene(gdata, gene_location, bp_range=10000):\n",
    "    \"\"\"\n",
    "    Finds SNPs within a specified range of a gene's location.\n",
    "\n",
    "    Parameters:\n",
    "        gdata (pd.DataFrame): DataFrame with a 'Location' column in the format \"chromosome:position\".\n",
    "        gene_location (str): Gene location in the format \"chromosome:start-end\".\n",
    "        bp_range (int): Range in base pairs to search upstream and downstream.\n",
    "\n",
    "    Returns:\n",
    "        pd.Index: Index of SNPs within the specified range.\n",
    "    \"\"\"\n",
    "    # Parse the gene location\n",
    "    gene_chrom, gene_range = gene_location.split(\":\")\n",
    "    gene_start, gene_end = map(int, gene_range.split(\"-\"))\n",
    "\n",
    "    # Extract chromosome and position from the SNPs\n",
    "    gdata[['Chromosome', 'Position']] = gdata['Location'].str.split(':', expand=True)\n",
    "    gdata['Position'] = gdata['Position'].astype(int)\n",
    "\n",
    "    # Filter for SNPs within the range\n",
    "    snps_in_range = gdata[\n",
    "        (gdata['Chromosome'] == gene_chrom) &\n",
    "        (gdata['Position'] >= gene_start - bp_range) &\n",
    "        (gdata['Position'] <= gene_end + bp_range)\n",
    "    ]\n",
    "\n",
    "    return snps_in_range.index\n"
   ]
  },
  {
   "cell_type": "code",
   "execution_count": 45,
   "id": "71be6ec3-2df3-40cf-bd55-2accce2ef7a3",
   "metadata": {},
   "outputs": [
    {
     "name": "stdout",
     "output_type": "stream",
     "text": [
      "Index(['22_50788696_A_G', '22_50788848_T_C', '22_50789302_T_C',\n",
      "       '22_50789797_A_G', '22_50789956_A_G', '22_50790558_T_C',\n",
      "       '22_50790915_G_T', '22_50791201_A_G', '22_50791260_T_C',\n",
      "       '22_50791513_T_C', '22_50792104_A_C', '22_50792374_G_A',\n",
      "       '22_50792826_G_A', '22_50793661_C_T', '22_50794255_A_T',\n",
      "       '22_50794282_A_C', '22_50794538_T_C', '22_50794804_G_C',\n",
      "       '22_50795071_T_C', '22_50795146_T_A', '22_50795310_C_G',\n",
      "       '22_50795342_A_G', '22_50795620_G_A', '22_50795806_G_C',\n",
      "       '22_50795934_C_T', '22_50796278_T_C', '22_50796296_A_G',\n",
      "       '22_50796448_A_G', '22_50796460_A_G', '22_50797256_A_C',\n",
      "       '22_50797973_G_A', '22_50798134_C_T', '22_50798212_A_G',\n",
      "       '22_50798585_A_G', '22_50799169_G_A', '22_50799684_C_A',\n",
      "       '22_50799845_G_A', '22_50800769_G_C', '22_50800929_A_G',\n",
      "       '22_50801156_G_C', '22_50801334_A_G', '22_50802074_T_C',\n",
      "       '22_50802635_T_A', '22_50802642_C_T', '22_50802699_T_G',\n",
      "       '22_50803110_A_G', '22_50803458_C_T', '22_50803564_C_A',\n",
      "       '22_50803867_A_G', '22_50805039_C_A', '22_50805537_A_G',\n",
      "       '22_50805584_T_C', '22_50805824_C_G', '22_50806805_T_C',\n",
      "       '22_50806886_A_C', '22_50806890_C_G', '22_50807802_C_T',\n",
      "       '22_50808017_T_A', '22_50808087_T_C', '22_50808249_T_C',\n",
      "       '22_50808470_G_A', '22_50808906_C_T', '22_50808923_A_G',\n",
      "       '22_50809006_G_A', '22_50809045_T_A', '22_50809099_A_G'],\n",
      "      dtype='object', name='snp_id')\n"
     ]
    }
   ],
   "source": [
    "\n",
    "# Find SNPs within 10,000 bp of the gene\n",
    "result = find_snps_near_gene(data.gdata.varm[\"annotations_0\"], location, bp_range=10000)\n",
    "print(result)\n"
   ]
  },
  {
   "cell_type": "code",
   "execution_count": 34,
   "id": "bf604d90-e6ec-49c0-95d1-1e8f9dd3490a",
   "metadata": {},
   "outputs": [
    {
     "data": {
      "text/plain": [
       "('RPL23AP82', '22', 50798655, 50799123, 1)"
      ]
     },
     "execution_count": 34,
     "metadata": {},
     "output_type": "execute_result"
    }
   ],
   "source": [
    "get_gene_location(gene_id)"
   ]
  },
  {
   "cell_type": "code",
   "execution_count": 50,
   "id": "455034fe-758d-4235-8120-446a01648372",
   "metadata": {
    "scrolled": true
   },
   "outputs": [
    {
     "name": "stderr",
     "output_type": "stream",
     "text": [
      "/data/nasif12/home_if12/l_back/sysGen/sc-genetics/src/cellink/tl/_burden_testing.py:59: ImplicitModificationWarning: Trying to modify attribute `.varm` of view, initializing view as actual.\n",
      "  gdata[['Chromosome', 'Position']] = gdata['Location'].str.split(':', expand=True)\n",
      "/data/nasif12/home_if12/l_back/sysGen/sc-genetics/src/cellink/tl/_burden_testing.py:60: ImplicitModificationWarning: Trying to modify attribute `.varm` of view, initializing view as actual.\n",
      "  gdata['Position'] = gdata['Position'].astype(int)\n",
      "  1%|          | 8/673 [00:25<34:40,  3.13s/it]"
     ]
    },
    {
     "name": "stdout",
     "output_type": "stream",
     "text": [
      "Failed to retrieve location for gene ENSG00000273203. Falling back to 'Gene' column.\n"
     ]
    },
    {
     "name": "stderr",
     "output_type": "stream",
     "text": [
      "  3%|▎         | 17/673 [00:52<33:22,  3.05s/it]"
     ]
    },
    {
     "name": "stdout",
     "output_type": "stream",
     "text": [
      "Failed to retrieve location for gene ENSG00000272675. Falling back to 'Gene' column.\n"
     ]
    },
    {
     "name": "stderr",
     "output_type": "stream",
     "text": [
      " 11%|█▏        | 76/673 [03:52<30:15,  3.04s/it]"
     ]
    },
    {
     "name": "stdout",
     "output_type": "stream",
     "text": [
      "Failed to retrieve location for gene ENSG00000188424. Falling back to 'Gene' column.\n"
     ]
    },
    {
     "name": "stderr",
     "output_type": "stream",
     "text": [
      " 11%|█▏        | 77/673 [03:55<29:37,  2.98s/it]"
     ]
    },
    {
     "name": "stdout",
     "output_type": "stream",
     "text": [
      "Failed to retrieve location for gene ENSG00000223579. Falling back to 'Gene' column.\n"
     ]
    },
    {
     "name": "stderr",
     "output_type": "stream",
     "text": [
      " 13%|█▎        | 86/673 [04:21<28:26,  2.91s/it]"
     ]
    },
    {
     "name": "stdout",
     "output_type": "stream",
     "text": [
      "Failed to retrieve location for gene ENSG00000234252. Falling back to 'Gene' column.\n"
     ]
    },
    {
     "name": "stderr",
     "output_type": "stream",
     "text": [
      " 18%|█▊        | 118/673 [05:56<27:15,  2.95s/it]"
     ]
    },
    {
     "name": "stdout",
     "output_type": "stream",
     "text": [
      "Failed to retrieve location for gene ENSG00000225070. Falling back to 'Gene' column.\n"
     ]
    },
    {
     "name": "stderr",
     "output_type": "stream",
     "text": [
      " 18%|█▊        | 120/673 [06:02<26:55,  2.92s/it]"
     ]
    },
    {
     "name": "stdout",
     "output_type": "stream",
     "text": [
      "Failed to retrieve location for gene ENSG00000198477. Falling back to 'Gene' column.\n"
     ]
    },
    {
     "name": "stderr",
     "output_type": "stream",
     "text": [
      " 21%|██        | 138/673 [06:57<27:51,  3.12s/it]"
     ]
    },
    {
     "name": "stdout",
     "output_type": "stream",
     "text": [
      "Failed to retrieve location for gene ENSG00000270041. Falling back to 'Gene' column.\n"
     ]
    },
    {
     "name": "stderr",
     "output_type": "stream",
     "text": [
      " 23%|██▎       | 157/673 [07:56<26:51,  3.12s/it]"
     ]
    },
    {
     "name": "stdout",
     "output_type": "stream",
     "text": [
      "Failed to retrieve location for gene ENSG00000272955. Falling back to 'Gene' column.\n"
     ]
    },
    {
     "name": "stderr",
     "output_type": "stream",
     "text": [
      " 29%|██▉       | 198/673 [10:03<23:51,  3.01s/it]"
     ]
    },
    {
     "name": "stdout",
     "output_type": "stream",
     "text": [
      "Failed to retrieve location for gene ENSG00000260065. Falling back to 'Gene' column.\n"
     ]
    },
    {
     "name": "stderr",
     "output_type": "stream",
     "text": [
      " 30%|███       | 205/673 [10:25<24:21,  3.12s/it]"
     ]
    },
    {
     "name": "stdout",
     "output_type": "stream",
     "text": [
      "Failed to retrieve location for gene ENSG00000223704. Falling back to 'Gene' column.\n"
     ]
    },
    {
     "name": "stderr",
     "output_type": "stream",
     "text": [
      " 31%|███       | 206/673 [10:28<24:03,  3.09s/it]"
     ]
    },
    {
     "name": "stdout",
     "output_type": "stream",
     "text": [
      "Failed to retrieve location for gene ENSG00000235271. Falling back to 'Gene' column.\n"
     ]
    },
    {
     "name": "stderr",
     "output_type": "stream",
     "text": [
      " 37%|███▋      | 247/673 [12:36<22:27,  3.16s/it]"
     ]
    },
    {
     "name": "stdout",
     "output_type": "stream",
     "text": [
      "Failed to retrieve location for gene ENSG00000239446. Falling back to 'Gene' column.\n"
     ]
    },
    {
     "name": "stderr",
     "output_type": "stream",
     "text": [
      " 39%|███▉      | 265/673 [13:32<20:58,  3.09s/it]"
     ]
    },
    {
     "name": "stdout",
     "output_type": "stream",
     "text": [
      "Failed to retrieve location for gene ENSG00000241528. Falling back to 'Gene' column.\n"
     ]
    },
    {
     "name": "stderr",
     "output_type": "stream",
     "text": [
      " 40%|███▉      | 269/673 [13:44<20:28,  3.04s/it]"
     ]
    },
    {
     "name": "stdout",
     "output_type": "stream",
     "text": [
      "Failed to retrieve location for gene ENSG00000268538. Falling back to 'Gene' column.\n"
     ]
    },
    {
     "name": "stderr",
     "output_type": "stream",
     "text": [
      " 45%|████▍     | 302/673 [15:26<19:34,  3.17s/it]"
     ]
    },
    {
     "name": "stdout",
     "output_type": "stream",
     "text": [
      "Failed to retrieve location for gene ENSG00000224623. Falling back to 'Gene' column.\n"
     ]
    },
    {
     "name": "stderr",
     "output_type": "stream",
     "text": [
      " 46%|████▋     | 312/673 [15:56<18:49,  3.13s/it]"
     ]
    },
    {
     "name": "stdout",
     "output_type": "stream",
     "text": [
      "Failed to retrieve location for gene ENSG00000239674. Falling back to 'Gene' column.\n"
     ]
    },
    {
     "name": "stderr",
     "output_type": "stream",
     "text": [
      " 47%|████▋     | 318/673 [16:14<18:07,  3.06s/it]"
     ]
    },
    {
     "name": "stdout",
     "output_type": "stream",
     "text": [
      "Failed to retrieve location for gene ENSG00000224050. Falling back to 'Gene' column.\n"
     ]
    },
    {
     "name": "stderr",
     "output_type": "stream",
     "text": [
      " 51%|█████     | 342/673 [17:27<16:33,  3.00s/it]"
     ]
    },
    {
     "name": "stdout",
     "output_type": "stream",
     "text": [
      "Failed to retrieve location for gene ENSG00000227895. Falling back to 'Gene' column.\n"
     ]
    },
    {
     "name": "stderr",
     "output_type": "stream",
     "text": [
      " 58%|█████▊    | 388/673 [19:48<14:39,  3.08s/it]"
     ]
    },
    {
     "name": "stdout",
     "output_type": "stream",
     "text": [
      "Failed to retrieve location for gene ENSG00000183473. Falling back to 'Gene' column.\n"
     ]
    },
    {
     "name": "stderr",
     "output_type": "stream",
     "text": [
      " 67%|██████▋   | 449/673 [22:56<11:38,  3.12s/it]"
     ]
    },
    {
     "name": "stdout",
     "output_type": "stream",
     "text": [
      "Failed to retrieve location for gene ENSG00000235209. Falling back to 'Gene' column.\n"
     ]
    },
    {
     "name": "stderr",
     "output_type": "stream",
     "text": [
      " 68%|██████▊   | 460/673 [23:29<10:59,  3.09s/it]"
     ]
    },
    {
     "name": "stdout",
     "output_type": "stream",
     "text": [
      "Failed to retrieve location for gene ENSG00000214854. Falling back to 'Gene' column.\n"
     ]
    },
    {
     "name": "stderr",
     "output_type": "stream",
     "text": [
      " 73%|███████▎  | 489/673 [24:59<09:23,  3.06s/it]"
     ]
    },
    {
     "name": "stdout",
     "output_type": "stream",
     "text": [
      "Failed to retrieve location for gene ENSG00000232754. Falling back to 'Gene' column.\n"
     ]
    },
    {
     "name": "stderr",
     "output_type": "stream",
     "text": [
      " 74%|███████▎  | 495/673 [25:17<09:13,  3.11s/it]"
     ]
    },
    {
     "name": "stdout",
     "output_type": "stream",
     "text": [
      "Failed to retrieve location for gene ENSG00000269104. Falling back to 'Gene' column.\n"
     ]
    },
    {
     "name": "stderr",
     "output_type": "stream",
     "text": [
      " 76%|███████▋  | 514/673 [26:16<08:16,  3.12s/it]"
     ]
    },
    {
     "name": "stdout",
     "output_type": "stream",
     "text": [
      "Failed to retrieve location for gene ENSG00000260655. Falling back to 'Gene' column.\n"
     ]
    },
    {
     "name": "stderr",
     "output_type": "stream",
     "text": [
      " 78%|███████▊  | 527/673 [26:55<07:22,  3.03s/it]"
     ]
    },
    {
     "name": "stdout",
     "output_type": "stream",
     "text": [
      "Failed to retrieve location for gene ENSG00000233903. Falling back to 'Gene' column.\n"
     ]
    },
    {
     "name": "stderr",
     "output_type": "stream",
     "text": [
      " 78%|███████▊  | 528/673 [26:59<07:25,  3.07s/it]"
     ]
    },
    {
     "name": "stdout",
     "output_type": "stream",
     "text": [
      "Failed to retrieve location for gene ENSG00000273366. Falling back to 'Gene' column.\n"
     ]
    },
    {
     "name": "stderr",
     "output_type": "stream",
     "text": [
      " 88%|████████▊ | 589/673 [30:07<04:14,  3.03s/it]"
     ]
    },
    {
     "name": "stdout",
     "output_type": "stream",
     "text": [
      "Failed to retrieve location for gene ENSG00000273289. Falling back to 'Gene' column.\n"
     ]
    },
    {
     "name": "stderr",
     "output_type": "stream",
     "text": [
      " 88%|████████▊ | 590/673 [30:10<04:07,  2.99s/it]"
     ]
    },
    {
     "name": "stdout",
     "output_type": "stream",
     "text": [
      "Failed to retrieve location for gene ENSG00000241990. Falling back to 'Gene' column.\n"
     ]
    },
    {
     "name": "stderr",
     "output_type": "stream",
     "text": [
      " 91%|█████████ | 610/673 [31:11<03:12,  3.06s/it]"
     ]
    },
    {
     "name": "stdout",
     "output_type": "stream",
     "text": [
      "Failed to retrieve location for gene ENSG00000230345. Falling back to 'Gene' column.\n"
     ]
    },
    {
     "name": "stderr",
     "output_type": "stream",
     "text": [
      " 92%|█████████▏| 616/673 [31:29<02:57,  3.11s/it]"
     ]
    },
    {
     "name": "stdout",
     "output_type": "stream",
     "text": [
      "Failed to retrieve location for gene ENSG00000219016. Falling back to 'Gene' column.\n"
     ]
    },
    {
     "name": "stderr",
     "output_type": "stream",
     "text": [
      " 96%|█████████▌| 644/673 [32:55<01:29,  3.08s/it]"
     ]
    },
    {
     "name": "stdout",
     "output_type": "stream",
     "text": [
      "Failed to retrieve location for gene ENSG00000268427. Falling back to 'Gene' column.\n"
     ]
    },
    {
     "name": "stderr",
     "output_type": "stream",
     "text": [
      " 97%|█████████▋| 653/673 [33:22<00:59,  3.00s/it]"
     ]
    },
    {
     "name": "stdout",
     "output_type": "stream",
     "text": [
      "Failed to retrieve location for gene ENSG00000130489. Falling back to 'Gene' column.\n"
     ]
    },
    {
     "name": "stderr",
     "output_type": "stream",
     "text": [
      " 98%|█████████▊| 659/673 [33:39<00:41,  2.96s/it]"
     ]
    },
    {
     "name": "stdout",
     "output_type": "stream",
     "text": [
      "Failed to retrieve location for gene ENSG00000226738. Falling back to 'Gene' column.\n"
     ]
    },
    {
     "name": "stderr",
     "output_type": "stream",
     "text": [
      " 99%|█████████▉| 666/673 [34:00<00:20,  2.97s/it]"
     ]
    },
    {
     "name": "stdout",
     "output_type": "stream",
     "text": [
      "Failed to retrieve location for gene ENSG00000272940. Falling back to 'Gene' column.\n"
     ]
    },
    {
     "name": "stderr",
     "output_type": "stream",
     "text": [
      "\n",
      "00%|██████████| 673/673 [34:21<00:00,  3.06s/it]"
     ]
    }
   ],
   "source": [
    "test=compute_burdens(data, max_af=0.05, weight_cols=[\"DISTANCE\", \"CADD_PHRED\", \"DNA_LM_influence_score\", \"MAF_beta_1.25\"], window_size=100)\n"
   ]
  },
  {
   "cell_type": "code",
   "execution_count": 61,
   "id": "ea6edece-cedd-49e8-a618-50a0657de4d2",
   "metadata": {},
   "outputs": [
    {
     "data": {
      "text/html": [
       "<div>\n",
       "<style scoped>\n",
       "    .dataframe tbody tr th:only-of-type {\n",
       "        vertical-align: middle;\n",
       "    }\n",
       "\n",
       "    .dataframe tbody tr th {\n",
       "        vertical-align: top;\n",
       "    }\n",
       "\n",
       "    .dataframe thead th {\n",
       "        text-align: right;\n",
       "    }\n",
       "</style>\n",
       "<table border=\"1\" class=\"dataframe\">\n",
       "  <thead>\n",
       "    <tr style=\"text-align: right;\">\n",
       "      <th></th>\n",
       "      <th>gnomADe_EAS_AF</th>\n",
       "      <th>Feature_type</th>\n",
       "      <th>Consequence_intergenic_variant</th>\n",
       "      <th>PHENO</th>\n",
       "      <th>Consequence_start_lost</th>\n",
       "      <th>gnomADe_AMR_AF</th>\n",
       "      <th>Existing_variation</th>\n",
       "      <th>CLIN_SIG</th>\n",
       "      <th>CADD_RAW</th>\n",
       "      <th>gnomADe_NFE_AF</th>\n",
       "      <th>...</th>\n",
       "      <th>Consequence_splice_donor_variant</th>\n",
       "      <th>Consequence_splice_polypyrimidine_tract_variant</th>\n",
       "      <th>Consequence_splice_region_variant</th>\n",
       "      <th>Consequence_stop_gained</th>\n",
       "      <th>Consequence_synonymous_variant</th>\n",
       "      <th>Consequence_upstream_gene_variant</th>\n",
       "      <th>DNA_LM_influence_score</th>\n",
       "      <th>MAF_beta_1.25</th>\n",
       "      <th>Chromosome</th>\n",
       "      <th>Position</th>\n",
       "    </tr>\n",
       "    <tr>\n",
       "      <th>snp_id</th>\n",
       "      <th></th>\n",
       "      <th></th>\n",
       "      <th></th>\n",
       "      <th></th>\n",
       "      <th></th>\n",
       "      <th></th>\n",
       "      <th></th>\n",
       "      <th></th>\n",
       "      <th></th>\n",
       "      <th></th>\n",
       "      <th></th>\n",
       "      <th></th>\n",
       "      <th></th>\n",
       "      <th></th>\n",
       "      <th></th>\n",
       "      <th></th>\n",
       "      <th></th>\n",
       "      <th></th>\n",
       "      <th></th>\n",
       "      <th></th>\n",
       "      <th></th>\n",
       "    </tr>\n",
       "  </thead>\n",
       "  <tbody>\n",
       "    <tr>\n",
       "      <th>22_51197576_C_G</th>\n",
       "      <td>NaN</td>\n",
       "      <td>Transcript</td>\n",
       "      <td>0</td>\n",
       "      <td>-</td>\n",
       "      <td>0</td>\n",
       "      <td>NaN</td>\n",
       "      <td>rs147713773</td>\n",
       "      <td>-</td>\n",
       "      <td>-0.140583</td>\n",
       "      <td>NaN</td>\n",
       "      <td>...</td>\n",
       "      <td>0</td>\n",
       "      <td>0</td>\n",
       "      <td>0</td>\n",
       "      <td>0</td>\n",
       "      <td>0</td>\n",
       "      <td>0</td>\n",
       "      <td>0.021419</td>\n",
       "      <td>4.648319</td>\n",
       "      <td>22</td>\n",
       "      <td>51197576</td>\n",
       "    </tr>\n",
       "    <tr>\n",
       "      <th>22_51198868_C_T</th>\n",
       "      <td>NaN</td>\n",
       "      <td>Transcript</td>\n",
       "      <td>0</td>\n",
       "      <td>-</td>\n",
       "      <td>0</td>\n",
       "      <td>NaN</td>\n",
       "      <td>rs185017671</td>\n",
       "      <td>-</td>\n",
       "      <td>0.608459</td>\n",
       "      <td>NaN</td>\n",
       "      <td>...</td>\n",
       "      <td>0</td>\n",
       "      <td>0</td>\n",
       "      <td>0</td>\n",
       "      <td>0</td>\n",
       "      <td>0</td>\n",
       "      <td>0</td>\n",
       "      <td>0.034897</td>\n",
       "      <td>18.671017</td>\n",
       "      <td>22</td>\n",
       "      <td>51198868</td>\n",
       "    </tr>\n",
       "    <tr>\n",
       "      <th>22_51198906_A_G</th>\n",
       "      <td>NaN</td>\n",
       "      <td>Transcript</td>\n",
       "      <td>0</td>\n",
       "      <td>-</td>\n",
       "      <td>0</td>\n",
       "      <td>NaN</td>\n",
       "      <td>rs6010079</td>\n",
       "      <td>-</td>\n",
       "      <td>0.233827</td>\n",
       "      <td>NaN</td>\n",
       "      <td>...</td>\n",
       "      <td>0</td>\n",
       "      <td>0</td>\n",
       "      <td>0</td>\n",
       "      <td>0</td>\n",
       "      <td>0</td>\n",
       "      <td>0</td>\n",
       "      <td>0.020222</td>\n",
       "      <td>4.648319</td>\n",
       "      <td>22</td>\n",
       "      <td>51198906</td>\n",
       "    </tr>\n",
       "    <tr>\n",
       "      <th>22_51198998_A_C</th>\n",
       "      <td>NaN</td>\n",
       "      <td>Transcript</td>\n",
       "      <td>0</td>\n",
       "      <td>-</td>\n",
       "      <td>0</td>\n",
       "      <td>NaN</td>\n",
       "      <td>rs117815989</td>\n",
       "      <td>-</td>\n",
       "      <td>-0.565526</td>\n",
       "      <td>NaN</td>\n",
       "      <td>...</td>\n",
       "      <td>0</td>\n",
       "      <td>0</td>\n",
       "      <td>0</td>\n",
       "      <td>0</td>\n",
       "      <td>0</td>\n",
       "      <td>0</td>\n",
       "      <td>0.033910</td>\n",
       "      <td>18.671017</td>\n",
       "      <td>22</td>\n",
       "      <td>51198998</td>\n",
       "    </tr>\n",
       "    <tr>\n",
       "      <th>22_51202748_G_A</th>\n",
       "      <td>NaN</td>\n",
       "      <td>Transcript</td>\n",
       "      <td>0</td>\n",
       "      <td>-</td>\n",
       "      <td>0</td>\n",
       "      <td>NaN</td>\n",
       "      <td>rs9616963</td>\n",
       "      <td>-</td>\n",
       "      <td>0.550962</td>\n",
       "      <td>NaN</td>\n",
       "      <td>...</td>\n",
       "      <td>0</td>\n",
       "      <td>0</td>\n",
       "      <td>0</td>\n",
       "      <td>0</td>\n",
       "      <td>0</td>\n",
       "      <td>0</td>\n",
       "      <td>0.033990</td>\n",
       "      <td>4.648319</td>\n",
       "      <td>22</td>\n",
       "      <td>51202748</td>\n",
       "    </tr>\n",
       "    <tr>\n",
       "      <th>22_51208568_T_G</th>\n",
       "      <td>NaN</td>\n",
       "      <td>Transcript</td>\n",
       "      <td>0</td>\n",
       "      <td>-</td>\n",
       "      <td>0</td>\n",
       "      <td>NaN</td>\n",
       "      <td>rs148425445</td>\n",
       "      <td>-</td>\n",
       "      <td>0.102244</td>\n",
       "      <td>NaN</td>\n",
       "      <td>...</td>\n",
       "      <td>0</td>\n",
       "      <td>0</td>\n",
       "      <td>0</td>\n",
       "      <td>0</td>\n",
       "      <td>0</td>\n",
       "      <td>0</td>\n",
       "      <td>0.031510</td>\n",
       "      <td>4.706528</td>\n",
       "      <td>22</td>\n",
       "      <td>51208568</td>\n",
       "    </tr>\n",
       "    <tr>\n",
       "      <th>22_51211031_G_A</th>\n",
       "      <td>NaN</td>\n",
       "      <td>Transcript</td>\n",
       "      <td>0</td>\n",
       "      <td>-</td>\n",
       "      <td>0</td>\n",
       "      <td>NaN</td>\n",
       "      <td>rs9616968</td>\n",
       "      <td>-</td>\n",
       "      <td>0.153297</td>\n",
       "      <td>NaN</td>\n",
       "      <td>...</td>\n",
       "      <td>0</td>\n",
       "      <td>0</td>\n",
       "      <td>0</td>\n",
       "      <td>0</td>\n",
       "      <td>0</td>\n",
       "      <td>0</td>\n",
       "      <td>0.024377</td>\n",
       "      <td>5.008209</td>\n",
       "      <td>22</td>\n",
       "      <td>51211031</td>\n",
       "    </tr>\n",
       "    <tr>\n",
       "      <th>22_51213613_T_C</th>\n",
       "      <td>NaN</td>\n",
       "      <td>Transcript</td>\n",
       "      <td>0</td>\n",
       "      <td>-</td>\n",
       "      <td>0</td>\n",
       "      <td>NaN</td>\n",
       "      <td>rs34726907</td>\n",
       "      <td>-</td>\n",
       "      <td>-0.394121</td>\n",
       "      <td>NaN</td>\n",
       "      <td>...</td>\n",
       "      <td>0</td>\n",
       "      <td>0</td>\n",
       "      <td>0</td>\n",
       "      <td>0</td>\n",
       "      <td>0</td>\n",
       "      <td>0</td>\n",
       "      <td>0.024270</td>\n",
       "      <td>0.825022</td>\n",
       "      <td>22</td>\n",
       "      <td>51213613</td>\n",
       "    </tr>\n",
       "    <tr>\n",
       "      <th>22_51216564_C_T</th>\n",
       "      <td>NaN</td>\n",
       "      <td>Transcript</td>\n",
       "      <td>0</td>\n",
       "      <td>-</td>\n",
       "      <td>0</td>\n",
       "      <td>NaN</td>\n",
       "      <td>rs9616970</td>\n",
       "      <td>-</td>\n",
       "      <td>-0.113869</td>\n",
       "      <td>NaN</td>\n",
       "      <td>...</td>\n",
       "      <td>0</td>\n",
       "      <td>0</td>\n",
       "      <td>0</td>\n",
       "      <td>0</td>\n",
       "      <td>0</td>\n",
       "      <td>0</td>\n",
       "      <td>0.020555</td>\n",
       "      <td>0.825022</td>\n",
       "      <td>22</td>\n",
       "      <td>51216564</td>\n",
       "    </tr>\n",
       "  </tbody>\n",
       "</table>\n",
       "<p>9 rows × 61 columns</p>\n",
       "</div>"
      ],
      "text/plain": [
       "                 gnomADe_EAS_AF Feature_type  Consequence_intergenic_variant  \\\n",
       "snp_id                                                                         \n",
       "22_51197576_C_G             NaN   Transcript                               0   \n",
       "22_51198868_C_T             NaN   Transcript                               0   \n",
       "22_51198906_A_G             NaN   Transcript                               0   \n",
       "22_51198998_A_C             NaN   Transcript                               0   \n",
       "22_51202748_G_A             NaN   Transcript                               0   \n",
       "22_51208568_T_G             NaN   Transcript                               0   \n",
       "22_51211031_G_A             NaN   Transcript                               0   \n",
       "22_51213613_T_C             NaN   Transcript                               0   \n",
       "22_51216564_C_T             NaN   Transcript                               0   \n",
       "\n",
       "                PHENO  Consequence_start_lost  gnomADe_AMR_AF  \\\n",
       "snp_id                                                          \n",
       "22_51197576_C_G     -                       0             NaN   \n",
       "22_51198868_C_T     -                       0             NaN   \n",
       "22_51198906_A_G     -                       0             NaN   \n",
       "22_51198998_A_C     -                       0             NaN   \n",
       "22_51202748_G_A     -                       0             NaN   \n",
       "22_51208568_T_G     -                       0             NaN   \n",
       "22_51211031_G_A     -                       0             NaN   \n",
       "22_51213613_T_C     -                       0             NaN   \n",
       "22_51216564_C_T     -                       0             NaN   \n",
       "\n",
       "                Existing_variation CLIN_SIG  CADD_RAW  gnomADe_NFE_AF  ...  \\\n",
       "snp_id                                                                 ...   \n",
       "22_51197576_C_G        rs147713773        - -0.140583             NaN  ...   \n",
       "22_51198868_C_T        rs185017671        -  0.608459             NaN  ...   \n",
       "22_51198906_A_G          rs6010079        -  0.233827             NaN  ...   \n",
       "22_51198998_A_C        rs117815989        - -0.565526             NaN  ...   \n",
       "22_51202748_G_A          rs9616963        -  0.550962             NaN  ...   \n",
       "22_51208568_T_G        rs148425445        -  0.102244             NaN  ...   \n",
       "22_51211031_G_A          rs9616968        -  0.153297             NaN  ...   \n",
       "22_51213613_T_C         rs34726907        - -0.394121             NaN  ...   \n",
       "22_51216564_C_T          rs9616970        - -0.113869             NaN  ...   \n",
       "\n",
       "                 Consequence_splice_donor_variant  \\\n",
       "snp_id                                              \n",
       "22_51197576_C_G                                 0   \n",
       "22_51198868_C_T                                 0   \n",
       "22_51198906_A_G                                 0   \n",
       "22_51198998_A_C                                 0   \n",
       "22_51202748_G_A                                 0   \n",
       "22_51208568_T_G                                 0   \n",
       "22_51211031_G_A                                 0   \n",
       "22_51213613_T_C                                 0   \n",
       "22_51216564_C_T                                 0   \n",
       "\n",
       "                 Consequence_splice_polypyrimidine_tract_variant  \\\n",
       "snp_id                                                             \n",
       "22_51197576_C_G                                                0   \n",
       "22_51198868_C_T                                                0   \n",
       "22_51198906_A_G                                                0   \n",
       "22_51198998_A_C                                                0   \n",
       "22_51202748_G_A                                                0   \n",
       "22_51208568_T_G                                                0   \n",
       "22_51211031_G_A                                                0   \n",
       "22_51213613_T_C                                                0   \n",
       "22_51216564_C_T                                                0   \n",
       "\n",
       "                 Consequence_splice_region_variant Consequence_stop_gained  \\\n",
       "snp_id                                                                       \n",
       "22_51197576_C_G                                  0                       0   \n",
       "22_51198868_C_T                                  0                       0   \n",
       "22_51198906_A_G                                  0                       0   \n",
       "22_51198998_A_C                                  0                       0   \n",
       "22_51202748_G_A                                  0                       0   \n",
       "22_51208568_T_G                                  0                       0   \n",
       "22_51211031_G_A                                  0                       0   \n",
       "22_51213613_T_C                                  0                       0   \n",
       "22_51216564_C_T                                  0                       0   \n",
       "\n",
       "                Consequence_synonymous_variant  \\\n",
       "snp_id                                           \n",
       "22_51197576_C_G                              0   \n",
       "22_51198868_C_T                              0   \n",
       "22_51198906_A_G                              0   \n",
       "22_51198998_A_C                              0   \n",
       "22_51202748_G_A                              0   \n",
       "22_51208568_T_G                              0   \n",
       "22_51211031_G_A                              0   \n",
       "22_51213613_T_C                              0   \n",
       "22_51216564_C_T                              0   \n",
       "\n",
       "                Consequence_upstream_gene_variant  DNA_LM_influence_score  \\\n",
       "snp_id                                                                      \n",
       "22_51197576_C_G                                 0                0.021419   \n",
       "22_51198868_C_T                                 0                0.034897   \n",
       "22_51198906_A_G                                 0                0.020222   \n",
       "22_51198998_A_C                                 0                0.033910   \n",
       "22_51202748_G_A                                 0                0.033990   \n",
       "22_51208568_T_G                                 0                0.031510   \n",
       "22_51211031_G_A                                 0                0.024377   \n",
       "22_51213613_T_C                                 0                0.024270   \n",
       "22_51216564_C_T                                 0                0.020555   \n",
       "\n",
       "                 MAF_beta_1.25  Chromosome  Position  \n",
       "snp_id                                                \n",
       "22_51197576_C_G       4.648319          22  51197576  \n",
       "22_51198868_C_T      18.671017          22  51198868  \n",
       "22_51198906_A_G       4.648319          22  51198906  \n",
       "22_51198998_A_C      18.671017          22  51198998  \n",
       "22_51202748_G_A       4.648319          22  51202748  \n",
       "22_51208568_T_G       4.706528          22  51208568  \n",
       "22_51211031_G_A       5.008209          22  51211031  \n",
       "22_51213613_T_C       0.825022          22  51213613  \n",
       "22_51216564_C_T       0.825022          22  51216564  \n",
       "\n",
       "[9 rows x 61 columns]"
      ]
     },
     "execution_count": 61,
     "metadata": {},
     "output_type": "execute_result"
    }
   ],
   "source": [
    "data.gdata.varm[\"annotations_0\"][data.gdata.varm[\"annotations_0\"][\"Gene\"]==\"ENSG00000184319\"]"
   ]
  },
  {
   "cell_type": "code",
   "execution_count": 62,
   "id": "f40ffd2c-cc37-4912-9953-99b94513c400",
   "metadata": {},
   "outputs": [
    {
     "data": {
      "text/html": [
       "<div>\n",
       "<style scoped>\n",
       "    .dataframe tbody tr th:only-of-type {\n",
       "        vertical-align: middle;\n",
       "    }\n",
       "\n",
       "    .dataframe tbody tr th {\n",
       "        vertical-align: top;\n",
       "    }\n",
       "\n",
       "    .dataframe thead th {\n",
       "        text-align: right;\n",
       "    }\n",
       "</style>\n",
       "<table border=\"1\" class=\"dataframe\">\n",
       "  <thead>\n",
       "    <tr style=\"text-align: right;\">\n",
       "      <th></th>\n",
       "      <th>burden_gene</th>\n",
       "      <th>target_gene</th>\n",
       "      <th>burden_type</th>\n",
       "      <th>pvalue</th>\n",
       "      <th>beta</th>\n",
       "      <th>cell_type</th>\n",
       "      <th>chrom</th>\n",
       "      <th>pvalue_corrected</th>\n",
       "      <th>significant</th>\n",
       "    </tr>\n",
       "  </thead>\n",
       "  <tbody>\n",
       "    <tr>\n",
       "      <th>0</th>\n",
       "      <td>ENSG00000100181</td>\n",
       "      <td>ENSG00000100181</td>\n",
       "      <td>DISTANCE</td>\n",
       "      <td>0.763202</td>\n",
       "      <td>0.000127</td>\n",
       "      <td>CD8 ET</td>\n",
       "      <td>22</td>\n",
       "      <td>19290.695395</td>\n",
       "      <td>False</td>\n",
       "    </tr>\n",
       "    <tr>\n",
       "      <th>1</th>\n",
       "      <td>ENSG00000100181</td>\n",
       "      <td>ENSG00000100181</td>\n",
       "      <td>CADD_PHRED</td>\n",
       "      <td>0.790973</td>\n",
       "      <td>-0.000112</td>\n",
       "      <td>CD8 ET</td>\n",
       "      <td>22</td>\n",
       "      <td>19992.627004</td>\n",
       "      <td>False</td>\n",
       "    </tr>\n",
       "    <tr>\n",
       "      <th>2</th>\n",
       "      <td>ENSG00000100181</td>\n",
       "      <td>ENSG00000100181</td>\n",
       "      <td>DNA_LM_influence_score</td>\n",
       "      <td>0.552800</td>\n",
       "      <td>-0.000252</td>\n",
       "      <td>CD8 ET</td>\n",
       "      <td>22</td>\n",
       "      <td>13972.564388</td>\n",
       "      <td>False</td>\n",
       "    </tr>\n",
       "    <tr>\n",
       "      <th>3</th>\n",
       "      <td>ENSG00000100181</td>\n",
       "      <td>ENSG00000100181</td>\n",
       "      <td>MAF_beta_1.25</td>\n",
       "      <td>0.854610</td>\n",
       "      <td>-0.000078</td>\n",
       "      <td>CD8 ET</td>\n",
       "      <td>22</td>\n",
       "      <td>21601.110499</td>\n",
       "      <td>False</td>\n",
       "    </tr>\n",
       "    <tr>\n",
       "      <th>0</th>\n",
       "      <td>ENSG00000237438</td>\n",
       "      <td>ENSG00000237438</td>\n",
       "      <td>DISTANCE</td>\n",
       "      <td>0.568767</td>\n",
       "      <td>0.000099</td>\n",
       "      <td>CD8 ET</td>\n",
       "      <td>22</td>\n",
       "      <td>14376.159711</td>\n",
       "      <td>False</td>\n",
       "    </tr>\n",
       "    <tr>\n",
       "      <th>...</th>\n",
       "      <td>...</td>\n",
       "      <td>...</td>\n",
       "      <td>...</td>\n",
       "      <td>...</td>\n",
       "      <td>...</td>\n",
       "      <td>...</td>\n",
       "      <td>...</td>\n",
       "      <td>...</td>\n",
       "      <td>...</td>\n",
       "    </tr>\n",
       "    <tr>\n",
       "      <th>3</th>\n",
       "      <td>ENSG00000100288</td>\n",
       "      <td>ENSG00000100288</td>\n",
       "      <td>MAF_beta_1.25</td>\n",
       "      <td>0.083261</td>\n",
       "      <td>-0.031435</td>\n",
       "      <td>Erythrocytes</td>\n",
       "      <td>22</td>\n",
       "      <td>2104.513138</td>\n",
       "      <td>False</td>\n",
       "    </tr>\n",
       "    <tr>\n",
       "      <th>0</th>\n",
       "      <td>ENSG00000079974</td>\n",
       "      <td>ENSG00000079974</td>\n",
       "      <td>DISTANCE</td>\n",
       "      <td>1.000000</td>\n",
       "      <td>NaN</td>\n",
       "      <td>Erythrocytes</td>\n",
       "      <td>22</td>\n",
       "      <td>25276.000000</td>\n",
       "      <td>False</td>\n",
       "    </tr>\n",
       "    <tr>\n",
       "      <th>1</th>\n",
       "      <td>ENSG00000079974</td>\n",
       "      <td>ENSG00000079974</td>\n",
       "      <td>CADD_PHRED</td>\n",
       "      <td>1.000000</td>\n",
       "      <td>NaN</td>\n",
       "      <td>Erythrocytes</td>\n",
       "      <td>22</td>\n",
       "      <td>25276.000000</td>\n",
       "      <td>False</td>\n",
       "    </tr>\n",
       "    <tr>\n",
       "      <th>2</th>\n",
       "      <td>ENSG00000079974</td>\n",
       "      <td>ENSG00000079974</td>\n",
       "      <td>DNA_LM_influence_score</td>\n",
       "      <td>1.000000</td>\n",
       "      <td>NaN</td>\n",
       "      <td>Erythrocytes</td>\n",
       "      <td>22</td>\n",
       "      <td>25276.000000</td>\n",
       "      <td>False</td>\n",
       "    </tr>\n",
       "    <tr>\n",
       "      <th>3</th>\n",
       "      <td>ENSG00000079974</td>\n",
       "      <td>ENSG00000079974</td>\n",
       "      <td>MAF_beta_1.25</td>\n",
       "      <td>1.000000</td>\n",
       "      <td>NaN</td>\n",
       "      <td>Erythrocytes</td>\n",
       "      <td>22</td>\n",
       "      <td>25276.000000</td>\n",
       "      <td>False</td>\n",
       "    </tr>\n",
       "  </tbody>\n",
       "</table>\n",
       "<p>25276 rows × 9 columns</p>\n",
       "</div>"
      ],
      "text/plain": [
       "        burden_gene      target_gene             burden_type    pvalue  \\\n",
       "0   ENSG00000100181  ENSG00000100181                DISTANCE  0.763202   \n",
       "1   ENSG00000100181  ENSG00000100181              CADD_PHRED  0.790973   \n",
       "2   ENSG00000100181  ENSG00000100181  DNA_LM_influence_score  0.552800   \n",
       "3   ENSG00000100181  ENSG00000100181           MAF_beta_1.25  0.854610   \n",
       "0   ENSG00000237438  ENSG00000237438                DISTANCE  0.568767   \n",
       "..              ...              ...                     ...       ...   \n",
       "3   ENSG00000100288  ENSG00000100288           MAF_beta_1.25  0.083261   \n",
       "0   ENSG00000079974  ENSG00000079974                DISTANCE  1.000000   \n",
       "1   ENSG00000079974  ENSG00000079974              CADD_PHRED  1.000000   \n",
       "2   ENSG00000079974  ENSG00000079974  DNA_LM_influence_score  1.000000   \n",
       "3   ENSG00000079974  ENSG00000079974           MAF_beta_1.25  1.000000   \n",
       "\n",
       "        beta     cell_type chrom  pvalue_corrected  significant  \n",
       "0   0.000127        CD8 ET    22      19290.695395        False  \n",
       "1  -0.000112        CD8 ET    22      19992.627004        False  \n",
       "2  -0.000252        CD8 ET    22      13972.564388        False  \n",
       "3  -0.000078        CD8 ET    22      21601.110499        False  \n",
       "0   0.000099        CD8 ET    22      14376.159711        False  \n",
       "..       ...           ...   ...               ...          ...  \n",
       "3  -0.031435  Erythrocytes    22       2104.513138        False  \n",
       "0        NaN  Erythrocytes    22      25276.000000        False  \n",
       "1        NaN  Erythrocytes    22      25276.000000        False  \n",
       "2        NaN  Erythrocytes    22      25276.000000        False  \n",
       "3        NaN  Erythrocytes    22      25276.000000        False  \n",
       "\n",
       "[25276 rows x 9 columns]"
      ]
     },
     "execution_count": 62,
     "metadata": {},
     "output_type": "execute_result"
    }
   ],
   "source": [
    "all_res"
   ]
  }
 ],
 "metadata": {
  "kernelspec": {
   "display_name": "mm_scgenetics",
   "language": "python",
   "name": "python3"
  },
  "language_info": {
   "codemirror_mode": {
    "name": "ipython",
    "version": 3
   },
   "file_extension": ".py",
   "mimetype": "text/x-python",
   "name": "python",
   "nbconvert_exporter": "python",
   "pygments_lexer": "ipython3",
   "version": "3.10.15"
  }
 },
 "nbformat": 4,
 "nbformat_minor": 5
}
