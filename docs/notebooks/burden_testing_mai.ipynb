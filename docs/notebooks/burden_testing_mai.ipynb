{
 "cells": [
  {
   "cell_type": "code",
   "execution_count": 1,
   "metadata": {},
   "outputs": [],
   "source": [
    "%load_ext autoreload\n",
    "%autoreload 2"
   ]
  },
  {
   "cell_type": "code",
   "execution_count": 3,
   "metadata": {},
   "outputs": [
    {
     "name": "stderr",
     "output_type": "stream",
     "text": [
      "/data/nasif12/home_if12/l_mai/.conda/envs/mm_scgenetics/lib/python3.10/site-packages/tqdm/auto.py:21: TqdmWarning: IProgress not found. Please update jupyter and ipywidgets. See https://ipywidgets.readthedocs.io/en/stable/user_install.html\n",
      "  from .autonotebook import tqdm as notebook_tqdm\n"
     ]
    }
   ],
   "source": [
    "import argparse\n",
    "from pathlib import Path\n",
    "import os\n",
    "import pandas as pd\n",
    "import scanpy as sc\n",
    "import cellink as cl\n",
    "from cellink.tl._burden_testing import *\n",
    "from scipy.stats import beta"
   ]
  },
  {
   "cell_type": "markdown",
   "metadata": {},
   "source": [
    "# TEST"
   ]
  },
  {
   "cell_type": "code",
   "execution_count": 6,
   "metadata": {},
   "outputs": [],
   "source": [
    "base_data_dir = Path(\"/s/project/sys_gen_students/2024_2025/project04_rare_variant_sc/\")\n",
    "scdata_path = base_data_dir / \"input_data/OneK1K_cohort_gene_expression_matrix_14_celltypes.h5ad.gz\"\n",
    "gdata_dir = \"/data/ceph/hdd/project/node_09/sys_gen_students/2024_2025/project04_rare_variant_sc/input_data/filter_vcf_r08/\"\n",
    "DNA_LM_upstream = base_data_dir/ \"input_data/annotations/onek1k_inf_scores_upstream_model.tsv\"\n",
    "DNA_LM_downstream = base_data_dir/ \"input_data/annotations/onek1k_inf_scores_downstream_model.tsv\"\n",
    "vep_scores = base_data_dir/ \"input_data/annotations/onek1k1_all_variants_annotated_vep.txt\"\n",
    "\n",
    "zarr_file = os.path.join(gdata_dir, f\"chr22.dose.filtered.R2_0.8.vcz\")\n",
    "eigenvec = pd.read_csv(base_data_dir / \"input_data/pcdir/wgs.dose.filtered.R2_0.8.filtered.pruned.eigenvec\", sep = ' ')\n",
    "scdata = sc.read_h5ad(scdata_path)\n",
    "gdata = cl.io.read_sgkit_zarr(zarr_file)"
   ]
  },
  {
   "cell_type": "code",
   "execution_count": 7,
   "metadata": {},
   "outputs": [],
   "source": [
    "def add_maf_annotation(gdata):\n",
    "    weighted_snp_maf = beta.pdf(gdata.var[\"maf\"], 1, 25)\n",
    "    gdata.varm[\"annotations_0\"][\"MAF_beta_1.25\"] = weighted_snp_maf\n",
    "    return gdata\n",
    "\n",
    "def add_DNA_LM(gdata, file, chromosome, colname):\n",
    "\n",
    "    DNA_LM = pd.read_csv(file,\n",
    "                sep = '\\t')\n",
    "    DNA_LM = add_snp_id(DNA_LM)\n",
    "    DNA_LM = reverse_and_update_snp_ids(gdata.varm[\"annotations_0\"],\n",
    "                                        DNA_LM[DNA_LM[\"Chromosome\"]==f\"chr{chromosome}\"])\n",
    "    \n",
    "    gdata.varm[\"annotations_0\"][colname] = DNA_LM[\"influence_score\"].reindex(gdata.varm[\"annotations_0\"].index)\n",
    "\n",
    "    # Rename the merged column if needed\n",
    "    gdata.varm[\"annotations_0\"].rename(columns={\"influence_score\": colname}, inplace=True)\n",
    "    return gdata\n",
    "\n",
    "def add_snp_id(DNA_LM):\n",
    "    DNA_LM['snp_id'] = DNA_LM['Chromosome'] + \"_\" + DNA_LM['pos'].astype(str) + \"_\" + DNA_LM['ref'] + \"_\" + DNA_LM['alt']\n",
    "    DNA_LM['snp_id'] = DNA_LM['snp_id'].str.replace('chr', '')\n",
    "    \n",
    "    # Set 'snap_id' as the index\n",
    "    DNA_LM.set_index('snp_id', inplace=True)\n",
    "    return DNA_LM\n",
    "\n",
    "def reverse_and_update_snp_ids(gdata_df, dna_df):\n",
    "    updated_index = []\n",
    "    \n",
    "    for snp_id in dna_df.index:\n",
    "        if snp_id in gdata_df.index:\n",
    "            updated_index.append(snp_id)\n",
    "        else:\n",
    "            chrom, pos, ref, alt = snp_id.split(\"_\")\n",
    "            reversed_snp_id = f\"{chrom}_{pos}_{alt}_{ref}\"  # Reverse ref and alt\n",
    "            \n",
    "            # Check if reversed_snp_id exists in data_df\n",
    "            if reversed_snp_id in gdata_df.index:\n",
    "                #print(f\"Reversing {snp_id} to {reversed_snp_id}\")\n",
    "                updated_index.append(reversed_snp_id)\n",
    "            else:\n",
    "                print(f\"Error, unknown snp_id {snp_id}\")\n",
    "                updated_index.append(snp_id)\n",
    "    \n",
    "    # Update DNA_LM's index\n",
    "    dna_df.index = updated_index\n",
    "    print(\"\\nUpdated DNA_LM index:\")\n",
    "    print(dna_df.index)\n",
    "    return dna_df\n"
   ]
  },
  {
   "cell_type": "code",
   "execution_count": 8,
   "metadata": {},
   "outputs": [
    {
     "name": "stderr",
     "output_type": "stream",
     "text": [
      "/data/nasif12/home_if12/l_mai/sc-genetics/src/cellink/tl/_annotate_snps_genotype_data.py:258: DtypeWarning: Columns (15) have mixed types. Specify dtype option on import or set low_memory=False.\n",
      "  annos = pd.read_csv(vep_anno_file, sep=\"\\t\", skiprows=_get_vep_start_row(vep_anno_file))\n"
     ]
    },
    {
     "ename": "",
     "evalue": "",
     "output_type": "error",
     "traceback": [
      "\u001b[1;31mThe Kernel crashed while executing code in the current cell or a previous cell. \n",
      "\u001b[1;31mPlease review the code in the cell(s) to identify a possible cause of the failure. \n",
      "\u001b[1;31mClick <a href='https://aka.ms/vscodeJupyterKernelCrash'>here</a> for more info. \n",
      "\u001b[1;31mView Jupyter <a href='command:jupyter.viewOutput'>log</a> for further details."
     ]
    }
   ],
   "source": [
    "cl.tl.add_vep_annos_to_gdata(vep_scores, gdata,\n",
    "                             cols_to_explode=[\"Consequence\"],\n",
    "                             cols_to_dummy=[\"Consequence\"])"
   ]
  }
 ],
 "metadata": {
  "kernelspec": {
   "display_name": "mm_scgenetics",
   "language": "python",
   "name": "python3"
  },
  "language_info": {
   "codemirror_mode": {
    "name": "ipython",
    "version": 3
   },
   "file_extension": ".py",
   "mimetype": "text/x-python",
   "name": "python",
   "nbconvert_exporter": "python",
   "pygments_lexer": "ipython3",
   "version": "3.10.15"
  }
 },
 "nbformat": 4,
 "nbformat_minor": 2
}
