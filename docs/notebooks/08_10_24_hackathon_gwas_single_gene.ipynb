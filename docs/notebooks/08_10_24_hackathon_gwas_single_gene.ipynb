{
 "cells": [
  {
   "cell_type": "code",
   "execution_count": 48,
   "metadata": {},
   "outputs": [],
   "source": [
    "\n",
    "import logging\n",
    "from gwas import GWAS\n",
    "from time import time\n",
    "from tqdm import tqdm\n",
    "\n",
    "import anndata as ad\n",
    "import scipy as sp\n",
    "import scipy.linalg as la\n",
    "import scipy.stats as st\n",
    "import scanpy as sc\n",
    "import sgkit as sg\n",
    "import pandas as pd\n",
    "import pandas_plink as ps\n",
    "import numpy as np\n",
    "import seaborn as sns\n",
    "import matplotlib.pyplot as plt\n",
    "\n",
    "from anndata.utils import asarray\n",
    "from sklearn.preprocessing import StandardScaler\n",
    "from scipy.sparse import issparse\n",
    "from pathlib import Path\n",
    "from cellink.io import read_sgkit_zarr\n",
    "\n",
    "logger = logging.getLogger(__name__)\n",
    "num_pcs = 30"
   ]
  },
  {
   "cell_type": "code",
   "execution_count": 51,
   "metadata": {},
   "outputs": [
    {
     "name": "stdout",
     "output_type": "stream",
     "text": [
      "/Users/jan.engelmann/projects/sc-eqtl/data/OneK1K_imputation_post_qc_r2_08/filter_zarr_r08/chr22.dose.filtered.R2_0.8.vcz\n"
     ]
    }
   ],
   "source": [
    "## paths\n",
    "DATA = Path(\"/home/lollo/Work/hackathon/data/Yazar_OneK1K\")\n",
    "DATA = Path(\"/Users/jan.engelmann/projects/sc-eqtl/data\")\n",
    "\n",
    "vcf_file_path = DATA / \"OneK1K_imputation_post_qc_r2_08/filter_vcf_r08/chr22.dose.filtered.R2_0.8.vcf.gz\"\n",
    "\n",
    "zarr_path = vcf_file_path.parent.parent / \"filter_zarr_r08\"\n",
    "zarr_path.mkdir(exist_ok=True)\n",
    "\n",
    "icf_file_path = zarr_path / vcf_file_path.with_suffix(\".icf\").name\n",
    "zarr_file_path = (zarr_path / vcf_file_path.stem).with_suffix(\".vcz\")\n",
    "print(zarr_file_path) ## we are processing chromosome 22\n",
    "\n",
    "scdata_path = DATA / \"OneK1K_cohort_gene_expression_matrix_14_celltypes.h5ad.gz\""
   ]
  },
  {
   "cell_type": "code",
   "execution_count": 52,
   "metadata": {},
   "outputs": [
    {
     "data": {
      "text/plain": [
       "View of AnnData object with n_obs × n_vars = 463528 × 32738\n",
       "    obs: 'orig.ident', 'nCount_RNA', 'nFeature_RNA', 'pool', 'individual', 'percent.mt', 'latent', 'nCount_SCT', 'nFeature_SCT', 'cell_type', 'cell_label', 'sex', 'age'\n",
       "    var: 'GeneSymbol', 'features'"
      ]
     },
     "execution_count": 52,
     "metadata": {},
     "output_type": "execute_result"
    }
   ],
   "source": [
    "## reading single cell data\n",
    "scdata = ad.read_h5ad(scdata_path)\n",
    "scdata = scdata[scdata.obs.cell_label == \"CD4 NC\"]\n",
    "scdata"
   ]
  },
  {
   "cell_type": "code",
   "execution_count": 53,
   "metadata": {},
   "outputs": [
    {
     "data": {
      "text/plain": [
       "AnnData object with n_obs × n_vars = 1034 × 143083\n",
       "    var: 'chrom', 'pos', 'a0', 'a1', 'AF', 'ER2', 'maf', 'R2', 'contig', 'id', 'id_mask', 'quality'\n",
       "    varm: 'filter'"
      ]
     },
     "execution_count": 53,
     "metadata": {},
     "output_type": "execute_result"
    }
   ],
   "source": [
    "gdata = read_sgkit_zarr(zarr_file_path)\n",
    "gdata.obs = gdata.obs.set_index(\"id\")\n",
    "gdata\n"
   ]
  },
  {
   "cell_type": "code",
   "execution_count": 54,
   "metadata": {},
   "outputs": [
    {
     "name": "stderr",
     "output_type": "stream",
     "text": [
      "/var/folders/hm/5_qpdtz57vv91d3bdgqdbqd82hn_ys/T/ipykernel_86239/1482282085.py:12: ImplicitModificationWarning: Trying to modify attribute `.var` of view, initializing view as actual.\n",
      "  scdata.var[\"chrom\"] = annot.loc[scdata.var.index, \"chromosome_name\"].values\n"
     ]
    }
   ],
   "source": [
    "## annotating the single cell data\n",
    "annot = (\n",
    "    sc.queries.biomart_annotations(\n",
    "        \"hsapiens\",\n",
    "        [\"ensembl_gene_id\", \"start_position\", \"end_position\", \"chromosome_name\"],\n",
    "    )\n",
    "    .set_index(\"ensembl_gene_id\")\n",
    "    .drop_duplicates()\n",
    ")\n",
    "\n",
    "scdata = scdata[:, scdata.var.index.isin(annot.index)]\n",
    "scdata.var[\"chrom\"] = annot.loc[scdata.var.index, \"chromosome_name\"].values\n",
    "scdata.var[\"start\"] = annot.loc[scdata.var.index, \"start_position\"].values\n",
    "scdata.var[\"end\"] = annot.loc[scdata.var.index, \"end_position\"].values"
   ]
  },
  {
   "cell_type": "code",
   "execution_count": 55,
   "metadata": {},
   "outputs": [],
   "source": [
    "sc.pp.normalize_total(scdata)\n",
    "sc.pp.log1p(scdata)\n",
    "sc.pp.normalize_total(scdata)"
   ]
  },
  {
   "cell_type": "code",
   "execution_count": 56,
   "metadata": {},
   "outputs": [],
   "source": [
    "scdata = scdata[:, scdata.var.chrom == \"22\"]"
   ]
  },
  {
   "cell_type": "code",
   "execution_count": 57,
   "metadata": {},
   "outputs": [
    {
     "data": {
      "text/plain": [
       "AnnData object with n_obs × n_vars = 981 × 666\n",
       "    obs: 'individual'\n",
       "    var: 'GeneSymbol', 'features', 'chrom', 'start', 'end'\n",
       "    layers: 'mean'"
      ]
     },
     "execution_count": 57,
     "metadata": {},
     "output_type": "execute_result"
    }
   ],
   "source": [
    "pbdata = sc.get.aggregate(scdata, \"individual\", \"mean\")\n",
    "gdata = gdata[pbdata.obs.index]\n",
    "pbdata"
   ]
  },
  {
   "cell_type": "code",
   "execution_count": 58,
   "metadata": {},
   "outputs": [],
   "source": [
    "assert (pbdata.obs.index == gdata.obs.index).all()"
   ]
  },
  {
   "cell_type": "code",
   "execution_count": 61,
   "metadata": {},
   "outputs": [
    {
     "name": "stderr",
     "output_type": "stream",
     "text": [
      "/Users/jan.engelmann/projects/sc-genetics/docs/notebooks/gwas.py:59: RuntimeWarning: divide by zero encountered in divide\n",
      "  n = 1.0 / (GG - np.einsum(\"ij,ij->j\", FG, A0iFG))\n",
      "/Users/jan.engelmann/projects/sc-genetics/docs/notebooks/gwas.py:60: RuntimeWarning: invalid value encountered in multiply\n",
      "  M = -n * A0iFG\n",
      "/Users/jan.engelmann/projects/sc-genetics/docs/notebooks/gwas.py:67: RuntimeWarning: invalid value encountered in multiply\n",
      "  self.beta_g += n[:, None] * GY\n"
     ]
    }
   ],
   "source": [
    "## defining the target gene\n",
    "target_gene = 'ENSG00000212939' ## this gene is associated with chromosome 22\n",
    "cis_window = 1_000_000 # 1 mega base\n",
    "Y = pbdata[:, [target_gene]].layers[\"mean\"]\n",
    "Y = asarray(Y)\n",
    "\n",
    "start = pbdata.var.loc[target_gene].start\n",
    "end = pbdata.var.loc[target_gene].end\n",
    "chrom = pbdata.var.loc[target_gene].chrom\n",
    "\n",
    "subgadata = gdata[:, (gdata.var.chrom == chrom) & (gdata.var.pos >= start - cis_window) & (gdata.var.pos <= end + cis_window)]\n",
    "G = subgadata.X.compute()\n",
    "\n",
    "\n",
    "gwas = GWAS(Y)\n",
    "gwas.process(G)\n",
    "pv = gwas.getPv()\n",
    "pv[np.isnan(pv)] = 1\n",
    "pv.min()\n"
   ]
  },
  {
   "cell_type": "code",
   "execution_count": 62,
   "metadata": {},
   "outputs": [
    {
     "data": {
      "text/plain": [
       "2.200330284969727e-130"
      ]
     },
     "execution_count": 62,
     "metadata": {},
     "output_type": "execute_result"
    }
   ],
   "source": []
  },
  {
   "cell_type": "code",
   "execution_count": null,
   "metadata": {},
   "outputs": [],
   "source": []
  }
 ],
 "metadata": {
  "kernelspec": {
   "display_name": "theislab-combosciplex",
   "language": "python",
   "name": "python3"
  },
  "language_info": {
   "codemirror_mode": {
    "name": "ipython",
    "version": 3
   },
   "file_extension": ".py",
   "mimetype": "text/x-python",
   "name": "python",
   "nbconvert_exporter": "python",
   "pygments_lexer": "ipython3",
   "version": "3.10.15"
  }
 },
 "nbformat": 4,
 "nbformat_minor": 2
}
