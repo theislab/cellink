{
 "cells": [
  {
   "cell_type": "code",
   "execution_count": 1,
   "metadata": {},
   "outputs": [],
   "source": [
    "import pandas as pd\n",
    "import numpy as np\n",
    "import anndata as ad\n",
    "import sgkit as sg\n",
    "import cellink  as cl\n",
    "from pathlib import Path"
   ]
  },
  {
   "cell_type": "code",
   "execution_count": 2,
   "metadata": {},
   "outputs": [],
   "source": [
    "from cellink.io import read_sgkit_zarr"
   ]
  },
  {
   "cell_type": "code",
   "execution_count": 3,
   "metadata": {},
   "outputs": [],
   "source": [
    "id_col = \"#Uploaded_variation\""
   ]
  },
  {
   "cell_type": "code",
   "execution_count": 4,
   "metadata": {},
   "outputs": [],
   "source": [
    "zarr_file_path = \"/data/ouga/home/ag_gagneur/hoev/s_deeprvat/eva/theislab/hackathon24/chr22.dose.filtered.R2_0.8.vcz\"\n",
    "#genotype zarr file"
   ]
  },
  {
   "cell_type": "markdown",
   "metadata": {},
   "source": [
    "## Load data as zarr file "
   ]
  },
  {
   "cell_type": "code",
   "execution_count": null,
   "metadata": {},
   "outputs": [],
   "source": []
  },
  {
   "cell_type": "code",
   "execution_count": 5,
   "metadata": {},
   "outputs": [
    {
     "data": {
      "text/plain": [
       "AnnData object with n_obs × n_vars = 1034 × 143083\n",
       "    obs: 'id'\n",
       "    var: 'chrom', 'pos', 'a0', 'a1', 'AF', 'ER2', 'maf', 'R2', 'contig', 'id', 'id_mask', 'quality'\n",
       "    varm: 'filter'"
      ]
     },
     "execution_count": 5,
     "metadata": {},
     "output_type": "execute_result"
    }
   ],
   "source": [
    "gdata = read_sgkit_zarr(zarr_file_path)\n",
    "gdata"
   ]
  },
  {
   "cell_type": "markdown",
   "metadata": {},
   "source": [
    "## Write variants to VCF for annotation "
   ]
  },
  {
   "cell_type": "code",
   "execution_count": 6,
   "metadata": {},
   "outputs": [
    {
     "name": "stdout",
     "output_type": "stream",
     "text": [
      "[2024-10-09 15:43:33,181] INFO:cellink.tl._annotate_snps_genotype_data: number of variants to annotate: 143083\n",
      "[2024-10-09 15:43:33,182] INFO:cellink.tl._annotate_snps_genotype_data: Writing variants to variants.vcf\n"
     ]
    }
   ],
   "source": [
    "cl.tl.write_variants_to_vcf(gdata, out_file=\"variants.vcf\")"
   ]
  },
  {
   "cell_type": "markdown",
   "metadata": {},
   "source": [
    "## Annotate variants"
   ]
  },
  {
   "cell_type": "markdown",
   "metadata": {},
   "source": [
    "### Using VEP "
   ]
  },
  {
   "cell_type": "markdown",
   "metadata": {},
   "source": [
    "### run VEP"
   ]
  },
  {
   "cell_type": "code",
   "execution_count": 7,
   "metadata": {},
   "outputs": [],
   "source": [
    "anno_file = \"variant_vep_annotated.txt\"\n",
    "config_file  = \"../docs/example/config.yaml\"\n"
   ]
  },
  {
   "cell_type": "code",
   "execution_count": 8,
   "metadata": {
    "scrolled": true
   },
   "outputs": [],
   "source": [
    "# cl.tl.run_vep(config_file,\n",
    "#              input_vcf=\"variants.vcf\",\n",
    "#              output=anno_file) #writes \"variant_vep_annotated.txt\"\n"
   ]
  },
  {
   "cell_type": "markdown",
   "metadata": {},
   "source": [
    "### process VEP annos"
   ]
  },
  {
   "cell_type": "code",
   "execution_count": 9,
   "metadata": {
    "scrolled": true
   },
   "outputs": [
    {
     "name": "stdout",
     "output_type": "stream",
     "text": [
      "[2024-10-09 15:43:33,946] INFO:cellink.tl._annotate_snps_genotype_data: Index(['#Uploaded_variation', 'Location', 'Allele', 'Gene', 'Feature',\n",
      "       'Feature_type', 'Consequence', 'cDNA_position', 'CDS_position',\n",
      "       'Protein_position', 'Amino_acids', 'Codons', 'Existing_variation',\n",
      "       'IMPACT', 'DISTANCE', 'STRAND', 'FLAGS', 'BIOTYPE', 'CANONICAL', 'ENSP',\n",
      "       'SIFT', 'PolyPhen', 'gnomADe_AF', 'gnomADe_AFR_AF', 'gnomADe_AMR_AF',\n",
      "       'gnomADe_ASJ_AF', 'gnomADe_EAS_AF', 'gnomADe_FIN_AF', 'gnomADe_NFE_AF',\n",
      "       'gnomADe_OTH_AF', 'gnomADe_SAS_AF', 'CLIN_SIG', 'SOMATIC', 'PHENO',\n",
      "       'CADD_PHRED', 'CADD_RAW', 'TSSDistance'],\n",
      "      dtype='object')\n",
      "[2024-10-09 15:43:34,262] INFO:cellink.tl.utils: Exploding column Consequence\n",
      "[2024-10-09 15:43:34,774] INFO:cellink.tl.utils: Number of original rows: 182552.\n",
      " Number of exploded rows: 200116\n",
      "[2024-10-09 15:43:34,786] INFO:cellink.tl.utils: Making dummies from column Consequence\n",
      "[2024-10-09 15:43:34,980] INFO:cellink.tl._annotate_snps_genotype_data: Changing dtype of categorical columns ['#Uploaded_variation', 'Location', 'Allele', 'Gene', 'Feature', 'Feature_type', 'cDNA_position', 'CDS_position', 'Protein_position', 'Amino_acids', 'Codons', 'Existing_variation', 'IMPACT', 'DISTANCE', 'STRAND', 'FLAGS', 'BIOTYPE', 'CANONICAL', 'ENSP', 'SIFT', 'PolyPhen', 'gnomADe_AF', 'gnomADe_AFR_AF', 'gnomADe_AMR_AF', 'gnomADe_ASJ_AF', 'gnomADe_EAS_AF', 'gnomADe_FIN_AF', 'gnomADe_NFE_AF', 'gnomADe_OTH_AF', 'gnomADe_SAS_AF', 'CLIN_SIG', 'SOMATIC', 'PHENO', 'TSSDistance']\n",
      "[2024-10-09 15:43:35,287] INFO:cellink.tl._annotate_snps_genotype_data: Expanding annotations from multiple contexts per variant\n",
      "[2024-10-09 15:43:35,288] INFO:cellink.tl._annotate_snps_genotype_data: renaming id column #Uploaded_variation into snp_id\n",
      "[2024-10-09 15:43:35,408] INFO:cellink.tl._annotate_snps_genotype_data: getting unique counts\n",
      "Columns with multiple values per variant: Index(['Gene', 'Feature', 'cDNA_position', 'CDS_position', 'Protein_position',\n",
      "       'Amino_acids', 'Codons', 'IMPACT', 'DISTANCE', 'STRAND', 'FLAGS',\n",
      "       'BIOTYPE', 'CANONICAL', 'ENSP', 'SIFT', 'PolyPhen', 'TSSDistance',\n",
      "       'Consequence_3_prime_UTR_variant', 'Consequence_5_prime_UTR_variant',\n",
      "       'Consequence_NMD_transcript_variant',\n",
      "       'Consequence_coding_sequence_variant',\n",
      "       'Consequence_downstream_gene_variant',\n",
      "       'Consequence_incomplete_terminal_codon_variant',\n",
      "       'Consequence_intron_variant', 'Consequence_mature_miRNA_variant',\n",
      "       'Consequence_missense_variant',\n",
      "       'Consequence_non_coding_transcript_exon_variant',\n",
      "       'Consequence_non_coding_transcript_variant',\n",
      "       'Consequence_splice_acceptor_variant',\n",
      "       'Consequence_splice_donor_5th_base_variant',\n",
      "       'Consequence_splice_donor_region_variant',\n",
      "       'Consequence_splice_donor_variant',\n",
      "       'Consequence_splice_polypyrimidine_tract_variant',\n",
      "       'Consequence_splice_region_variant', 'Consequence_stop_gained',\n",
      "       'Consequence_stop_retained_variant', 'Consequence_synonymous_variant',\n",
      "       'Consequence_upstream_gene_variant'],\n",
      "      dtype='object')\n",
      "[2024-10-09 15:47:31,867] INFO:cellink.tl._annotate_snps_genotype_data: Maximum number of distinct annotations per variant 8\n",
      "[2024-10-09 15:49:07,857] INFO:cellink.tl._annotate_snps_genotype_data: merging non-expanded annos into first data frame\n",
      "CPU times: user 5min 32s, sys: 5.56 s, total: 5min 37s\n",
      "Wall time: 5min 35s\n"
     ]
    },
    {
     "data": {
      "text/plain": [
       "AnnData object with n_obs × n_vars = 1034 × 143083\n",
       "    obs: 'id'\n",
       "    var: 'chrom', 'pos', 'a0', 'a1', 'AF', 'ER2', 'maf', 'R2', 'contig', 'id', 'id_mask', 'quality'\n",
       "    varm: 'annotations_0', 'annotations_1', 'annotations_2', 'annotations_3', 'annotations_4', 'annotations_5', 'annotations_6', 'annotations_7'"
      ]
     },
     "execution_count": 9,
     "metadata": {},
     "output_type": "execute_result"
    }
   ],
   "source": [
    "%%time\n",
    "gdata = cl.tl.add_vep_annos_to_gdata(anno_file, gdata,\n",
    "                                    id_col = \"#Uploaded_variation\",\n",
    "                             cols_to_explode=[\"Consequence\"],\n",
    "                             cols_to_dummy=[\"Consequence\"])\n",
    "gdata"
   ]
  },
  {
   "cell_type": "markdown",
   "metadata": {},
   "source": [
    "## Save gdata with annotations (current workaround because of some dtype issues with some columns)"
   ]
  },
  {
   "cell_type": "code",
   "execution_count": 24,
   "metadata": {},
   "outputs": [],
   "source": [
    "# current workaround for saving \n",
    "import pickle\n",
    "with open(\"gdata_varm.pkl\", \"wb\") as f:\n",
    "    pickle.dump(gdata.varm, f)\n",
    "del gdata.varm\n",
    "gdata.write(\"gdata.h5ad\")"
   ]
  },
  {
   "cell_type": "markdown",
   "metadata": {},
   "source": [
    "## Load data "
   ]
  },
  {
   "cell_type": "code",
   "execution_count": 27,
   "metadata": {},
   "outputs": [],
   "source": [
    "gdata = ad.read_h5ad(\"gdata.h5ad\")\n",
    "with open(\"gdata_varm.pkl\", \"rb\") as f:\n",
    "    varm = pickle.load(f)\n",
    "\n",
    "gdata.varm = varm"
   ]
  },
  {
   "cell_type": "code",
   "execution_count": 28,
   "metadata": {},
   "outputs": [
    {
     "data": {
      "text/plain": [
       "AnnData object with n_obs × n_vars = 1034 × 143083\n",
       "    obs: 'id'\n",
       "    var: 'chrom', 'pos', 'a0', 'a1', 'AF', 'ER2', 'maf', 'R2', 'contig', 'id', 'id_mask', 'quality'"
      ]
     },
     "execution_count": 28,
     "metadata": {},
     "output_type": "execute_result"
    }
   ],
   "source": []
  }
 ],
 "metadata": {
  "kernelspec": {
   "display_name": "eh_scgenetics_v1",
   "language": "python",
   "name": "eh_scgenetics_v1"
  },
  "language_info": {
   "codemirror_mode": {
    "name": "ipython",
    "version": 3
   },
   "file_extension": ".py",
   "mimetype": "text/x-python",
   "name": "python",
   "nbconvert_exporter": "python",
   "pygments_lexer": "ipython3",
   "version": "3.10.15"
  }
 },
 "nbformat": 4,
 "nbformat_minor": 4
}
