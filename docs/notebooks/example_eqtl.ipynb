{
 "cells": [
  {
   "cell_type": "markdown",
   "metadata": {},
   "source": [
    "### Expressive Quantitative Trait Loci (EQTL) Association Study\n",
    "\n",
    "In this notebook we will show how to run a simple EQTL analyisis using the `cellink` package.\n",
    "\n",
    "First we import the necessary libraries."
   ]
  },
  {
   "cell_type": "code",
   "execution_count": null,
   "metadata": {},
   "outputs": [],
   "source": [
    "import logging\n",
    "import warnings\n",
    "\n",
    "import anndata as ad\n",
    "import scanpy as sc\n",
    "import numpy as np\n",
    "import pandas as pd\n",
    "\n",
    "from tqdm.notebook import tqdm\n",
    "from pathlib import Path\n",
    "from statsmodels.stats.multitest import fdrcorrection\n",
    "\n",
    "from cellink.io import read_sgkit_zarr\n",
    "from cellink.tl import get_best_eqtl_on_single_gene\n",
    "\n",
    "warnings.filterwarnings(\"ignore\")\n",
    "\n",
    "logger = logging.getLogger(__name__)"
   ]
  },
  {
   "cell_type": "markdown",
   "metadata": {},
   "source": [
    "EQTL analyis requires reasoning over each cell type and each chromosome. In this tutorial we will be working on the chromosome 22 and the CD4 NC cell type."
   ]
  },
  {
   "cell_type": "code",
   "execution_count": null,
   "metadata": {},
   "outputs": [],
   "source": [
    "DEBUG = False\n",
    "TARGET_CELL_TYPE = \"CD4 NC\"\n",
    "TARGET_CHROMOSOME = \"22\"\n",
    "THRESHOLD = 0.05"
   ]
  },
  {
   "cell_type": "markdown",
   "metadata": {},
   "source": [
    "Defining the data paths (should we do this differently when we publish the tutorial?)"
   ]
  },
  {
   "cell_type": "code",
   "execution_count": null,
   "metadata": {},
   "outputs": [],
   "source": [
    "## paths\n",
    "DATA = Path(\"/home/lollo/Work/hackathon/data/Yazar_OneK1K\")\n",
    "# DATA = Path(\"/Users/jan.engelmann/projects/sc-eqtl/data\")\n",
    "\n",
    "vcf_file_path = DATA / \"OneK1K_imputation_post_qc_r2_08/filter_vcf_r08/chr22.dose.filtered.R2_0.8.vcf.gz\"\n",
    "\n",
    "zarr_path = vcf_file_path.parent.parent / \"filter_zarr_r08\"\n",
    "zarr_path.mkdir(exist_ok=True)\n",
    "\n",
    "icf_file_path = zarr_path / vcf_file_path.with_suffix(\".icf\").name\n",
    "zarr_file_path = (zarr_path / vcf_file_path.stem).with_suffix(\".vcz\")\n",
    "\n",
    "if DEBUG:\n",
    "    scdata_path = DATA / \"debug_OneK1K_cohort_gene_expression_matrix_14_celltypes.h5ad\"\n",
    "else:\n",
    "    scdata_path = DATA / \"OneK1K_cohort_gene_expression_matrix_14_celltypes.h5ad.gz\"\n",
    "\n",
    "print(zarr_file_path, scdata_path)"
   ]
  },
  {
   "cell_type": "markdown",
   "metadata": {},
   "source": [
    "Now we can read the single cell data by using the `anndata.read_h5ad` function.\n",
    "Since we need to reason over each single cell type, we need to subset the data properly before proceeding with the rest of the pipeline."
   ]
  },
  {
   "cell_type": "code",
   "execution_count": null,
   "metadata": {},
   "outputs": [],
   "source": [
    "## reading single cell data\n",
    "scdata = ad.read_h5ad(scdata_path)\n",
    "## filtering by the target cell type\n",
    "scdata = scdata[scdata.obs.cell_label == TARGET_CELL_TYPE]\n",
    "scdata"
   ]
  },
  {
   "cell_type": "markdown",
   "metadata": {},
   "source": [
    "We read the genetic data from the `zarr` file using the `cellink.tl.read_sgkit_data` API."
   ]
  },
  {
   "cell_type": "code",
   "execution_count": null,
   "metadata": {},
   "outputs": [],
   "source": [
    "gdata = read_sgkit_zarr(zarr_file_path)\n",
    "gdata.obs = gdata.obs.set_index(\"id\")\n",
    "gdata"
   ]
  },
  {
   "cell_type": "markdown",
   "metadata": {},
   "source": [
    "In order to proceed with the analysis, we need to extend the single cell data with the biomart annotations."
   ]
  },
  {
   "cell_type": "code",
   "execution_count": null,
   "metadata": {},
   "outputs": [],
   "source": [
    "## annotating the single cell data\n",
    "annot = (\n",
    "    sc.queries.biomart_annotations(\n",
    "        \"hsapiens\",\n",
    "        [\"ensembl_gene_id\", \"start_position\", \"end_position\", \"chromosome_name\"],\n",
    "    )\n",
    "    .set_index(\"ensembl_gene_id\")\n",
    "    .drop_duplicates()\n",
    ")\n",
    "\n",
    "scdata = scdata[:, scdata.var.index.isin(annot.index)]\n",
    "scdata.var[\"chrom\"] = annot.loc[scdata.var.index, \"chromosome_name\"].values\n",
    "scdata.var[\"start\"] = annot.loc[scdata.var.index, \"start_position\"].values\n",
    "scdata.var[\"end\"] = annot.loc[scdata.var.index, \"end_position\"].values"
   ]
  },
  {
   "cell_type": "markdown",
   "metadata": {},
   "source": [
    "We can now normalize the counts and log-transform them"
   ]
  },
  {
   "cell_type": "code",
   "execution_count": null,
   "metadata": {},
   "outputs": [],
   "source": [
    "sc.pp.normalize_total(scdata)\n",
    "sc.pp.log1p(scdata)\n",
    "sc.pp.normalize_total(scdata)"
   ]
  },
  {
   "cell_type": "markdown",
   "metadata": {},
   "source": [
    "Since we have the genetic data associated with chromosome 22 we need to subset the single cell data to contain only the genes that are associated to such chromosome, given the biomart annotation."
   ]
  },
  {
   "cell_type": "code",
   "execution_count": null,
   "metadata": {},
   "outputs": [],
   "source": [
    "scdata = scdata[:, scdata.var.chrom == TARGET_CHROMOSOME]"
   ]
  },
  {
   "cell_type": "markdown",
   "metadata": {},
   "source": [
    "Since each observation in the genetic data is a donor, we need to pseudo-bulk the single cell data to have a representation at the same level."
   ]
  },
  {
   "cell_type": "code",
   "execution_count": null,
   "metadata": {},
   "outputs": [],
   "source": [
    "## aggregating the data\n",
    "pbdata = sc.get.aggregate(scdata, \"individual\", \"mean\")\n",
    "gdata = gdata[pbdata.obs.index]\n",
    "pbdata.X = pbdata.layers[\"mean\"]\n",
    "pbdata"
   ]
  },
  {
   "cell_type": "markdown",
   "metadata": {},
   "source": [
    "We need to perform some sanity check to make sure that the observations match across the two data sources (pseudo-bulked single cell and genetic data)"
   ]
  },
  {
   "cell_type": "code",
   "execution_count": null,
   "metadata": {},
   "outputs": [],
   "source": [
    "## sanity check (we have all the individuals from both data sources)\n",
    "assert (pbdata.obs.index == gdata.obs.index).all()"
   ]
  },
  {
   "cell_type": "markdown",
   "metadata": {},
   "source": [
    "We will also filter out the genes that are expressed in less than 10 cells "
   ]
  },
  {
   "cell_type": "code",
   "execution_count": null,
   "metadata": {},
   "outputs": [],
   "source": [
    "## first we need to filter out genes that are expressed in less than ten individuals\n",
    "sc.pp.filter_genes(pbdata, min_cells=10)"
   ]
  },
  {
   "cell_type": "markdown",
   "metadata": {},
   "source": [
    "We can now run our EQTL test for each of the genes that are associated to the 22 chromosome"
   ]
  },
  {
   "cell_type": "code",
   "execution_count": null,
   "metadata": {},
   "outputs": [],
   "source": [
    "## retrieving the genes associated to chromosome 22\n",
    "genes_chrom_22 = pbdata[:, pbdata.var[\"chrom\"] == TARGET_CHROMOSOME].var.index.values\n",
    "## running the eqtl test\n",
    "cis_window = 1_000_000\n",
    "results = []\n",
    "## defining the iterator\n",
    "iterator = tqdm(range(len(genes_chrom_22)))\n",
    "for target_gene in genes_chrom_22:\n",
    "    eqtl_results = get_best_eqtl_on_single_gene(pbdata, gdata, target_gene, cis_window)\n",
    "    results.append(eqtl_results)\n",
    "    iterator.update()"
   ]
  },
  {
   "cell_type": "markdown",
   "metadata": {},
   "source": [
    "To make more sense of the results, we need to consider the Bonferroni adjusted p-value along with the q-value computed by using the Benjamini-Hochberg score across the test."
   ]
  },
  {
   "cell_type": "code",
   "execution_count": null,
   "metadata": {},
   "outputs": [],
   "source": [
    "## constructing output DataFrame\n",
    "eqtl_results_df = pd.DataFrame(results)\n",
    "eqtl_results_df[\"pv_reject\"] = eqtl_results_df[\"min_pv\"] < THRESHOLD\n",
    "eqtl_results_df[\"bf_pv\"] = np.clip(eqtl_results_df[\"min_pv\"] * eqtl_results_df[\"no_tested_variants\"], 0, 1)\n",
    "eqtl_results_df[\"bf_pv_reject\"] = eqtl_results_df[\"bf_pv\"] < THRESHOLD\n",
    "eqtl_results_df[\"q_val\"] = fdrcorrection(eqtl_results_df[\"bf_pv\"].values)[1]\n",
    "eqtl_results_df[\"q_val_reject\"] = eqtl_results_df[\"q_val\"] < THRESHOLD"
   ]
  },
  {
   "cell_type": "markdown",
   "metadata": {},
   "source": [
    "Once we have terminated our analysis, we can save the resulting `DataFrame` to disk"
   ]
  },
  {
   "cell_type": "code",
   "execution_count": null,
   "metadata": {},
   "outputs": [],
   "source": [
    "## saving the resulting dataframe\n",
    "eqtl_results_df.to_csv(f\"/home/lollo/Work/hackathon/dump/eqtl_{TARGET_CELL_TYPE}.csv\")"
   ]
  },
  {
   "cell_type": "code",
   "execution_count": null,
   "metadata": {},
   "outputs": [],
   "source": [
    "eqtl_results_df"
   ]
  },
  {
   "cell_type": "markdown",
   "metadata": {},
   "source": [
    "## TODOs\n",
    "\n",
    "- [x] Run on all genes on Chromosome 22\n",
    "- [x] For each gene store: minimum p value, number of variants tested, id of minimum pv variant, gene name\n",
    "- [x] Bonferroni correction per hit: pv_gene = pv * num_cis_variants, np clip to (0,1)\n",
    "- [x] subset to bonferroni sginifcant hits (pv_gene < 0.05)\n",
    "- [x] benjamini hochberg across tests -> qv\n",
    "- [x] report # of qv < 0.05\n",
    "- [ ] check how many hits you have compared to OneK1K\n",
    "- [x] add gwas to tools\n",
    "- [x] Figure out how to render several notebooks\n",
    "- [ ] Stretch goal: all cell types"
   ]
  },
  {
   "cell_type": "markdown",
   "metadata": {},
   "source": []
  }
 ],
 "metadata": {
  "kernelspec": {
   "display_name": "theislab-combosciplex",
   "language": "python",
   "name": "python3"
  },
  "language_info": {
   "codemirror_mode": {
    "name": "ipython",
    "version": 3
   },
   "file_extension": ".py",
   "mimetype": "text/x-python",
   "name": "python",
   "nbconvert_exporter": "python",
   "pygments_lexer": "ipython3",
   "version": "3.12.5"
  }
 },
 "nbformat": 4,
 "nbformat_minor": 2
}
