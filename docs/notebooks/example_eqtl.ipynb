{
 "cells": [
  {
   "cell_type": "markdown",
   "metadata": {},
   "source": [
    "### Expressive Quantitative Trait Loci (EQTL) Analysis\n",
    "\n",
    "In this notebook we will show how to run a simple EQTL analyisis using the `cellink` package.\n",
    "\n",
    "First we import the necessary libraries."
   ]
  },
  {
   "cell_type": "code",
   "execution_count": 1,
   "metadata": {},
   "outputs": [],
   "source": [
    "import logging\n",
    "import warnings\n",
    "\n",
    "import anndata as ad\n",
    "import scanpy as sc\n",
    "import numpy as np\n",
    "import anndata as an\n",
    "import pandas as pd\n",
    "\n",
    "from tqdm.notebook import tqdm\n",
    "from anndata.utils import asarray\n",
    "from pathlib import Path\n",
    "from statsmodels.stats.multitest import fdrcorrection\n",
    "\n",
    "from cellink.io import read_sgkit_zarr\n",
    "from cellink.tl import run_eqtl_on_single_gene\n",
    "\n",
    "warnings.filterwarnings('ignore')\n",
    "\n",
    "logger = logging.getLogger(__name__)"
   ]
  },
  {
   "cell_type": "markdown",
   "metadata": {},
   "source": [
    "EQTL analyis requires reasoning over each cell type and each chromosome. In this tutorial we will be working on the chromosome 22 and the CD4 NC cell type."
   ]
  },
  {
   "cell_type": "code",
   "execution_count": 2,
   "metadata": {},
   "outputs": [],
   "source": [
    "DEBUG = False\n",
    "TARGET_CELL_TYPE = \"CD4 NC\"\n",
    "TARGET_CHROMOSOME = \"22\"\n",
    "THRESHOLD = 0.05"
   ]
  },
  {
   "cell_type": "markdown",
   "metadata": {},
   "source": [
    "Defining the data paths (should we do this differently when we publish the tutorial?)"
   ]
  },
  {
   "cell_type": "code",
   "execution_count": 3,
   "metadata": {},
   "outputs": [
    {
     "name": "stdout",
     "output_type": "stream",
     "text": [
      "/home/lollo/Work/hackathon/data/Yazar_OneK1K/OneK1K_imputation_post_qc_r2_08/filter_zarr_r08/chr22.dose.filtered.R2_0.8.vcz /home/lollo/Work/hackathon/data/Yazar_OneK1K/OneK1K_cohort_gene_expression_matrix_14_celltypes.h5ad.gz\n"
     ]
    }
   ],
   "source": [
    "## paths\n",
    "DATA = Path(\"/home/lollo/Work/hackathon/data/Yazar_OneK1K\")\n",
    "#DATA = Path(\"/Users/jan.engelmann/projects/sc-eqtl/data\")\n",
    "\n",
    "vcf_file_path = DATA / \"OneK1K_imputation_post_qc_r2_08/filter_vcf_r08/chr22.dose.filtered.R2_0.8.vcf.gz\"\n",
    "\n",
    "zarr_path = vcf_file_path.parent.parent / \"filter_zarr_r08\"\n",
    "zarr_path.mkdir(exist_ok=True)\n",
    "\n",
    "icf_file_path = zarr_path / vcf_file_path.with_suffix(\".icf\").name\n",
    "zarr_file_path = (zarr_path / vcf_file_path.stem).with_suffix(\".vcz\")\n",
    "\n",
    "if DEBUG:\n",
    "    scdata_path = DATA / \"debug_OneK1K_cohort_gene_expression_matrix_14_celltypes.h5ad\"\n",
    "else:\n",
    "    scdata_path = DATA / \"OneK1K_cohort_gene_expression_matrix_14_celltypes.h5ad.gz\"\n",
    "\n",
    "print(zarr_file_path, scdata_path)"
   ]
  },
  {
   "cell_type": "markdown",
   "metadata": {},
   "source": [
    "Now we can read the single cell data by using the `anndata.read_h5ad` function.\n",
    "Since we need to reason over each single cell type, we need to subset the data properly before proceeding with the rest of the pipeline."
   ]
  },
  {
   "cell_type": "code",
   "execution_count": 4,
   "metadata": {},
   "outputs": [
    {
     "data": {
      "text/plain": [
       "View of AnnData object with n_obs × n_vars = 463528 × 32738\n",
       "    obs: 'orig.ident', 'nCount_RNA', 'nFeature_RNA', 'pool', 'individual', 'percent.mt', 'latent', 'nCount_SCT', 'nFeature_SCT', 'cell_type', 'cell_label', 'sex', 'age'\n",
       "    var: 'GeneSymbol', 'features'"
      ]
     },
     "execution_count": 4,
     "metadata": {},
     "output_type": "execute_result"
    }
   ],
   "source": [
    "## reading single cell data\n",
    "scdata = ad.read_h5ad(scdata_path)\n",
    "## filtering by the target cell type\n",
    "scdata = scdata[scdata.obs.cell_label == TARGET_CELL_TYPE]\n",
    "scdata"
   ]
  },
  {
   "cell_type": "markdown",
   "metadata": {},
   "source": [
    "We read the genetic data from the `zarr` file using the `cellink.tl.read_sgkit_data` API."
   ]
  },
  {
   "cell_type": "code",
   "execution_count": 5,
   "metadata": {},
   "outputs": [
    {
     "data": {
      "text/plain": [
       "AnnData object with n_obs × n_vars = 1034 × 143083\n",
       "    var: 'chrom', 'pos', 'a0', 'a1', 'AF', 'ER2', 'maf', 'R2', 'contig', 'id', 'id_mask', 'quality'\n",
       "    varm: 'filter'"
      ]
     },
     "execution_count": 5,
     "metadata": {},
     "output_type": "execute_result"
    }
   ],
   "source": [
    "gdata = read_sgkit_zarr(zarr_file_path)\n",
    "gdata.obs = gdata.obs.set_index(\"id\")\n",
    "gdata"
   ]
  },
  {
   "cell_type": "markdown",
   "metadata": {},
   "source": [
    "In order to proceed with the analysis, we need to extend the single cell data with the biomart annotations."
   ]
  },
  {
   "cell_type": "code",
   "execution_count": 6,
   "metadata": {},
   "outputs": [],
   "source": [
    "## annotating the single cell data\n",
    "annot = (\n",
    "    sc.queries.biomart_annotations(\n",
    "        \"hsapiens\",\n",
    "        [\"ensembl_gene_id\", \"start_position\", \"end_position\", \"chromosome_name\"],\n",
    "    )\n",
    "    .set_index(\"ensembl_gene_id\")\n",
    "    .drop_duplicates()\n",
    ")\n",
    "\n",
    "scdata = scdata[:, scdata.var.index.isin(annot.index)]\n",
    "scdata.var[\"chrom\"] = annot.loc[scdata.var.index, \"chromosome_name\"].values\n",
    "scdata.var[\"start\"] = annot.loc[scdata.var.index, \"start_position\"].values\n",
    "scdata.var[\"end\"] = annot.loc[scdata.var.index, \"end_position\"].values"
   ]
  },
  {
   "cell_type": "markdown",
   "metadata": {},
   "source": [
    "We can now normalize the counts and log-transform them"
   ]
  },
  {
   "cell_type": "code",
   "execution_count": 7,
   "metadata": {},
   "outputs": [],
   "source": [
    "sc.pp.normalize_total(scdata)\n",
    "sc.pp.log1p(scdata)\n",
    "sc.pp.normalize_total(scdata)"
   ]
  },
  {
   "cell_type": "markdown",
   "metadata": {},
   "source": [
    "Since we have the genetic data associated with chromosome 22 we need to subset the single cell data to contain only the genes that are associated to such chromosome, given the biomart annotation."
   ]
  },
  {
   "cell_type": "code",
   "execution_count": 8,
   "metadata": {},
   "outputs": [],
   "source": [
    "scdata = scdata[:, scdata.var.chrom == TARGET_CHROMOSOME]"
   ]
  },
  {
   "cell_type": "markdown",
   "metadata": {},
   "source": [
    "Since each observation in the genetic data is a donor, we need to pseudo-bulk the single cell data to have a representation at the same level."
   ]
  },
  {
   "cell_type": "code",
   "execution_count": 9,
   "metadata": {},
   "outputs": [
    {
     "data": {
      "text/plain": [
       "AnnData object with n_obs × n_vars = 981 × 666\n",
       "    obs: 'individual'\n",
       "    var: 'GeneSymbol', 'features', 'chrom', 'start', 'end'\n",
       "    layers: 'mean'"
      ]
     },
     "execution_count": 9,
     "metadata": {},
     "output_type": "execute_result"
    }
   ],
   "source": [
    "## aggregating the data\n",
    "pbdata = sc.get.aggregate(scdata, \"individual\", \"mean\")\n",
    "gdata = gdata[pbdata.obs.index]\n",
    "pbdata.X = pbdata.layers[\"mean\"]\n",
    "pbdata"
   ]
  },
  {
   "cell_type": "markdown",
   "metadata": {},
   "source": [
    "We need to perform some sanity check to make sure that the observations match across the two data sources (pseudo-bulked single cell and genetic data)"
   ]
  },
  {
   "cell_type": "code",
   "execution_count": 10,
   "metadata": {},
   "outputs": [],
   "source": [
    "## sanity check (we have all the individuals from both data sources)\n",
    "assert (pbdata.obs.index == gdata.obs.index).all()"
   ]
  },
  {
   "cell_type": "markdown",
   "metadata": {},
   "source": [
    "We will also filter out the genes that are expressed in less than 10 cells "
   ]
  },
  {
   "cell_type": "code",
   "execution_count": 11,
   "metadata": {},
   "outputs": [],
   "source": [
    "## first we need to filter out genes that are expressed in less than ten individuals\n",
    "sc.pp.filter_genes(pbdata, min_cells = 10)"
   ]
  },
  {
   "cell_type": "markdown",
   "metadata": {},
   "source": [
    "We can now run our EQTL test for each of the genes that are associated to the 22 chromosome"
   ]
  },
  {
   "cell_type": "code",
   "execution_count": 12,
   "metadata": {},
   "outputs": [
    {
     "data": {
      "application/vnd.jupyter.widget-view+json": {
       "model_id": "db514eb643e74ade84ab56f99a858fcd",
       "version_major": 2,
       "version_minor": 0
      },
      "text/plain": [
       "  0%|          | 0/494 [00:00<?, ?it/s]"
      ]
     },
     "metadata": {},
     "output_type": "display_data"
    }
   ],
   "source": [
    "## retrieving the genes associated to chromosome 22\n",
    "genes_chrom_22 = pbdata[:, pbdata.var[\"chrom\"] == TARGET_CHROMOSOME].var.index.values\n",
    "## running the eqtl test\n",
    "cis_window = 1_000_000\n",
    "results = []\n",
    "## defining the iterator\n",
    "iterator = tqdm(range(len(genes_chrom_22)))\n",
    "for target_gene in genes_chrom_22:\n",
    "    eqtl_results = run_eqtl_on_single_gene(pbdata, gdata, target_gene, cis_window)\n",
    "    results.append(eqtl_results)\n",
    "    iterator.update()"
   ]
  },
  {
   "cell_type": "markdown",
   "metadata": {},
   "source": [
    "To make more sense of the results, we need to consider the Bonferroni adjusted p-value along with the q-value computed by using the Benjamini-Hochberg score across the test."
   ]
  },
  {
   "cell_type": "code",
   "execution_count": 16,
   "metadata": {},
   "outputs": [],
   "source": [
    "## constructing output DataFrame\n",
    "eqtl_results_df = pd.DataFrame(results)\n",
    "eqtl_results_df[\"pv_reject\"] = eqtl_results_df[\"min_pv\"] < THRESHOLD\n",
    "eqtl_results_df[\"bf_pv\"] = np.clip(eqtl_results_df[\"min_pv\"]*eqtl_results_df[\"no_tested_variants\"], 0, 1)\n",
    "eqtl_results_df[\"bf_pv_reject\"] = eqtl_results_df[\"bf_pv\"] < THRESHOLD\n",
    "eqtl_results_df[\"q_val\"] = fdrcorrection(eqtl_results_df[\"bf_pv\"].values)[1]\n",
    "eqtl_results_df[\"q_val_reject\"] = eqtl_results_df[\"q_val\"] < THRESHOLD"
   ]
  },
  {
   "cell_type": "markdown",
   "metadata": {},
   "source": [
    "Once we have terminated our analysis, we can save the resulting `DataFrame` to disk"
   ]
  },
  {
   "cell_type": "code",
   "execution_count": 17,
   "metadata": {},
   "outputs": [],
   "source": [
    "## saving the resulting dataframe\n",
    "eqtl_results_df.to_csv(f\"/home/lollo/Work/hackathon/dump/eqtl_{TARGET_CELL_TYPE}.csv\")"
   ]
  },
  {
   "cell_type": "code",
   "execution_count": 18,
   "metadata": {},
   "outputs": [
    {
     "data": {
      "text/html": [
       "<div>\n",
       "<style scoped>\n",
       "    .dataframe tbody tr th:only-of-type {\n",
       "        vertical-align: middle;\n",
       "    }\n",
       "\n",
       "    .dataframe tbody tr th {\n",
       "        vertical-align: top;\n",
       "    }\n",
       "\n",
       "    .dataframe thead th {\n",
       "        text-align: right;\n",
       "    }\n",
       "</style>\n",
       "<table border=\"1\" class=\"dataframe\">\n",
       "  <thead>\n",
       "    <tr style=\"text-align: right;\">\n",
       "      <th></th>\n",
       "      <th>terget_gene</th>\n",
       "      <th>no_tested_variants</th>\n",
       "      <th>min_pv</th>\n",
       "      <th>min_pv_variant</th>\n",
       "      <th>pv_reject</th>\n",
       "      <th>bf_pv</th>\n",
       "      <th>bf_pv_reject</th>\n",
       "      <th>q_val</th>\n",
       "      <th>q_val_reject</th>\n",
       "    </tr>\n",
       "  </thead>\n",
       "  <tbody>\n",
       "    <tr>\n",
       "      <th>0</th>\n",
       "      <td>ENSG00000100181</td>\n",
       "      <td>1451</td>\n",
       "      <td>4.729347e-09</td>\n",
       "      <td>22_17274624_G_A</td>\n",
       "      <td>True</td>\n",
       "      <td>6.862283e-06</td>\n",
       "      <td>True</td>\n",
       "      <td>1.486828e-05</td>\n",
       "      <td>True</td>\n",
       "    </tr>\n",
       "    <tr>\n",
       "      <th>1</th>\n",
       "      <td>ENSG00000237438</td>\n",
       "      <td>3031</td>\n",
       "      <td>1.707060e-04</td>\n",
       "      <td>22_17529108_C_T</td>\n",
       "      <td>True</td>\n",
       "      <td>5.174098e-01</td>\n",
       "      <td>False</td>\n",
       "      <td>5.930405e-01</td>\n",
       "      <td>False</td>\n",
       "    </tr>\n",
       "    <tr>\n",
       "      <th>2</th>\n",
       "      <td>ENSG00000273203</td>\n",
       "      <td>3104</td>\n",
       "      <td>4.205864e-10</td>\n",
       "      <td>22_17581854_G_A</td>\n",
       "      <td>True</td>\n",
       "      <td>1.305500e-06</td>\n",
       "      <td>True</td>\n",
       "      <td>3.027779e-06</td>\n",
       "      <td>True</td>\n",
       "    </tr>\n",
       "    <tr>\n",
       "      <th>3</th>\n",
       "      <td>ENSG00000273442</td>\n",
       "      <td>3174</td>\n",
       "      <td>1.606470e-04</td>\n",
       "      <td>22_17826030_C_T</td>\n",
       "      <td>True</td>\n",
       "      <td>5.098936e-01</td>\n",
       "      <td>False</td>\n",
       "      <td>5.857847e-01</td>\n",
       "      <td>False</td>\n",
       "    </tr>\n",
       "    <tr>\n",
       "      <th>4</th>\n",
       "      <td>ENSG00000177663</td>\n",
       "      <td>3364</td>\n",
       "      <td>8.165293e-05</td>\n",
       "      <td>22_17596322_A_G</td>\n",
       "      <td>True</td>\n",
       "      <td>2.746804e-01</td>\n",
       "      <td>False</td>\n",
       "      <td>3.309564e-01</td>\n",
       "      <td>False</td>\n",
       "    </tr>\n",
       "    <tr>\n",
       "      <th>...</th>\n",
       "      <td>...</td>\n",
       "      <td>...</td>\n",
       "      <td>...</td>\n",
       "      <td>...</td>\n",
       "      <td>...</td>\n",
       "      <td>...</td>\n",
       "      <td>...</td>\n",
       "      <td>...</td>\n",
       "      <td>...</td>\n",
       "    </tr>\n",
       "    <tr>\n",
       "      <th>489</th>\n",
       "      <td>ENSG00000008735</td>\n",
       "      <td>8142</td>\n",
       "      <td>1.206161e-46</td>\n",
       "      <td>22_17222894_A_T</td>\n",
       "      <td>True</td>\n",
       "      <td>9.820567e-43</td>\n",
       "      <td>True</td>\n",
       "      <td>1.732629e-41</td>\n",
       "      <td>True</td>\n",
       "    </tr>\n",
       "    <tr>\n",
       "      <th>490</th>\n",
       "      <td>ENSG00000100299</td>\n",
       "      <td>7995</td>\n",
       "      <td>1.799452e-28</td>\n",
       "      <td>22_19276864_C_T</td>\n",
       "      <td>True</td>\n",
       "      <td>1.438662e-24</td>\n",
       "      <td>True</td>\n",
       "      <td>1.110467e-23</td>\n",
       "      <td>True</td>\n",
       "    </tr>\n",
       "    <tr>\n",
       "      <th>491</th>\n",
       "      <td>ENSG00000225929</td>\n",
       "      <td>7208</td>\n",
       "      <td>9.834261e-36</td>\n",
       "      <td>22_17948957_C_G</td>\n",
       "      <td>True</td>\n",
       "      <td>7.088536e-32</td>\n",
       "      <td>True</td>\n",
       "      <td>8.337468e-31</td>\n",
       "      <td>True</td>\n",
       "    </tr>\n",
       "    <tr>\n",
       "      <th>492</th>\n",
       "      <td>ENSG00000100312</td>\n",
       "      <td>7194</td>\n",
       "      <td>1.229523e-29</td>\n",
       "      <td>22_18918008_G_C</td>\n",
       "      <td>True</td>\n",
       "      <td>8.845186e-26</td>\n",
       "      <td>True</td>\n",
       "      <td>7.405969e-25</td>\n",
       "      <td>True</td>\n",
       "    </tr>\n",
       "    <tr>\n",
       "      <th>493</th>\n",
       "      <td>ENSG00000079974</td>\n",
       "      <td>6965</td>\n",
       "      <td>1.829800e-06</td>\n",
       "      <td>22_19147441_C_T</td>\n",
       "      <td>True</td>\n",
       "      <td>1.274456e-02</td>\n",
       "      <td>True</td>\n",
       "      <td>1.937173e-02</td>\n",
       "      <td>True</td>\n",
       "    </tr>\n",
       "  </tbody>\n",
       "</table>\n",
       "<p>494 rows × 9 columns</p>\n",
       "</div>"
      ],
      "text/plain": [
       "         terget_gene  no_tested_variants        min_pv   min_pv_variant  \\\n",
       "0    ENSG00000100181                1451  4.729347e-09  22_17274624_G_A   \n",
       "1    ENSG00000237438                3031  1.707060e-04  22_17529108_C_T   \n",
       "2    ENSG00000273203                3104  4.205864e-10  22_17581854_G_A   \n",
       "3    ENSG00000273442                3174  1.606470e-04  22_17826030_C_T   \n",
       "4    ENSG00000177663                3364  8.165293e-05  22_17596322_A_G   \n",
       "..               ...                 ...           ...              ...   \n",
       "489  ENSG00000008735                8142  1.206161e-46  22_17222894_A_T   \n",
       "490  ENSG00000100299                7995  1.799452e-28  22_19276864_C_T   \n",
       "491  ENSG00000225929                7208  9.834261e-36  22_17948957_C_G   \n",
       "492  ENSG00000100312                7194  1.229523e-29  22_18918008_G_C   \n",
       "493  ENSG00000079974                6965  1.829800e-06  22_19147441_C_T   \n",
       "\n",
       "     pv_reject         bf_pv  bf_pv_reject         q_val  q_val_reject  \n",
       "0         True  6.862283e-06          True  1.486828e-05          True  \n",
       "1         True  5.174098e-01         False  5.930405e-01         False  \n",
       "2         True  1.305500e-06          True  3.027779e-06          True  \n",
       "3         True  5.098936e-01         False  5.857847e-01         False  \n",
       "4         True  2.746804e-01         False  3.309564e-01         False  \n",
       "..         ...           ...           ...           ...           ...  \n",
       "489       True  9.820567e-43          True  1.732629e-41          True  \n",
       "490       True  1.438662e-24          True  1.110467e-23          True  \n",
       "491       True  7.088536e-32          True  8.337468e-31          True  \n",
       "492       True  8.845186e-26          True  7.405969e-25          True  \n",
       "493       True  1.274456e-02          True  1.937173e-02          True  \n",
       "\n",
       "[494 rows x 9 columns]"
      ]
     },
     "execution_count": 18,
     "metadata": {},
     "output_type": "execute_result"
    }
   ],
   "source": [
    "eqtl_results_df"
   ]
  },
  {
   "cell_type": "markdown",
   "metadata": {},
   "source": [
    "## TODOs\n",
    "\n",
    "- [x] Run on all genes on Chromosome 22\n",
    "- [x] For each gene store: minimum p value, number of variants tested, id of minimum pv variant, gene name\n",
    "- [x] Bonferroni correction per hit: pv_gene = pv * num_cis_variants, np clip to (0,1)\n",
    "- [ ] subset to bonferroni sginifcant hits (pv_gene < 0.05)\n",
    "- [x] benjamini hochberg across tests -> qv\n",
    "- [x] report # of qv < 0.05\n",
    "- [ ] check how many hits you have compared to OneK1K\n",
    "- [x] add gwas to tools\n",
    "- [ ] Figure out how to render several notebooks\n",
    "- [ ] Stretch goal: all cell types"
   ]
  }
 ],
 "metadata": {
  "kernelspec": {
   "display_name": "theislab-combosciplex",
   "language": "python",
   "name": "python3"
  },
  "language_info": {
   "codemirror_mode": {
    "name": "ipython",
    "version": 3
   },
   "file_extension": ".py",
   "mimetype": "text/x-python",
   "name": "python",
   "nbconvert_exporter": "python",
   "pygments_lexer": "ipython3",
   "version": "3.12.5"
  }
 },
 "nbformat": 4,
 "nbformat_minor": 2
}
