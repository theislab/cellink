{
 "cells": [
  {
   "cell_type": "code",
   "execution_count": null,
   "metadata": {},
   "outputs": [],
   "source": [
    "## reinstalling the package\n",
    "! pwd\n",
    "! pip uninstall -y cellink\n",
    "! pip install -q ../../."
   ]
  },
  {
   "cell_type": "code",
   "execution_count": null,
   "metadata": {},
   "outputs": [],
   "source": [
    "## importing libraries\n",
    "import logging\n",
    "import warnings\n",
    "\n",
    "import anndata as ad\n",
    "import pandas as pd\n",
    "\n",
    "from pathlib import Path\n",
    "\n",
    "from cellink.io import read_sgkit_zarr\n",
    "from cellink import DonorData\n",
    "\n",
    "from cellink.tl import EQTLData, EQTLPipeline\n",
    "\n",
    "warnings.filterwarnings(\"ignore\")\n",
    "\n",
    "logger = logging.getLogger(__name__)"
   ]
  },
  {
   "cell_type": "code",
   "execution_count": null,
   "metadata": {},
   "outputs": [],
   "source": [
    "## setting some macro variables\n",
    "DEBUG = True\n",
    "target_cell_type = \"CD4 ET\"\n",
    "target_chrom = \"22\"\n",
    "cis_window = 1_000_000"
   ]
  },
  {
   "cell_type": "code",
   "execution_count": null,
   "metadata": {},
   "outputs": [],
   "source": [
    "## paths\n",
    "DATA = Path(\"/home/lollo/Work/hackathon/data/Yazar_OneK1K\")\n",
    "\n",
    "vcf_file_path = DATA / \"OneK1K_imputation_post_qc_r2_08/filter_vcf_r08/chr22.dose.filtered.R2_0.8.vcf.gz\"\n",
    "\n",
    "zarr_path = vcf_file_path.parent.parent / \"filter_zarr_r08\"\n",
    "zarr_path.mkdir(exist_ok=True)\n",
    "\n",
    "icf_file_path = zarr_path / vcf_file_path.with_suffix(\".icf\").name\n",
    "zarr_file_path = (zarr_path / vcf_file_path.stem).with_suffix(\".vcz\")\n",
    "\n",
    "if DEBUG:\n",
    "    scdata_path = DATA / \"debug_OneK1K_cohort_gene_expression_matrix_14_celltypes.h5ad\"\n",
    "else:\n",
    "    scdata_path = DATA / \"OneK1K_cohort_gene_expression_matrix_14_celltypes.h5ad.gz\"\n",
    "\n",
    "gene_annotation_path = DATA / \"gene_annotation.csv\""
   ]
  },
  {
   "cell_type": "code",
   "execution_count": null,
   "metadata": {},
   "outputs": [],
   "source": [
    "## reading single cell data\n",
    "scdata = ad.read_h5ad(scdata_path)"
   ]
  },
  {
   "cell_type": "code",
   "execution_count": null,
   "metadata": {},
   "outputs": [],
   "source": [
    "## reading annotation data\n",
    "annotation_df = pd.read_csv(gene_annotation_path).loc[\n",
    "    :, [\"ensembl_gene_id\", \"start_position\", \"end_position\", \"chromosome_name\"]\n",
    "]\n",
    "annotation_df = annotation_df.loc[annotation_df.ensembl_gene_id.isin(scdata.var_names)]"
   ]
  },
  {
   "cell_type": "code",
   "execution_count": null,
   "metadata": {},
   "outputs": [],
   "source": [
    "## merging the scdata.var df with the annotations\n",
    "merged_df = pd.merge(scdata.var, annotation_df, left_index=True, right_on=\"ensembl_gene_id\")\n",
    "merged_df = merged_df.rename(\n",
    "    columns={\"ensembl_gene_id\": \"Geneid\", \"start_position\": \"start\", \"end_position\": \"end\", \"chromosome_name\": \"chrom\"}\n",
    ")\n",
    "merged_df.index = merged_df[\"Geneid\"]\n",
    "scdata.var = merged_df"
   ]
  },
  {
   "cell_type": "code",
   "execution_count": null,
   "metadata": {},
   "outputs": [],
   "source": [
    "## reading genetic data\n",
    "gdata = read_sgkit_zarr(zarr_file_path)"
   ]
  },
  {
   "cell_type": "code",
   "execution_count": null,
   "metadata": {},
   "outputs": [],
   "source": [
    "## initializing donor data\n",
    "data = DonorData(adata=scdata, gdata=gdata, donor_key_in_sc_adata=\"individual\")"
   ]
  },
  {
   "cell_type": "code",
   "execution_count": null,
   "metadata": {},
   "outputs": [],
   "source": [
    "## initializing eqtl data\n",
    "eqtl_data = EQTLData(data, n_sc_comps=15, n_genetic_pcs=15)"
   ]
  },
  {
   "cell_type": "code",
   "execution_count": null,
   "metadata": {},
   "outputs": [],
   "source": [
    "## running eqtl pipeline and reporting results on all variants\n",
    "eqtl = EQTLPipeline(\n",
    "    eqtl_data, dump_results=True, file_prefix=\"eqtl_all\", dump_dir=\"/home/lollo/Work/hackathon/out/dumps\"\n",
    ")\n",
    "results_df_all = eqtl.run(target_cell_type, target_chrom)"
   ]
  }
 ],
 "metadata": {
  "kernelspec": {
   "display_name": "theislab-combosciplex",
   "language": "python",
   "name": "python3"
  },
  "language_info": {
   "codemirror_mode": {
    "name": "ipython",
    "version": 3
   },
   "file_extension": ".py",
   "mimetype": "text/x-python",
   "name": "python",
   "nbconvert_exporter": "python",
   "pygments_lexer": "ipython3",
   "version": "3.12.5"
  }
 },
 "nbformat": 4,
 "nbformat_minor": 2
}
