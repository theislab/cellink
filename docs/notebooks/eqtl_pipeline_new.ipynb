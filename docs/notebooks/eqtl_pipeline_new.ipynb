{
 "cells": [
  {
   "cell_type": "code",
   "execution_count": 1,
   "metadata": {},
   "outputs": [
    {
     "name": "stdout",
     "output_type": "stream",
     "text": [
      "/home/lollo/Work/hackathon/code/sc-genetics/docs/notebooks\n",
      "Found existing installation: cellink 0.0.1\n",
      "Uninstalling cellink-0.0.1:\n",
      "  Successfully uninstalled cellink-0.0.1\n"
     ]
    }
   ],
   "source": [
    "## reinstalling the package\n",
    "! pwd\n",
    "! pip uninstall -y cellink\n",
    "! pip install -q ../../."
   ]
  },
  {
   "cell_type": "code",
   "execution_count": 2,
   "metadata": {},
   "outputs": [],
   "source": [
    "## importing libraries\n",
    "import logging\n",
    "import warnings\n",
    "\n",
    "import anndata as ad\n",
    "import scanpy as sc\n",
    "import numpy as np\n",
    "import anndata as an\n",
    "import pandas as pd\n",
    "\n",
    "from tqdm.notebook import tqdm\n",
    "from anndata.utils import asarray\n",
    "from pathlib import Path\n",
    "from statsmodels.stats.multitest import fdrcorrection\n",
    "\n",
    "from cellink.io import read_sgkit_zarr\n",
    "from cellink import DonorData\n",
    "\n",
    "warnings.filterwarnings('ignore')\n",
    "\n",
    "logger = logging.getLogger(__name__)\n",
    "\n",
    "DEBUG = True"
   ]
  },
  {
   "cell_type": "code",
   "execution_count": 3,
   "metadata": {},
   "outputs": [],
   "source": [
    "## paths\n",
    "DATA = Path(\"/home/lollo/Work/hackathon/data/Yazar_OneK1K\")\n",
    "\n",
    "vcf_file_path = DATA / \"OneK1K_imputation_post_qc_r2_08/filter_vcf_r08/chr22.dose.filtered.R2_0.8.vcf.gz\"\n",
    "\n",
    "zarr_path = vcf_file_path.parent.parent / \"filter_zarr_r08\"\n",
    "zarr_path.mkdir(exist_ok=True)\n",
    "\n",
    "icf_file_path = zarr_path / vcf_file_path.with_suffix(\".icf\").name\n",
    "zarr_file_path = (zarr_path / vcf_file_path.stem).with_suffix(\".vcz\")\n",
    "\n",
    "if DEBUG:\n",
    "    scdata_path = DATA / \"debug_OneK1K_cohort_gene_expression_matrix_14_celltypes.h5ad\"\n",
    "else:\n",
    "    scdata_path = DATA / \"OneK1K_cohort_gene_expression_matrix_14_celltypes.h5ad.gz\"\n",
    "\n",
    "gene_annotation_path = DATA / \"gene_annotation.csv\""
   ]
  },
  {
   "cell_type": "code",
   "execution_count": 4,
   "metadata": {},
   "outputs": [],
   "source": [
    "## reading single cell data\n",
    "scdata = ad.read_h5ad(scdata_path)"
   ]
  },
  {
   "cell_type": "code",
   "execution_count": 5,
   "metadata": {},
   "outputs": [],
   "source": [
    "## reading annotation data\n",
    "annotation_df = pd.read_csv(gene_annotation_path).loc[:, [\"ensembl_gene_id\", \"start_position\", \"end_position\", \"chromosome_name\"]]\n",
    "annotation_df = annotation_df.loc[annotation_df.ensembl_gene_id.isin(scdata.var_names)] "
   ]
  },
  {
   "cell_type": "code",
   "execution_count": 6,
   "metadata": {},
   "outputs": [],
   "source": [
    "## merging the scdata.var df with the annotations\n",
    "merged_df = pd.merge(scdata.var, annotation_df, left_index=True, right_on=\"ensembl_gene_id\")\n",
    "merged_df = merged_df.rename(columns = {\"ensembl_gene_id\": \"Geneid\", \"start_position\": \"start\", \"end_position\": \"end\", \"chromosome_name\": \"chrom\"})\n",
    "merged_df.index = merged_df[\"Geneid\"]\n",
    "scdata.var = merged_df"
   ]
  },
  {
   "cell_type": "code",
   "execution_count": 7,
   "metadata": {},
   "outputs": [],
   "source": [
    "## reading genetic data\n",
    "gdata = read_sgkit_zarr(zarr_file_path)"
   ]
  },
  {
   "cell_type": "code",
   "execution_count": 8,
   "metadata": {},
   "outputs": [
    {
     "name": "stdout",
     "output_type": "stream",
     "text": [
      "[2024-11-02 18:42:50,516] INFO:cellink._core.donordata: Keeping 20/1034 donors\n",
      "[2024-11-02 18:42:50,516] INFO:cellink._core.donordata: Dropping 1014/1034 donors from genetic data\n",
      "[2024-11-02 18:42:50,517] INFO:cellink._core.donordata: Dropping 0/20 donors from single-cell data\n"
     ]
    },
    {
     "data": {
      "text/html": [
       "<pre style=\"white-space:pre;overflow-x:auto;line-height:normal;font-family:Menlo,'DejaVu Sans Mono',consolas,'Courier New',monospace\">┏━━━━━━━━━━━━━━━━━━━━━━━━━━━━━━━━━━━━━━━━━━━━━━━━━━━━━━━━┳━━━━━━━━━━━━━━━━━━━━━━━━━━━━━━━━━━━━━━━━━━━━━━━━━━━━━━━━┓\n",
       "┃<span style=\"color: #800080; text-decoration-color: #800080; font-weight: bold\"> Cells (adata)                                          </span>┃<span style=\"color: #800080; text-decoration-color: #800080; font-weight: bold\"> Donors (gdata)                                         </span>┃\n",
       "┡━━━━━━━━━━━━━━━━━━━━━━━━━━━━━━━━━━━━━━━━━━━━━━━━━━━━━━━━╇━━━━━━━━━━━━━━━━━━━━━━━━━━━━━━━━━━━━━━━━━━━━━━━━━━━━━━━━┩\n",
       "│ View of AnnData object with n_obs × n_vars = 25908 ×   │ View of AnnData object with n_obs × n_vars = 20 ×      │\n",
       "│ 32738                                                  │ 143083                                                 │\n",
       "│     obs: 'orig.ident', 'nCount_RNA', 'nFeature_RNA',   │     var: 'chrom', 'pos', 'a0', 'a1', 'AF', 'ER2',      │\n",
       "│ 'pool', '<span style=\"color: #000080; text-decoration-color: #000080; font-weight: bold; text-decoration: underline\">individual</span>', 'percent.mt', 'latent',          │ 'maf', 'R2', 'contig', 'id', 'id_mask', 'quality'      │\n",
       "│ 'nCount_SCT', 'nFeature_SCT', 'cell_type',             │                                                        │\n",
       "│ 'cell_label', 'sex', 'age'                             │                                                        │\n",
       "│     var: 'GeneSymbol', 'features', 'Geneid', 'start',  │     varm: 'filter'                                     │\n",
       "│ 'end', 'chrom'                                         │                                                        │\n",
       "└────────────────────────────────────────────────────────┴────────────────────────────────────────────────────────┘\n",
       "</pre>\n"
      ],
      "text/plain": [
       "┏━━━━━━━━━━━━━━━━━━━━━━━━━━━━━━━━━━━━━━━━━━━━━━━━━━━━━━━━┳━━━━━━━━━━━━━━━━━━━━━━━━━━━━━━━━━━━━━━━━━━━━━━━━━━━━━━━━┓\n",
       "┃\u001b[1;35m \u001b[0m\u001b[1;35mCells (adata)                                         \u001b[0m\u001b[1;35m \u001b[0m┃\u001b[1;35m \u001b[0m\u001b[1;35mDonors (gdata)                                        \u001b[0m\u001b[1;35m \u001b[0m┃\n",
       "┡━━━━━━━━━━━━━━━━━━━━━━━━━━━━━━━━━━━━━━━━━━━━━━━━━━━━━━━━╇━━━━━━━━━━━━━━━━━━━━━━━━━━━━━━━━━━━━━━━━━━━━━━━━━━━━━━━━┩\n",
       "│ View of AnnData object with n_obs × n_vars = 25908 ×   │ View of AnnData object with n_obs × n_vars = 20 ×      │\n",
       "│ 32738                                                  │ 143083                                                 │\n",
       "│     obs: 'orig.ident', 'nCount_RNA', 'nFeature_RNA',   │     var: 'chrom', 'pos', 'a0', 'a1', 'AF', 'ER2',      │\n",
       "│ 'pool', '\u001b[1;4;34mindividual\u001b[0m', 'percent.mt', 'latent',          │ 'maf', 'R2', 'contig', 'id', 'id_mask', 'quality'      │\n",
       "│ 'nCount_SCT', 'nFeature_SCT', 'cell_type',             │                                                        │\n",
       "│ 'cell_label', 'sex', 'age'                             │                                                        │\n",
       "│     var: 'GeneSymbol', 'features', 'Geneid', 'start',  │     varm: 'filter'                                     │\n",
       "│ 'end', 'chrom'                                         │                                                        │\n",
       "└────────────────────────────────────────────────────────┴────────────────────────────────────────────────────────┘\n"
      ]
     },
     "metadata": {},
     "output_type": "display_data"
    },
    {
     "data": {
      "text/plain": []
     },
     "execution_count": 8,
     "metadata": {},
     "output_type": "execute_result"
    }
   ],
   "source": [
    "## initializing donor data\n",
    "data = DonorData(adata=scdata, gdata=gdata, donor_key_in_sc_adata=\"individual\")\n",
    "data"
   ]
  },
  {
   "cell_type": "code",
   "execution_count": 9,
   "metadata": {},
   "outputs": [
    {
     "name": "stdout",
     "output_type": "stream",
     "text": [
      "[2024-11-02 18:42:50,571] INFO:cellink._core.donordata: Keeping 20/20 donors\n",
      "[2024-11-02 18:42:50,571] INFO:cellink._core.donordata: Dropping 0/20 donors from genetic data\n",
      "[2024-11-02 18:42:50,572] INFO:cellink._core.donordata: Dropping 0/20 donors from single-cell data\n",
      "[2024-11-02 18:42:50,604] INFO:cellink._core.donordata: Keeping 20/20 donors\n",
      "[2024-11-02 18:42:50,604] INFO:cellink._core.donordata: Dropping 0/20 donors from genetic data\n",
      "[2024-11-02 18:42:50,605] INFO:cellink._core.donordata: Dropping 0/20 donors from single-cell data\n"
     ]
    },
    {
     "data": {
      "text/plain": [
       "(16, 45)"
      ]
     },
     "execution_count": 9,
     "metadata": {},
     "output_type": "execute_result"
    }
   ],
   "source": [
    "from cellink.tl import EQTLData, EQTLPipeline\n",
    "eqtl_data = EQTLData(data, _n_sc_comps=15)\n",
    "# pb_data = eqtl_data.get_pb_data(cell_type, target_chromosome)\n",
    "target_cell_type = \"CD4 ET\"\n",
    "target_chrom = \"22\"\n",
    "cis_window = 1_000_000\n",
    "\n",
    "pb_data = eqtl_data.get_pb_data(target_cell_type, target_chrom)\n",
    "target_gene = pb_data.adata.var_names[0]\n",
    "\n",
    "eqtl = EQTLPipeline(eqtl_data, _dump_results=True, _dump_dir=\"/home/lollo/Work/hackathon/out/dumps\")\n",
    "results_df_all = eqtl.run(target_cell_type, target_chrom, cis_window)\n",
    "(len(eqtl.target_cell_types), len(eqtl.target_chroms))"
   ]
  },
  {
   "cell_type": "code",
   "execution_count": 10,
   "metadata": {},
   "outputs": [
    {
     "name": "stdout",
     "output_type": "stream",
     "text": [
      "[2024-11-02 18:43:57,774] INFO:cellink._core.donordata: Keeping 20/20 donors\n",
      "[2024-11-02 18:43:57,774] INFO:cellink._core.donordata: Dropping 0/20 donors from genetic data\n",
      "[2024-11-02 18:43:57,775] INFO:cellink._core.donordata: Dropping 0/20 donors from single-cell data\n",
      "[2024-11-02 18:43:57,810] INFO:cellink._core.donordata: Keeping 20/20 donors\n",
      "[2024-11-02 18:43:57,811] INFO:cellink._core.donordata: Dropping 0/20 donors from genetic data\n",
      "[2024-11-02 18:43:57,811] INFO:cellink._core.donordata: Dropping 0/20 donors from single-cell data\n"
     ]
    },
    {
     "data": {
      "text/plain": [
       "(16, 45)"
      ]
     },
     "execution_count": 10,
     "metadata": {},
     "output_type": "execute_result"
    }
   ],
   "source": [
    "from cellink.tl import EQTLData, EQTLPipeline\n",
    "eqtl_data = EQTLData(data, _n_sc_comps=15)\n",
    "# pb_data = eqtl_data.get_pb_data(cell_type, target_chromosome)\n",
    "target_cell_type = \"CD4 ET\"\n",
    "target_chrom = \"22\"\n",
    "cis_window = 1_000_000\n",
    "\n",
    "pb_data = eqtl_data.get_pb_data(target_cell_type, target_chrom)\n",
    "target_gene = pb_data.adata.var_names[0]\n",
    "\n",
    "eqtl = EQTLPipeline(eqtl_data, _mode=\"best\")\n",
    "results_df_best = eqtl.run(target_cell_type, target_chrom, cis_window)\n",
    "(len(eqtl.target_cell_types), len(eqtl.target_chroms))"
   ]
  },
  {
   "cell_type": "code",
   "execution_count": 11,
   "metadata": {},
   "outputs": [
    {
     "data": {
      "text/html": [
       "<div>\n",
       "<style scoped>\n",
       "    .dataframe tbody tr th:only-of-type {\n",
       "        vertical-align: middle;\n",
       "    }\n",
       "\n",
       "    .dataframe tbody tr th {\n",
       "        vertical-align: top;\n",
       "    }\n",
       "\n",
       "    .dataframe thead th {\n",
       "        text-align: right;\n",
       "    }\n",
       "</style>\n",
       "<table border=\"1\" class=\"dataframe\">\n",
       "  <thead>\n",
       "    <tr style=\"text-align: right;\">\n",
       "      <th></th>\n",
       "      <th>cell_type</th>\n",
       "      <th>chrom</th>\n",
       "      <th>gene</th>\n",
       "      <th>no_tested_variants</th>\n",
       "      <th>min_pv</th>\n",
       "      <th>min_pv_variant</th>\n",
       "      <th>min_pv_variant_beta</th>\n",
       "      <th>min_pv_variant_beta_ste</th>\n",
       "      <th>min_pv_variant_lrt</th>\n",
       "    </tr>\n",
       "  </thead>\n",
       "  <tbody>\n",
       "    <tr>\n",
       "      <th>0</th>\n",
       "      <td>CD4 ET</td>\n",
       "      <td>22</td>\n",
       "      <td>ENSG00000177663</td>\n",
       "      <td>5697</td>\n",
       "      <td>3.020206e-07</td>\n",
       "      <td>22_17677104_G_A</td>\n",
       "      <td>-2.268750</td>\n",
       "      <td>0.442927</td>\n",
       "      <td>26.236745</td>\n",
       "    </tr>\n",
       "    <tr>\n",
       "      <th>1</th>\n",
       "      <td>CD4 ET</td>\n",
       "      <td>22</td>\n",
       "      <td>ENSG00000069998</td>\n",
       "      <td>5889</td>\n",
       "      <td>2.495242e-07</td>\n",
       "      <td>22_17600148_A_G</td>\n",
       "      <td>-4.039844</td>\n",
       "      <td>0.783210</td>\n",
       "      <td>26.605563</td>\n",
       "    </tr>\n",
       "    <tr>\n",
       "      <th>2</th>\n",
       "      <td>CD4 ET</td>\n",
       "      <td>22</td>\n",
       "      <td>ENSG00000093072</td>\n",
       "      <td>5898</td>\n",
       "      <td>3.203543e-10</td>\n",
       "      <td>22_17678455_C_T</td>\n",
       "      <td>12.243714</td>\n",
       "      <td>1.946972</td>\n",
       "      <td>39.546413</td>\n",
       "    </tr>\n",
       "    <tr>\n",
       "      <th>3</th>\n",
       "      <td>CD4 ET</td>\n",
       "      <td>22</td>\n",
       "      <td>ENSG00000131100</td>\n",
       "      <td>6755</td>\n",
       "      <td>4.061946e-08</td>\n",
       "      <td>22_18100656_A_T</td>\n",
       "      <td>6.847204</td>\n",
       "      <td>1.247637</td>\n",
       "      <td>30.119650</td>\n",
       "    </tr>\n",
       "    <tr>\n",
       "      <th>4</th>\n",
       "      <td>CD4 ET</td>\n",
       "      <td>22</td>\n",
       "      <td>ENSG00000099968</td>\n",
       "      <td>7182</td>\n",
       "      <td>3.296931e-08</td>\n",
       "      <td>22_18293072_G_A</td>\n",
       "      <td>5.776428</td>\n",
       "      <td>1.045528</td>\n",
       "      <td>30.524404</td>\n",
       "    </tr>\n",
       "    <tr>\n",
       "      <th>...</th>\n",
       "      <td>...</td>\n",
       "      <td>...</td>\n",
       "      <td>...</td>\n",
       "      <td>...</td>\n",
       "      <td>...</td>\n",
       "      <td>...</td>\n",
       "      <td>...</td>\n",
       "      <td>...</td>\n",
       "      <td>...</td>\n",
       "    </tr>\n",
       "    <tr>\n",
       "      <th>231</th>\n",
       "      <td>CD4 ET</td>\n",
       "      <td>22</td>\n",
       "      <td>ENSG00000177989</td>\n",
       "      <td>5817</td>\n",
       "      <td>1.289361e-06</td>\n",
       "      <td>22_17951460_A_G</td>\n",
       "      <td>3.198093</td>\n",
       "      <td>0.660574</td>\n",
       "      <td>23.439027</td>\n",
       "    </tr>\n",
       "    <tr>\n",
       "      <th>232</th>\n",
       "      <td>CD4 ET</td>\n",
       "      <td>22</td>\n",
       "      <td>ENSG00000130487</td>\n",
       "      <td>5735</td>\n",
       "      <td>7.491574e-08</td>\n",
       "      <td>22_17943600_G_C</td>\n",
       "      <td>-2.463927</td>\n",
       "      <td>0.458067</td>\n",
       "      <td>28.933252</td>\n",
       "    </tr>\n",
       "    <tr>\n",
       "      <th>233</th>\n",
       "      <td>CD4 ET</td>\n",
       "      <td>22</td>\n",
       "      <td>ENSG00000100288</td>\n",
       "      <td>5586</td>\n",
       "      <td>1.939023e-08</td>\n",
       "      <td>22_17673438_T_C</td>\n",
       "      <td>-11.666548</td>\n",
       "      <td>2.076876</td>\n",
       "      <td>31.554682</td>\n",
       "    </tr>\n",
       "    <tr>\n",
       "      <th>234</th>\n",
       "      <td>CD4 ET</td>\n",
       "      <td>22</td>\n",
       "      <td>ENSG00000100299</td>\n",
       "      <td>5350</td>\n",
       "      <td>2.470096e-06</td>\n",
       "      <td>22_17407061_T_A</td>\n",
       "      <td>-3.675625</td>\n",
       "      <td>0.780291</td>\n",
       "      <td>22.189589</td>\n",
       "    </tr>\n",
       "    <tr>\n",
       "      <th>235</th>\n",
       "      <td>CD4 ET</td>\n",
       "      <td>22</td>\n",
       "      <td>ENSG00000079974</td>\n",
       "      <td>4618</td>\n",
       "      <td>5.049398e-06</td>\n",
       "      <td>22_18204051_G_A</td>\n",
       "      <td>4.141629</td>\n",
       "      <td>0.907709</td>\n",
       "      <td>20.818458</td>\n",
       "    </tr>\n",
       "  </tbody>\n",
       "</table>\n",
       "<p>236 rows × 9 columns</p>\n",
       "</div>"
      ],
      "text/plain": [
       "    cell_type chrom             gene  no_tested_variants        min_pv  \\\n",
       "0      CD4 ET    22  ENSG00000177663                5697  3.020206e-07   \n",
       "1      CD4 ET    22  ENSG00000069998                5889  2.495242e-07   \n",
       "2      CD4 ET    22  ENSG00000093072                5898  3.203543e-10   \n",
       "3      CD4 ET    22  ENSG00000131100                6755  4.061946e-08   \n",
       "4      CD4 ET    22  ENSG00000099968                7182  3.296931e-08   \n",
       "..        ...   ...              ...                 ...           ...   \n",
       "231    CD4 ET    22  ENSG00000177989                5817  1.289361e-06   \n",
       "232    CD4 ET    22  ENSG00000130487                5735  7.491574e-08   \n",
       "233    CD4 ET    22  ENSG00000100288                5586  1.939023e-08   \n",
       "234    CD4 ET    22  ENSG00000100299                5350  2.470096e-06   \n",
       "235    CD4 ET    22  ENSG00000079974                4618  5.049398e-06   \n",
       "\n",
       "      min_pv_variant  min_pv_variant_beta  min_pv_variant_beta_ste  \\\n",
       "0    22_17677104_G_A            -2.268750                 0.442927   \n",
       "1    22_17600148_A_G            -4.039844                 0.783210   \n",
       "2    22_17678455_C_T            12.243714                 1.946972   \n",
       "3    22_18100656_A_T             6.847204                 1.247637   \n",
       "4    22_18293072_G_A             5.776428                 1.045528   \n",
       "..               ...                  ...                      ...   \n",
       "231  22_17951460_A_G             3.198093                 0.660574   \n",
       "232  22_17943600_G_C            -2.463927                 0.458067   \n",
       "233  22_17673438_T_C           -11.666548                 2.076876   \n",
       "234  22_17407061_T_A            -3.675625                 0.780291   \n",
       "235  22_18204051_G_A             4.141629                 0.907709   \n",
       "\n",
       "     min_pv_variant_lrt  \n",
       "0             26.236745  \n",
       "1             26.605563  \n",
       "2             39.546413  \n",
       "3             30.119650  \n",
       "4             30.524404  \n",
       "..                  ...  \n",
       "231           23.439027  \n",
       "232           28.933252  \n",
       "233           31.554682  \n",
       "234           22.189589  \n",
       "235           20.818458  \n",
       "\n",
       "[236 rows x 9 columns]"
      ]
     },
     "execution_count": 11,
     "metadata": {},
     "output_type": "execute_result"
    }
   ],
   "source": [
    "results_df_best"
   ]
  },
  {
   "cell_type": "code",
   "execution_count": 12,
   "metadata": {},
   "outputs": [
    {
     "ename": "NameError",
     "evalue": "name 's' is not defined",
     "output_type": "error",
     "traceback": [
      "\u001b[0;31m---------------------------------------------------------------------------\u001b[0m",
      "\u001b[0;31mNameError\u001b[0m                                 Traceback (most recent call last)",
      "Cell \u001b[0;32mIn[12], line 1\u001b[0m\n\u001b[0;32m----> 1\u001b[0m \u001b[43ms\u001b[49m\n\u001b[1;32m      2\u001b[0m target_chrom \u001b[38;5;241m=\u001b[39m \u001b[38;5;124m\"\u001b[39m\u001b[38;5;124m22\u001b[39m\u001b[38;5;124m\"\u001b[39m\n\u001b[1;32m      3\u001b[0m cis_window \u001b[38;5;241m=\u001b[39m \u001b[38;5;241m1_000_000\u001b[39m\n",
      "\u001b[0;31mNameError\u001b[0m: name 's' is not defined"
     ]
    }
   ],
   "source": [
    "s\n",
    "target_chrom = \"22\"\n",
    "cis_window = 1_000_000\n",
    "\n",
    "pb_data = eqtl_data.get_pb_data(target_cell_type, target_chrom)\n",
    "target_gene = pb_data.adata.var_names[0]\n",
    "\n",
    "eqtl = EQTLPipeline(eqtl_data)\n",
    "gwas, no_tested_variants = eqtl._run_gwas(pb_data, target_gene, target_chrom, cis_window)\n",
    "\n",
    "pvs = np.squeeze(gwas.getPv())\n",
    "betasnp = np.squeeze(gwas.getBetaSNP())\n",
    "betasnp_ste = np.squeeze(gwas.getBetaSNPste())\n",
    "lrts = np.squeeze(gwas.getLRT())\n",
    "pvs[np.isnan(pvs)] = 1\n",
    "betasnp[np.isnan(betasnp)] = 0\n",
    "betasnp_ste[np.isnan(betasnp_ste)] = 0\n",
    "lrts[np.isnan(lrts)] = 0\n",
    "\n",
    "print(f\"{pvs.mean()=}, {betasnp.mean()=}, {betasnp_ste.mean()=}, {lrts.mean()=}\")\n",
    "print(f\"{pvs.std()=}, {betasnp.std()=}, {betasnp_ste.std()=}, {lrts.std()=}\")"
   ]
  }
 ],
 "metadata": {
  "kernelspec": {
   "display_name": "theislab-combosciplex",
   "language": "python",
   "name": "python3"
  },
  "language_info": {
   "codemirror_mode": {
    "name": "ipython",
    "version": 3
   },
   "file_extension": ".py",
   "mimetype": "text/x-python",
   "name": "python",
   "nbconvert_exporter": "python",
   "pygments_lexer": "ipython3",
   "version": "3.12.5"
  }
 },
 "nbformat": 4,
 "nbformat_minor": 2
}
