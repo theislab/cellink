{
 "cells": [
  {
   "cell_type": "code",
   "execution_count": 1,
   "metadata": {},
   "outputs": [
    {
     "name": "stdout",
     "output_type": "stream",
     "text": [
      "/home/lollo/Work/hackathon/code/sc-genetics/docs/notebooks\n",
      "Found existing installation: cellink 0.0.1\n",
      "Uninstalling cellink-0.0.1:\n",
      "  Successfully uninstalled cellink-0.0.1\n"
     ]
    }
   ],
   "source": [
    "## reinstalling the package\n",
    "! pwd\n",
    "! pip uninstall -y cellink\n",
    "! pip install -q ../../."
   ]
  },
  {
   "cell_type": "code",
   "execution_count": 2,
   "metadata": {},
   "outputs": [],
   "source": [
    "## importing libraries\n",
    "import logging\n",
    "import warnings\n",
    "\n",
    "import anndata as ad\n",
    "import scanpy as sc\n",
    "import numpy as np\n",
    "import pandas as pd\n",
    "\n",
    "from anndata.utils import asarray\n",
    "from pathlib import Path\n",
    "\n",
    "from cellink.io import read_sgkit_zarr\n",
    "from cellink import DonorData\n",
    "\n",
    "warnings.filterwarnings(\"ignore\")\n",
    "\n",
    "logger = logging.getLogger(__name__)"
   ]
  },
  {
   "cell_type": "code",
   "execution_count": 3,
   "metadata": {},
   "outputs": [],
   "source": [
    "DEBUG = True"
   ]
  },
  {
   "cell_type": "code",
   "execution_count": 4,
   "metadata": {},
   "outputs": [],
   "source": [
    "## paths\n",
    "DATA = Path(\"/home/lollo/Work/hackathon/data/Yazar_OneK1K\")\n",
    "\n",
    "vcf_file_path = DATA / \"OneK1K_imputation_post_qc_r2_08/filter_vcf_r08/chr22.dose.filtered.R2_0.8.vcf.gz\"\n",
    "\n",
    "zarr_path = vcf_file_path.parent.parent / \"filter_zarr_r08\"\n",
    "zarr_path.mkdir(exist_ok=True)\n",
    "\n",
    "icf_file_path = zarr_path / vcf_file_path.with_suffix(\".icf\").name\n",
    "zarr_file_path = (zarr_path / vcf_file_path.stem).with_suffix(\".vcz\")\n",
    "\n",
    "if DEBUG:\n",
    "    scdata_path = DATA / \"debug_OneK1K_cohort_gene_expression_matrix_14_celltypes.h5ad\"\n",
    "else:\n",
    "    scdata_path = DATA / \"OneK1K_cohort_gene_expression_matrix_14_celltypes.h5ad.gz\"\n",
    "\n",
    "gene_annotation_path = DATA / \"gene_annotation.csv\""
   ]
  },
  {
   "cell_type": "code",
   "execution_count": 5,
   "metadata": {},
   "outputs": [],
   "source": [
    "## reading single cell data\n",
    "scdata = ad.read_h5ad(scdata_path)"
   ]
  },
  {
   "cell_type": "code",
   "execution_count": 6,
   "metadata": {},
   "outputs": [],
   "source": [
    "## reading annotation data\n",
    "annotation_df = pd.read_csv(gene_annotation_path).loc[\n",
    "    :, [\"ensembl_gene_id\", \"start_position\", \"end_position\", \"chromosome_name\"]\n",
    "]\n",
    "annotation_df = annotation_df.loc[annotation_df.ensembl_gene_id.isin(scdata.var_names)]"
   ]
  },
  {
   "cell_type": "code",
   "execution_count": 7,
   "metadata": {},
   "outputs": [],
   "source": [
    "## merging the scdata.var df with the annotations\n",
    "merged_df = pd.merge(scdata.var, annotation_df, left_index=True, right_on=\"ensembl_gene_id\")\n",
    "merged_df = merged_df.rename(\n",
    "    columns={\"ensembl_gene_id\": \"Geneid\", \"start_position\": \"start\", \"end_position\": \"end\", \"chromosome_name\": \"chrom\"}\n",
    ")\n",
    "merged_df.index = merged_df[\"Geneid\"]\n",
    "scdata.var = merged_df"
   ]
  },
  {
   "cell_type": "code",
   "execution_count": 8,
   "metadata": {},
   "outputs": [],
   "source": [
    "## reading genetic data\n",
    "gdata = read_sgkit_zarr(zarr_file_path)"
   ]
  },
  {
   "cell_type": "code",
   "execution_count": 9,
   "metadata": {},
   "outputs": [
    {
     "name": "stdout",
     "output_type": "stream",
     "text": [
      "[2024-11-02 13:00:10,953] INFO:cellink._core.donordata: Keeping 20/1034 donors\n",
      "[2024-11-02 13:00:10,954] INFO:cellink._core.donordata: Dropping 1014/1034 donors from genetic data\n",
      "[2024-11-02 13:00:10,954] INFO:cellink._core.donordata: Dropping 0/20 donors from single-cell data\n"
     ]
    },
    {
     "data": {
      "text/html": [
       "<pre style=\"white-space:pre;overflow-x:auto;line-height:normal;font-family:Menlo,'DejaVu Sans Mono',consolas,'Courier New',monospace\">┏━━━━━━━━━━━━━━━━━━━━━━━━━━━━━━━━━━━━━━━━━━━━━━━━━━━━━━━━┳━━━━━━━━━━━━━━━━━━━━━━━━━━━━━━━━━━━━━━━━━━━━━━━━━━━━━━━━┓\n",
       "┃<span style=\"color: #800080; text-decoration-color: #800080; font-weight: bold\"> Cells (adata)                                          </span>┃<span style=\"color: #800080; text-decoration-color: #800080; font-weight: bold\"> Donors (gdata)                                         </span>┃\n",
       "┡━━━━━━━━━━━━━━━━━━━━━━━━━━━━━━━━━━━━━━━━━━━━━━━━━━━━━━━━╇━━━━━━━━━━━━━━━━━━━━━━━━━━━━━━━━━━━━━━━━━━━━━━━━━━━━━━━━┩\n",
       "│ View of AnnData object with n_obs × n_vars = 25908 ×   │ View of AnnData object with n_obs × n_vars = 20 ×      │\n",
       "│ 32738                                                  │ 143083                                                 │\n",
       "│     obs: 'orig.ident', 'nCount_RNA', 'nFeature_RNA',   │     var: 'chrom', 'pos', 'a0', 'a1', 'AF', 'ER2',      │\n",
       "│ 'pool', '<span style=\"color: #000080; text-decoration-color: #000080; font-weight: bold; text-decoration: underline\">individual</span>', 'percent.mt', 'latent',          │ 'maf', 'R2', 'contig', 'id', 'id_mask', 'quality'      │\n",
       "│ 'nCount_SCT', 'nFeature_SCT', 'cell_type',             │                                                        │\n",
       "│ 'cell_label', 'sex', 'age'                             │                                                        │\n",
       "│     var: 'GeneSymbol', 'features', 'Geneid', 'start',  │     varm: 'filter'                                     │\n",
       "│ 'end', 'chrom'                                         │                                                        │\n",
       "└────────────────────────────────────────────────────────┴────────────────────────────────────────────────────────┘\n",
       "</pre>\n"
      ],
      "text/plain": [
       "┏━━━━━━━━━━━━━━━━━━━━━━━━━━━━━━━━━━━━━━━━━━━━━━━━━━━━━━━━┳━━━━━━━━━━━━━━━━━━━━━━━━━━━━━━━━━━━━━━━━━━━━━━━━━━━━━━━━┓\n",
       "┃\u001b[1;35m \u001b[0m\u001b[1;35mCells (adata)                                         \u001b[0m\u001b[1;35m \u001b[0m┃\u001b[1;35m \u001b[0m\u001b[1;35mDonors (gdata)                                        \u001b[0m\u001b[1;35m \u001b[0m┃\n",
       "┡━━━━━━━━━━━━━━━━━━━━━━━━━━━━━━━━━━━━━━━━━━━━━━━━━━━━━━━━╇━━━━━━━━━━━━━━━━━━━━━━━━━━━━━━━━━━━━━━━━━━━━━━━━━━━━━━━━┩\n",
       "│ View of AnnData object with n_obs × n_vars = 25908 ×   │ View of AnnData object with n_obs × n_vars = 20 ×      │\n",
       "│ 32738                                                  │ 143083                                                 │\n",
       "│     obs: 'orig.ident', 'nCount_RNA', 'nFeature_RNA',   │     var: 'chrom', 'pos', 'a0', 'a1', 'AF', 'ER2',      │\n",
       "│ 'pool', '\u001b[1;4;34mindividual\u001b[0m', 'percent.mt', 'latent',          │ 'maf', 'R2', 'contig', 'id', 'id_mask', 'quality'      │\n",
       "│ 'nCount_SCT', 'nFeature_SCT', 'cell_type',             │                                                        │\n",
       "│ 'cell_label', 'sex', 'age'                             │                                                        │\n",
       "│     var: 'GeneSymbol', 'features', 'Geneid', 'start',  │     varm: 'filter'                                     │\n",
       "│ 'end', 'chrom'                                         │                                                        │\n",
       "└────────────────────────────────────────────────────────┴────────────────────────────────────────────────────────┘\n"
      ]
     },
     "metadata": {},
     "output_type": "display_data"
    },
    {
     "data": {
      "text/plain": []
     },
     "execution_count": 9,
     "metadata": {},
     "output_type": "execute_result"
    }
   ],
   "source": [
    "## initializing donor data\n",
    "data = DonorData(adata=scdata, gdata=gdata, donor_key_in_sc_adata=\"individual\")\n",
    "data"
   ]
  },
  {
   "cell_type": "code",
   "execution_count": 36,
   "metadata": {},
   "outputs": [],
   "source": [
    "from sklearn.preprocessing import StandardScaler\n",
    "from dataclasses import dataclass\n",
    "\n",
    "\n",
    "@dataclass\n",
    "class EQTLData:\n",
    "    \"\"\"\"\"\"\n",
    "\n",
    "    _donor_data: DonorData\n",
    "    # _data_root: str\n",
    "    # _gen_pc_path: str\n",
    "    _n_sc_comps: int = 500\n",
    "    # _n_genetic_pcs: int = 500\n",
    "    _individual_key_in_scdata: str = \"individual\"\n",
    "    _sex_key_in_scdata_obs: str = \"sex\"\n",
    "    _age_key_in_scdata_obs: str = \"age\"\n",
    "    _pseudobulk_aggregation_type: str = \"mean\"\n",
    "    _n_top_genes: int = 5000\n",
    "    _min_individuals_threshold: int = 10\n",
    "    _donor_key_in_sc_adata: str = \"individual\"\n",
    "\n",
    "    @staticmethod\n",
    "    def _column_normalize(X):\n",
    "        \"\"\"\"\"\"\n",
    "        assert X.ndim == 2\n",
    "        return (X - X.mean(0)) / (X.std(0) * np.sqrt(X.shape[1]))\n",
    "\n",
    "    def _filter_cells_by_type(self, scdata, cell_type):\n",
    "        \"\"\"\"\"\"\n",
    "        scdata_cell = scdata[scdata.obs.cell_label == cell_type]\n",
    "        return scdata_cell\n",
    "\n",
    "    def _filter_genes_by_chromosome(self, scdata_cell, target_chromosome):\n",
    "        \"\"\"\"\"\"\n",
    "        scdata_cell = scdata_cell[:, scdata_cell.var[\"chrom\"] == target_chromosome]\n",
    "        return scdata_cell\n",
    "\n",
    "    def _map_col_scdata_obs_to_pbdata(self, pbdata, column):\n",
    "        \"\"\"\"\"\"\n",
    "        ## mapping over the individuals\n",
    "        individuals = pbdata.obs[self._donor_key_in_sc_adata]\n",
    "        reference_data = self.scdata.obs[[self._donor_key_in_sc_adata, column]]\n",
    "        reference_data = reference_data.groupby(self._donor_key_in_sc_adata).agg([\"unique\"])\n",
    "\n",
    "        ## function for making sure the values are unique\n",
    "        def retrieve_unique_value_safe(row):\n",
    "            assert len(row) == 1\n",
    "            return row[0]\n",
    "\n",
    "        ## retrieving the unique values for each donor\n",
    "        reference_data[column] = reference_data[column].map(retrieve_unique_value_safe)\n",
    "        ## merging the data and updating column names\n",
    "        pbdata.obs = pd.merge(pbdata.obs, reference_data[column], left_on=self._donor_key_in_sc_adata, right_index=True)\n",
    "        pbdata.obs[column] = pbdata.obs[\"unique\"]\n",
    "        pbdata.obs = pbdata.obs.drop(columns=[\"unique\"], axis=1)\n",
    "        return pbdata\n",
    "\n",
    "    def _pseudobulk_scdata(self, scdata_cell):\n",
    "        \"\"\"\"\"\"\n",
    "        ## aggregating the data\n",
    "        pbdata = sc.get.aggregate(\n",
    "            scdata_cell,\n",
    "            self._individual_key_in_scdata,\n",
    "            self._pseudobulk_aggregation_type,\n",
    "        )\n",
    "        ## storing data lost in the aggregation\n",
    "        pbdata.X = pbdata.layers[\"mean\"]\n",
    "        pbdata = self._map_col_scdata_obs_to_pbdata(pbdata, self._sex_key_in_scdata_obs)\n",
    "        pbdata = self._map_col_scdata_obs_to_pbdata(pbdata, self._age_key_in_scdata_obs)\n",
    "        return pbdata\n",
    "\n",
    "    def _register_fixed_effects(self, pbdata):\n",
    "        \"\"\"\"\"\"\n",
    "        ## compute expression PCs\n",
    "        sc.pp.highly_variable_genes(pbdata, n_top_genes=self._n_top_genes)\n",
    "        sc.tl.pca(pbdata, use_highly_variable=True, n_comps=self._n_sc_comps)\n",
    "        pbdata.obsm[\"E_dpc\"] = self._column_normalize(pbdata.obsm[\"X_pca\"])\n",
    "        ## load genetic PCs\n",
    "        # gen_pcs = pd.read_csv(self._data_root / self._gen_pc_path, sep=\" \", header=None, index_col=1).drop(columns=[0])\n",
    "        # gen_pcs = gen_pcs.loc[self._donor_data.adata.obs.index, :].iloc[:, :self._n_genetic_pcs].values\n",
    "        ## load patient covariates\n",
    "        sex_one_hot = np.eye(2)[(pbdata.obs[self._sex_key_in_scdata_obs].values - 1)]\n",
    "        age_standardized = StandardScaler().fit_transform(pbdata.obs[self._age_key_in_scdata_obs].values.reshape(-1, 1))\n",
    "        covariates = np.concatenate((sex_one_hot, age_standardized), axis=1)\n",
    "        ## store fixed effects in pb_adata\n",
    "        pbdata.obsm[\"F\"] = np.concatenate(\n",
    "            (covariates, pbdata.obsm[\"E_dpc\"]),\n",
    "            axis=1,\n",
    "            # (covariates, gen_pcs, pbdata.obsm[\"E_pb\"][:, :n_expr_pcs]), axis=1\n",
    "        )\n",
    "        pbdata.obsm[\"F\"][:, 2:] = self._column_normalize(pbdata.obsm[\"F\"][:, 2:])\n",
    "        return pbdata\n",
    "\n",
    "    def _get_pbdata(self, cell_type, target_chromosome):\n",
    "        \"\"\"\"\"\"\n",
    "        ## filtering cells and genes\n",
    "        scdata_cell = self._filter_cells_by_type(self.scdata, cell_type)\n",
    "        scdata_cell = self._filter_genes_by_chromosome(scdata_cell, target_chromosome)\n",
    "        ## pseudobulk aggregation\n",
    "        pbdata = self._pseudobulk_scdata(scdata_cell)\n",
    "        ## filter out genes least expressed genes\n",
    "        sc.pp.filter_genes(pbdata, min_cells=self._min_individuals_threshold)\n",
    "        ## registering fixed effects\n",
    "        pbdata = self._register_fixed_effects(pbdata)\n",
    "        return pbdata\n",
    "\n",
    "    def get_pb_data(self, cell_type, target_chromosome):\n",
    "        \"\"\"\"\"\"\n",
    "        pbdata = self._get_pbdata(cell_type, target_chromosome)\n",
    "        return DonorData(adata=pbdata, gdata=self.gdata, donor_key_in_sc_adata=self._donor_key_in_sc_adata)\n",
    "\n",
    "    @property\n",
    "    def scdata(self):\n",
    "        \"\"\"\"\"\"\n",
    "        return self._donor_data.adata\n",
    "\n",
    "    @property\n",
    "    def gdata(self):\n",
    "        \"\"\"\"\"\"\n",
    "        return self._donor_data.gdata\n",
    "\n",
    "    @property\n",
    "    def donor_data(self):\n",
    "        \"\"\"\"\"\"\n",
    "        return self._donor_data"
   ]
  },
  {
   "cell_type": "code",
   "execution_count": 41,
   "metadata": {},
   "outputs": [],
   "source": [
    "@dataclass\n",
    "class EQTLPipeline:\n",
    "    \"\"\"\"\"\"\n",
    "\n",
    "    _eqtl_data: EQTLData\n",
    "\n",
    "    def _run_gwas(self, cell_type: str, target_chromosome: str, target_gene: str, cis_window: int):\n",
    "        ## getting current data\n",
    "        pb_data = self._eqtl_data.get_pb_data(cell_type, target_chromosome)\n",
    "        ## retrieving the pseudo-bulked data\n",
    "        Y = pb_data.adata[:, [target_gene]].layers[\"mean\"]\n",
    "        Y = asarray(Y)\n",
    "        Y = _my_quantile_transform(Y)\n",
    "        ## retrieving start and end position for each gene\n",
    "        start = pb_data.adata.var.loc[target_gene].start\n",
    "        end = pb_data.adata.var.loc[target_gene].end\n",
    "        chrom = pb_data.adata.var.loc[target_gene].chrom\n",
    "        ## retrieving the variants within the cis window\n",
    "        subgadata = pb_data.gdata[\n",
    "            :,\n",
    "            (pb_data.gdata.var.chrom == chrom)\n",
    "            & (pb_data.gdata.var.pos >= start - cis_window)\n",
    "            & (pb_data.gdata.var.pos <= end + cis_window),\n",
    "        ]\n",
    "        G = subgadata.X.compute()\n",
    "        gwas = GWAS(Y, F=pb_data.adata.obsm[\"F\"])\n",
    "        gwas.process(G)\n",
    "        no_tested_variantes = G.shape[1]\n",
    "        return gwas, no_tested_variantes"
   ]
  },
  {
   "cell_type": "code",
   "execution_count": 44,
   "metadata": {},
   "outputs": [
    {
     "name": "stdout",
     "output_type": "stream",
     "text": [
      "[2024-11-02 13:16:33,594] INFO:cellink._core.donordata: Keeping 20/20 donors\n",
      "[2024-11-02 13:16:33,594] INFO:cellink._core.donordata: Dropping 0/20 donors from genetic data\n",
      "[2024-11-02 13:16:33,594] INFO:cellink._core.donordata: Dropping 0/20 donors from single-cell data\n"
     ]
    },
    {
     "ename": "KeyError",
     "evalue": "\"Values ['ENSG00000243485'], from ['ENSG00000243485'], are not valid obs/ var names or indices.\"",
     "output_type": "error",
     "traceback": [
      "\u001b[0;31m---------------------------------------------------------------------------\u001b[0m",
      "\u001b[0;31mKeyError\u001b[0m                                  Traceback (most recent call last)",
      "Cell \u001b[0;32mIn[44], line 9\u001b[0m\n\u001b[1;32m      6\u001b[0m cis_window \u001b[38;5;241m=\u001b[39m \u001b[38;5;241m1_000_000\u001b[39m\n\u001b[1;32m      8\u001b[0m eqtl \u001b[38;5;241m=\u001b[39m EQTLPipeline(eqtl_data)\n\u001b[0;32m----> 9\u001b[0m \u001b[43meqtl\u001b[49m\u001b[38;5;241;43m.\u001b[39;49m\u001b[43m_run_gwas\u001b[49m\u001b[43m(\u001b[49m\u001b[43mcell_type\u001b[49m\u001b[43m,\u001b[49m\u001b[43m \u001b[49m\u001b[43mtarget_chromosome\u001b[49m\u001b[43m,\u001b[49m\u001b[43m \u001b[49m\u001b[43mtarget_gene\u001b[49m\u001b[43m,\u001b[49m\u001b[43m \u001b[49m\u001b[43mcis_window\u001b[49m\u001b[43m)\u001b[49m\n",
      "Cell \u001b[0;32mIn[41], line 10\u001b[0m, in \u001b[0;36mEQTLPipeline._run_gwas\u001b[0;34m(self, cell_type, target_chromosome, target_gene, cis_window)\u001b[0m\n\u001b[1;32m      8\u001b[0m pb_data \u001b[38;5;241m=\u001b[39m \u001b[38;5;28mself\u001b[39m\u001b[38;5;241m.\u001b[39m_eqtl_data\u001b[38;5;241m.\u001b[39mget_tmp_data(cell_type, target_chromosome)\n\u001b[1;32m      9\u001b[0m \u001b[38;5;66;03m## retrieving the pseudo-bulked data\u001b[39;00m\n\u001b[0;32m---> 10\u001b[0m Y \u001b[38;5;241m=\u001b[39m \u001b[43mtmp_data\u001b[49m\u001b[38;5;241;43m.\u001b[39;49m\u001b[43madata\u001b[49m\u001b[43m[\u001b[49m\u001b[43m:\u001b[49m\u001b[43m,\u001b[49m\u001b[43m \u001b[49m\u001b[43m[\u001b[49m\u001b[43mtarget_gene\u001b[49m\u001b[43m]\u001b[49m\u001b[43m]\u001b[49m\u001b[38;5;241m.\u001b[39mlayers[\u001b[38;5;124m\"\u001b[39m\u001b[38;5;124mmean\u001b[39m\u001b[38;5;124m\"\u001b[39m]\n\u001b[1;32m     11\u001b[0m Y \u001b[38;5;241m=\u001b[39m asarray(Y)\n\u001b[1;32m     12\u001b[0m Y \u001b[38;5;241m=\u001b[39m _my_quantile_transform(Y)\n",
      "File \u001b[0;32m~/miniconda3/envs/theislab-combosciplex/lib/python3.12/site-packages/anndata/_core/anndata.py:1085\u001b[0m, in \u001b[0;36mAnnData.__getitem__\u001b[0;34m(self, index)\u001b[0m\n\u001b[1;32m   1083\u001b[0m \u001b[38;5;28;01mdef\u001b[39;00m \u001b[38;5;21m__getitem__\u001b[39m(\u001b[38;5;28mself\u001b[39m, index: Index) \u001b[38;5;241m-\u001b[39m\u001b[38;5;241m>\u001b[39m AnnData:\n\u001b[1;32m   1084\u001b[0m \u001b[38;5;250m    \u001b[39m\u001b[38;5;124;03m\"\"\"Returns a sliced view of the object.\"\"\"\u001b[39;00m\n\u001b[0;32m-> 1085\u001b[0m     oidx, vidx \u001b[38;5;241m=\u001b[39m \u001b[38;5;28;43mself\u001b[39;49m\u001b[38;5;241;43m.\u001b[39;49m\u001b[43m_normalize_indices\u001b[49m\u001b[43m(\u001b[49m\u001b[43mindex\u001b[49m\u001b[43m)\u001b[49m\n\u001b[1;32m   1086\u001b[0m     \u001b[38;5;28;01mreturn\u001b[39;00m AnnData(\u001b[38;5;28mself\u001b[39m, oidx\u001b[38;5;241m=\u001b[39moidx, vidx\u001b[38;5;241m=\u001b[39mvidx, asview\u001b[38;5;241m=\u001b[39m\u001b[38;5;28;01mTrue\u001b[39;00m)\n",
      "File \u001b[0;32m~/miniconda3/envs/theislab-combosciplex/lib/python3.12/site-packages/anndata/_core/anndata.py:1066\u001b[0m, in \u001b[0;36mAnnData._normalize_indices\u001b[0;34m(self, index)\u001b[0m\n\u001b[1;32m   1065\u001b[0m \u001b[38;5;28;01mdef\u001b[39;00m \u001b[38;5;21m_normalize_indices\u001b[39m(\u001b[38;5;28mself\u001b[39m, index: Index \u001b[38;5;241m|\u001b[39m \u001b[38;5;28;01mNone\u001b[39;00m) \u001b[38;5;241m-\u001b[39m\u001b[38;5;241m>\u001b[39m \u001b[38;5;28mtuple\u001b[39m[\u001b[38;5;28mslice\u001b[39m, \u001b[38;5;28mslice\u001b[39m]:\n\u001b[0;32m-> 1066\u001b[0m     \u001b[38;5;28;01mreturn\u001b[39;00m \u001b[43m_normalize_indices\u001b[49m\u001b[43m(\u001b[49m\u001b[43mindex\u001b[49m\u001b[43m,\u001b[49m\u001b[43m \u001b[49m\u001b[38;5;28;43mself\u001b[39;49m\u001b[38;5;241;43m.\u001b[39;49m\u001b[43mobs_names\u001b[49m\u001b[43m,\u001b[49m\u001b[43m \u001b[49m\u001b[38;5;28;43mself\u001b[39;49m\u001b[38;5;241;43m.\u001b[39;49m\u001b[43mvar_names\u001b[49m\u001b[43m)\u001b[49m\n",
      "File \u001b[0;32m~/miniconda3/envs/theislab-combosciplex/lib/python3.12/site-packages/anndata/_core/index.py:36\u001b[0m, in \u001b[0;36m_normalize_indices\u001b[0;34m(index, names0, names1)\u001b[0m\n\u001b[1;32m     34\u001b[0m ax0, ax1 \u001b[38;5;241m=\u001b[39m unpack_index(index)\n\u001b[1;32m     35\u001b[0m ax0 \u001b[38;5;241m=\u001b[39m _normalize_index(ax0, names0)\n\u001b[0;32m---> 36\u001b[0m ax1 \u001b[38;5;241m=\u001b[39m \u001b[43m_normalize_index\u001b[49m\u001b[43m(\u001b[49m\u001b[43max1\u001b[49m\u001b[43m,\u001b[49m\u001b[43m \u001b[49m\u001b[43mnames1\u001b[49m\u001b[43m)\u001b[49m\n\u001b[1;32m     37\u001b[0m \u001b[38;5;28;01mreturn\u001b[39;00m ax0, ax1\n",
      "File \u001b[0;32m~/miniconda3/envs/theislab-combosciplex/lib/python3.12/site-packages/anndata/_core/index.py:100\u001b[0m, in \u001b[0;36m_normalize_index\u001b[0;34m(indexer, index)\u001b[0m\n\u001b[1;32m     98\u001b[0m         \u001b[38;5;28;01mif\u001b[39;00m np\u001b[38;5;241m.\u001b[39many(positions \u001b[38;5;241m<\u001b[39m \u001b[38;5;241m0\u001b[39m):\n\u001b[1;32m     99\u001b[0m             not_found \u001b[38;5;241m=\u001b[39m indexer[positions \u001b[38;5;241m<\u001b[39m \u001b[38;5;241m0\u001b[39m]\n\u001b[0;32m--> 100\u001b[0m             \u001b[38;5;28;01mraise\u001b[39;00m \u001b[38;5;167;01mKeyError\u001b[39;00m(\n\u001b[1;32m    101\u001b[0m                 \u001b[38;5;124mf\u001b[39m\u001b[38;5;124m\"\u001b[39m\u001b[38;5;124mValues \u001b[39m\u001b[38;5;132;01m{\u001b[39;00m\u001b[38;5;28mlist\u001b[39m(not_found)\u001b[38;5;132;01m}\u001b[39;00m\u001b[38;5;124m, from \u001b[39m\u001b[38;5;132;01m{\u001b[39;00m\u001b[38;5;28mlist\u001b[39m(indexer)\u001b[38;5;132;01m}\u001b[39;00m\u001b[38;5;124m, \u001b[39m\u001b[38;5;124m\"\u001b[39m\n\u001b[1;32m    102\u001b[0m                 \u001b[38;5;124m\"\u001b[39m\u001b[38;5;124mare not valid obs/ var names or indices.\u001b[39m\u001b[38;5;124m\"\u001b[39m\n\u001b[1;32m    103\u001b[0m             )\n\u001b[1;32m    104\u001b[0m         \u001b[38;5;28;01mreturn\u001b[39;00m positions  \u001b[38;5;66;03m# np.ndarray[int]\u001b[39;00m\n\u001b[1;32m    105\u001b[0m \u001b[38;5;28;01melse\u001b[39;00m:\n",
      "\u001b[0;31mKeyError\u001b[0m: \"Values ['ENSG00000243485'], from ['ENSG00000243485'], are not valid obs/ var names or indices.\""
     ]
    }
   ],
   "source": [
    "eqtl_data = EQTLData(data, _n_sc_comps=15)\n",
    "# pb_data = eqtl_data.get_pb_data(cell_type, target_chromosome)\n",
    "cell_type = \"CD4 ET\"\n",
    "target_chromosome = \"22\"\n",
    "target_gene = eqtl_data.scdata.var_names[0]\n",
    "cis_window = 1_000_000\n",
    "\n",
    "eqtl = EQTLPipeline(eqtl_data)\n",
    "eqtl._run_gwas(cell_type, target_chromosome, target_gene, cis_window)"
   ]
  },
  {
   "cell_type": "code",
   "execution_count": 38,
   "metadata": {},
   "outputs": [],
   "source": [
    "from sklearn.preprocessing import quantile_transform\n",
    "from cellink.tl._gwas import GWAS\n",
    "\n",
    "\n",
    "def _my_quantile_transform(x, seed=1):\n",
    "    \"\"\"\n",
    "    Gaussian quantile transform for values in a pandas Series.    :param x: Input pandas Series.\n",
    "    :type x: pd.Series\n",
    "    :param seed: Random seed.\n",
    "    :type seed: int\n",
    "    :return: Transformed Series.\n",
    "    :rtype: pd.Series    .. note::\n",
    "        “nan” values are kept\n",
    "    \"\"\"\n",
    "    np.random.seed(seed)\n",
    "    x_transform = x.copy()\n",
    "    if isinstance(x_transform, pd.Series):\n",
    "        x_transform = x_transform.to_numpy()\n",
    "    is_nan = np.isnan(x_transform)\n",
    "    n_quantiles = np.sum(~is_nan)\n",
    "    x_transform[~is_nan] = quantile_transform(\n",
    "        x_transform[~is_nan].reshape([-1, 1]),\n",
    "        n_quantiles=n_quantiles,\n",
    "        subsample=n_quantiles,\n",
    "        output_distribution=\"normal\",\n",
    "        copy=True,\n",
    "    )[:, 0]\n",
    "    # x_transform = pd.Series(x_transform, index = x.index)\n",
    "    return x_transform\n",
    "\n",
    "\n",
    "def _run_gwas(pb_data: DonorData, target_gene: str, cis_window: int):\n",
    "    ## retrieving the pseudo-bulked data\n",
    "    Y = pb_data.adata[:, [target_gene]].layers[\"mean\"]\n",
    "    Y = asarray(Y)\n",
    "    Y = _my_quantile_transform(Y)\n",
    "    ## retrieving start and end position for each gene\n",
    "    start = pb_data.adata.var.loc[target_gene].start\n",
    "    end = pb_data.adata.var.loc[target_gene].end\n",
    "    chrom = pb_data.adata.var.loc[target_gene].chrom\n",
    "    ## retrieving the variants within the cis window\n",
    "    subgadata = pb_data.gdata[\n",
    "        :,\n",
    "        (pb_data.gdata.var.chrom == chrom)\n",
    "        & (pb_data.gdata.var.pos >= start - cis_window)\n",
    "        & (pb_data.gdata.var.pos <= end + cis_window),\n",
    "    ]\n",
    "    G = subgadata.X.compute()\n",
    "    gwas = GWAS(Y, F=pb_data.adata.obsm[\"F\"])\n",
    "    gwas.process(G)\n",
    "    no_tested_variantes = G.shape[1]\n",
    "    return gwas, no_tested_variantes"
   ]
  },
  {
   "cell_type": "code",
   "execution_count": 45,
   "metadata": {},
   "outputs": [],
   "source": [
    "CIS_WINDOW = 1_000_000\n",
    "target_gene = pb_data.adata.var_names[0]\n",
    "gwas, no_tested_variantes = _run_gwas(pb_data, target_gene, CIS_WINDOW)"
   ]
  },
  {
   "cell_type": "code",
   "execution_count": null,
   "metadata": {},
   "outputs": [],
   "source": []
  }
 ],
 "metadata": {
  "kernelspec": {
   "display_name": "theislab-combosciplex",
   "language": "python",
   "name": "python3"
  },
  "language_info": {
   "codemirror_mode": {
    "name": "ipython",
    "version": 3
   },
   "file_extension": ".py",
   "mimetype": "text/x-python",
   "name": "python",
   "nbconvert_exporter": "python",
   "pygments_lexer": "ipython3",
   "version": "3.12.5"
  }
 },
 "nbformat": 4,
 "nbformat_minor": 2
}
