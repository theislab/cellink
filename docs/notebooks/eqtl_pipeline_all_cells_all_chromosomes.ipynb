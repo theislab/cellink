{
 "cells": [
  {
   "cell_type": "code",
   "execution_count": null,
   "metadata": {},
   "outputs": [],
   "source": [
    "## reinstalling the package\n",
    "! pwd\n",
    "! pip uninstall -y cellink\n",
    "! pip install -q ../../."
   ]
  },
  {
   "cell_type": "code",
   "execution_count": 1,
   "metadata": {},
   "outputs": [],
   "source": [
    "## importing libraries\n",
    "import logging\n",
    "import warnings\n",
    "import anndata as ad\n",
    "import numpy as np\n",
    "import pandas as pd\n",
    "from pathlib import Path\n",
    "\n",
    "from cellink.io import read_plink\n",
    "from cellink import DonorData\n",
    "from cellink.tl import EQTLData, EQTLPipeline\n",
    "\n",
    "warnings.filterwarnings(\"ignore\")\n",
    "\n",
    "logger = logging.getLogger(__name__)"
   ]
  },
  {
   "cell_type": "code",
   "execution_count": 2,
   "metadata": {},
   "outputs": [],
   "source": [
    "DEBUG = False\n",
    "target_cell_types = [\"CD4 ET\", \"CD4 NC\", \"CD8 S100B\", \"CD8 ET\", \"B IN\", \"CD8 NC\", \"B Mem\", \"Plasma\"]\n",
    "target_chroms = [\n",
    "    \"1\", \"2\", \"3\", \"4\", \"5\", \"6\", \"7\", \"8\", \"9\", \"10\", \"11\", \n",
    "    \"12\", \"13\", \"14\", \"15\", \"16\", \"17\", \"18\", \"19\", \"20\", \"21\", \"22\"\n",
    "]\n",
    "cis_window = 1_000_000"
   ]
  },
  {
   "cell_type": "code",
   "execution_count": 3,
   "metadata": {},
   "outputs": [],
   "source": [
    "## paths\n",
    "DATA = Path(\"/home/lollo/Work/hackathon/data/Yazar_OneK1K\")\n",
    "if DEBUG:\n",
    "    scdata_path = DATA / \"debug_OneK1K_cohort_gene_expression_matrix_14_celltypes.h5ad\"\n",
    "else:\n",
    "    scdata_path = DATA / \"OneK1K_cohort_gene_expression_matrix_14_celltypes.h5ad.gz\"\n",
    "\n",
    "dump_dir = \"/home/lollo/Work/hackathon/out/dumps\"\n",
    "gene_annotation_path = DATA / \"gene_annotation.csv\"\n",
    "plink_path = DATA / f\"OneK1K_imputation_post_qc_r2_08/plink\""
   ]
  },
  {
   "cell_type": "code",
   "execution_count": 4,
   "metadata": {},
   "outputs": [],
   "source": [
    "def load_chrom_gdata(chrom: str):\n",
    "    plink_file = DATA / f\"OneK1K_imputation_post_qc_r2_08/plink/chr{chrom}.dose.filtered.R2_0.8\"\n",
    "    print(plink_file)\n",
    "    gdata = read_plink(plink_file)\n",
    "    return gdata"
   ]
  },
  {
   "cell_type": "code",
   "execution_count": 5,
   "metadata": {},
   "outputs": [],
   "source": [
    "scdata = ad.read_h5ad(scdata_path)"
   ]
  },
  {
   "cell_type": "code",
   "execution_count": 8,
   "metadata": {},
   "outputs": [
    {
     "name": "stdout",
     "output_type": "stream",
     "text": [
      "CD4 ET\n",
      "NK\n",
      "CD4 NC\n",
      "CD8 S100B\n",
      "CD8 ET\n",
      "B IN\n",
      "CD8 NC\n",
      "B Mem\n",
      "Erythrocytes\n",
      "NK R\n",
      "Mono NC\n",
      "Mono C\n",
      "Platelets\n",
      "DC\n",
      "Plasma\n",
      "CD4 SOX4\n"
     ]
    }
   ],
   "source": [
    "for cell_label in scdata.obs.cell_label.unique():\n",
    "    print(cell_label)"
   ]
  },
  {
   "cell_type": "code",
   "execution_count": null,
   "metadata": {},
   "outputs": [],
   "source": [
    "## reading single cell data\n",
    "scdata = ad.read_h5ad(scdata_path)\n",
    "## reading annotation data\n",
    "annotation_df = pd.read_csv(gene_annotation_path).loc[\n",
    "    :, [\"ensembl_gene_id\", \"start_position\", \"end_position\", \"chromosome_name\"]\n",
    "]\n",
    "annotation_df = annotation_df.loc[annotation_df.ensembl_gene_id.isin(scdata.var_names)]\n",
    "## merging the scdata.var df with the annotations\n",
    "merged_df = pd.merge(scdata.var, annotation_df, left_index=True, right_on=\"ensembl_gene_id\")\n",
    "merged_df = merged_df.rename(\n",
    "    columns={\"ensembl_gene_id\": \"Geneid\", \"start_position\": \"start\", \"end_position\": \"end\", \"chromosome_name\": \"chrom\"}\n",
    ")\n",
    "merged_df.index = merged_df[\"Geneid\"]\n",
    "scdata.var = merged_df"
   ]
  },
  {
   "cell_type": "code",
   "execution_count": null,
   "metadata": {},
   "outputs": [],
   "source": [
    "## setting counter of iterations\n",
    "current_iteration = 1\n",
    "total_iterations = len(target_chroms)*len(target_cell_types)\n",
    "## iterating over the target chromosomes\n",
    "for target_chrom in target_chroms:\n",
    "    ## retrieving genetics data for current chromosome\n",
    "    gdata = load_chrom_gdata(target_chrom)\n",
    "    ## initializing donor data\n",
    "    data = DonorData(adata=scdata, gdata=gdata, donor_key_in_scdata=\"individual\")\n",
    "    ## initializing eqtl data\n",
    "    eqtl_data = EQTLData(data, n_sc_comps=15)\n",
    "    ## running eqtl pipeline and reporting results on all variants\n",
    "    eqtl = EQTLPipeline(eqtl_data, dump_results=True, file_prefix=\"eqtl_all\", dump_dir=dump_dir)\n",
    "    ## iterating target cell_types\n",
    "    for target_cell_type in target_cell_types:\n",
    "        ## displaying progress message\n",
    "        print(f\"Iteration {current_iteration}/{total_iterations}. Currently processing cell type {target_cell_type} with chromosome {target_chrom}\", end=\"...\")\n",
    "        results_df_all = eqtl.run(target_cell_type, target_chrom, cis_window)\n",
    "        current_iteration += 1\n",
    "        print(f\"Finished to run the pipeline, dumping a table of shape {results_df.shape} to {dump_dir}\")"
   ]
  }
 ],
 "metadata": {
  "kernelspec": {
   "display_name": "theislab-combosciplex",
   "language": "python",
   "name": "python3"
  },
  "language_info": {
   "codemirror_mode": {
    "name": "ipython",
    "version": 3
   },
   "file_extension": ".py",
   "mimetype": "text/x-python",
   "name": "python",
   "nbconvert_exporter": "python",
   "pygments_lexer": "ipython3",
   "version": "3.12.5"
  }
 },
 "nbformat": 4,
 "nbformat_minor": 2
}
