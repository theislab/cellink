{
 "cells": [
  {
   "cell_type": "code",
   "execution_count": 1,
   "metadata": {},
   "outputs": [
    {
     "name": "stdout",
     "output_type": "stream",
     "text": [
      "/home/lollo/Work/hackathon/code/sc-genetics/docs/notebooks\n",
      "Found existing installation: cellink 0.0.1\n",
      "Uninstalling cellink-0.0.1:\n",
      "  Successfully uninstalled cellink-0.0.1\n"
     ]
    }
   ],
   "source": [
    "## reinstalling the package\n",
    "! pwd\n",
    "! pip uninstall -y cellink\n",
    "! pip install -q ../../."
   ]
  },
  {
   "cell_type": "code",
   "execution_count": 2,
   "metadata": {},
   "outputs": [],
   "source": [
    "## importing libraries\n",
    "import logging\n",
    "import warnings\n",
    "import anndata as ad\n",
    "import numpy as np\n",
    "import pandas as pd\n",
    "from pathlib import Path\n",
    "\n",
    "from cellink.io import read_plink\n",
    "from cellink import DonorData\n",
    "from cellink.tl import EQTLData, EQTLPipeline\n",
    "\n",
    "warnings.filterwarnings(\"ignore\")\n",
    "\n",
    "logger = logging.getLogger(__name__)"
   ]
  },
  {
   "cell_type": "code",
   "execution_count": 3,
   "metadata": {},
   "outputs": [],
   "source": [
    "DEBUG = False\n",
    "target_cell_types = [\"CD4 ET\", \"CD4 NC\", \"CD8 S100B\", \"CD8 ET\", \"B IN\", \"CD8 NC\", \"B Mem\", \"Plasma\"]\n",
    "target_chroms = [\n",
    "    \"1\", \"2\", \"3\", \"4\", \"5\", \"6\", \"7\", \"8\", \"9\", \"10\", \"11\", \n",
    "    \"12\", \"13\", \"14\", \"15\", \"16\", \"17\", \"18\", \"19\", \"20\", \"21\", \"22\"\n",
    "]\n",
    "cis_window = 1_000_000"
   ]
  },
  {
   "cell_type": "code",
   "execution_count": 4,
   "metadata": {},
   "outputs": [],
   "source": [
    "## paths\n",
    "DATA = Path(\"/home/lollo/Work/hackathon/data/Yazar_OneK1K\")\n",
    "if DEBUG:\n",
    "    scdata_path = DATA / \"debug_OneK1K_cohort_gene_expression_matrix_14_celltypes.h5ad\"\n",
    "else:\n",
    "    scdata_path = DATA / \"OneK1K_cohort_gene_expression_matrix_14_celltypes.h5ad.gz\"\n",
    "\n",
    "dump_dir = \"/home/lollo/Work/hackathon/out/dumps\"\n",
    "gene_annotation_path = DATA / \"gene_annotation.csv\"\n",
    "plink_path = DATA / f\"OneK1K_imputation_post_qc_r2_08/plink\""
   ]
  },
  {
   "cell_type": "code",
   "execution_count": 5,
   "metadata": {},
   "outputs": [],
   "source": [
    "def load_chrom_gdata(chrom: str):\n",
    "    plink_file = DATA / f\"OneK1K_imputation_post_qc_r2_08/plink/chr{chrom}.dose.filtered.R2_0.8\"\n",
    "    print(plink_file)\n",
    "    gdata = read_plink(plink_file)\n",
    "    return gdata"
   ]
  },
  {
   "cell_type": "code",
   "execution_count": 6,
   "metadata": {},
   "outputs": [],
   "source": [
    "## reading single cell data\n",
    "scdata = ad.read_h5ad(scdata_path)\n",
    "## reading annotation data\n",
    "annotation_df = pd.read_csv(gene_annotation_path).loc[\n",
    "    :, [\"ensembl_gene_id\", \"start_position\", \"end_position\", \"chromosome_name\"]\n",
    "]\n",
    "annotation_df = annotation_df.loc[annotation_df.ensembl_gene_id.isin(scdata.var_names)]\n",
    "## merging the scdata.var df with the annotations\n",
    "merged_df = pd.merge(scdata.var, annotation_df, left_index=True, right_on=\"ensembl_gene_id\")\n",
    "merged_df = merged_df.rename(\n",
    "    columns={\"ensembl_gene_id\": \"Geneid\", \"start_position\": \"start\", \"end_position\": \"end\", \"chromosome_name\": \"chrom\"}\n",
    ")\n",
    "merged_df.index = merged_df[\"Geneid\"]\n",
    "scdata.var = merged_df"
   ]
  },
  {
   "cell_type": "code",
   "execution_count": 7,
   "metadata": {},
   "outputs": [
    {
     "name": "stdout",
     "output_type": "stream",
     "text": [
      "/home/lollo/Work/hackathon/data/Yazar_OneK1K/OneK1K_imputation_post_qc_r2_08/plink/chr1.dose.filtered.R2_0.8\n",
      "[2024-11-02 21:32:17,065] INFO:cellink._core.donordata: Keeping 981/1034 donors\n",
      "[2024-11-02 21:32:17,066] INFO:cellink._core.donordata: Dropping 53/1034 donors from genetic data\n",
      "[2024-11-02 21:32:17,067] INFO:cellink._core.donordata: Dropping 0/981 donors from single-cell data\n",
      "Iteration 1/176. Currently processing cell type CD4 ET with chromosome 1...[2024-11-02 21:32:17,901] INFO:cellink._core.donordata: Keeping 981/981 donors\n",
      "[2024-11-02 21:32:17,902] INFO:cellink._core.donordata: Dropping 0/981 donors from genetic data\n",
      "[2024-11-02 21:32:17,902] INFO:cellink._core.donordata: Dropping 0/981 donors from single-cell data\n"
     ]
    },
    {
     "name": "stderr",
     "output_type": "stream",
     "text": [
      "  1%|          | 19/1793 [00:40<1:03:50,  2.16s/it]"
     ]
    },
    {
     "ename": "KeyboardInterrupt",
     "evalue": "",
     "output_type": "error",
     "traceback": [
      "\u001b[0;31m---------------------------------------------------------------------------\u001b[0m",
      "\u001b[0;31mKeyboardInterrupt\u001b[0m                         Traceback (most recent call last)",
      "Cell \u001b[0;32mIn[7], line 18\u001b[0m\n\u001b[1;32m     15\u001b[0m \u001b[38;5;28;01mfor\u001b[39;00m target_cell_type \u001b[38;5;129;01min\u001b[39;00m target_cell_types:\n\u001b[1;32m     16\u001b[0m     \u001b[38;5;66;03m## displaying progress message\u001b[39;00m\n\u001b[1;32m     17\u001b[0m     \u001b[38;5;28mprint\u001b[39m(\u001b[38;5;124mf\u001b[39m\u001b[38;5;124m\"\u001b[39m\u001b[38;5;124mIteration \u001b[39m\u001b[38;5;132;01m{\u001b[39;00mcurrent_iteration\u001b[38;5;132;01m}\u001b[39;00m\u001b[38;5;124m/\u001b[39m\u001b[38;5;132;01m{\u001b[39;00mtotal_iterations\u001b[38;5;132;01m}\u001b[39;00m\u001b[38;5;124m. Currently processing cell type \u001b[39m\u001b[38;5;132;01m{\u001b[39;00mtarget_cell_type\u001b[38;5;132;01m}\u001b[39;00m\u001b[38;5;124m with chromosome \u001b[39m\u001b[38;5;132;01m{\u001b[39;00mtarget_chrom\u001b[38;5;132;01m}\u001b[39;00m\u001b[38;5;124m\"\u001b[39m, end\u001b[38;5;241m=\u001b[39m\u001b[38;5;124m\"\u001b[39m\u001b[38;5;124m...\u001b[39m\u001b[38;5;124m\"\u001b[39m)\n\u001b[0;32m---> 18\u001b[0m     results_df_all \u001b[38;5;241m=\u001b[39m \u001b[43meqtl\u001b[49m\u001b[38;5;241;43m.\u001b[39;49m\u001b[43mrun\u001b[49m\u001b[43m(\u001b[49m\u001b[43mtarget_cell_type\u001b[49m\u001b[43m,\u001b[49m\u001b[43m \u001b[49m\u001b[43mtarget_chrom\u001b[49m\u001b[43m,\u001b[49m\u001b[43m \u001b[49m\u001b[43mcis_window\u001b[49m\u001b[43m)\u001b[49m\n\u001b[1;32m     19\u001b[0m     current_iteration \u001b[38;5;241m+\u001b[39m\u001b[38;5;241m=\u001b[39m \u001b[38;5;241m1\u001b[39m\n\u001b[1;32m     20\u001b[0m     \u001b[38;5;28mprint\u001b[39m(\u001b[38;5;124mf\u001b[39m\u001b[38;5;124m\"\u001b[39m\u001b[38;5;124mFinished to run the pipeline, dumping a table of shape \u001b[39m\u001b[38;5;132;01m{\u001b[39;00mresults_df\u001b[38;5;241m.\u001b[39mshape\u001b[38;5;132;01m}\u001b[39;00m\u001b[38;5;124m to \u001b[39m\u001b[38;5;132;01m{\u001b[39;00mdump_dir\u001b[38;5;132;01m}\u001b[39;00m\u001b[38;5;124m\"\u001b[39m)\n",
      "File \u001b[0;32m~/miniconda3/envs/theislab-combosciplex/lib/python3.12/site-packages/cellink/tl/_eqtl/_pipeline.py:425\u001b[0m, in \u001b[0;36mEQTLPipeline.run\u001b[0;34m(self, target_cell_type, target_chrom, cis_window)\u001b[0m\n\u001b[1;32m    407\u001b[0m \u001b[38;5;250m\u001b[39m\u001b[38;5;124;03m\"\"\"Runs the EQTL pipeline on a given pair of (`target_cell_type`, `target_chrom`) over all genes and\u001b[39;00m\n\u001b[1;32m    408\u001b[0m \u001b[38;5;124;03mstores the results to a `pd.DataFrame` object and optionally to disk\u001b[39;00m\n\u001b[1;32m    409\u001b[0m \n\u001b[0;32m   (...)\u001b[0m\n\u001b[1;32m    422\u001b[0m \u001b[38;5;124;03m        The output data in a `pd.DataFrame` object\u001b[39;00m\n\u001b[1;32m    423\u001b[0m \u001b[38;5;124;03m\"\"\"\u001b[39;00m\n\u001b[1;32m    424\u001b[0m \u001b[38;5;66;03m## running the pipeline and constructing results DataFrame\u001b[39;00m\n\u001b[0;32m--> 425\u001b[0m results \u001b[38;5;241m=\u001b[39m \u001b[38;5;28;43mself\u001b[39;49m\u001b[38;5;241;43m.\u001b[39;49m\u001b[43m_run_pipeline\u001b[49m\u001b[43m(\u001b[49m\u001b[43mtarget_cell_type\u001b[49m\u001b[43m,\u001b[49m\u001b[43m \u001b[49m\u001b[43mtarget_chrom\u001b[49m\u001b[43m,\u001b[49m\u001b[43m \u001b[49m\u001b[43mcis_window\u001b[49m\u001b[43m)\u001b[49m\n\u001b[1;32m    426\u001b[0m results_df \u001b[38;5;241m=\u001b[39m pd\u001b[38;5;241m.\u001b[39mDataFrame(results)\n\u001b[1;32m    427\u001b[0m \u001b[38;5;66;03m## optionally saving the results to disk\u001b[39;00m\n",
      "File \u001b[0;32m~/miniconda3/envs/theislab-combosciplex/lib/python3.12/site-packages/cellink/tl/_eqtl/_pipeline.py:395\u001b[0m, in \u001b[0;36mEQTLPipeline._run_pipeline\u001b[0;34m(self, target_cell_type, target_chrom, cis_window)\u001b[0m\n\u001b[1;32m    392\u001b[0m \u001b[38;5;66;03m## iterating over the genes to test\u001b[39;00m\n\u001b[1;32m    393\u001b[0m \u001b[38;5;28;01mfor\u001b[39;00m target_gene \u001b[38;5;129;01min\u001b[39;00m current_genes:\n\u001b[1;32m    394\u001b[0m     \u001b[38;5;66;03m## running the gwas on gene\u001b[39;00m\n\u001b[0;32m--> 395\u001b[0m     (gwas, no_tested_variants) \u001b[38;5;241m=\u001b[39m \u001b[38;5;28;43mself\u001b[39;49m\u001b[38;5;241;43m.\u001b[39;49m\u001b[43m_run_gwas\u001b[49m\u001b[43m(\u001b[49m\u001b[43mpb_data\u001b[49m\u001b[43m,\u001b[49m\u001b[43m \u001b[49m\u001b[43mtarget_gene\u001b[49m\u001b[43m,\u001b[49m\u001b[43m \u001b[49m\u001b[43mtarget_chrom\u001b[49m\u001b[43m,\u001b[49m\u001b[43m \u001b[49m\u001b[43mcis_window\u001b[49m\u001b[43m)\u001b[49m\n\u001b[1;32m    396\u001b[0m     \u001b[38;5;66;03m## postprocessing the results\u001b[39;00m\n\u001b[1;32m    397\u001b[0m     results_dict \u001b[38;5;241m=\u001b[39m \u001b[38;5;28mself\u001b[39m\u001b[38;5;241m.\u001b[39m_postprocess_gwas_results(\n\u001b[1;32m    398\u001b[0m         pb_data, target_cell_type, target_chrom, target_gene, gwas, no_tested_variants\n\u001b[1;32m    399\u001b[0m     )\n",
      "File \u001b[0;32m~/miniconda3/envs/theislab-combosciplex/lib/python3.12/site-packages/cellink/tl/_eqtl/_pipeline.py:324\u001b[0m, in \u001b[0;36mEQTLPipeline._run_gwas\u001b[0;34m(self, pb_data, target_gene, target_chrom, cis_window)\u001b[0m\n\u001b[1;32m    303\u001b[0m \u001b[38;5;250m\u001b[39m\u001b[38;5;124;03m\"\"\"Runs the GWAS experiment on the given gene and chromosomes for the passed window\u001b[39;00m\n\u001b[1;32m    304\u001b[0m \n\u001b[1;32m    305\u001b[0m \u001b[38;5;124;03mParameters\u001b[39;00m\n\u001b[0;32m   (...)\u001b[0m\n\u001b[1;32m    321\u001b[0m \u001b[38;5;124;03m        The number of tested variant for the current iteration\u001b[39;00m\n\u001b[1;32m    322\u001b[0m \u001b[38;5;124;03m\"\"\"\u001b[39;00m\n\u001b[1;32m    323\u001b[0m \u001b[38;5;66;03m## preparing gwas data\u001b[39;00m\n\u001b[0;32m--> 324\u001b[0m Y, F, G \u001b[38;5;241m=\u001b[39m \u001b[38;5;28;43mself\u001b[39;49m\u001b[38;5;241;43m.\u001b[39;49m\u001b[43m_prepare_gwas_data\u001b[49m\u001b[43m(\u001b[49m\u001b[43mpb_data\u001b[49m\u001b[43m,\u001b[49m\u001b[43m \u001b[49m\u001b[43mtarget_gene\u001b[49m\u001b[43m,\u001b[49m\u001b[43m \u001b[49m\u001b[43mtarget_chrom\u001b[49m\u001b[43m,\u001b[49m\u001b[43m \u001b[49m\u001b[43mcis_window\u001b[49m\u001b[43m,\u001b[49m\u001b[43m \u001b[49m\u001b[38;5;28;43mself\u001b[39;49m\u001b[38;5;241;43m.\u001b[39;49m\u001b[43m_apply_transforms\u001b[49m\u001b[43m)\u001b[49m\n\u001b[1;32m    325\u001b[0m gwas \u001b[38;5;241m=\u001b[39m GWAS(Y, F\u001b[38;5;241m=\u001b[39mF)\n\u001b[1;32m    326\u001b[0m gwas\u001b[38;5;241m.\u001b[39mprocess(G)\n",
      "File \u001b[0;32m~/miniconda3/envs/theislab-combosciplex/lib/python3.12/site-packages/cellink/tl/_eqtl/_pipeline.py:110\u001b[0m, in \u001b[0;36mEQTLPipeline._prepare_gwas_data\u001b[0;34m(pb_data, target_gene, target_chrom, cis_window, transforms)\u001b[0m\n\u001b[1;32m    103\u001b[0m \u001b[38;5;66;03m## retrieving the variants within the cis window\u001b[39;00m\n\u001b[1;32m    104\u001b[0m subgadata \u001b[38;5;241m=\u001b[39m pb_data\u001b[38;5;241m.\u001b[39mgdata[\n\u001b[1;32m    105\u001b[0m     :,\n\u001b[1;32m    106\u001b[0m     (pb_data\u001b[38;5;241m.\u001b[39mgdata\u001b[38;5;241m.\u001b[39mvar\u001b[38;5;241m.\u001b[39mchrom \u001b[38;5;241m==\u001b[39m target_chrom)\n\u001b[1;32m    107\u001b[0m     \u001b[38;5;241m&\u001b[39m (pb_data\u001b[38;5;241m.\u001b[39mgdata\u001b[38;5;241m.\u001b[39mvar\u001b[38;5;241m.\u001b[39mpos \u001b[38;5;241m>\u001b[39m\u001b[38;5;241m=\u001b[39m start \u001b[38;5;241m-\u001b[39m cis_window)\n\u001b[1;32m    108\u001b[0m     \u001b[38;5;241m&\u001b[39m (pb_data\u001b[38;5;241m.\u001b[39mgdata\u001b[38;5;241m.\u001b[39mvar\u001b[38;5;241m.\u001b[39mpos \u001b[38;5;241m<\u001b[39m\u001b[38;5;241m=\u001b[39m end \u001b[38;5;241m+\u001b[39m cis_window),\n\u001b[1;32m    109\u001b[0m ]\n\u001b[0;32m--> 110\u001b[0m G \u001b[38;5;241m=\u001b[39m \u001b[43msubgadata\u001b[49m\u001b[38;5;241;43m.\u001b[39;49m\u001b[43mX\u001b[49m\u001b[38;5;241;43m.\u001b[39;49m\u001b[43mcompute\u001b[49m\u001b[43m(\u001b[49m\u001b[43m)\u001b[49m\n\u001b[1;32m    111\u001b[0m F \u001b[38;5;241m=\u001b[39m pb_data\u001b[38;5;241m.\u001b[39madata\u001b[38;5;241m.\u001b[39mobsm[\u001b[38;5;124m\"\u001b[39m\u001b[38;5;124mF\u001b[39m\u001b[38;5;124m\"\u001b[39m]\n\u001b[1;32m    112\u001b[0m \u001b[38;5;28;01mreturn\u001b[39;00m Y, F, G\n",
      "File \u001b[0;32m~/miniconda3/envs/theislab-combosciplex/lib/python3.12/site-packages/dask/base.py:372\u001b[0m, in \u001b[0;36mDaskMethodsMixin.compute\u001b[0;34m(self, **kwargs)\u001b[0m\n\u001b[1;32m    348\u001b[0m \u001b[38;5;28;01mdef\u001b[39;00m \u001b[38;5;21mcompute\u001b[39m(\u001b[38;5;28mself\u001b[39m, \u001b[38;5;241m*\u001b[39m\u001b[38;5;241m*\u001b[39mkwargs):\n\u001b[1;32m    349\u001b[0m \u001b[38;5;250m    \u001b[39m\u001b[38;5;124;03m\"\"\"Compute this dask collection\u001b[39;00m\n\u001b[1;32m    350\u001b[0m \n\u001b[1;32m    351\u001b[0m \u001b[38;5;124;03m    This turns a lazy Dask collection into its in-memory equivalent.\u001b[39;00m\n\u001b[0;32m   (...)\u001b[0m\n\u001b[1;32m    370\u001b[0m \u001b[38;5;124;03m    dask.compute\u001b[39;00m\n\u001b[1;32m    371\u001b[0m \u001b[38;5;124;03m    \"\"\"\u001b[39;00m\n\u001b[0;32m--> 372\u001b[0m     (result,) \u001b[38;5;241m=\u001b[39m \u001b[43mcompute\u001b[49m\u001b[43m(\u001b[49m\u001b[38;5;28;43mself\u001b[39;49m\u001b[43m,\u001b[49m\u001b[43m \u001b[49m\u001b[43mtraverse\u001b[49m\u001b[38;5;241;43m=\u001b[39;49m\u001b[38;5;28;43;01mFalse\u001b[39;49;00m\u001b[43m,\u001b[49m\u001b[43m \u001b[49m\u001b[38;5;241;43m*\u001b[39;49m\u001b[38;5;241;43m*\u001b[39;49m\u001b[43mkwargs\u001b[49m\u001b[43m)\u001b[49m\n\u001b[1;32m    373\u001b[0m     \u001b[38;5;28;01mreturn\u001b[39;00m result\n",
      "File \u001b[0;32m~/miniconda3/envs/theislab-combosciplex/lib/python3.12/site-packages/dask/base.py:660\u001b[0m, in \u001b[0;36mcompute\u001b[0;34m(traverse, optimize_graph, scheduler, get, *args, **kwargs)\u001b[0m\n\u001b[1;32m    657\u001b[0m     postcomputes\u001b[38;5;241m.\u001b[39mappend(x\u001b[38;5;241m.\u001b[39m__dask_postcompute__())\n\u001b[1;32m    659\u001b[0m \u001b[38;5;28;01mwith\u001b[39;00m shorten_traceback():\n\u001b[0;32m--> 660\u001b[0m     results \u001b[38;5;241m=\u001b[39m \u001b[43mschedule\u001b[49m\u001b[43m(\u001b[49m\u001b[43mdsk\u001b[49m\u001b[43m,\u001b[49m\u001b[43m \u001b[49m\u001b[43mkeys\u001b[49m\u001b[43m,\u001b[49m\u001b[43m \u001b[49m\u001b[38;5;241;43m*\u001b[39;49m\u001b[38;5;241;43m*\u001b[39;49m\u001b[43mkwargs\u001b[49m\u001b[43m)\u001b[49m\n\u001b[1;32m    662\u001b[0m \u001b[38;5;28;01mreturn\u001b[39;00m repack([f(r, \u001b[38;5;241m*\u001b[39ma) \u001b[38;5;28;01mfor\u001b[39;00m r, (f, a) \u001b[38;5;129;01min\u001b[39;00m \u001b[38;5;28mzip\u001b[39m(results, postcomputes)])\n",
      "File \u001b[0;32m~/miniconda3/envs/theislab-combosciplex/lib/python3.12/queue.py:171\u001b[0m, in \u001b[0;36mQueue.get\u001b[0;34m(self, block, timeout)\u001b[0m\n\u001b[1;32m    169\u001b[0m \u001b[38;5;28;01melif\u001b[39;00m timeout \u001b[38;5;129;01mis\u001b[39;00m \u001b[38;5;28;01mNone\u001b[39;00m:\n\u001b[1;32m    170\u001b[0m     \u001b[38;5;28;01mwhile\u001b[39;00m \u001b[38;5;129;01mnot\u001b[39;00m \u001b[38;5;28mself\u001b[39m\u001b[38;5;241m.\u001b[39m_qsize():\n\u001b[0;32m--> 171\u001b[0m         \u001b[38;5;28;43mself\u001b[39;49m\u001b[38;5;241;43m.\u001b[39;49m\u001b[43mnot_empty\u001b[49m\u001b[38;5;241;43m.\u001b[39;49m\u001b[43mwait\u001b[49m\u001b[43m(\u001b[49m\u001b[43m)\u001b[49m\n\u001b[1;32m    172\u001b[0m \u001b[38;5;28;01melif\u001b[39;00m timeout \u001b[38;5;241m<\u001b[39m \u001b[38;5;241m0\u001b[39m:\n\u001b[1;32m    173\u001b[0m     \u001b[38;5;28;01mraise\u001b[39;00m \u001b[38;5;167;01mValueError\u001b[39;00m(\u001b[38;5;124m\"\u001b[39m\u001b[38;5;124m'\u001b[39m\u001b[38;5;124mtimeout\u001b[39m\u001b[38;5;124m'\u001b[39m\u001b[38;5;124m must be a non-negative number\u001b[39m\u001b[38;5;124m\"\u001b[39m)\n",
      "File \u001b[0;32m~/miniconda3/envs/theislab-combosciplex/lib/python3.12/threading.py:355\u001b[0m, in \u001b[0;36mCondition.wait\u001b[0;34m(self, timeout)\u001b[0m\n\u001b[1;32m    353\u001b[0m \u001b[38;5;28;01mtry\u001b[39;00m:    \u001b[38;5;66;03m# restore state no matter what (e.g., KeyboardInterrupt)\u001b[39;00m\n\u001b[1;32m    354\u001b[0m     \u001b[38;5;28;01mif\u001b[39;00m timeout \u001b[38;5;129;01mis\u001b[39;00m \u001b[38;5;28;01mNone\u001b[39;00m:\n\u001b[0;32m--> 355\u001b[0m         \u001b[43mwaiter\u001b[49m\u001b[38;5;241;43m.\u001b[39;49m\u001b[43macquire\u001b[49m\u001b[43m(\u001b[49m\u001b[43m)\u001b[49m\n\u001b[1;32m    356\u001b[0m         gotit \u001b[38;5;241m=\u001b[39m \u001b[38;5;28;01mTrue\u001b[39;00m\n\u001b[1;32m    357\u001b[0m     \u001b[38;5;28;01melse\u001b[39;00m:\n",
      "\u001b[0;31mKeyboardInterrupt\u001b[0m: "
     ]
    }
   ],
   "source": [
    "## setting counter of iterations\n",
    "current_iteration = 1\n",
    "total_iterations = len(target_chroms)*len(target_cell_types)\n",
    "## iterating over the target chromosomes\n",
    "for target_chrom in target_chroms:\n",
    "    ## retrieving genetics data for current chromosome\n",
    "    gdata = load_chrom_gdata(target_chrom)\n",
    "    ## initializing donor data\n",
    "    data = DonorData(adata=scdata, gdata=gdata, donor_key_in_sc_adata=\"individual\")\n",
    "    ## initializing eqtl data\n",
    "    eqtl_data = EQTLData(data, n_sc_comps=15)\n",
    "    ## running eqtl pipeline and reporting results on all variants\n",
    "    eqtl = EQTLPipeline(eqtl_data, dump_results=True, file_prefix=\"eqtl_all\", dump_dir=dump_dir)\n",
    "    ## iterating target cell_types\n",
    "    for target_cell_type in target_cell_types:\n",
    "        ## displaying progress message\n",
    "        print(f\"Iteration {current_iteration}/{total_iterations}. Currently processing cell type {target_cell_type} with chromosome {target_chrom}\", end=\"...\")\n",
    "        results_df_all = eqtl.run(target_cell_type, target_chrom, cis_window)\n",
    "        current_iteration += 1\n",
    "        print(f\"Finished to run the pipeline, dumping a table of shape {results_df.shape} to {dump_dir}\")"
   ]
  }
 ],
 "metadata": {
  "kernelspec": {
   "display_name": "theislab-combosciplex",
   "language": "python",
   "name": "python3"
  },
  "language_info": {
   "codemirror_mode": {
    "name": "ipython",
    "version": 3
   },
   "file_extension": ".py",
   "mimetype": "text/x-python",
   "name": "python",
   "nbconvert_exporter": "python",
   "pygments_lexer": "ipython3",
   "version": "3.12.5"
  }
 },
 "nbformat": 4,
 "nbformat_minor": 2
}
