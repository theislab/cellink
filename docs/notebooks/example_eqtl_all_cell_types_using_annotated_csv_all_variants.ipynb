{
 "cells": [
  {
   "cell_type": "code",
   "execution_count": null,
   "metadata": {},
   "outputs": [],
   "source": [
    "import logging\n",
    "import warnings\n",
    "import os\n",
    "\n",
    "import anndata as ad\n",
    "import scanpy as sc\n",
    "import numpy as np\n",
    "import anndata as an\n",
    "import pandas as pd\n",
    "\n",
    "from tqdm.notebook import tqdm\n",
    "from anndata.utils import asarray\n",
    "from pathlib import Path\n",
    "from statsmodels.stats.multitest import fdrcorrection\n",
    "\n",
    "from cellink.io import read_sgkit_zarr\n",
    "from cellink.tl import get_all_eqtls_on_single_gene\n",
    "\n",
    "warnings.filterwarnings('ignore')\n",
    "\n",
    "logger = logging.getLogger(__name__)"
   ]
  },
  {
   "cell_type": "code",
   "execution_count": null,
   "metadata": {},
   "outputs": [],
   "source": [
    "DEBUG = False\n",
    "TARGET_CHROMOSOME = \"22\"\n",
    "THRESHOLD = 0.05\n",
    "## running the eqtl test\n",
    "CIS_WINDOW = 500_000"
   ]
  },
  {
   "cell_type": "code",
   "execution_count": null,
   "metadata": {},
   "outputs": [],
   "source": [
    "## paths\n",
    "DATA = Path(\"/home/lollo/Work/hackathon/data/Yazar_OneK1K\")\n",
    "#DATA = Path(\"/Users/jan.engelmann/projects/sc-eqtl/data\")\n",
    "\n",
    "vcf_file_path = DATA / \"OneK1K_imputation_post_qc_r2_08/filter_vcf_r08/chr22.dose.filtered.R2_0.8.vcf.gz\"\n",
    "\n",
    "zarr_path = vcf_file_path.parent.parent / \"filter_zarr_r08\"\n",
    "zarr_path.mkdir(exist_ok=True)\n",
    "\n",
    "icf_file_path = zarr_path / vcf_file_path.with_suffix(\".icf\").name\n",
    "zarr_file_path = (zarr_path / vcf_file_path.stem).with_suffix(\".vcz\")\n",
    "\n",
    "gene_annotation_path = DATA / \"gene_annotation.csv\"\n",
    "\n",
    "if DEBUG:\n",
    "    scdata_path = DATA / \"debug_OneK1K_cohort_gene_expression_matrix_14_celltypes.h5ad\"\n",
    "    scdata_annotated_path = DATA / \"debug_OneK1K_cohort_gene_expression_matrix_14_celltypes_filtered_annotated.h5ad\"\n",
    "else:\n",
    "    scdata_path = DATA / \"OneK1K_cohort_gene_expression_matrix_14_celltypes.h5ad.gz\"\n",
    "    scdata_annotated_path = DATA / \"OneK1K_cohort_gene_expression_matrix_14_celltypes_filtered_annotated.h5ad.gz\"\n",
    "\n",
    "dump_path = f\"/home/lollo/Work/hackathon/dump/eqtl_results_all_variants.csv\"\n",
    "\n",
    "print(gene_annotation_path, zarr_file_path, scdata_path)"
   ]
  },
  {
   "cell_type": "code",
   "execution_count": null,
   "metadata": {},
   "outputs": [],
   "source": [
    "## reading single cell data\n",
    "scdata = ad.read_h5ad(scdata_path)\n",
    "## adding column needed to match the annotated data\n",
    "scdata.var[\"ensembl_gene_id\"] = scdata.var_names\n",
    "scdata.var"
   ]
  },
  {
   "cell_type": "code",
   "execution_count": null,
   "metadata": {},
   "outputs": [],
   "source": [
    "## reading annotation data\n",
    "annotation_df = pd.read_csv(gene_annotation_path).loc[:, [\"ensembl_gene_id\", \"start_position\", \"end_position\", \"chromosome_name\"]]\n",
    "annotation_df = annotation_df.loc[annotation_df.ensembl_gene_id.isin(scdata.var_names)] \n",
    "annotation_df"
   ]
  },
  {
   "cell_type": "code",
   "execution_count": null,
   "metadata": {},
   "outputs": [],
   "source": [
    "## merging the scdata.var df with the annotations\n",
    "merged_df = scdata.var.merge(annotation_df, on = \"ensembl_gene_id\")\n",
    "merged_df = merged_df.rename(columns = {\"ensembl_gene_id\": \"Geneid\", \"start_position\": \"start\", \"end_position\": \"end\", \"chromosome_name\": \"chrom\"})\n",
    "merged_df.index = merged_df[\"Geneid\"]\n",
    "merged_df = merged_df.drop([\"Geneid\"], axis = 1)\n",
    "scdata.var = merged_df\n",
    "scdata.var"
   ]
  },
  {
   "cell_type": "code",
   "execution_count": null,
   "metadata": {},
   "outputs": [],
   "source": [
    "## reading genetic data\n",
    "gdata = read_sgkit_zarr(zarr_file_path)\n",
    "gdata.obs = gdata.obs.set_index(\"id\")\n",
    "gdata"
   ]
  },
  {
   "cell_type": "code",
   "execution_count": null,
   "metadata": {},
   "outputs": [],
   "source": [
    "## constructing result output\n",
    "results = []\n",
    "for cell_label in scdata.obs.cell_label.unique():\n",
    "    ## subsetting the scdata over the current cell_label\n",
    "    scdata_cell = scdata[scdata.obs.cell_label == cell_label]\n",
    "    ## normalizing counts\n",
    "    sc.pp.normalize_total(scdata_cell)\n",
    "    sc.pp.log1p(scdata_cell)\n",
    "    sc.pp.normalize_total(scdata_cell)\n",
    "    scdata_cell = scdata_cell[:, scdata_cell.var[\"chrom\"] == TARGET_CHROMOSOME]\n",
    "    ## aggregating the data\n",
    "    pbdata = sc.get.aggregate(scdata_cell, \"individual\", \"mean\")\n",
    "    gdata_cell = gdata[pbdata.obs.index]\n",
    "    pbdata.X = pbdata.layers[\"mean\"]\n",
    "    ## sanity check (we have all the individuals from both data sources)\n",
    "    assert (pbdata.obs.index == gdata_cell.obs.index).all()\n",
    "    ## filter out genes that are expressed in less than ten individuals\n",
    "    sc.pp.filter_genes(pbdata, min_cells = 10) \n",
    "    ## performing eqtl tests over the genes with chrom 22\n",
    "    for target_gene in tqdm(pbdata.var_names):\n",
    "        eqtl_results = get_all_eqtls_on_single_gene(pbdata, gdata_cell, target_gene, CIS_WINDOW)\n",
    "        if len(eqtl_results) == 0:\n",
    "            print(f\"No matches found for the current combination of gene {target_gene} and {cell_label} using window of {cis_window}\")\n",
    "            eqtl_results = {\"target_gene\": target_gene, \"no_tested_variants\": 0}\n",
    "        eqtl_results = [{'cell_label': cell_label, **row} for row in eqtl_results]\n",
    "        results += eqtl_results\n",
    "    ## constructing output DataFrame\n",
    "    eqtl_results_df = pd.DataFrame(results)\n",
    "    ## saving the resulting dataframe\n",
    "    eqtl_results_df.to_csv(dump_path, index = False)\n",
    "# eqtl_results_df[\"pv_reject\"] = eqtl_results_df[\"min_pv\"] < THRESHOLD\n",
    "# eqtl_results_df[\"bf_pv\"] = np.clip(eqtl_results_df[\"min_pv\"]*eqtl_results_df[\"no_tested_variants\"], 0, 1)\n",
    "# eqtl_results_df[\"bf_pv_reject\"] = eqtl_results_df[\"bf_pv\"] < THRESHOLD\n",
    "# eqtl_results_df[\"q_val\"] = fdrcorrection(eqtl_results_df[\"bf_pv\"].values)[1]\n",
    "# eqtl_results_df[\"q_val_reject\"] = eqtl_results_df[\"q_val\"] < THRESHOLD\n",
    "# eqtl_results_df.to_csv(f\"/home/lollo/Work/hackathon/dump/eqtl_results.csv\", index = False)"
   ]
  },
  {
   "cell_type": "markdown",
   "metadata": {},
   "source": [
    "## TODOs\n",
    "\n",
    "- [x] Run on all genes on Chromosome 22\n",
    "- [x] For each gene store: minimum p value, number of variants tested, id of minimum pv variant, gene name\n",
    "- [x] Bonferroni correction per hit: pv_gene = pv * num_cis_variants, np clip to (0,1)\n",
    "- [x] subset to bonferroni sginifcant hits (pv_gene < 0.05)\n",
    "- [x] benjamini hochberg across tests -> qv\n",
    "- [x] report # of qv < 0.05\n",
    "- [ ] check how many hits you have compared to OneK1K\n",
    "- [x] add gwas to tools\n",
    "- [x] Figure out how to render several notebooks\n",
    "- [ ] Stretch goal: all cell types"
   ]
  },
  {
   "cell_type": "markdown",
   "metadata": {},
   "source": []
  }
 ],
 "metadata": {
  "kernelspec": {
   "display_name": "theislab-combosciplex",
   "language": "python",
   "name": "python3"
  },
  "language_info": {
   "codemirror_mode": {
    "name": "ipython",
    "version": 3
   },
   "file_extension": ".py",
   "mimetype": "text/x-python",
   "name": "python",
   "nbconvert_exporter": "python",
   "pygments_lexer": "ipython3",
   "version": "3.12.5"
  }
 },
 "nbformat": 4,
 "nbformat_minor": 2
}
