{
 "cells": [
  {
   "cell_type": "code",
   "execution_count": null,
   "metadata": {},
   "outputs": [],
   "source": [
    "## installing the package\n",
    "! pip uninstall -q -y cellink\n",
    "! pip install -q ../../.\n",
    "! pwd\n",
    "\n",
    "## importing the libraries\n",
    "from pathlib import Path\n",
    "import os\n",
    "import pandas as pd\n",
    "\n",
    "import scanpy as sc\n",
    "import cellink as cl\n",
    "\n",
    "## defining the path to the data\n",
    "scdata_path = \"/home/lollo/Work/hackathon/data/Yazar_OneK1K/OneK1K_cohort_gene_expression_matrix_14_celltypes.h5ad.gz\"\n",
    "scdata_path = \"/home/lollo/Work/hackathon/data/Yazar_OneK1K/debug_OneK1K_cohort_gene_expression_matrix_14_celltypes.h5ad\"\n",
    "annotation_path = \"/home/lollo/Work/hackathon/data/Yazar_OneK1K/gene_annotation.csv\"\n",
    "gdata_path = \"/home/lollo/Work/hackathon/data/Yazar_OneK1K/OneK1K_imputation_post_qc_r2_08/plink/\"\n",
    "dump_path = \"/home/lollo/Work/out/dumps-sc-genetics\"\n",
    "## defining target chromosome and cell type\n",
    "target_chromosome = \"1\"\n",
    "target_cell_type = \"CD4 ET\""
   ]
  },
  {
   "cell_type": "code",
   "execution_count": null,
   "metadata": {},
   "outputs": [],
   "source": [
    "## reading single cell data\n",
    "scdata = sc.read_h5ad(scdata_path)\n",
    "## reading annotation data\n",
    "annotation_df = pd.read_csv(annotation_path).loc[\n",
    "    :, [\"ensembl_gene_id\", \"start_position\", \"end_position\", \"chromosome_name\"]\n",
    "]\n",
    "annotation_df = annotation_df.loc[annotation_df.ensembl_gene_id.isin(scdata.var_names)]\n",
    "## merging the scdata.var df with the annotations\n",
    "merged_df = pd.merge(scdata.var, annotation_df, left_index=True, right_on=\"ensembl_gene_id\")\n",
    "merged_df = merged_df.rename(\n",
    "    columns={\n",
    "        \"ensembl_gene_id\": \"Geneid\",\n",
    "        \"start_position\": \"start\",\n",
    "        \"end_position\": \"end\",\n",
    "        \"chromosome_name\": \"chrom\",\n",
    "    }\n",
    ")\n",
    "merged_df.index = merged_df[\"Geneid\"]\n",
    "scdata.var = merged_df\n",
    "## loading the genetics data\n",
    "plink_file = os.path.join(gdata_path, f\"chr{target_chromosome}.dose.filtered.R2_0.8\")\n",
    "gdata = cl.io.read_plink(plink_file)\n",
    "## constructing donor data\n",
    "data = cl.DonorData(adata=scdata, gdata=gdata, donor_key_in_sc_adata=\"individual\")"
   ]
  },
  {
   "cell_type": "code",
   "execution_count": null,
   "metadata": {},
   "outputs": [],
   "source": [
    "## running eqtl\n",
    "cl.tl.eqtl(\n",
    "    data, \n",
    "    target_cell_type, \n",
    "    target_chromosome,\n",
    "    dump_dir = dump_path\n",
    ")"
   ]
  }
 ],
 "metadata": {
  "kernelspec": {
   "display_name": "theislab-combosciplex",
   "language": "python",
   "name": "python3"
  },
  "language_info": {
   "codemirror_mode": {
    "name": "ipython",
    "version": 3
   },
   "file_extension": ".py",
   "mimetype": "text/x-python",
   "name": "python",
   "nbconvert_exporter": "python",
   "pygments_lexer": "ipython3",
   "version": "3.12.5"
  }
 },
 "nbformat": 4,
 "nbformat_minor": 2
}
