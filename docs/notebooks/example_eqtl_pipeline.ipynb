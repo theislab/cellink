{
 "cells": [
  {
   "cell_type": "code",
   "execution_count": 1,
   "metadata": {},
   "outputs": [
    {
     "name": "stdout",
     "output_type": "stream",
     "text": [
      "/home/lollo/Work/code/repos/forks/sc-genetics/docs/notebooks\n"
     ]
    }
   ],
   "source": [
    "## installing the package\n",
    "! pip uninstall -q -y cellink\n",
    "! pip install -q ../../.\n",
    "! pwd\n",
    "\n",
    "## importing the libraries\n",
    "from pathlib import Path\n",
    "import os\n",
    "import pandas as pd\n",
    "\n",
    "import scanpy as sc\n",
    "import cellink as cl\n",
    "\n",
    "## defining the path to the data\n",
    "scdata_path = \"/home/lollo/Work/hackathon/data/Yazar_OneK1K/OneK1K_cohort_gene_expression_matrix_14_celltypes.h5ad.gz\"\n",
    "annotation_path = \"/home/lollo/Work/hackathon/data/Yazar_OneK1K/gene_annotation.csv\"\n",
    "gdata_path = \"/home/lollo/Work/hackathon/data/Yazar_OneK1K/OneK1K_imputation_post_qc_r2_08/plink/\"\n",
    "dump_path = \"/home/lollo/Work/out/dumps-sc-genetics\"\n",
    "## defining target chromosome and cell type\n",
    "target_chromosome = \"1\"\n",
    "target_cell_type = \"CD4 ET\""
   ]
  },
  {
   "cell_type": "code",
   "execution_count": 2,
   "metadata": {},
   "outputs": [
    {
     "name": "stdout",
     "output_type": "stream",
     "text": [
      "[2024-11-20 17:31:40,280] INFO:cellink._core.donordata: Keeping 981/1034 donors\n",
      "[2024-11-20 17:31:40,281] INFO:cellink._core.donordata: Dropping 53/1034 donors from genetic data\n",
      "[2024-11-20 17:31:40,281] INFO:cellink._core.donordata: Dropping 0/981 donors from single-cell data\n"
     ]
    }
   ],
   "source": [
    "## reading single cell data\n",
    "scdata = sc.read_h5ad(scdata_path)\n",
    "## reading annotation data\n",
    "annotation_df = pd.read_csv(annotation_path).loc[\n",
    "    :, [\"ensembl_gene_id\", \"start_position\", \"end_position\", \"chromosome_name\"]\n",
    "]\n",
    "annotation_df = annotation_df.loc[annotation_df.ensembl_gene_id.isin(scdata.var_names)]\n",
    "## merging the scdata.var df with the annotations\n",
    "merged_df = pd.merge(scdata.var, annotation_df, left_index=True, right_on=\"ensembl_gene_id\")\n",
    "merged_df = merged_df.rename(\n",
    "    columns={\n",
    "        \"ensembl_gene_id\": \"Geneid\",\n",
    "        \"start_position\": \"start\",\n",
    "        \"end_position\": \"end\",\n",
    "        \"chromosome_name\": \"chrom\",\n",
    "    }\n",
    ")\n",
    "merged_df.index = merged_df[\"Geneid\"]\n",
    "scdata.var = merged_df\n",
    "## loading the genetics data\n",
    "plink_file = os.path.join(gdata_path, f\"chr{target_chromosome}.dose.filtered.R2_0.8\")\n",
    "gdata = cl.io.read_plink(plink_file)\n",
    "## constructing donor data\n",
    "data = cl.DonorData(adata=scdata, gdata=gdata, donor_key_in_sc_adata=\"individual\")"
   ]
  },
  {
   "cell_type": "code",
   "execution_count": 3,
   "metadata": {},
   "outputs": [
    {
     "name": "stderr",
     "output_type": "stream",
     "text": [
      "/home/lollo/miniconda3/envs/theislab-combosciplex/lib/python3.12/site-packages/cellink/tl/_eqtl.py:208: FutureWarning: The default of observed=False is deprecated and will be changed to True in a future version of pandas. Pass observed=False to retain current behavior or observed=True to adopt the future default and silence this warning.\n",
      "  reference_data = reference_data.groupby(donor_key_in_scdata).agg([\"unique\"])\n",
      "/home/lollo/miniconda3/envs/theislab-combosciplex/lib/python3.12/site-packages/cellink/tl/_eqtl.py:208: FutureWarning: The default of observed=False is deprecated and will be changed to True in a future version of pandas. Pass observed=False to retain current behavior or observed=True to adopt the future default and silence this warning.\n",
      "  reference_data = reference_data.groupby(donor_key_in_scdata).agg([\"unique\"])\n",
      "/home/lollo/miniconda3/envs/theislab-combosciplex/lib/python3.12/site-packages/scanpy/preprocessing/_pca.py:377: FutureWarning: Argument `use_highly_variable` is deprecated, consider using the mask argument. Use_highly_variable=True can be called through mask_var=\"highly_variable\". Use_highly_variable=False can be called through mask_var=None\n",
      "  warn(msg, FutureWarning)\n"
     ]
    },
    {
     "name": "stdout",
     "output_type": "stream",
     "text": [
      "[2024-11-20 17:31:51,735] INFO:cellink._core.donordata: Keeping 981/981 donors\n",
      "[2024-11-20 17:31:51,736] INFO:cellink._core.donordata: Dropping 0/981 donors from genetic data\n",
      "[2024-11-20 17:31:51,736] INFO:cellink._core.donordata: Dropping 0/981 donors from single-cell data\n",
      "[2024-11-20 17:31:51,739] INFO:cellink.tl._eqtl: `target_genes` not defined, running the EQTL agains all the 1153 genes for current combination of target_cell_type='CD4 ET', target_chromosome='2'.\n"
     ]
    },
    {
     "name": "stderr",
     "output_type": "stream",
     "text": [
      "  0%|          | 0/1153 [00:00<?, ?it/s]"
     ]
    },
    {
     "name": "stdout",
     "output_type": "stream",
     "text": [
      "[2024-11-20 17:31:51,740] INFO:cellink.tl._eqtl: Running EQTL target_cell_type='CD4 ET', target_chromosome='2' target_gene='ENSG00000184731'\n"
     ]
    },
    {
     "name": "stderr",
     "output_type": "stream",
     "text": [
      "  0%|          | 1/1153 [00:02<50:13,  2.62s/it]"
     ]
    },
    {
     "name": "stdout",
     "output_type": "stream",
     "text": [
      "[2024-11-20 17:31:54,357] INFO:cellink.tl._eqtl: Running EQTL target_cell_type='CD4 ET', target_chromosome='2' target_gene='ENSG00000035115'\n"
     ]
    },
    {
     "name": "stderr",
     "output_type": "stream",
     "text": [
      "  0%|          | 2/1153 [00:05<50:08,  2.61s/it]"
     ]
    },
    {
     "name": "stdout",
     "output_type": "stream",
     "text": [
      "[2024-11-20 17:31:56,970] INFO:cellink.tl._eqtl: Running EQTL target_cell_type='CD4 ET', target_chromosome='2' target_gene='ENSG00000143727'\n"
     ]
    },
    {
     "name": "stderr",
     "output_type": "stream",
     "text": [
      "  0%|          | 3/1153 [00:07<49:27,  2.58s/it]"
     ]
    },
    {
     "name": "stdout",
     "output_type": "stream",
     "text": [
      "[2024-11-20 17:31:59,510] INFO:cellink.tl._eqtl: Running EQTL target_cell_type='CD4 ET', target_chromosome='2' target_gene='ENSG00000151353'\n"
     ]
    },
    {
     "name": "stderr",
     "output_type": "stream",
     "text": [
      "  0%|          | 4/1153 [00:10<49:04,  2.56s/it]"
     ]
    },
    {
     "name": "stdout",
     "output_type": "stream",
     "text": [
      "[2024-11-20 17:32:02,045] INFO:cellink.tl._eqtl: Running EQTL target_cell_type='CD4 ET', target_chromosome='2' target_gene='ENSG00000233296'\n"
     ]
    },
    {
     "name": "stderr",
     "output_type": "stream",
     "text": [
      "  0%|          | 5/1153 [00:12<49:02,  2.56s/it]"
     ]
    },
    {
     "name": "stdout",
     "output_type": "stream",
     "text": [
      "[2024-11-20 17:32:04,609] INFO:cellink.tl._eqtl: Running EQTL target_cell_type='CD4 ET', target_chromosome='2' target_gene='ENSG00000237667'\n"
     ]
    },
    {
     "ename": "KeyboardInterrupt",
     "evalue": "",
     "output_type": "error",
     "traceback": [
      "\u001b[0;31m---------------------------------------------------------------------------\u001b[0m",
      "\u001b[0;31mKeyboardInterrupt\u001b[0m                         Traceback (most recent call last)",
      "Cell \u001b[0;32mIn[3], line 2\u001b[0m\n\u001b[1;32m      1\u001b[0m \u001b[38;5;66;03m## running eqtl\u001b[39;00m\n\u001b[0;32m----> 2\u001b[0m \u001b[43mcl\u001b[49m\u001b[38;5;241;43m.\u001b[39;49m\u001b[43mtl\u001b[49m\u001b[38;5;241;43m.\u001b[39;49m\u001b[43meqtl\u001b[49m\u001b[43m(\u001b[49m\n\u001b[1;32m      3\u001b[0m \u001b[43m    \u001b[49m\u001b[43mdata\u001b[49m\u001b[43m,\u001b[49m\u001b[43m \u001b[49m\n\u001b[1;32m      4\u001b[0m \u001b[43m    \u001b[49m\u001b[43mtarget_cell_type\u001b[49m\u001b[43m,\u001b[49m\u001b[43m \u001b[49m\n\u001b[1;32m      5\u001b[0m \u001b[43m    \u001b[49m\u001b[43mtarget_chromosome\u001b[49m\u001b[43m,\u001b[49m\n\u001b[1;32m      6\u001b[0m \u001b[43m    \u001b[49m\u001b[43mn_sc_comps\u001b[49m\u001b[38;5;241;43m=\u001b[39;49m\u001b[43m \u001b[49m\u001b[38;5;241;43m300\u001b[39;49m\u001b[43m,\u001b[49m\n\u001b[1;32m      7\u001b[0m \u001b[43m    \u001b[49m\u001b[43mn_genetic_pcs\u001b[49m\u001b[43m \u001b[49m\u001b[38;5;241;43m=\u001b[39;49m\u001b[43m \u001b[49m\u001b[38;5;241;43m300\u001b[39;49m\u001b[43m,\u001b[49m\n\u001b[1;32m      8\u001b[0m \u001b[43m    \u001b[49m\u001b[43mdump_dir\u001b[49m\u001b[43m \u001b[49m\u001b[38;5;241;43m=\u001b[39;49m\u001b[43m \u001b[49m\u001b[43mdump_path\u001b[49m\n\u001b[1;32m      9\u001b[0m \u001b[43m)\u001b[49m\n",
      "File \u001b[0;32m~/miniconda3/envs/theislab-combosciplex/lib/python3.12/site-packages/cellink/tl/_eqtl.py:792\u001b[0m, in \u001b[0;36meqtl\u001b[0;34m(donor_data, target_cell_type, target_chromosome, target_genes, donor_key_in_scdata, sex_key_in_scdata, age_key_in_scdata, pseudobulk_aggregation_type, min_individuals_threshold, n_top_genes, n_sc_comps, n_genetic_pcs, cis_window, transforms_seq, pv_transforms, mode, prog_bar, all_genes, dump_results, dump_dir, file_prefix)\u001b[0m\n\u001b[1;32m    790\u001b[0m     target_chromosome \u001b[38;5;241m=\u001b[39m \u001b[38;5;28mstr\u001b[39m(target_chromosome)\n\u001b[1;32m    791\u001b[0m \u001b[38;5;66;03m## running the pipeline and constructing results DataFrame\u001b[39;00m\n\u001b[0;32m--> 792\u001b[0m results \u001b[38;5;241m=\u001b[39m \u001b[43m_run_eqtl\u001b[49m\u001b[43m(\u001b[49m\n\u001b[1;32m    793\u001b[0m \u001b[43m    \u001b[49m\u001b[43mdonor_data\u001b[49m\u001b[43m,\u001b[49m\n\u001b[1;32m    794\u001b[0m \u001b[43m    \u001b[49m\u001b[43mtarget_cell_type\u001b[49m\u001b[43m,\u001b[49m\u001b[43m \u001b[49m\n\u001b[1;32m    795\u001b[0m \u001b[43m    \u001b[49m\u001b[43mtarget_chromosome\u001b[49m\u001b[43m,\u001b[49m\n\u001b[1;32m    796\u001b[0m \u001b[43m    \u001b[49m\u001b[43mtarget_genes\u001b[49m\u001b[43m,\u001b[49m\n\u001b[1;32m    797\u001b[0m \u001b[43m    \u001b[49m\u001b[43mdonor_key_in_scdata\u001b[49m\u001b[43m,\u001b[49m\n\u001b[1;32m    798\u001b[0m \u001b[43m    \u001b[49m\u001b[43msex_key_in_scdata\u001b[49m\u001b[43m,\u001b[49m\n\u001b[1;32m    799\u001b[0m \u001b[43m    \u001b[49m\u001b[43mage_key_in_scdata\u001b[49m\u001b[43m,\u001b[49m\n\u001b[1;32m    800\u001b[0m \u001b[43m    \u001b[49m\u001b[43mpseudobulk_aggregation_type\u001b[49m\u001b[43m,\u001b[49m\n\u001b[1;32m    801\u001b[0m \u001b[43m    \u001b[49m\u001b[43mmin_individuals_threshold\u001b[49m\u001b[43m,\u001b[49m\n\u001b[1;32m    802\u001b[0m \u001b[43m    \u001b[49m\u001b[43mn_top_genes\u001b[49m\u001b[43m,\u001b[49m\u001b[43m \u001b[49m\n\u001b[1;32m    803\u001b[0m \u001b[43m    \u001b[49m\u001b[43mn_sc_comps\u001b[49m\u001b[43m,\u001b[49m\n\u001b[1;32m    804\u001b[0m \u001b[43m    \u001b[49m\u001b[43mn_genetic_pcs\u001b[49m\u001b[43m,\u001b[49m\n\u001b[1;32m    805\u001b[0m \u001b[43m    \u001b[49m\u001b[43mcis_window\u001b[49m\u001b[43m,\u001b[49m\u001b[43m \u001b[49m\n\u001b[1;32m    806\u001b[0m \u001b[43m    \u001b[49m\u001b[43mtransforms_seq\u001b[49m\u001b[43m,\u001b[49m\n\u001b[1;32m    807\u001b[0m \u001b[43m    \u001b[49m\u001b[43mpv_transforms\u001b[49m\u001b[43m,\u001b[49m\n\u001b[1;32m    808\u001b[0m \u001b[43m    \u001b[49m\u001b[43mmode\u001b[49m\u001b[43m,\u001b[49m\n\u001b[1;32m    809\u001b[0m \u001b[43m    \u001b[49m\u001b[43mprog_bar\u001b[49m\u001b[43m,\u001b[49m\n\u001b[1;32m    810\u001b[0m \u001b[43m\u001b[49m\u001b[43m)\u001b[49m\n\u001b[1;32m    811\u001b[0m results_df \u001b[38;5;241m=\u001b[39m pd\u001b[38;5;241m.\u001b[39mDataFrame(results)\n\u001b[1;32m    812\u001b[0m \u001b[38;5;66;03m## postprocessing the results\u001b[39;00m\n",
      "File \u001b[0;32m~/miniconda3/envs/theislab-combosciplex/lib/python3.12/site-packages/cellink/tl/_eqtl.py:683\u001b[0m, in \u001b[0;36m_run_eqtl\u001b[0;34m(donor_data, target_cell_type, target_chromosome, target_genes, donor_key_in_scdata, sex_key_in_scdata, age_key_in_scdata, pseudobulk_aggregation_type, min_individuals_threshold, n_top_genes, n_sc_comps, n_genetic_pcs, cis_window, transforms_seq, pv_transforms, mode, prog_bar)\u001b[0m\n\u001b[1;32m    681\u001b[0m     \u001b[38;5;28;01mcontinue\u001b[39;00m\n\u001b[1;32m    682\u001b[0m \u001b[38;5;66;03m## running the gwas on gene\u001b[39;00m\n\u001b[0;32m--> 683\u001b[0m output \u001b[38;5;241m+\u001b[39m\u001b[38;5;241m=\u001b[39m \u001b[43m_gwas\u001b[49m\u001b[43m(\u001b[49m\n\u001b[1;32m    684\u001b[0m \u001b[43m    \u001b[49m\u001b[43mpb_data\u001b[49m\u001b[43m,\u001b[49m\u001b[43m \u001b[49m\n\u001b[1;32m    685\u001b[0m \u001b[43m    \u001b[49m\u001b[43mtarget_cell_type\u001b[49m\u001b[43m,\u001b[49m\u001b[43m \u001b[49m\n\u001b[1;32m    686\u001b[0m \u001b[43m    \u001b[49m\u001b[43mtarget_chromosome\u001b[49m\u001b[43m,\u001b[49m\n\u001b[1;32m    687\u001b[0m \u001b[43m    \u001b[49m\u001b[43mtarget_gene\u001b[49m\u001b[43m,\u001b[49m\u001b[43m \u001b[49m\n\u001b[1;32m    688\u001b[0m \u001b[43m    \u001b[49m\u001b[43mcis_window\u001b[49m\u001b[43m,\u001b[49m\u001b[43m \u001b[49m\n\u001b[1;32m    689\u001b[0m \u001b[43m    \u001b[49m\u001b[43mtransforms_seq\u001b[49m\u001b[43m,\u001b[49m\n\u001b[1;32m    690\u001b[0m \u001b[43m    \u001b[49m\u001b[43mpv_transforms\u001b[49m\u001b[43m,\u001b[49m\n\u001b[1;32m    691\u001b[0m \u001b[43m    \u001b[49m\u001b[43mmode\u001b[49m\u001b[43m,\u001b[49m\n\u001b[1;32m    692\u001b[0m \u001b[43m\u001b[49m\u001b[43m)\u001b[49m\n\u001b[1;32m    693\u001b[0m \u001b[38;5;66;03m## updating the iterator\u001b[39;00m\n\u001b[1;32m    694\u001b[0m \u001b[38;5;28;01mif\u001b[39;00m iterator \u001b[38;5;129;01mis\u001b[39;00m \u001b[38;5;129;01mnot\u001b[39;00m \u001b[38;5;28;01mNone\u001b[39;00m:\n",
      "File \u001b[0;32m~/miniconda3/envs/theislab-combosciplex/lib/python3.12/site-packages/cellink/tl/_eqtl.py:584\u001b[0m, in \u001b[0;36m_gwas\u001b[0;34m(pb_data, target_cell_type, target_chromosome, target_gene, cis_window, transforms_seq, pv_transforms, mode)\u001b[0m\n\u001b[1;32m    582\u001b[0m transform_fn \u001b[38;5;241m=\u001b[39m partial(_apply_transforms_seq, transforms_seq\u001b[38;5;241m=\u001b[39mtransforms_seq)\n\u001b[1;32m    583\u001b[0m \u001b[38;5;66;03m## preparing gwas data\u001b[39;00m\n\u001b[0;32m--> 584\u001b[0m gwas_data \u001b[38;5;241m=\u001b[39m \u001b[43m_prepare_gwas_data\u001b[49m\u001b[43m(\u001b[49m\u001b[43mpb_data\u001b[49m\u001b[43m,\u001b[49m\u001b[43m \u001b[49m\u001b[43mtarget_gene\u001b[49m\u001b[43m,\u001b[49m\u001b[43m \u001b[49m\u001b[43mtarget_chromosome\u001b[49m\u001b[43m,\u001b[49m\u001b[43m \u001b[49m\u001b[43mcis_window\u001b[49m\u001b[43m,\u001b[49m\u001b[43m \u001b[49m\u001b[43mtransform_fn\u001b[49m\u001b[43m)\u001b[49m\n\u001b[1;32m    585\u001b[0m \u001b[38;5;28;01mif\u001b[39;00m gwas_data \u001b[38;5;129;01mis\u001b[39;00m \u001b[38;5;28;01mNone\u001b[39;00m:\n\u001b[1;32m    586\u001b[0m     logger\u001b[38;5;241m.\u001b[39minfo(\u001b[38;5;124mf\u001b[39m\u001b[38;5;124m\"\u001b[39m\u001b[38;5;124mNo cis snips found for \u001b[39m\u001b[38;5;132;01m{\u001b[39;00mtarget_cell_type\u001b[38;5;132;01m=}\u001b[39;00m\u001b[38;5;124m, \u001b[39m\u001b[38;5;132;01m{\u001b[39;00mtarget_chromosome\u001b[38;5;132;01m=}\u001b[39;00m\u001b[38;5;124m, \u001b[39m\u001b[38;5;132;01m{\u001b[39;00mtarget_gene\u001b[38;5;132;01m=}\u001b[39;00m\u001b[38;5;124m for cis window of \u001b[39m\u001b[38;5;132;01m{\u001b[39;00mcis_window\u001b[38;5;132;01m}\u001b[39;00m\u001b[38;5;124m\"\u001b[39m)\n",
      "File \u001b[0;32m~/miniconda3/envs/theislab-combosciplex/lib/python3.12/site-packages/cellink/tl/_eqtl.py:369\u001b[0m, in \u001b[0;36m_prepare_gwas_data\u001b[0;34m(pb_data, target_gene, target_chromosome, cis_window, transforms)\u001b[0m\n\u001b[1;32m    367\u001b[0m \u001b[38;5;28;01mif\u001b[39;00m subgadata\u001b[38;5;241m.\u001b[39mshape[\u001b[38;5;241m1\u001b[39m] \u001b[38;5;241m==\u001b[39m \u001b[38;5;241m0\u001b[39m:\n\u001b[1;32m    368\u001b[0m     \u001b[38;5;28;01mreturn\u001b[39;00m \u001b[38;5;28;01mNone\u001b[39;00m\n\u001b[0;32m--> 369\u001b[0m G \u001b[38;5;241m=\u001b[39m \u001b[43msubgadata\u001b[49m\u001b[38;5;241;43m.\u001b[39;49m\u001b[43mX\u001b[49m\u001b[38;5;241;43m.\u001b[39;49m\u001b[43mcompute\u001b[49m\u001b[43m(\u001b[49m\u001b[43m)\u001b[49m\n\u001b[1;32m    370\u001b[0m F \u001b[38;5;241m=\u001b[39m pb_data\u001b[38;5;241m.\u001b[39madata\u001b[38;5;241m.\u001b[39mobsm[\u001b[38;5;124m\"\u001b[39m\u001b[38;5;124mF\u001b[39m\u001b[38;5;124m\"\u001b[39m]\n\u001b[1;32m    371\u001b[0m \u001b[38;5;28;01mreturn\u001b[39;00m Y, F, G\n",
      "File \u001b[0;32m~/miniconda3/envs/theislab-combosciplex/lib/python3.12/site-packages/dask/base.py:372\u001b[0m, in \u001b[0;36mDaskMethodsMixin.compute\u001b[0;34m(self, **kwargs)\u001b[0m\n\u001b[1;32m    348\u001b[0m \u001b[38;5;28;01mdef\u001b[39;00m \u001b[38;5;21mcompute\u001b[39m(\u001b[38;5;28mself\u001b[39m, \u001b[38;5;241m*\u001b[39m\u001b[38;5;241m*\u001b[39mkwargs):\n\u001b[1;32m    349\u001b[0m \u001b[38;5;250m    \u001b[39m\u001b[38;5;124;03m\"\"\"Compute this dask collection\u001b[39;00m\n\u001b[1;32m    350\u001b[0m \n\u001b[1;32m    351\u001b[0m \u001b[38;5;124;03m    This turns a lazy Dask collection into its in-memory equivalent.\u001b[39;00m\n\u001b[0;32m   (...)\u001b[0m\n\u001b[1;32m    370\u001b[0m \u001b[38;5;124;03m    dask.compute\u001b[39;00m\n\u001b[1;32m    371\u001b[0m \u001b[38;5;124;03m    \"\"\"\u001b[39;00m\n\u001b[0;32m--> 372\u001b[0m     (result,) \u001b[38;5;241m=\u001b[39m \u001b[43mcompute\u001b[49m\u001b[43m(\u001b[49m\u001b[38;5;28;43mself\u001b[39;49m\u001b[43m,\u001b[49m\u001b[43m \u001b[49m\u001b[43mtraverse\u001b[49m\u001b[38;5;241;43m=\u001b[39;49m\u001b[38;5;28;43;01mFalse\u001b[39;49;00m\u001b[43m,\u001b[49m\u001b[43m \u001b[49m\u001b[38;5;241;43m*\u001b[39;49m\u001b[38;5;241;43m*\u001b[39;49m\u001b[43mkwargs\u001b[49m\u001b[43m)\u001b[49m\n\u001b[1;32m    373\u001b[0m     \u001b[38;5;28;01mreturn\u001b[39;00m result\n",
      "File \u001b[0;32m~/miniconda3/envs/theislab-combosciplex/lib/python3.12/site-packages/dask/base.py:660\u001b[0m, in \u001b[0;36mcompute\u001b[0;34m(traverse, optimize_graph, scheduler, get, *args, **kwargs)\u001b[0m\n\u001b[1;32m    657\u001b[0m     postcomputes\u001b[38;5;241m.\u001b[39mappend(x\u001b[38;5;241m.\u001b[39m__dask_postcompute__())\n\u001b[1;32m    659\u001b[0m \u001b[38;5;28;01mwith\u001b[39;00m shorten_traceback():\n\u001b[0;32m--> 660\u001b[0m     results \u001b[38;5;241m=\u001b[39m \u001b[43mschedule\u001b[49m\u001b[43m(\u001b[49m\u001b[43mdsk\u001b[49m\u001b[43m,\u001b[49m\u001b[43m \u001b[49m\u001b[43mkeys\u001b[49m\u001b[43m,\u001b[49m\u001b[43m \u001b[49m\u001b[38;5;241;43m*\u001b[39;49m\u001b[38;5;241;43m*\u001b[39;49m\u001b[43mkwargs\u001b[49m\u001b[43m)\u001b[49m\n\u001b[1;32m    662\u001b[0m \u001b[38;5;28;01mreturn\u001b[39;00m repack([f(r, \u001b[38;5;241m*\u001b[39ma) \u001b[38;5;28;01mfor\u001b[39;00m r, (f, a) \u001b[38;5;129;01min\u001b[39;00m \u001b[38;5;28mzip\u001b[39m(results, postcomputes)])\n",
      "File \u001b[0;32m~/miniconda3/envs/theislab-combosciplex/lib/python3.12/queue.py:171\u001b[0m, in \u001b[0;36mQueue.get\u001b[0;34m(self, block, timeout)\u001b[0m\n\u001b[1;32m    169\u001b[0m \u001b[38;5;28;01melif\u001b[39;00m timeout \u001b[38;5;129;01mis\u001b[39;00m \u001b[38;5;28;01mNone\u001b[39;00m:\n\u001b[1;32m    170\u001b[0m     \u001b[38;5;28;01mwhile\u001b[39;00m \u001b[38;5;129;01mnot\u001b[39;00m \u001b[38;5;28mself\u001b[39m\u001b[38;5;241m.\u001b[39m_qsize():\n\u001b[0;32m--> 171\u001b[0m         \u001b[38;5;28;43mself\u001b[39;49m\u001b[38;5;241;43m.\u001b[39;49m\u001b[43mnot_empty\u001b[49m\u001b[38;5;241;43m.\u001b[39;49m\u001b[43mwait\u001b[49m\u001b[43m(\u001b[49m\u001b[43m)\u001b[49m\n\u001b[1;32m    172\u001b[0m \u001b[38;5;28;01melif\u001b[39;00m timeout \u001b[38;5;241m<\u001b[39m \u001b[38;5;241m0\u001b[39m:\n\u001b[1;32m    173\u001b[0m     \u001b[38;5;28;01mraise\u001b[39;00m \u001b[38;5;167;01mValueError\u001b[39;00m(\u001b[38;5;124m\"\u001b[39m\u001b[38;5;124m'\u001b[39m\u001b[38;5;124mtimeout\u001b[39m\u001b[38;5;124m'\u001b[39m\u001b[38;5;124m must be a non-negative number\u001b[39m\u001b[38;5;124m\"\u001b[39m)\n",
      "File \u001b[0;32m~/miniconda3/envs/theislab-combosciplex/lib/python3.12/threading.py:355\u001b[0m, in \u001b[0;36mCondition.wait\u001b[0;34m(self, timeout)\u001b[0m\n\u001b[1;32m    353\u001b[0m \u001b[38;5;28;01mtry\u001b[39;00m:    \u001b[38;5;66;03m# restore state no matter what (e.g., KeyboardInterrupt)\u001b[39;00m\n\u001b[1;32m    354\u001b[0m     \u001b[38;5;28;01mif\u001b[39;00m timeout \u001b[38;5;129;01mis\u001b[39;00m \u001b[38;5;28;01mNone\u001b[39;00m:\n\u001b[0;32m--> 355\u001b[0m         \u001b[43mwaiter\u001b[49m\u001b[38;5;241;43m.\u001b[39;49m\u001b[43macquire\u001b[49m\u001b[43m(\u001b[49m\u001b[43m)\u001b[49m\n\u001b[1;32m    356\u001b[0m         gotit \u001b[38;5;241m=\u001b[39m \u001b[38;5;28;01mTrue\u001b[39;00m\n\u001b[1;32m    357\u001b[0m     \u001b[38;5;28;01melse\u001b[39;00m:\n",
      "\u001b[0;31mKeyboardInterrupt\u001b[0m: "
     ]
    }
   ],
   "source": [
    "## running eqtl\n",
    "cl.tl.eqtl(\n",
    "    data, \n",
    "    target_cell_type, \n",
    "    target_chromosome,\n",
    "    n_sc_comps= 300,\n",
    "    n_genetic_pcs = 300,\n",
    "    dump_dir = dump_path\n",
    ")"
   ]
  }
 ],
 "metadata": {
  "kernelspec": {
   "display_name": "theislab-combosciplex",
   "language": "python",
   "name": "python3"
  },
  "language_info": {
   "codemirror_mode": {
    "name": "ipython",
    "version": 3
   },
   "file_extension": ".py",
   "mimetype": "text/x-python",
   "name": "python",
   "nbconvert_exporter": "python",
   "pygments_lexer": "ipython3",
   "version": "3.12.5"
  }
 },
 "nbformat": 4,
 "nbformat_minor": 2
}
