{
 "cells": [
  {
   "cell_type": "code",
   "execution_count": 59,
   "id": "df6f91ac-d01b-42c8-90d7-8080fda37793",
   "metadata": {},
   "outputs": [],
   "source": [
    "import pandas as pd\n",
    "import numpy as np\n",
    "import anndata as ad\n",
    "import sgkit as sg\n",
    "import cellink  as cl\n",
    "from pathlib import Path\n",
    "import pickle\n",
    "import scanpy as sc\n",
    "import copy\n",
    "from tqdm import tqdm\n",
    "from plotnine import *"
   ]
  },
  {
   "cell_type": "code",
   "execution_count": 2,
   "id": "33c88950-3429-418e-be8f-049a6cba5002",
   "metadata": {},
   "outputs": [],
   "source": [
    "from cellink.tl._burden_testing import *"
   ]
  },
  {
   "cell_type": "code",
   "execution_count": 3,
   "id": "ac8e5ec3-b044-4e77-bdfc-276d59668b35",
   "metadata": {},
   "outputs": [],
   "source": [
    "from cellink import DonorData"
   ]
  },
  {
   "cell_type": "code",
   "execution_count": 4,
   "id": "d6fed0fb-3f3f-4588-ab05-6e379a04f74f",
   "metadata": {},
   "outputs": [],
   "source": [
    "cell_type_col = \"cell_label\""
   ]
  },
  {
   "cell_type": "code",
   "execution_count": 5,
   "id": "13b231bd-5be2-4b89-b91e-52954ed31c48",
   "metadata": {},
   "outputs": [],
   "source": [
    "gdata = ad.read_h5ad(\"gdata.h5ad\")\n",
    "gdata.obs = gdata.obs.set_index(\"id\", drop = False)"
   ]
  },
  {
   "cell_type": "code",
   "execution_count": 6,
   "id": "1113ca05-1a40-4ce9-a5d5-2da96c2d19e5",
   "metadata": {},
   "outputs": [
    {
     "data": {
      "text/plain": [
       "5000.0"
      ]
     },
     "execution_count": 6,
     "metadata": {},
     "output_type": "execute_result"
    }
   ],
   "source": [
    "gdata.varm[\"annotations_0\"][\"TSSDistance\"].max()"
   ]
  },
  {
   "cell_type": "code",
   "execution_count": 7,
   "id": "d00ab16e-cccd-46c7-869e-9d2d8ed70a9f",
   "metadata": {},
   "outputs": [
    {
     "data": {
      "text/plain": [
       "AnnData object with n_obs × n_vars = 1272489 × 673\n",
       "    obs: 'orig.ident', 'nCount_RNA', 'nFeature_RNA', 'pool', 'individual', 'percent.mt', 'latent', 'nCount_SCT', 'nFeature_SCT', 'cell_type', 'cell_label', 'sex', 'age'\n",
       "    var: 'GeneSymbol', 'features'"
      ]
     },
     "execution_count": 7,
     "metadata": {},
     "output_type": "execute_result"
    }
   ],
   "source": [
    "donor_key_in_sc_adata = \"individual\" \n",
    "\n",
    "adata = ad.read_h5ad(\"/s/project/deeprvat/eva/theislab/hackathon24/chr22_OneK1K_cohort_gene_expression_matrix_14_celltypes.h5ad.gz\")\n",
    "adata\n"
   ]
  },
  {
   "cell_type": "code",
   "execution_count": 8,
   "id": "4e9a1d64-9e2e-417c-9bd8-f39550dbdeed",
   "metadata": {},
   "outputs": [
    {
     "name": "stdout",
     "output_type": "stream",
     "text": [
      "[2024-10-10 19:26:39,984] INFO:cellink._core.donordata: Keeping 981/1034 donors\n",
      "[2024-10-10 19:26:39,984] INFO:cellink._core.donordata: Dropping 53/1034 donors from genetic data\n",
      "[2024-10-10 19:26:39,985] INFO:cellink._core.donordata: Dropping 0/981 donors from single-cell data\n"
     ]
    },
    {
     "data": {
      "text/html": [
       "<pre style=\"white-space:pre;overflow-x:auto;line-height:normal;font-family:Menlo,'DejaVu Sans Mono',consolas,'Courier New',monospace\">┏━━━━━━━━━━━━━━━━━━━━━━━━━━━━━━━━━━━━━━━━━━━━━━━━━━━━━━━━┳━━━━━━━━━━━━━━━━━━━━━━━━━━━━━━━━━━━━━━━━━━━━━━━━━━━━━━━━┓\n",
       "┃<span style=\"color: #800080; text-decoration-color: #800080; font-weight: bold\"> Cells (adata)                                          </span>┃<span style=\"color: #800080; text-decoration-color: #800080; font-weight: bold\"> Donors (gdata)                                         </span>┃\n",
       "┡━━━━━━━━━━━━━━━━━━━━━━━━━━━━━━━━━━━━━━━━━━━━━━━━━━━━━━━━╇━━━━━━━━━━━━━━━━━━━━━━━━━━━━━━━━━━━━━━━━━━━━━━━━━━━━━━━━┩\n",
       "│ View of AnnData object with n_obs × n_vars = 1272489 × │ View of AnnData object with n_obs × n_vars = 981 ×     │\n",
       "│ 673                                                    │ 143083                                                 │\n",
       "│     obs: 'orig.ident', 'nCount_RNA', 'nFeature_RNA',   │     obs: 'id'                                          │\n",
       "│ 'pool', '<span style=\"color: #000080; text-decoration-color: #000080; font-weight: bold; text-decoration: underline\">individual</span>', 'percent.mt', 'latent',          │                                                        │\n",
       "│ 'nCount_SCT', 'nFeature_SCT', 'cell_type',             │                                                        │\n",
       "│ 'cell_label', 'sex', 'age'                             │                                                        │\n",
       "│     var: 'GeneSymbol', 'features'                      │     var: 'chrom', 'pos', 'a0', 'a1', 'AF', 'ER2',      │\n",
       "│                                                        │ 'maf', 'R2', 'contig', 'id', 'id_mask', 'quality'      │\n",
       "│                                                        │     varm: 'annotations_0', 'annotations_1',            │\n",
       "│                                                        │ 'annotations_2', 'annotations_3', 'annotations_4',     │\n",
       "│                                                        │ 'annotations_5', 'annotations_6', 'annotations_7'      │\n",
       "└────────────────────────────────────────────────────────┴────────────────────────────────────────────────────────┘\n",
       "</pre>\n"
      ],
      "text/plain": [
       "┏━━━━━━━━━━━━━━━━━━━━━━━━━━━━━━━━━━━━━━━━━━━━━━━━━━━━━━━━┳━━━━━━━━━━━━━━━━━━━━━━━━━━━━━━━━━━━━━━━━━━━━━━━━━━━━━━━━┓\n",
       "┃\u001b[1;35m \u001b[0m\u001b[1;35mCells (adata)                                         \u001b[0m\u001b[1;35m \u001b[0m┃\u001b[1;35m \u001b[0m\u001b[1;35mDonors (gdata)                                        \u001b[0m\u001b[1;35m \u001b[0m┃\n",
       "┡━━━━━━━━━━━━━━━━━━━━━━━━━━━━━━━━━━━━━━━━━━━━━━━━━━━━━━━━╇━━━━━━━━━━━━━━━━━━━━━━━━━━━━━━━━━━━━━━━━━━━━━━━━━━━━━━━━┩\n",
       "│ View of AnnData object with n_obs × n_vars = 1272489 × │ View of AnnData object with n_obs × n_vars = 981 ×     │\n",
       "│ 673                                                    │ 143083                                                 │\n",
       "│     obs: 'orig.ident', 'nCount_RNA', 'nFeature_RNA',   │     obs: 'id'                                          │\n",
       "│ 'pool', '\u001b[1;4;34mindividual\u001b[0m', 'percent.mt', 'latent',          │                                                        │\n",
       "│ 'nCount_SCT', 'nFeature_SCT', 'cell_type',             │                                                        │\n",
       "│ 'cell_label', 'sex', 'age'                             │                                                        │\n",
       "│     var: 'GeneSymbol', 'features'                      │     var: 'chrom', 'pos', 'a0', 'a1', 'AF', 'ER2',      │\n",
       "│                                                        │ 'maf', 'R2', 'contig', 'id', 'id_mask', 'quality'      │\n",
       "│                                                        │     varm: 'annotations_0', 'annotations_1',            │\n",
       "│                                                        │ 'annotations_2', 'annotations_3', 'annotations_4',     │\n",
       "│                                                        │ 'annotations_5', 'annotations_6', 'annotations_7'      │\n",
       "└────────────────────────────────────────────────────────┴────────────────────────────────────────────────────────┘\n"
      ]
     },
     "metadata": {},
     "output_type": "display_data"
    },
    {
     "data": {
      "text/plain": []
     },
     "execution_count": 8,
     "metadata": {},
     "output_type": "execute_result"
    }
   ],
   "source": [
    "ddata = DonorData(adata, gdata, \"individual\")\n",
    "ddata"
   ]
  },
  {
   "cell_type": "markdown",
   "id": "4472a5c2-033d-4ea5-8975-2858febf00dd",
   "metadata": {},
   "source": [
    "### covariates"
   ]
  },
  {
   "cell_type": "code",
   "execution_count": 9,
   "id": "edc73b60-cc45-44b3-9779-a94ceb0a9bb5",
   "metadata": {},
   "outputs": [
    {
     "name": "stderr",
     "output_type": "stream",
     "text": [
      "/data/nasif12/home_if12/hoev/git/sc-genetics/src/cellink/_core/donordata.py:280: ImplicitModificationWarning: Trying to modify attribute `.obs` of view, initializing view as actual.\n"
     ]
    }
   ],
   "source": [
    "ddata.aggregate(\"age\", \"age\", agg_func = \"mean\") \n",
    "ddata.aggregate(\"sex\", \"sex\", agg_func = \"mean\") "
   ]
  },
  {
   "cell_type": "code",
   "execution_count": 10,
   "id": "1c61559e-5490-48a7-9315-0d75ed373351",
   "metadata": {},
   "outputs": [
    {
     "data": {
      "text/html": [
       "<div>\n",
       "<style scoped>\n",
       "    .dataframe tbody tr th:only-of-type {\n",
       "        vertical-align: middle;\n",
       "    }\n",
       "\n",
       "    .dataframe tbody tr th {\n",
       "        vertical-align: top;\n",
       "    }\n",
       "\n",
       "    .dataframe thead th {\n",
       "        text-align: right;\n",
       "    }\n",
       "</style>\n",
       "<table border=\"1\" class=\"dataframe\">\n",
       "  <thead>\n",
       "    <tr style=\"text-align: right;\">\n",
       "      <th></th>\n",
       "      <th>id</th>\n",
       "      <th>age</th>\n",
       "      <th>sex</th>\n",
       "    </tr>\n",
       "    <tr>\n",
       "      <th>id</th>\n",
       "      <th></th>\n",
       "      <th></th>\n",
       "      <th></th>\n",
       "    </tr>\n",
       "  </thead>\n",
       "  <tbody>\n",
       "    <tr>\n",
       "      <th>1_1</th>\n",
       "      <td>1_1</td>\n",
       "      <td>65.0</td>\n",
       "      <td>2.0</td>\n",
       "    </tr>\n",
       "    <tr>\n",
       "      <th>2_2</th>\n",
       "      <td>2_2</td>\n",
       "      <td>48.0</td>\n",
       "      <td>2.0</td>\n",
       "    </tr>\n",
       "    <tr>\n",
       "      <th>3_3</th>\n",
       "      <td>3_3</td>\n",
       "      <td>53.0</td>\n",
       "      <td>2.0</td>\n",
       "    </tr>\n",
       "    <tr>\n",
       "      <th>4_4</th>\n",
       "      <td>4_4</td>\n",
       "      <td>48.0</td>\n",
       "      <td>2.0</td>\n",
       "    </tr>\n",
       "    <tr>\n",
       "      <th>6_6</th>\n",
       "      <td>6_6</td>\n",
       "      <td>79.0</td>\n",
       "      <td>2.0</td>\n",
       "    </tr>\n",
       "    <tr>\n",
       "      <th>...</th>\n",
       "      <td>...</td>\n",
       "      <td>...</td>\n",
       "      <td>...</td>\n",
       "    </tr>\n",
       "    <tr>\n",
       "      <th>1077_1078</th>\n",
       "      <td>1077_1078</td>\n",
       "      <td>61.0</td>\n",
       "      <td>1.0</td>\n",
       "    </tr>\n",
       "    <tr>\n",
       "      <th>1078_1079</th>\n",
       "      <td>1078_1079</td>\n",
       "      <td>65.0</td>\n",
       "      <td>1.0</td>\n",
       "    </tr>\n",
       "    <tr>\n",
       "      <th>1079_1080</th>\n",
       "      <td>1079_1080</td>\n",
       "      <td>77.0</td>\n",
       "      <td>2.0</td>\n",
       "    </tr>\n",
       "    <tr>\n",
       "      <th>1080_1081</th>\n",
       "      <td>1080_1081</td>\n",
       "      <td>71.0</td>\n",
       "      <td>2.0</td>\n",
       "    </tr>\n",
       "    <tr>\n",
       "      <th>1081_1082</th>\n",
       "      <td>1081_1082</td>\n",
       "      <td>73.0</td>\n",
       "      <td>1.0</td>\n",
       "    </tr>\n",
       "  </tbody>\n",
       "</table>\n",
       "<p>981 rows × 3 columns</p>\n",
       "</div>"
      ],
      "text/plain": [
       "                  id   age  sex\n",
       "id                             \n",
       "1_1              1_1  65.0  2.0\n",
       "2_2              2_2  48.0  2.0\n",
       "3_3              3_3  53.0  2.0\n",
       "4_4              4_4  48.0  2.0\n",
       "6_6              6_6  79.0  2.0\n",
       "...              ...   ...  ...\n",
       "1077_1078  1077_1078  61.0  1.0\n",
       "1078_1079  1078_1079  65.0  1.0\n",
       "1079_1080  1079_1080  77.0  2.0\n",
       "1080_1081  1080_1081  71.0  2.0\n",
       "1081_1082  1081_1082  73.0  1.0\n",
       "\n",
       "[981 rows x 3 columns]"
      ]
     },
     "execution_count": 10,
     "metadata": {},
     "output_type": "execute_result"
    }
   ],
   "source": [
    "ddata.gdata.obs"
   ]
  },
  {
   "cell_type": "code",
   "execution_count": 11,
   "id": "8c3b734a-bc1b-4913-81e8-d338c1eb2f03",
   "metadata": {},
   "outputs": [],
   "source": [
    "# all_burdens = compute_burdens(ddata, max_af=0.05, weight_cols=[\"DISTANCE\", \"CADD_PHRED\"])\n",
    "# all_burdens.to_parquet(\"all_burdens_chr22.parquet\")\n",
    "all_burdens = pd.read_parquet(\"all_burdens_chr22.parquet\")\n",
    "ddata.gdata.uns[\"gene_burdens\"] = all_burdens"
   ]
  },
  {
   "cell_type": "code",
   "execution_count": 12,
   "id": "47be27d1-7c7c-413b-99fb-17d3b691af23",
   "metadata": {},
   "outputs": [
    {
     "data": {
      "text/plain": [
       "['CD8 ET', 'CD8 NC', 'CD4 NC', 'Mono C', 'NK', ..., 'DC', 'NK R', 'Platelets', 'CD4 SOX4', 'Erythrocytes']\n",
       "Length: 16\n",
       "Categories (16, object): ['B IN', 'B Mem', 'CD4 ET', 'CD4 NC', ..., 'NK', 'NK R', 'Plasma', 'Platelets']"
      ]
     },
     "execution_count": 12,
     "metadata": {},
     "output_type": "execute_result"
    }
   ],
   "source": [
    "cell_types = ddata.adata.obs[cell_type_col].unique()\n",
    "cell_types"
   ]
  },
  {
   "cell_type": "code",
   "execution_count": 13,
   "id": "03fb768c-2839-4716-8b0b-18022ca0c823",
   "metadata": {
    "scrolled": true
   },
   "outputs": [
    {
     "name": "stdout",
     "output_type": "stream",
     "text": [
      "CD8 ET\n",
      "Normalizing and log1p transforming data\n"
     ]
    },
    {
     "name": "stderr",
     "output_type": "stream",
     "text": [
      "/opt/modules/i12g/anaconda/envs/eh_scgenetics_v1/lib/python3.10/site-packages/scanpy/preprocessing/_normalization.py:207: UserWarning: Received a view of an AnnData. Making a copy.\n",
      "/opt/modules/i12g/anaconda/envs/eh_scgenetics_v1/lib/python3.10/site-packages/scanpy/preprocessing/_normalization.py:234: UserWarning: Some cells have zero counts\n",
      "/data/nasif12/home_if12/hoev/git/sc-genetics/src/cellink/_core/donordata.py:282: ImplicitModificationWarning: Setting element `.obsm['pseudo_mean']` of view, initializing view as actual.\n",
      "  0%|          | 0/500 [00:00<?, ?it/s]/data/nasif12/home_if12/hoev/git/sc-genetics/src/cellink/tl/_gwas.py:60: RuntimeWarning: divide by zero encountered in divide\n",
      "/data/nasif12/home_if12/hoev/git/sc-genetics/src/cellink/tl/_gwas.py:61: RuntimeWarning: invalid value encountered in multiply\n",
      "/data/nasif12/home_if12/hoev/git/sc-genetics/src/cellink/tl/_gwas.py:68: RuntimeWarning: invalid value encountered in multiply\n",
      "  5%|▍         | 23/500 [00:00<00:13, 34.80it/s]/data/nasif12/home_if12/hoev/git/sc-genetics/src/cellink/tl/_gwas.py:60: RuntimeWarning: divide by zero encountered in divide\n",
      "/data/nasif12/home_if12/hoev/git/sc-genetics/src/cellink/tl/_gwas.py:61: RuntimeWarning: invalid value encountered in multiply\n",
      "/data/nasif12/home_if12/hoev/git/sc-genetics/src/cellink/tl/_gwas.py:68: RuntimeWarning: invalid value encountered in multiply\n",
      " 11%|█         | 55/500 [00:01<00:12, 34.74it/s]/data/nasif12/home_if12/hoev/git/sc-genetics/src/cellink/tl/_gwas.py:60: RuntimeWarning: divide by zero encountered in divide\n",
      "/data/nasif12/home_if12/hoev/git/sc-genetics/src/cellink/tl/_gwas.py:61: RuntimeWarning: invalid value encountered in multiply\n",
      "/data/nasif12/home_if12/hoev/git/sc-genetics/src/cellink/tl/_gwas.py:68: RuntimeWarning: invalid value encountered in multiply\n",
      " 16%|█▌        | 79/500 [00:02<00:12, 33.48it/s]/data/nasif12/home_if12/hoev/git/sc-genetics/src/cellink/tl/_gwas.py:60: RuntimeWarning: divide by zero encountered in divide\n",
      "/data/nasif12/home_if12/hoev/git/sc-genetics/src/cellink/tl/_gwas.py:61: RuntimeWarning: invalid value encountered in multiply\n",
      "/data/nasif12/home_if12/hoev/git/sc-genetics/src/cellink/tl/_gwas.py:68: RuntimeWarning: invalid value encountered in multiply\n",
      " 18%|█▊        | 91/500 [00:02<00:11, 34.50it/s]/data/nasif12/home_if12/hoev/git/sc-genetics/src/cellink/tl/_gwas.py:60: RuntimeWarning: divide by zero encountered in divide\n",
      "/data/nasif12/home_if12/hoev/git/sc-genetics/src/cellink/tl/_gwas.py:61: RuntimeWarning: invalid value encountered in multiply\n",
      "/data/nasif12/home_if12/hoev/git/sc-genetics/src/cellink/tl/_gwas.py:68: RuntimeWarning: invalid value encountered in multiply\n",
      " 23%|██▎       | 115/500 [00:03<00:12, 30.95it/s]/data/nasif12/home_if12/hoev/git/sc-genetics/src/cellink/tl/_gwas.py:60: RuntimeWarning: divide by zero encountered in divide\n",
      "/data/nasif12/home_if12/hoev/git/sc-genetics/src/cellink/tl/_gwas.py:61: RuntimeWarning: invalid value encountered in multiply\n",
      "/data/nasif12/home_if12/hoev/git/sc-genetics/src/cellink/tl/_gwas.py:68: RuntimeWarning: invalid value encountered in multiply\n",
      " 24%|██▍       | 119/500 [00:03<00:12, 30.65it/s]/data/nasif12/home_if12/hoev/git/sc-genetics/src/cellink/tl/_gwas.py:60: RuntimeWarning: divide by zero encountered in divide\n",
      "/data/nasif12/home_if12/hoev/git/sc-genetics/src/cellink/tl/_gwas.py:61: RuntimeWarning: invalid value encountered in multiply\n",
      "/data/nasif12/home_if12/hoev/git/sc-genetics/src/cellink/tl/_gwas.py:68: RuntimeWarning: invalid value encountered in multiply\n",
      " 99%|█████████▉| 497/500 [00:16<00:00, 29.23it/s]/data/nasif12/home_if12/hoev/git/sc-genetics/src/cellink/tl/_gwas.py:60: RuntimeWarning: divide by zero encountered in divide\n",
      "/data/nasif12/home_if12/hoev/git/sc-genetics/src/cellink/tl/_gwas.py:61: RuntimeWarning: invalid value encountered in multiply\n",
      "/data/nasif12/home_if12/hoev/git/sc-genetics/src/cellink/tl/_gwas.py:68: RuntimeWarning: invalid value encountered in multiply\n",
      "100%|██████████| 500/500 [00:16<00:00, 30.66it/s]\n"
     ]
    },
    {
     "name": "stdout",
     "output_type": "stream",
     "text": [
      "CD8 NC\n",
      "Normalizing and log1p transforming data\n"
     ]
    },
    {
     "name": "stderr",
     "output_type": "stream",
     "text": [
      "/opt/modules/i12g/anaconda/envs/eh_scgenetics_v1/lib/python3.10/site-packages/scanpy/preprocessing/_normalization.py:207: UserWarning: Received a view of an AnnData. Making a copy.\n",
      "/opt/modules/i12g/anaconda/envs/eh_scgenetics_v1/lib/python3.10/site-packages/scanpy/preprocessing/_normalization.py:234: UserWarning: Some cells have zero counts\n",
      "/data/nasif12/home_if12/hoev/git/sc-genetics/src/cellink/_core/donordata.py:282: ImplicitModificationWarning: Setting element `.obsm['pseudo_mean']` of view, initializing view as actual.\n",
      "  0%|          | 0/474 [00:00<?, ?it/s]/data/nasif12/home_if12/hoev/git/sc-genetics/src/cellink/tl/_gwas.py:60: RuntimeWarning: divide by zero encountered in divide\n",
      "/data/nasif12/home_if12/hoev/git/sc-genetics/src/cellink/tl/_gwas.py:61: RuntimeWarning: invalid value encountered in multiply\n",
      "/data/nasif12/home_if12/hoev/git/sc-genetics/src/cellink/tl/_gwas.py:68: RuntimeWarning: invalid value encountered in multiply\n",
      "  5%|▌         | 24/474 [00:00<00:15, 29.55it/s]/data/nasif12/home_if12/hoev/git/sc-genetics/src/cellink/tl/_gwas.py:60: RuntimeWarning: divide by zero encountered in divide\n",
      "/data/nasif12/home_if12/hoev/git/sc-genetics/src/cellink/tl/_gwas.py:61: RuntimeWarning: invalid value encountered in multiply\n",
      "/data/nasif12/home_if12/hoev/git/sc-genetics/src/cellink/tl/_gwas.py:68: RuntimeWarning: invalid value encountered in multiply\n",
      " 11%|█▏        | 54/474 [00:01<00:14, 29.25it/s]/data/nasif12/home_if12/hoev/git/sc-genetics/src/cellink/tl/_gwas.py:60: RuntimeWarning: divide by zero encountered in divide\n",
      "/data/nasif12/home_if12/hoev/git/sc-genetics/src/cellink/tl/_gwas.py:61: RuntimeWarning: invalid value encountered in multiply\n",
      "/data/nasif12/home_if12/hoev/git/sc-genetics/src/cellink/tl/_gwas.py:68: RuntimeWarning: invalid value encountered in multiply\n",
      " 16%|█▌        | 75/474 [00:02<00:13, 29.26it/s]/data/nasif12/home_if12/hoev/git/sc-genetics/src/cellink/tl/_gwas.py:60: RuntimeWarning: divide by zero encountered in divide\n",
      "/data/nasif12/home_if12/hoev/git/sc-genetics/src/cellink/tl/_gwas.py:61: RuntimeWarning: invalid value encountered in multiply\n",
      "/data/nasif12/home_if12/hoev/git/sc-genetics/src/cellink/tl/_gwas.py:68: RuntimeWarning: invalid value encountered in multiply\n",
      " 19%|█▉        | 90/474 [00:03<00:13, 28.74it/s]/data/nasif12/home_if12/hoev/git/sc-genetics/src/cellink/tl/_gwas.py:60: RuntimeWarning: divide by zero encountered in divide\n",
      "/data/nasif12/home_if12/hoev/git/sc-genetics/src/cellink/tl/_gwas.py:61: RuntimeWarning: invalid value encountered in multiply\n",
      "/data/nasif12/home_if12/hoev/git/sc-genetics/src/cellink/tl/_gwas.py:68: RuntimeWarning: invalid value encountered in multiply\n",
      " 24%|██▎       | 112/474 [00:03<00:12, 29.18it/s]/data/nasif12/home_if12/hoev/git/sc-genetics/src/cellink/tl/_gwas.py:60: RuntimeWarning: divide by zero encountered in divide\n",
      "/data/nasif12/home_if12/hoev/git/sc-genetics/src/cellink/tl/_gwas.py:61: RuntimeWarning: invalid value encountered in multiply\n",
      "/data/nasif12/home_if12/hoev/git/sc-genetics/src/cellink/tl/_gwas.py:68: RuntimeWarning: invalid value encountered in multiply\n",
      " 24%|██▍       | 115/474 [00:03<00:12, 29.23it/s]/data/nasif12/home_if12/hoev/git/sc-genetics/src/cellink/tl/_gwas.py:60: RuntimeWarning: divide by zero encountered in divide\n",
      "/data/nasif12/home_if12/hoev/git/sc-genetics/src/cellink/tl/_gwas.py:61: RuntimeWarning: invalid value encountered in multiply\n",
      "/data/nasif12/home_if12/hoev/git/sc-genetics/src/cellink/tl/_gwas.py:68: RuntimeWarning: invalid value encountered in multiply\n",
      " 99%|█████████▉| 470/474 [00:15<00:00, 29.66it/s]/data/nasif12/home_if12/hoev/git/sc-genetics/src/cellink/tl/_gwas.py:60: RuntimeWarning: divide by zero encountered in divide\n",
      "/data/nasif12/home_if12/hoev/git/sc-genetics/src/cellink/tl/_gwas.py:61: RuntimeWarning: invalid value encountered in multiply\n",
      "/data/nasif12/home_if12/hoev/git/sc-genetics/src/cellink/tl/_gwas.py:68: RuntimeWarning: invalid value encountered in multiply\n",
      "100%|██████████| 474/474 [00:15<00:00, 31.12it/s]\n"
     ]
    },
    {
     "name": "stdout",
     "output_type": "stream",
     "text": [
      "CD4 NC\n",
      "Normalizing and log1p transforming data\n"
     ]
    },
    {
     "name": "stderr",
     "output_type": "stream",
     "text": [
      "/opt/modules/i12g/anaconda/envs/eh_scgenetics_v1/lib/python3.10/site-packages/scanpy/preprocessing/_normalization.py:207: UserWarning: Received a view of an AnnData. Making a copy.\n",
      "/opt/modules/i12g/anaconda/envs/eh_scgenetics_v1/lib/python3.10/site-packages/scanpy/preprocessing/_normalization.py:234: UserWarning: Some cells have zero counts\n",
      "/data/nasif12/home_if12/hoev/git/sc-genetics/src/cellink/_core/donordata.py:282: ImplicitModificationWarning: Setting element `.obsm['pseudo_mean']` of view, initializing view as actual.\n",
      "  0%|          | 0/529 [00:00<?, ?it/s]/data/nasif12/home_if12/hoev/git/sc-genetics/src/cellink/tl/_gwas.py:60: RuntimeWarning: divide by zero encountered in divide\n",
      "/data/nasif12/home_if12/hoev/git/sc-genetics/src/cellink/tl/_gwas.py:61: RuntimeWarning: invalid value encountered in multiply\n",
      "/data/nasif12/home_if12/hoev/git/sc-genetics/src/cellink/tl/_gwas.py:68: RuntimeWarning: invalid value encountered in multiply\n",
      "  5%|▌         | 27/529 [00:00<00:16, 30.00it/s]/data/nasif12/home_if12/hoev/git/sc-genetics/src/cellink/tl/_gwas.py:60: RuntimeWarning: divide by zero encountered in divide\n",
      "/data/nasif12/home_if12/hoev/git/sc-genetics/src/cellink/tl/_gwas.py:61: RuntimeWarning: invalid value encountered in multiply\n",
      "/data/nasif12/home_if12/hoev/git/sc-genetics/src/cellink/tl/_gwas.py:68: RuntimeWarning: invalid value encountered in multiply\n",
      " 11%|█         | 58/529 [00:01<00:15, 29.82it/s]/data/nasif12/home_if12/hoev/git/sc-genetics/src/cellink/tl/_gwas.py:60: RuntimeWarning: divide by zero encountered in divide\n",
      "/data/nasif12/home_if12/hoev/git/sc-genetics/src/cellink/tl/_gwas.py:61: RuntimeWarning: invalid value encountered in multiply\n",
      "/data/nasif12/home_if12/hoev/git/sc-genetics/src/cellink/tl/_gwas.py:68: RuntimeWarning: invalid value encountered in multiply\n",
      " 16%|█▌        | 84/529 [00:02<00:14, 29.78it/s]/data/nasif12/home_if12/hoev/git/sc-genetics/src/cellink/tl/_gwas.py:60: RuntimeWarning: divide by zero encountered in divide\n",
      "/data/nasif12/home_if12/hoev/git/sc-genetics/src/cellink/tl/_gwas.py:61: RuntimeWarning: invalid value encountered in multiply\n",
      "/data/nasif12/home_if12/hoev/git/sc-genetics/src/cellink/tl/_gwas.py:68: RuntimeWarning: invalid value encountered in multiply\n",
      "/data/nasif12/home_if12/hoev/git/sc-genetics/src/cellink/tl/_gwas.py:60: RuntimeWarning: divide by zero encountered in divide\n",
      "/data/nasif12/home_if12/hoev/git/sc-genetics/src/cellink/tl/_gwas.py:61: RuntimeWarning: invalid value encountered in multiply\n",
      "/data/nasif12/home_if12/hoev/git/sc-genetics/src/cellink/tl/_gwas.py:68: RuntimeWarning: invalid value encountered in multiply\n",
      " 19%|█▊        | 99/529 [00:03<00:14, 29.63it/s]/data/nasif12/home_if12/hoev/git/sc-genetics/src/cellink/tl/_gwas.py:60: RuntimeWarning: divide by zero encountered in divide\n",
      "/data/nasif12/home_if12/hoev/git/sc-genetics/src/cellink/tl/_gwas.py:61: RuntimeWarning: invalid value encountered in multiply\n",
      "/data/nasif12/home_if12/hoev/git/sc-genetics/src/cellink/tl/_gwas.py:68: RuntimeWarning: invalid value encountered in multiply\n",
      " 23%|██▎       | 124/529 [00:04<00:13, 29.38it/s]/data/nasif12/home_if12/hoev/git/sc-genetics/src/cellink/tl/_gwas.py:60: RuntimeWarning: divide by zero encountered in divide\n",
      "/data/nasif12/home_if12/hoev/git/sc-genetics/src/cellink/tl/_gwas.py:61: RuntimeWarning: invalid value encountered in multiply\n",
      "/data/nasif12/home_if12/hoev/git/sc-genetics/src/cellink/tl/_gwas.py:68: RuntimeWarning: invalid value encountered in multiply\n",
      " 24%|██▍       | 127/529 [00:04<00:13, 29.47it/s]/data/nasif12/home_if12/hoev/git/sc-genetics/src/cellink/tl/_gwas.py:60: RuntimeWarning: divide by zero encountered in divide\n",
      "/data/nasif12/home_if12/hoev/git/sc-genetics/src/cellink/tl/_gwas.py:61: RuntimeWarning: invalid value encountered in multiply\n",
      "/data/nasif12/home_if12/hoev/git/sc-genetics/src/cellink/tl/_gwas.py:68: RuntimeWarning: invalid value encountered in multiply\n",
      "100%|█████████▉| 528/529 [00:17<00:00, 34.35it/s]/data/nasif12/home_if12/hoev/git/sc-genetics/src/cellink/tl/_gwas.py:60: RuntimeWarning: divide by zero encountered in divide\n",
      "/data/nasif12/home_if12/hoev/git/sc-genetics/src/cellink/tl/_gwas.py:61: RuntimeWarning: invalid value encountered in multiply\n",
      "/data/nasif12/home_if12/hoev/git/sc-genetics/src/cellink/tl/_gwas.py:68: RuntimeWarning: invalid value encountered in multiply\n",
      "100%|██████████| 529/529 [00:17<00:00, 30.57it/s]\n"
     ]
    },
    {
     "name": "stdout",
     "output_type": "stream",
     "text": [
      "Mono C\n",
      "Normalizing and log1p transforming data\n"
     ]
    },
    {
     "name": "stderr",
     "output_type": "stream",
     "text": [
      "/opt/modules/i12g/anaconda/envs/eh_scgenetics_v1/lib/python3.10/site-packages/scanpy/preprocessing/_normalization.py:207: UserWarning: Received a view of an AnnData. Making a copy.\n",
      "/opt/modules/i12g/anaconda/envs/eh_scgenetics_v1/lib/python3.10/site-packages/scanpy/preprocessing/_normalization.py:234: UserWarning: Some cells have zero counts\n",
      "/data/nasif12/home_if12/hoev/git/sc-genetics/src/cellink/_core/donordata.py:282: ImplicitModificationWarning: Setting element `.obsm['pseudo_mean']` of view, initializing view as actual.\n",
      "  0%|          | 0/415 [00:00<?, ?it/s]/data/nasif12/home_if12/hoev/git/sc-genetics/src/cellink/tl/_gwas.py:60: RuntimeWarning: divide by zero encountered in divide\n",
      "/data/nasif12/home_if12/hoev/git/sc-genetics/src/cellink/tl/_gwas.py:61: RuntimeWarning: invalid value encountered in multiply\n",
      "/data/nasif12/home_if12/hoev/git/sc-genetics/src/cellink/tl/_gwas.py:68: RuntimeWarning: invalid value encountered in multiply\n",
      "  5%|▍         | 20/415 [00:00<00:11, 34.61it/s]/data/nasif12/home_if12/hoev/git/sc-genetics/src/cellink/tl/_gwas.py:60: RuntimeWarning: divide by zero encountered in divide\n",
      "/data/nasif12/home_if12/hoev/git/sc-genetics/src/cellink/tl/_gwas.py:61: RuntimeWarning: invalid value encountered in multiply\n",
      "/data/nasif12/home_if12/hoev/git/sc-genetics/src/cellink/tl/_gwas.py:68: RuntimeWarning: invalid value encountered in multiply\n",
      " 11%|█         | 44/415 [00:01<00:10, 34.67it/s]/data/nasif12/home_if12/hoev/git/sc-genetics/src/cellink/tl/_gwas.py:60: RuntimeWarning: divide by zero encountered in divide\n",
      "/data/nasif12/home_if12/hoev/git/sc-genetics/src/cellink/tl/_gwas.py:61: RuntimeWarning: invalid value encountered in multiply\n",
      "/data/nasif12/home_if12/hoev/git/sc-genetics/src/cellink/tl/_gwas.py:68: RuntimeWarning: invalid value encountered in multiply\n",
      " 15%|█▌        | 64/415 [00:01<00:10, 34.36it/s]/data/nasif12/home_if12/hoev/git/sc-genetics/src/cellink/tl/_gwas.py:60: RuntimeWarning: divide by zero encountered in divide\n",
      "/data/nasif12/home_if12/hoev/git/sc-genetics/src/cellink/tl/_gwas.py:61: RuntimeWarning: invalid value encountered in multiply\n",
      "/data/nasif12/home_if12/hoev/git/sc-genetics/src/cellink/tl/_gwas.py:68: RuntimeWarning: invalid value encountered in multiply\n",
      " 18%|█▊        | 76/415 [00:02<00:09, 35.26it/s]/data/nasif12/home_if12/hoev/git/sc-genetics/src/cellink/tl/_gwas.py:60: RuntimeWarning: divide by zero encountered in divide\n",
      "/data/nasif12/home_if12/hoev/git/sc-genetics/src/cellink/tl/_gwas.py:61: RuntimeWarning: invalid value encountered in multiply\n",
      "/data/nasif12/home_if12/hoev/git/sc-genetics/src/cellink/tl/_gwas.py:68: RuntimeWarning: invalid value encountered in multiply\n",
      " 24%|██▍       | 100/415 [00:02<00:09, 34.89it/s]/data/nasif12/home_if12/hoev/git/sc-genetics/src/cellink/tl/_gwas.py:60: RuntimeWarning: divide by zero encountered in divide\n",
      "/data/nasif12/home_if12/hoev/git/sc-genetics/src/cellink/tl/_gwas.py:61: RuntimeWarning: invalid value encountered in multiply\n",
      "/data/nasif12/home_if12/hoev/git/sc-genetics/src/cellink/tl/_gwas.py:68: RuntimeWarning: invalid value encountered in multiply\n",
      "/data/nasif12/home_if12/hoev/git/sc-genetics/src/cellink/tl/_gwas.py:60: RuntimeWarning: divide by zero encountered in divide\n",
      "/data/nasif12/home_if12/hoev/git/sc-genetics/src/cellink/tl/_gwas.py:61: RuntimeWarning: invalid value encountered in multiply\n",
      "/data/nasif12/home_if12/hoev/git/sc-genetics/src/cellink/tl/_gwas.py:68: RuntimeWarning: invalid value encountered in multiply\n",
      " 99%|█████████▉| 412/415 [00:13<00:00, 29.65it/s]/data/nasif12/home_if12/hoev/git/sc-genetics/src/cellink/tl/_gwas.py:60: RuntimeWarning: divide by zero encountered in divide\n",
      "/data/nasif12/home_if12/hoev/git/sc-genetics/src/cellink/tl/_gwas.py:61: RuntimeWarning: invalid value encountered in multiply\n",
      "/data/nasif12/home_if12/hoev/git/sc-genetics/src/cellink/tl/_gwas.py:68: RuntimeWarning: invalid value encountered in multiply\n",
      "100%|██████████| 415/415 [00:13<00:00, 31.18it/s]\n"
     ]
    },
    {
     "name": "stdout",
     "output_type": "stream",
     "text": [
      "NK\n",
      "Normalizing and log1p transforming data\n"
     ]
    },
    {
     "name": "stderr",
     "output_type": "stream",
     "text": [
      "/opt/modules/i12g/anaconda/envs/eh_scgenetics_v1/lib/python3.10/site-packages/scanpy/preprocessing/_normalization.py:207: UserWarning: Received a view of an AnnData. Making a copy.\n",
      "/opt/modules/i12g/anaconda/envs/eh_scgenetics_v1/lib/python3.10/site-packages/scanpy/preprocessing/_normalization.py:234: UserWarning: Some cells have zero counts\n",
      "/data/nasif12/home_if12/hoev/git/sc-genetics/src/cellink/_core/donordata.py:282: ImplicitModificationWarning: Setting element `.obsm['pseudo_mean']` of view, initializing view as actual.\n",
      "  0%|          | 0/485 [00:00<?, ?it/s]/data/nasif12/home_if12/hoev/git/sc-genetics/src/cellink/tl/_gwas.py:60: RuntimeWarning: divide by zero encountered in divide\n",
      "/data/nasif12/home_if12/hoev/git/sc-genetics/src/cellink/tl/_gwas.py:61: RuntimeWarning: invalid value encountered in multiply\n",
      "/data/nasif12/home_if12/hoev/git/sc-genetics/src/cellink/tl/_gwas.py:68: RuntimeWarning: invalid value encountered in multiply\n",
      "  5%|▌         | 25/485 [00:00<00:15, 29.33it/s]/data/nasif12/home_if12/hoev/git/sc-genetics/src/cellink/tl/_gwas.py:60: RuntimeWarning: divide by zero encountered in divide\n",
      "/data/nasif12/home_if12/hoev/git/sc-genetics/src/cellink/tl/_gwas.py:61: RuntimeWarning: invalid value encountered in multiply\n",
      "/data/nasif12/home_if12/hoev/git/sc-genetics/src/cellink/tl/_gwas.py:68: RuntimeWarning: invalid value encountered in multiply\n",
      " 11%|█▏        | 55/485 [00:02<00:17, 24.23it/s]/data/nasif12/home_if12/hoev/git/sc-genetics/src/cellink/tl/_gwas.py:60: RuntimeWarning: divide by zero encountered in divide\n",
      "/data/nasif12/home_if12/hoev/git/sc-genetics/src/cellink/tl/_gwas.py:61: RuntimeWarning: invalid value encountered in multiply\n",
      "/data/nasif12/home_if12/hoev/git/sc-genetics/src/cellink/tl/_gwas.py:68: RuntimeWarning: invalid value encountered in multiply\n",
      " 16%|█▋        | 79/485 [00:02<00:16, 24.55it/s]/data/nasif12/home_if12/hoev/git/sc-genetics/src/cellink/tl/_gwas.py:60: RuntimeWarning: divide by zero encountered in divide\n",
      "/data/nasif12/home_if12/hoev/git/sc-genetics/src/cellink/tl/_gwas.py:61: RuntimeWarning: invalid value encountered in multiply\n",
      "/data/nasif12/home_if12/hoev/git/sc-genetics/src/cellink/tl/_gwas.py:68: RuntimeWarning: invalid value encountered in multiply\n",
      " 19%|█▉        | 91/485 [00:03<00:16, 23.81it/s]/data/nasif12/home_if12/hoev/git/sc-genetics/src/cellink/tl/_gwas.py:60: RuntimeWarning: divide by zero encountered in divide\n",
      "/data/nasif12/home_if12/hoev/git/sc-genetics/src/cellink/tl/_gwas.py:61: RuntimeWarning: invalid value encountered in multiply\n",
      "/data/nasif12/home_if12/hoev/git/sc-genetics/src/cellink/tl/_gwas.py:68: RuntimeWarning: invalid value encountered in multiply\n",
      " 24%|██▍       | 116/485 [00:04<00:12, 29.40it/s]/data/nasif12/home_if12/hoev/git/sc-genetics/src/cellink/tl/_gwas.py:60: RuntimeWarning: divide by zero encountered in divide\n",
      "/data/nasif12/home_if12/hoev/git/sc-genetics/src/cellink/tl/_gwas.py:61: RuntimeWarning: invalid value encountered in multiply\n",
      "/data/nasif12/home_if12/hoev/git/sc-genetics/src/cellink/tl/_gwas.py:68: RuntimeWarning: invalid value encountered in multiply\n",
      "/data/nasif12/home_if12/hoev/git/sc-genetics/src/cellink/tl/_gwas.py:60: RuntimeWarning: divide by zero encountered in divide\n",
      "/data/nasif12/home_if12/hoev/git/sc-genetics/src/cellink/tl/_gwas.py:61: RuntimeWarning: invalid value encountered in multiply\n",
      "/data/nasif12/home_if12/hoev/git/sc-genetics/src/cellink/tl/_gwas.py:68: RuntimeWarning: invalid value encountered in multiply\n",
      " 99%|█████████▉| 481/485 [00:16<00:00, 33.26it/s]/data/nasif12/home_if12/hoev/git/sc-genetics/src/cellink/tl/_gwas.py:60: RuntimeWarning: divide by zero encountered in divide\n",
      "/data/nasif12/home_if12/hoev/git/sc-genetics/src/cellink/tl/_gwas.py:61: RuntimeWarning: invalid value encountered in multiply\n",
      "/data/nasif12/home_if12/hoev/git/sc-genetics/src/cellink/tl/_gwas.py:68: RuntimeWarning: invalid value encountered in multiply\n",
      "100%|██████████| 485/485 [00:16<00:00, 29.14it/s]\n"
     ]
    },
    {
     "name": "stdout",
     "output_type": "stream",
     "text": [
      "B IN\n",
      "Normalizing and log1p transforming data\n"
     ]
    },
    {
     "name": "stderr",
     "output_type": "stream",
     "text": [
      "/opt/modules/i12g/anaconda/envs/eh_scgenetics_v1/lib/python3.10/site-packages/scanpy/preprocessing/_normalization.py:207: UserWarning: Received a view of an AnnData. Making a copy.\n",
      "/data/nasif12/home_if12/hoev/git/sc-genetics/src/cellink/_core/donordata.py:282: ImplicitModificationWarning: Setting element `.obsm['pseudo_mean']` of view, initializing view as actual.\n",
      "  0%|          | 0/455 [00:00<?, ?it/s]/data/nasif12/home_if12/hoev/git/sc-genetics/src/cellink/tl/_gwas.py:60: RuntimeWarning: divide by zero encountered in divide\n",
      "/data/nasif12/home_if12/hoev/git/sc-genetics/src/cellink/tl/_gwas.py:61: RuntimeWarning: invalid value encountered in multiply\n",
      "/data/nasif12/home_if12/hoev/git/sc-genetics/src/cellink/tl/_gwas.py:68: RuntimeWarning: invalid value encountered in multiply\n",
      "  5%|▍         | 22/455 [00:00<00:13, 32.98it/s]/data/nasif12/home_if12/hoev/git/sc-genetics/src/cellink/tl/_gwas.py:60: RuntimeWarning: divide by zero encountered in divide\n",
      "/data/nasif12/home_if12/hoev/git/sc-genetics/src/cellink/tl/_gwas.py:61: RuntimeWarning: invalid value encountered in multiply\n",
      "/data/nasif12/home_if12/hoev/git/sc-genetics/src/cellink/tl/_gwas.py:68: RuntimeWarning: invalid value encountered in multiply\n",
      " 11%|█         | 50/455 [00:01<00:13, 30.23it/s]/data/nasif12/home_if12/hoev/git/sc-genetics/src/cellink/tl/_gwas.py:60: RuntimeWarning: divide by zero encountered in divide\n",
      "/data/nasif12/home_if12/hoev/git/sc-genetics/src/cellink/tl/_gwas.py:61: RuntimeWarning: invalid value encountered in multiply\n",
      "/data/nasif12/home_if12/hoev/git/sc-genetics/src/cellink/tl/_gwas.py:68: RuntimeWarning: invalid value encountered in multiply\n",
      " 16%|█▌        | 72/455 [00:02<00:13, 28.71it/s]/data/nasif12/home_if12/hoev/git/sc-genetics/src/cellink/tl/_gwas.py:60: RuntimeWarning: divide by zero encountered in divide\n",
      "/data/nasif12/home_if12/hoev/git/sc-genetics/src/cellink/tl/_gwas.py:61: RuntimeWarning: invalid value encountered in multiply\n",
      "/data/nasif12/home_if12/hoev/git/sc-genetics/src/cellink/tl/_gwas.py:68: RuntimeWarning: invalid value encountered in multiply\n",
      " 19%|█▊        | 85/455 [00:02<00:13, 28.15it/s]/data/nasif12/home_if12/hoev/git/sc-genetics/src/cellink/tl/_gwas.py:60: RuntimeWarning: divide by zero encountered in divide\n",
      "/data/nasif12/home_if12/hoev/git/sc-genetics/src/cellink/tl/_gwas.py:61: RuntimeWarning: invalid value encountered in multiply\n",
      "/data/nasif12/home_if12/hoev/git/sc-genetics/src/cellink/tl/_gwas.py:68: RuntimeWarning: invalid value encountered in multiply\n",
      " 24%|██▍       | 109/455 [00:03<00:11, 29.43it/s]/data/nasif12/home_if12/hoev/git/sc-genetics/src/cellink/tl/_gwas.py:60: RuntimeWarning: divide by zero encountered in divide\n",
      "/data/nasif12/home_if12/hoev/git/sc-genetics/src/cellink/tl/_gwas.py:61: RuntimeWarning: invalid value encountered in multiply\n",
      "/data/nasif12/home_if12/hoev/git/sc-genetics/src/cellink/tl/_gwas.py:68: RuntimeWarning: invalid value encountered in multiply\n",
      " 25%|██▍       | 112/455 [00:03<00:11, 29.19it/s]/data/nasif12/home_if12/hoev/git/sc-genetics/src/cellink/tl/_gwas.py:60: RuntimeWarning: divide by zero encountered in divide\n",
      "/data/nasif12/home_if12/hoev/git/sc-genetics/src/cellink/tl/_gwas.py:61: RuntimeWarning: invalid value encountered in multiply\n",
      "/data/nasif12/home_if12/hoev/git/sc-genetics/src/cellink/tl/_gwas.py:68: RuntimeWarning: invalid value encountered in multiply\n",
      " 99%|█████████▉| 452/455 [00:16<00:00, 26.99it/s]/data/nasif12/home_if12/hoev/git/sc-genetics/src/cellink/tl/_gwas.py:60: RuntimeWarning: divide by zero encountered in divide\n",
      "/data/nasif12/home_if12/hoev/git/sc-genetics/src/cellink/tl/_gwas.py:61: RuntimeWarning: invalid value encountered in multiply\n",
      "/data/nasif12/home_if12/hoev/git/sc-genetics/src/cellink/tl/_gwas.py:68: RuntimeWarning: invalid value encountered in multiply\n",
      "100%|██████████| 455/455 [00:16<00:00, 28.04it/s]\n"
     ]
    },
    {
     "name": "stdout",
     "output_type": "stream",
     "text": [
      "CD4 ET\n",
      "Normalizing and log1p transforming data\n"
     ]
    },
    {
     "name": "stderr",
     "output_type": "stream",
     "text": [
      "/opt/modules/i12g/anaconda/envs/eh_scgenetics_v1/lib/python3.10/site-packages/scanpy/preprocessing/_normalization.py:207: UserWarning: Received a view of an AnnData. Making a copy.\n",
      "/data/nasif12/home_if12/hoev/git/sc-genetics/src/cellink/_core/donordata.py:282: ImplicitModificationWarning: Setting element `.obsm['pseudo_mean']` of view, initializing view as actual.\n",
      "  0%|          | 0/438 [00:00<?, ?it/s]/data/nasif12/home_if12/hoev/git/sc-genetics/src/cellink/tl/_gwas.py:60: RuntimeWarning: divide by zero encountered in divide\n",
      "/data/nasif12/home_if12/hoev/git/sc-genetics/src/cellink/tl/_gwas.py:61: RuntimeWarning: invalid value encountered in multiply\n",
      "/data/nasif12/home_if12/hoev/git/sc-genetics/src/cellink/tl/_gwas.py:68: RuntimeWarning: invalid value encountered in multiply\n",
      "  4%|▍         | 19/438 [00:00<00:16, 24.86it/s]/data/nasif12/home_if12/hoev/git/sc-genetics/src/cellink/tl/_gwas.py:60: RuntimeWarning: divide by zero encountered in divide\n",
      "/data/nasif12/home_if12/hoev/git/sc-genetics/src/cellink/tl/_gwas.py:61: RuntimeWarning: invalid value encountered in multiply\n",
      "/data/nasif12/home_if12/hoev/git/sc-genetics/src/cellink/tl/_gwas.py:68: RuntimeWarning: invalid value encountered in multiply\n",
      " 11%|█         | 47/438 [00:01<00:15, 26.03it/s]/data/nasif12/home_if12/hoev/git/sc-genetics/src/cellink/tl/_gwas.py:60: RuntimeWarning: divide by zero encountered in divide\n",
      "/data/nasif12/home_if12/hoev/git/sc-genetics/src/cellink/tl/_gwas.py:61: RuntimeWarning: invalid value encountered in multiply\n",
      "/data/nasif12/home_if12/hoev/git/sc-genetics/src/cellink/tl/_gwas.py:68: RuntimeWarning: invalid value encountered in multiply\n",
      " 16%|█▌        | 70/438 [00:02<00:12, 28.71it/s]/data/nasif12/home_if12/hoev/git/sc-genetics/src/cellink/tl/_gwas.py:60: RuntimeWarning: divide by zero encountered in divide\n",
      "/data/nasif12/home_if12/hoev/git/sc-genetics/src/cellink/tl/_gwas.py:61: RuntimeWarning: invalid value encountered in multiply\n",
      "/data/nasif12/home_if12/hoev/git/sc-genetics/src/cellink/tl/_gwas.py:68: RuntimeWarning: invalid value encountered in multiply\n",
      " 19%|█▊        | 82/438 [00:03<00:13, 26.39it/s]/data/nasif12/home_if12/hoev/git/sc-genetics/src/cellink/tl/_gwas.py:60: RuntimeWarning: divide by zero encountered in divide\n",
      "/data/nasif12/home_if12/hoev/git/sc-genetics/src/cellink/tl/_gwas.py:61: RuntimeWarning: invalid value encountered in multiply\n",
      "/data/nasif12/home_if12/hoev/git/sc-genetics/src/cellink/tl/_gwas.py:68: RuntimeWarning: invalid value encountered in multiply\n",
      " 24%|██▍       | 106/438 [00:03<00:10, 31.96it/s]/data/nasif12/home_if12/hoev/git/sc-genetics/src/cellink/tl/_gwas.py:60: RuntimeWarning: divide by zero encountered in divide\n",
      "/data/nasif12/home_if12/hoev/git/sc-genetics/src/cellink/tl/_gwas.py:61: RuntimeWarning: invalid value encountered in multiply\n",
      "/data/nasif12/home_if12/hoev/git/sc-genetics/src/cellink/tl/_gwas.py:68: RuntimeWarning: invalid value encountered in multiply\n",
      "/data/nasif12/home_if12/hoev/git/sc-genetics/src/cellink/tl/_gwas.py:60: RuntimeWarning: divide by zero encountered in divide\n",
      "/data/nasif12/home_if12/hoev/git/sc-genetics/src/cellink/tl/_gwas.py:61: RuntimeWarning: invalid value encountered in multiply\n",
      "/data/nasif12/home_if12/hoev/git/sc-genetics/src/cellink/tl/_gwas.py:68: RuntimeWarning: invalid value encountered in multiply\n",
      " 99%|█████████▉| 435/438 [00:14<00:00, 29.05it/s]/data/nasif12/home_if12/hoev/git/sc-genetics/src/cellink/tl/_gwas.py:60: RuntimeWarning: divide by zero encountered in divide\n",
      "/data/nasif12/home_if12/hoev/git/sc-genetics/src/cellink/tl/_gwas.py:61: RuntimeWarning: invalid value encountered in multiply\n",
      "/data/nasif12/home_if12/hoev/git/sc-genetics/src/cellink/tl/_gwas.py:68: RuntimeWarning: invalid value encountered in multiply\n",
      "100%|██████████| 438/438 [00:14<00:00, 30.00it/s]\n"
     ]
    },
    {
     "name": "stdout",
     "output_type": "stream",
     "text": [
      "Mono NC\n",
      "Normalizing and log1p transforming data\n"
     ]
    },
    {
     "name": "stderr",
     "output_type": "stream",
     "text": [
      "/opt/modules/i12g/anaconda/envs/eh_scgenetics_v1/lib/python3.10/site-packages/scanpy/preprocessing/_normalization.py:207: UserWarning: Received a view of an AnnData. Making a copy.\n",
      "/data/nasif12/home_if12/hoev/git/sc-genetics/src/cellink/_core/donordata.py:282: ImplicitModificationWarning: Setting element `.obsm['pseudo_mean']` of view, initializing view as actual.\n",
      "  0%|          | 0/366 [00:00<?, ?it/s]/data/nasif12/home_if12/hoev/git/sc-genetics/src/cellink/tl/_gwas.py:60: RuntimeWarning: divide by zero encountered in divide\n",
      "/data/nasif12/home_if12/hoev/git/sc-genetics/src/cellink/tl/_gwas.py:61: RuntimeWarning: invalid value encountered in multiply\n",
      "/data/nasif12/home_if12/hoev/git/sc-genetics/src/cellink/tl/_gwas.py:68: RuntimeWarning: invalid value encountered in multiply\n",
      "  4%|▍         | 14/366 [00:00<00:11, 29.47it/s]/data/nasif12/home_if12/hoev/git/sc-genetics/src/cellink/tl/_gwas.py:60: RuntimeWarning: divide by zero encountered in divide\n",
      "/data/nasif12/home_if12/hoev/git/sc-genetics/src/cellink/tl/_gwas.py:61: RuntimeWarning: invalid value encountered in multiply\n",
      "/data/nasif12/home_if12/hoev/git/sc-genetics/src/cellink/tl/_gwas.py:68: RuntimeWarning: invalid value encountered in multiply\n",
      " 11%|█         | 39/366 [00:01<00:11, 28.17it/s]/data/nasif12/home_if12/hoev/git/sc-genetics/src/cellink/tl/_gwas.py:60: RuntimeWarning: divide by zero encountered in divide\n",
      "/data/nasif12/home_if12/hoev/git/sc-genetics/src/cellink/tl/_gwas.py:61: RuntimeWarning: invalid value encountered in multiply\n",
      "/data/nasif12/home_if12/hoev/git/sc-genetics/src/cellink/tl/_gwas.py:68: RuntimeWarning: invalid value encountered in multiply\n",
      " 14%|█▍        | 52/366 [00:01<00:10, 29.34it/s]/data/nasif12/home_if12/hoev/git/sc-genetics/src/cellink/tl/_gwas.py:60: RuntimeWarning: divide by zero encountered in divide\n",
      "/data/nasif12/home_if12/hoev/git/sc-genetics/src/cellink/tl/_gwas.py:61: RuntimeWarning: invalid value encountered in multiply\n",
      "/data/nasif12/home_if12/hoev/git/sc-genetics/src/cellink/tl/_gwas.py:68: RuntimeWarning: invalid value encountered in multiply\n",
      " 18%|█▊        | 65/366 [00:02<00:10, 27.48it/s]/data/nasif12/home_if12/hoev/git/sc-genetics/src/cellink/tl/_gwas.py:60: RuntimeWarning: divide by zero encountered in divide\n",
      "/data/nasif12/home_if12/hoev/git/sc-genetics/src/cellink/tl/_gwas.py:61: RuntimeWarning: invalid value encountered in multiply\n",
      "/data/nasif12/home_if12/hoev/git/sc-genetics/src/cellink/tl/_gwas.py:68: RuntimeWarning: invalid value encountered in multiply\n",
      " 22%|██▏       | 81/366 [00:02<00:09, 28.89it/s]/data/nasif12/home_if12/hoev/git/sc-genetics/src/cellink/tl/_gwas.py:60: RuntimeWarning: divide by zero encountered in divide\n",
      "/data/nasif12/home_if12/hoev/git/sc-genetics/src/cellink/tl/_gwas.py:61: RuntimeWarning: invalid value encountered in multiply\n",
      "/data/nasif12/home_if12/hoev/git/sc-genetics/src/cellink/tl/_gwas.py:68: RuntimeWarning: invalid value encountered in multiply\n",
      " 23%|██▎       | 84/366 [00:02<00:10, 27.20it/s]/data/nasif12/home_if12/hoev/git/sc-genetics/src/cellink/tl/_gwas.py:60: RuntimeWarning: divide by zero encountered in divide\n",
      "/data/nasif12/home_if12/hoev/git/sc-genetics/src/cellink/tl/_gwas.py:61: RuntimeWarning: invalid value encountered in multiply\n",
      "/data/nasif12/home_if12/hoev/git/sc-genetics/src/cellink/tl/_gwas.py:68: RuntimeWarning: invalid value encountered in multiply\n",
      "100%|█████████▉| 365/366 [00:12<00:00, 31.24it/s]/data/nasif12/home_if12/hoev/git/sc-genetics/src/cellink/tl/_gwas.py:60: RuntimeWarning: divide by zero encountered in divide\n",
      "/data/nasif12/home_if12/hoev/git/sc-genetics/src/cellink/tl/_gwas.py:61: RuntimeWarning: invalid value encountered in multiply\n",
      "/data/nasif12/home_if12/hoev/git/sc-genetics/src/cellink/tl/_gwas.py:68: RuntimeWarning: invalid value encountered in multiply\n",
      "100%|██████████| 366/366 [00:12<00:00, 29.26it/s]\n"
     ]
    },
    {
     "name": "stdout",
     "output_type": "stream",
     "text": [
      "CD8 S100B\n",
      "Normalizing and log1p transforming data\n"
     ]
    },
    {
     "name": "stderr",
     "output_type": "stream",
     "text": [
      "/opt/modules/i12g/anaconda/envs/eh_scgenetics_v1/lib/python3.10/site-packages/scanpy/preprocessing/_normalization.py:207: UserWarning: Received a view of an AnnData. Making a copy.\n",
      "/data/nasif12/home_if12/hoev/git/sc-genetics/src/cellink/_core/donordata.py:282: ImplicitModificationWarning: Setting element `.obsm['pseudo_mean']` of view, initializing view as actual.\n",
      "  0%|          | 0/413 [00:00<?, ?it/s]/data/nasif12/home_if12/hoev/git/sc-genetics/src/cellink/tl/_gwas.py:60: RuntimeWarning: divide by zero encountered in divide\n",
      "/data/nasif12/home_if12/hoev/git/sc-genetics/src/cellink/tl/_gwas.py:61: RuntimeWarning: invalid value encountered in multiply\n",
      "/data/nasif12/home_if12/hoev/git/sc-genetics/src/cellink/tl/_gwas.py:68: RuntimeWarning: invalid value encountered in multiply\n",
      "  5%|▍         | 20/413 [00:00<00:13, 30.21it/s]/data/nasif12/home_if12/hoev/git/sc-genetics/src/cellink/tl/_gwas.py:60: RuntimeWarning: divide by zero encountered in divide\n",
      "/data/nasif12/home_if12/hoev/git/sc-genetics/src/cellink/tl/_gwas.py:61: RuntimeWarning: invalid value encountered in multiply\n",
      "/data/nasif12/home_if12/hoev/git/sc-genetics/src/cellink/tl/_gwas.py:68: RuntimeWarning: invalid value encountered in multiply\n",
      " 11%|█         | 44/413 [00:01<00:12, 30.20it/s]/data/nasif12/home_if12/hoev/git/sc-genetics/src/cellink/tl/_gwas.py:60: RuntimeWarning: divide by zero encountered in divide\n",
      "/data/nasif12/home_if12/hoev/git/sc-genetics/src/cellink/tl/_gwas.py:61: RuntimeWarning: invalid value encountered in multiply\n",
      "/data/nasif12/home_if12/hoev/git/sc-genetics/src/cellink/tl/_gwas.py:68: RuntimeWarning: invalid value encountered in multiply\n",
      " 15%|█▌        | 64/413 [00:02<00:11, 30.86it/s]/data/nasif12/home_if12/hoev/git/sc-genetics/src/cellink/tl/_gwas.py:60: RuntimeWarning: divide by zero encountered in divide\n",
      "/data/nasif12/home_if12/hoev/git/sc-genetics/src/cellink/tl/_gwas.py:61: RuntimeWarning: invalid value encountered in multiply\n",
      "/data/nasif12/home_if12/hoev/git/sc-genetics/src/cellink/tl/_gwas.py:68: RuntimeWarning: invalid value encountered in multiply\n",
      " 18%|█▊        | 76/413 [00:02<00:11, 30.36it/s]/data/nasif12/home_if12/hoev/git/sc-genetics/src/cellink/tl/_gwas.py:60: RuntimeWarning: divide by zero encountered in divide\n",
      "/data/nasif12/home_if12/hoev/git/sc-genetics/src/cellink/tl/_gwas.py:61: RuntimeWarning: invalid value encountered in multiply\n",
      "/data/nasif12/home_if12/hoev/git/sc-genetics/src/cellink/tl/_gwas.py:68: RuntimeWarning: invalid value encountered in multiply\n",
      " 23%|██▎       | 96/413 [00:03<00:09, 33.79it/s]/data/nasif12/home_if12/hoev/git/sc-genetics/src/cellink/tl/_gwas.py:60: RuntimeWarning: divide by zero encountered in divide\n",
      "/data/nasif12/home_if12/hoev/git/sc-genetics/src/cellink/tl/_gwas.py:61: RuntimeWarning: invalid value encountered in multiply\n",
      "/data/nasif12/home_if12/hoev/git/sc-genetics/src/cellink/tl/_gwas.py:68: RuntimeWarning: invalid value encountered in multiply\n",
      " 24%|██▍       | 100/413 [00:03<00:09, 34.04it/s]/data/nasif12/home_if12/hoev/git/sc-genetics/src/cellink/tl/_gwas.py:60: RuntimeWarning: divide by zero encountered in divide\n",
      "/data/nasif12/home_if12/hoev/git/sc-genetics/src/cellink/tl/_gwas.py:61: RuntimeWarning: invalid value encountered in multiply\n",
      "/data/nasif12/home_if12/hoev/git/sc-genetics/src/cellink/tl/_gwas.py:68: RuntimeWarning: invalid value encountered in multiply\n",
      "100%|█████████▉| 412/413 [00:12<00:00, 33.36it/s]/data/nasif12/home_if12/hoev/git/sc-genetics/src/cellink/tl/_gwas.py:60: RuntimeWarning: divide by zero encountered in divide\n",
      "/data/nasif12/home_if12/hoev/git/sc-genetics/src/cellink/tl/_gwas.py:61: RuntimeWarning: invalid value encountered in multiply\n",
      "/data/nasif12/home_if12/hoev/git/sc-genetics/src/cellink/tl/_gwas.py:68: RuntimeWarning: invalid value encountered in multiply\n",
      "100%|██████████| 413/413 [00:12<00:00, 32.55it/s]\n"
     ]
    },
    {
     "name": "stdout",
     "output_type": "stream",
     "text": [
      "B Mem\n",
      "Normalizing and log1p transforming data\n"
     ]
    },
    {
     "name": "stderr",
     "output_type": "stream",
     "text": [
      "/opt/modules/i12g/anaconda/envs/eh_scgenetics_v1/lib/python3.10/site-packages/scanpy/preprocessing/_normalization.py:207: UserWarning: Received a view of an AnnData. Making a copy.\n",
      "/data/nasif12/home_if12/hoev/git/sc-genetics/src/cellink/_core/donordata.py:282: ImplicitModificationWarning: Setting element `.obsm['pseudo_mean']` of view, initializing view as actual.\n",
      "  0%|          | 0/428 [00:00<?, ?it/s]/data/nasif12/home_if12/hoev/git/sc-genetics/src/cellink/tl/_gwas.py:60: RuntimeWarning: divide by zero encountered in divide\n",
      "/data/nasif12/home_if12/hoev/git/sc-genetics/src/cellink/tl/_gwas.py:61: RuntimeWarning: invalid value encountered in multiply\n",
      "/data/nasif12/home_if12/hoev/git/sc-genetics/src/cellink/tl/_gwas.py:68: RuntimeWarning: invalid value encountered in multiply\n",
      "  5%|▍         | 20/428 [00:00<00:13, 30.56it/s]/data/nasif12/home_if12/hoev/git/sc-genetics/src/cellink/tl/_gwas.py:60: RuntimeWarning: divide by zero encountered in divide\n",
      "/data/nasif12/home_if12/hoev/git/sc-genetics/src/cellink/tl/_gwas.py:61: RuntimeWarning: invalid value encountered in multiply\n",
      "/data/nasif12/home_if12/hoev/git/sc-genetics/src/cellink/tl/_gwas.py:68: RuntimeWarning: invalid value encountered in multiply\n",
      " 11%|█         | 48/428 [00:01<00:12, 29.93it/s]/data/nasif12/home_if12/hoev/git/sc-genetics/src/cellink/tl/_gwas.py:60: RuntimeWarning: divide by zero encountered in divide\n",
      "/data/nasif12/home_if12/hoev/git/sc-genetics/src/cellink/tl/_gwas.py:61: RuntimeWarning: invalid value encountered in multiply\n",
      "/data/nasif12/home_if12/hoev/git/sc-genetics/src/cellink/tl/_gwas.py:68: RuntimeWarning: invalid value encountered in multiply\n",
      " 16%|█▌        | 67/428 [00:02<00:11, 30.23it/s]/data/nasif12/home_if12/hoev/git/sc-genetics/src/cellink/tl/_gwas.py:60: RuntimeWarning: divide by zero encountered in divide\n",
      "/data/nasif12/home_if12/hoev/git/sc-genetics/src/cellink/tl/_gwas.py:61: RuntimeWarning: invalid value encountered in multiply\n",
      "/data/nasif12/home_if12/hoev/git/sc-genetics/src/cellink/tl/_gwas.py:68: RuntimeWarning: invalid value encountered in multiply\n",
      " 18%|█▊        | 79/428 [00:02<00:11, 30.46it/s]/data/nasif12/home_if12/hoev/git/sc-genetics/src/cellink/tl/_gwas.py:60: RuntimeWarning: divide by zero encountered in divide\n",
      "/data/nasif12/home_if12/hoev/git/sc-genetics/src/cellink/tl/_gwas.py:61: RuntimeWarning: invalid value encountered in multiply\n",
      "/data/nasif12/home_if12/hoev/git/sc-genetics/src/cellink/tl/_gwas.py:68: RuntimeWarning: invalid value encountered in multiply\n",
      " 24%|██▍       | 103/428 [00:03<00:10, 32.02it/s]/data/nasif12/home_if12/hoev/git/sc-genetics/src/cellink/tl/_gwas.py:60: RuntimeWarning: divide by zero encountered in divide\n",
      "/data/nasif12/home_if12/hoev/git/sc-genetics/src/cellink/tl/_gwas.py:61: RuntimeWarning: invalid value encountered in multiply\n",
      "/data/nasif12/home_if12/hoev/git/sc-genetics/src/cellink/tl/_gwas.py:68: RuntimeWarning: invalid value encountered in multiply\n",
      " 25%|██▌       | 107/428 [00:03<00:10, 31.85it/s]/data/nasif12/home_if12/hoev/git/sc-genetics/src/cellink/tl/_gwas.py:60: RuntimeWarning: divide by zero encountered in divide\n",
      "/data/nasif12/home_if12/hoev/git/sc-genetics/src/cellink/tl/_gwas.py:61: RuntimeWarning: invalid value encountered in multiply\n",
      "/data/nasif12/home_if12/hoev/git/sc-genetics/src/cellink/tl/_gwas.py:68: RuntimeWarning: invalid value encountered in multiply\n",
      "100%|█████████▉| 426/428 [00:13<00:00, 31.09it/s]/data/nasif12/home_if12/hoev/git/sc-genetics/src/cellink/tl/_gwas.py:60: RuntimeWarning: divide by zero encountered in divide\n",
      "/data/nasif12/home_if12/hoev/git/sc-genetics/src/cellink/tl/_gwas.py:61: RuntimeWarning: invalid value encountered in multiply\n",
      "/data/nasif12/home_if12/hoev/git/sc-genetics/src/cellink/tl/_gwas.py:68: RuntimeWarning: invalid value encountered in multiply\n",
      "100%|██████████| 428/428 [00:13<00:00, 30.71it/s]\n"
     ]
    },
    {
     "name": "stdout",
     "output_type": "stream",
     "text": [
      "Plasma\n",
      "Normalizing and log1p transforming data\n"
     ]
    },
    {
     "name": "stderr",
     "output_type": "stream",
     "text": [
      "/opt/modules/i12g/anaconda/envs/eh_scgenetics_v1/lib/python3.10/site-packages/scanpy/preprocessing/_normalization.py:207: UserWarning: Received a view of an AnnData. Making a copy.\n",
      "/data/nasif12/home_if12/hoev/git/sc-genetics/src/cellink/_core/donordata.py:282: ImplicitModificationWarning: Setting element `.obsm['pseudo_mean']` of view, initializing view as actual.\n",
      "  0%|          | 0/303 [00:00<?, ?it/s]/data/nasif12/home_if12/hoev/git/sc-genetics/src/cellink/tl/_gwas.py:60: RuntimeWarning: divide by zero encountered in divide\n",
      "/data/nasif12/home_if12/hoev/git/sc-genetics/src/cellink/tl/_gwas.py:61: RuntimeWarning: invalid value encountered in multiply\n",
      "/data/nasif12/home_if12/hoev/git/sc-genetics/src/cellink/tl/_gwas.py:68: RuntimeWarning: invalid value encountered in multiply\n",
      "  4%|▍         | 12/303 [00:00<00:09, 31.35it/s]/data/nasif12/home_if12/hoev/git/sc-genetics/src/cellink/tl/_gwas.py:60: RuntimeWarning: divide by zero encountered in divide\n",
      "/data/nasif12/home_if12/hoev/git/sc-genetics/src/cellink/tl/_gwas.py:61: RuntimeWarning: invalid value encountered in multiply\n",
      "/data/nasif12/home_if12/hoev/git/sc-genetics/src/cellink/tl/_gwas.py:68: RuntimeWarning: invalid value encountered in multiply\n",
      "  9%|▉         | 28/303 [00:00<00:08, 31.75it/s]/data/nasif12/home_if12/hoev/git/sc-genetics/src/cellink/tl/_gwas.py:60: RuntimeWarning: divide by zero encountered in divide\n",
      "/data/nasif12/home_if12/hoev/git/sc-genetics/src/cellink/tl/_gwas.py:61: RuntimeWarning: invalid value encountered in multiply\n",
      "/data/nasif12/home_if12/hoev/git/sc-genetics/src/cellink/tl/_gwas.py:68: RuntimeWarning: invalid value encountered in multiply\n",
      " 17%|█▋        | 52/303 [00:01<00:07, 31.39it/s]/data/nasif12/home_if12/hoev/git/sc-genetics/src/cellink/tl/_gwas.py:60: RuntimeWarning: divide by zero encountered in divide\n",
      "/data/nasif12/home_if12/hoev/git/sc-genetics/src/cellink/tl/_gwas.py:61: RuntimeWarning: invalid value encountered in multiply\n",
      "/data/nasif12/home_if12/hoev/git/sc-genetics/src/cellink/tl/_gwas.py:68: RuntimeWarning: invalid value encountered in multiply\n",
      " 21%|██        | 64/303 [00:02<00:07, 31.06it/s]/data/nasif12/home_if12/hoev/git/sc-genetics/src/cellink/tl/_gwas.py:60: RuntimeWarning: divide by zero encountered in divide\n",
      "/data/nasif12/home_if12/hoev/git/sc-genetics/src/cellink/tl/_gwas.py:61: RuntimeWarning: invalid value encountered in multiply\n",
      "/data/nasif12/home_if12/hoev/git/sc-genetics/src/cellink/tl/_gwas.py:68: RuntimeWarning: invalid value encountered in multiply\n",
      " 99%|█████████▉| 300/303 [00:08<00:00, 32.70it/s]/data/nasif12/home_if12/hoev/git/sc-genetics/src/cellink/tl/_gwas.py:60: RuntimeWarning: divide by zero encountered in divide\n",
      "/data/nasif12/home_if12/hoev/git/sc-genetics/src/cellink/tl/_gwas.py:61: RuntimeWarning: invalid value encountered in multiply\n",
      "/data/nasif12/home_if12/hoev/git/sc-genetics/src/cellink/tl/_gwas.py:68: RuntimeWarning: invalid value encountered in multiply\n",
      "100%|██████████| 303/303 [00:08<00:00, 33.71it/s]\n"
     ]
    },
    {
     "name": "stdout",
     "output_type": "stream",
     "text": [
      "DC\n",
      "Normalizing and log1p transforming data\n"
     ]
    },
    {
     "name": "stderr",
     "output_type": "stream",
     "text": [
      "/opt/modules/i12g/anaconda/envs/eh_scgenetics_v1/lib/python3.10/site-packages/scanpy/preprocessing/_normalization.py:207: UserWarning: Received a view of an AnnData. Making a copy.\n",
      "/data/nasif12/home_if12/hoev/git/sc-genetics/src/cellink/_core/donordata.py:282: ImplicitModificationWarning: Setting element `.obsm['pseudo_mean']` of view, initializing view as actual.\n",
      "  0%|          | 0/343 [00:00<?, ?it/s]/data/nasif12/home_if12/hoev/git/sc-genetics/src/cellink/tl/_gwas.py:60: RuntimeWarning: divide by zero encountered in divide\n",
      "/data/nasif12/home_if12/hoev/git/sc-genetics/src/cellink/tl/_gwas.py:61: RuntimeWarning: invalid value encountered in multiply\n",
      "/data/nasif12/home_if12/hoev/git/sc-genetics/src/cellink/tl/_gwas.py:68: RuntimeWarning: invalid value encountered in multiply\n",
      "  3%|▎         | 12/343 [00:00<00:09, 34.18it/s]/data/nasif12/home_if12/hoev/git/sc-genetics/src/cellink/tl/_gwas.py:60: RuntimeWarning: divide by zero encountered in divide\n",
      "/data/nasif12/home_if12/hoev/git/sc-genetics/src/cellink/tl/_gwas.py:61: RuntimeWarning: invalid value encountered in multiply\n",
      "/data/nasif12/home_if12/hoev/git/sc-genetics/src/cellink/tl/_gwas.py:68: RuntimeWarning: invalid value encountered in multiply\n",
      " 10%|█         | 36/343 [00:01<00:08, 34.75it/s]/data/nasif12/home_if12/hoev/git/sc-genetics/src/cellink/tl/_gwas.py:60: RuntimeWarning: divide by zero encountered in divide\n",
      "/data/nasif12/home_if12/hoev/git/sc-genetics/src/cellink/tl/_gwas.py:61: RuntimeWarning: invalid value encountered in multiply\n",
      "/data/nasif12/home_if12/hoev/git/sc-genetics/src/cellink/tl/_gwas.py:68: RuntimeWarning: invalid value encountered in multiply\n",
      " 17%|█▋        | 60/343 [00:01<00:08, 35.36it/s]/data/nasif12/home_if12/hoev/git/sc-genetics/src/cellink/tl/_gwas.py:60: RuntimeWarning: divide by zero encountered in divide\n",
      "/data/nasif12/home_if12/hoev/git/sc-genetics/src/cellink/tl/_gwas.py:61: RuntimeWarning: invalid value encountered in multiply\n",
      "/data/nasif12/home_if12/hoev/git/sc-genetics/src/cellink/tl/_gwas.py:68: RuntimeWarning: invalid value encountered in multiply\n",
      " 22%|██▏       | 76/343 [00:02<00:07, 33.89it/s]/data/nasif12/home_if12/hoev/git/sc-genetics/src/cellink/tl/_gwas.py:60: RuntimeWarning: divide by zero encountered in divide\n",
      "/data/nasif12/home_if12/hoev/git/sc-genetics/src/cellink/tl/_gwas.py:61: RuntimeWarning: invalid value encountered in multiply\n",
      "/data/nasif12/home_if12/hoev/git/sc-genetics/src/cellink/tl/_gwas.py:68: RuntimeWarning: invalid value encountered in multiply\n",
      "/data/nasif12/home_if12/hoev/git/sc-genetics/src/cellink/tl/_gwas.py:60: RuntimeWarning: divide by zero encountered in divide\n",
      "/data/nasif12/home_if12/hoev/git/sc-genetics/src/cellink/tl/_gwas.py:61: RuntimeWarning: invalid value encountered in multiply\n",
      "/data/nasif12/home_if12/hoev/git/sc-genetics/src/cellink/tl/_gwas.py:68: RuntimeWarning: invalid value encountered in multiply\n",
      " 99%|█████████▉| 340/343 [00:10<00:00, 31.12it/s]/data/nasif12/home_if12/hoev/git/sc-genetics/src/cellink/tl/_gwas.py:60: RuntimeWarning: divide by zero encountered in divide\n",
      "/data/nasif12/home_if12/hoev/git/sc-genetics/src/cellink/tl/_gwas.py:61: RuntimeWarning: invalid value encountered in multiply\n",
      "/data/nasif12/home_if12/hoev/git/sc-genetics/src/cellink/tl/_gwas.py:68: RuntimeWarning: invalid value encountered in multiply\n",
      "100%|██████████| 343/343 [00:10<00:00, 32.12it/s]\n"
     ]
    },
    {
     "name": "stdout",
     "output_type": "stream",
     "text": [
      "NK R\n",
      "Normalizing and log1p transforming data\n"
     ]
    },
    {
     "name": "stderr",
     "output_type": "stream",
     "text": [
      "/opt/modules/i12g/anaconda/envs/eh_scgenetics_v1/lib/python3.10/site-packages/scanpy/preprocessing/_normalization.py:207: UserWarning: Received a view of an AnnData. Making a copy.\n",
      "/data/nasif12/home_if12/hoev/git/sc-genetics/src/cellink/_core/donordata.py:282: ImplicitModificationWarning: Setting element `.obsm['pseudo_mean']` of view, initializing view as actual.\n",
      "  0%|          | 0/341 [00:00<?, ?it/s]/data/nasif12/home_if12/hoev/git/sc-genetics/src/cellink/tl/_gwas.py:60: RuntimeWarning: divide by zero encountered in divide\n",
      "/data/nasif12/home_if12/hoev/git/sc-genetics/src/cellink/tl/_gwas.py:61: RuntimeWarning: invalid value encountered in multiply\n",
      "/data/nasif12/home_if12/hoev/git/sc-genetics/src/cellink/tl/_gwas.py:68: RuntimeWarning: invalid value encountered in multiply\n",
      "  4%|▎         | 12/341 [00:00<00:10, 31.01it/s]/data/nasif12/home_if12/hoev/git/sc-genetics/src/cellink/tl/_gwas.py:60: RuntimeWarning: divide by zero encountered in divide\n",
      "/data/nasif12/home_if12/hoev/git/sc-genetics/src/cellink/tl/_gwas.py:61: RuntimeWarning: invalid value encountered in multiply\n",
      "/data/nasif12/home_if12/hoev/git/sc-genetics/src/cellink/tl/_gwas.py:68: RuntimeWarning: invalid value encountered in multiply\n",
      " 11%|█         | 36/341 [00:01<00:09, 31.19it/s]/data/nasif12/home_if12/hoev/git/sc-genetics/src/cellink/tl/_gwas.py:60: RuntimeWarning: divide by zero encountered in divide\n",
      "/data/nasif12/home_if12/hoev/git/sc-genetics/src/cellink/tl/_gwas.py:61: RuntimeWarning: invalid value encountered in multiply\n",
      "/data/nasif12/home_if12/hoev/git/sc-genetics/src/cellink/tl/_gwas.py:68: RuntimeWarning: invalid value encountered in multiply\n",
      " 18%|█▊        | 60/341 [00:01<00:09, 30.86it/s]/data/nasif12/home_if12/hoev/git/sc-genetics/src/cellink/tl/_gwas.py:60: RuntimeWarning: divide by zero encountered in divide\n",
      "/data/nasif12/home_if12/hoev/git/sc-genetics/src/cellink/tl/_gwas.py:61: RuntimeWarning: invalid value encountered in multiply\n",
      "/data/nasif12/home_if12/hoev/git/sc-genetics/src/cellink/tl/_gwas.py:68: RuntimeWarning: invalid value encountered in multiply\n",
      " 22%|██▏       | 76/341 [00:02<00:08, 32.14it/s]/data/nasif12/home_if12/hoev/git/sc-genetics/src/cellink/tl/_gwas.py:60: RuntimeWarning: divide by zero encountered in divide\n",
      "/data/nasif12/home_if12/hoev/git/sc-genetics/src/cellink/tl/_gwas.py:61: RuntimeWarning: invalid value encountered in multiply\n",
      "/data/nasif12/home_if12/hoev/git/sc-genetics/src/cellink/tl/_gwas.py:68: RuntimeWarning: invalid value encountered in multiply\n",
      "/data/nasif12/home_if12/hoev/git/sc-genetics/src/cellink/tl/_gwas.py:60: RuntimeWarning: divide by zero encountered in divide\n",
      "/data/nasif12/home_if12/hoev/git/sc-genetics/src/cellink/tl/_gwas.py:61: RuntimeWarning: invalid value encountered in multiply\n",
      "/data/nasif12/home_if12/hoev/git/sc-genetics/src/cellink/tl/_gwas.py:68: RuntimeWarning: invalid value encountered in multiply\n",
      "100%|█████████▉| 340/341 [00:10<00:00, 32.85it/s]/data/nasif12/home_if12/hoev/git/sc-genetics/src/cellink/tl/_gwas.py:60: RuntimeWarning: divide by zero encountered in divide\n",
      "/data/nasif12/home_if12/hoev/git/sc-genetics/src/cellink/tl/_gwas.py:61: RuntimeWarning: invalid value encountered in multiply\n",
      "/data/nasif12/home_if12/hoev/git/sc-genetics/src/cellink/tl/_gwas.py:68: RuntimeWarning: invalid value encountered in multiply\n",
      "100%|██████████| 341/341 [00:10<00:00, 31.20it/s]\n"
     ]
    },
    {
     "name": "stdout",
     "output_type": "stream",
     "text": [
      "Platelets\n",
      "Normalizing and log1p transforming data\n"
     ]
    },
    {
     "name": "stderr",
     "output_type": "stream",
     "text": [
      "/opt/modules/i12g/anaconda/envs/eh_scgenetics_v1/lib/python3.10/site-packages/scanpy/preprocessing/_normalization.py:207: UserWarning: Received a view of an AnnData. Making a copy.\n",
      "/data/nasif12/home_if12/hoev/git/sc-genetics/src/cellink/_core/donordata.py:282: ImplicitModificationWarning: Setting element `.obsm['pseudo_mean']` of view, initializing view as actual.\n",
      "  0%|          | 0/306 [00:00<?, ?it/s]/data/nasif12/home_if12/hoev/git/sc-genetics/src/cellink/tl/_gwas.py:60: RuntimeWarning: divide by zero encountered in divide\n",
      "/data/nasif12/home_if12/hoev/git/sc-genetics/src/cellink/tl/_gwas.py:61: RuntimeWarning: invalid value encountered in multiply\n",
      "/data/nasif12/home_if12/hoev/git/sc-genetics/src/cellink/tl/_gwas.py:68: RuntimeWarning: invalid value encountered in multiply\n",
      "  4%|▍         | 12/306 [00:00<00:08, 36.56it/s]/data/nasif12/home_if12/hoev/git/sc-genetics/src/cellink/tl/_gwas.py:60: RuntimeWarning: divide by zero encountered in divide\n",
      "/data/nasif12/home_if12/hoev/git/sc-genetics/src/cellink/tl/_gwas.py:61: RuntimeWarning: invalid value encountered in multiply\n",
      "/data/nasif12/home_if12/hoev/git/sc-genetics/src/cellink/tl/_gwas.py:68: RuntimeWarning: invalid value encountered in multiply\n",
      "  9%|▉         | 28/306 [00:00<00:07, 35.53it/s]/data/nasif12/home_if12/hoev/git/sc-genetics/src/cellink/tl/_gwas.py:60: RuntimeWarning: divide by zero encountered in divide\n",
      "/data/nasif12/home_if12/hoev/git/sc-genetics/src/cellink/tl/_gwas.py:61: RuntimeWarning: invalid value encountered in multiply\n",
      "/data/nasif12/home_if12/hoev/git/sc-genetics/src/cellink/tl/_gwas.py:68: RuntimeWarning: invalid value encountered in multiply\n",
      " 17%|█▋        | 52/306 [00:01<00:07, 35.85it/s]/data/nasif12/home_if12/hoev/git/sc-genetics/src/cellink/tl/_gwas.py:60: RuntimeWarning: divide by zero encountered in divide\n",
      "/data/nasif12/home_if12/hoev/git/sc-genetics/src/cellink/tl/_gwas.py:61: RuntimeWarning: invalid value encountered in multiply\n",
      "/data/nasif12/home_if12/hoev/git/sc-genetics/src/cellink/tl/_gwas.py:68: RuntimeWarning: invalid value encountered in multiply\n",
      " 21%|██        | 64/306 [00:01<00:06, 35.92it/s]/data/nasif12/home_if12/hoev/git/sc-genetics/src/cellink/tl/_gwas.py:60: RuntimeWarning: divide by zero encountered in divide\n",
      "/data/nasif12/home_if12/hoev/git/sc-genetics/src/cellink/tl/_gwas.py:61: RuntimeWarning: invalid value encountered in multiply\n",
      "/data/nasif12/home_if12/hoev/git/sc-genetics/src/cellink/tl/_gwas.py:68: RuntimeWarning: invalid value encountered in multiply\n",
      " 99%|█████████▉| 304/306 [00:08<00:00, 32.67it/s]/data/nasif12/home_if12/hoev/git/sc-genetics/src/cellink/tl/_gwas.py:60: RuntimeWarning: divide by zero encountered in divide\n",
      "/data/nasif12/home_if12/hoev/git/sc-genetics/src/cellink/tl/_gwas.py:61: RuntimeWarning: invalid value encountered in multiply\n",
      "/data/nasif12/home_if12/hoev/git/sc-genetics/src/cellink/tl/_gwas.py:68: RuntimeWarning: invalid value encountered in multiply\n",
      "100%|██████████| 306/306 [00:08<00:00, 35.25it/s]\n"
     ]
    },
    {
     "name": "stdout",
     "output_type": "stream",
     "text": [
      "CD4 SOX4\n",
      "Normalizing and log1p transforming data\n"
     ]
    },
    {
     "name": "stderr",
     "output_type": "stream",
     "text": [
      "/opt/modules/i12g/anaconda/envs/eh_scgenetics_v1/lib/python3.10/site-packages/scanpy/preprocessing/_normalization.py:207: UserWarning: Received a view of an AnnData. Making a copy.\n",
      "/data/nasif12/home_if12/hoev/git/sc-genetics/src/cellink/_core/donordata.py:282: ImplicitModificationWarning: Setting element `.obsm['pseudo_mean']` of view, initializing view as actual.\n",
      "  0%|          | 0/309 [00:00<?, ?it/s]/data/nasif12/home_if12/hoev/git/sc-genetics/src/cellink/tl/_gwas.py:60: RuntimeWarning: divide by zero encountered in divide\n",
      "/data/nasif12/home_if12/hoev/git/sc-genetics/src/cellink/tl/_gwas.py:61: RuntimeWarning: invalid value encountered in multiply\n",
      "/data/nasif12/home_if12/hoev/git/sc-genetics/src/cellink/tl/_gwas.py:68: RuntimeWarning: invalid value encountered in multiply\n",
      "  4%|▍         | 12/309 [00:00<00:10, 29.65it/s]/data/nasif12/home_if12/hoev/git/sc-genetics/src/cellink/tl/_gwas.py:60: RuntimeWarning: divide by zero encountered in divide\n",
      "/data/nasif12/home_if12/hoev/git/sc-genetics/src/cellink/tl/_gwas.py:61: RuntimeWarning: invalid value encountered in multiply\n",
      "/data/nasif12/home_if12/hoev/git/sc-genetics/src/cellink/tl/_gwas.py:68: RuntimeWarning: invalid value encountered in multiply\n",
      " 10%|▉         | 30/309 [00:01<00:09, 28.88it/s]/data/nasif12/home_if12/hoev/git/sc-genetics/src/cellink/tl/_gwas.py:60: RuntimeWarning: divide by zero encountered in divide\n",
      "/data/nasif12/home_if12/hoev/git/sc-genetics/src/cellink/tl/_gwas.py:61: RuntimeWarning: invalid value encountered in multiply\n",
      "/data/nasif12/home_if12/hoev/git/sc-genetics/src/cellink/tl/_gwas.py:68: RuntimeWarning: invalid value encountered in multiply\n",
      " 17%|█▋        | 51/309 [00:01<00:08, 29.33it/s]/data/nasif12/home_if12/hoev/git/sc-genetics/src/cellink/tl/_gwas.py:60: RuntimeWarning: divide by zero encountered in divide\n",
      "/data/nasif12/home_if12/hoev/git/sc-genetics/src/cellink/tl/_gwas.py:61: RuntimeWarning: invalid value encountered in multiply\n",
      "/data/nasif12/home_if12/hoev/git/sc-genetics/src/cellink/tl/_gwas.py:68: RuntimeWarning: invalid value encountered in multiply\n",
      " 21%|██▏       | 66/309 [00:02<00:08, 27.02it/s]/data/nasif12/home_if12/hoev/git/sc-genetics/src/cellink/tl/_gwas.py:60: RuntimeWarning: divide by zero encountered in divide\n",
      "/data/nasif12/home_if12/hoev/git/sc-genetics/src/cellink/tl/_gwas.py:61: RuntimeWarning: invalid value encountered in multiply\n",
      "/data/nasif12/home_if12/hoev/git/sc-genetics/src/cellink/tl/_gwas.py:68: RuntimeWarning: invalid value encountered in multiply\n",
      " 99%|█████████▊| 305/309 [00:10<00:00, 27.57it/s]/data/nasif12/home_if12/hoev/git/sc-genetics/src/cellink/tl/_gwas.py:60: RuntimeWarning: divide by zero encountered in divide\n",
      "/data/nasif12/home_if12/hoev/git/sc-genetics/src/cellink/tl/_gwas.py:61: RuntimeWarning: invalid value encountered in multiply\n",
      "/data/nasif12/home_if12/hoev/git/sc-genetics/src/cellink/tl/_gwas.py:68: RuntimeWarning: invalid value encountered in multiply\n",
      "100%|██████████| 309/309 [00:10<00:00, 28.83it/s]\n"
     ]
    },
    {
     "name": "stdout",
     "output_type": "stream",
     "text": [
      "Erythrocytes\n",
      "Normalizing and log1p transforming data\n"
     ]
    },
    {
     "name": "stderr",
     "output_type": "stream",
     "text": [
      "/opt/modules/i12g/anaconda/envs/eh_scgenetics_v1/lib/python3.10/site-packages/scanpy/preprocessing/_normalization.py:207: UserWarning: Received a view of an AnnData. Making a copy.\n",
      "/data/nasif12/home_if12/hoev/git/sc-genetics/src/cellink/_core/donordata.py:282: ImplicitModificationWarning: Setting element `.obsm['pseudo_mean']` of view, initializing view as actual.\n",
      "  4%|▍         | 8/212 [00:00<00:06, 31.57it/s]/data/nasif12/home_if12/hoev/git/sc-genetics/src/cellink/tl/_gwas.py:60: RuntimeWarning: divide by zero encountered in divide\n",
      "/data/nasif12/home_if12/hoev/git/sc-genetics/src/cellink/tl/_gwas.py:61: RuntimeWarning: invalid value encountered in multiply\n",
      "/data/nasif12/home_if12/hoev/git/sc-genetics/src/cellink/tl/_gwas.py:68: RuntimeWarning: invalid value encountered in multiply\n",
      "  9%|▉         | 20/212 [00:00<00:05, 33.04it/s]/data/nasif12/home_if12/hoev/git/sc-genetics/src/cellink/tl/_gwas.py:60: RuntimeWarning: divide by zero encountered in divide\n",
      "/data/nasif12/home_if12/hoev/git/sc-genetics/src/cellink/tl/_gwas.py:61: RuntimeWarning: invalid value encountered in multiply\n",
      "/data/nasif12/home_if12/hoev/git/sc-genetics/src/cellink/tl/_gwas.py:68: RuntimeWarning: invalid value encountered in multiply\n",
      " 21%|██        | 44/212 [00:01<00:04, 34.18it/s]/data/nasif12/home_if12/hoev/git/sc-genetics/src/cellink/tl/_gwas.py:60: RuntimeWarning: divide by zero encountered in divide\n",
      "/data/nasif12/home_if12/hoev/git/sc-genetics/src/cellink/tl/_gwas.py:61: RuntimeWarning: invalid value encountered in multiply\n",
      "/data/nasif12/home_if12/hoev/git/sc-genetics/src/cellink/tl/_gwas.py:68: RuntimeWarning: invalid value encountered in multiply\n",
      " 98%|█████████▊| 208/212 [00:06<00:00, 35.60it/s]/data/nasif12/home_if12/hoev/git/sc-genetics/src/cellink/tl/_gwas.py:60: RuntimeWarning: divide by zero encountered in divide\n",
      "/data/nasif12/home_if12/hoev/git/sc-genetics/src/cellink/tl/_gwas.py:61: RuntimeWarning: invalid value encountered in multiply\n",
      "/data/nasif12/home_if12/hoev/git/sc-genetics/src/cellink/tl/_gwas.py:68: RuntimeWarning: invalid value encountered in multiply\n",
      "100%|██████████| 212/212 [00:06<00:00, 33.03it/s]\n"
     ]
    }
   ],
   "source": [
    "all_res = []\n",
    "for cell_type in cell_types:\n",
    "    print(cell_type)\n",
    "    this_ddata = compute_pseudobulks(ddata, cell_type)\n",
    "    this_res = run_burden_testing(this_ddata)\n",
    "    this_res[cell_type_col] = cell_type\n",
    "    all_res.append(this_res)\n",
    "all_res = pd.concat(all_res)"
   ]
  },
  {
   "cell_type": "code",
   "execution_count": 14,
   "id": "eb684b33-9aa3-4681-854a-909667a9cddc",
   "metadata": {},
   "outputs": [],
   "source": [
    "all_res[\"pvalue_corrected\"] = all_res[\"pvalue\"] * len(all_res)\n",
    "all_res[\"significant\"] = all_res[\"pvalue_corrected\"] < 0.05"
   ]
  },
  {
   "cell_type": "code",
   "execution_count": 15,
   "id": "f72f5aa3-8aa2-4202-8ad6-1c975ff77964",
   "metadata": {},
   "outputs": [],
   "source": [
    "all_res.to_parquet(\"all_gene_burden_associations_norm.parquet\")"
   ]
  },
  {
   "cell_type": "code",
   "execution_count": 60,
   "id": "3094b04a-0b15-49c1-a42e-d958d782a517",
   "metadata": {},
   "outputs": [],
   "source": [
    "all_res = pd.read_parquet(\"all_gene_burden_associations_norm.parquet\")"
   ]
  },
  {
   "cell_type": "code",
   "execution_count": 17,
   "id": "dd47bdea-9742-400c-b58a-375340180173",
   "metadata": {
    "scrolled": true
   },
   "outputs": [
    {
     "data": {
      "text/html": [
       "<div>\n",
       "<style scoped>\n",
       "    .dataframe tbody tr th:only-of-type {\n",
       "        vertical-align: middle;\n",
       "    }\n",
       "\n",
       "    .dataframe tbody tr th {\n",
       "        vertical-align: top;\n",
       "    }\n",
       "\n",
       "    .dataframe thead th {\n",
       "        text-align: right;\n",
       "    }\n",
       "</style>\n",
       "<table border=\"1\" class=\"dataframe\">\n",
       "  <thead>\n",
       "    <tr style=\"text-align: right;\">\n",
       "      <th></th>\n",
       "      <th>Gene_burden</th>\n",
       "      <th>burden_type</th>\n",
       "      <th>pvalue</th>\n",
       "      <th>beta</th>\n",
       "      <th>cell_label</th>\n",
       "      <th>pvalue_corrected</th>\n",
       "      <th>significant</th>\n",
       "    </tr>\n",
       "  </thead>\n",
       "  <tbody>\n",
       "    <tr>\n",
       "      <th>0</th>\n",
       "      <td>ENSG00000075234</td>\n",
       "      <td>DISTANCE</td>\n",
       "      <td>2.302263e-06</td>\n",
       "      <td>0.000016</td>\n",
       "      <td>CD4 NC</td>\n",
       "      <td>0.029087</td>\n",
       "      <td>True</td>\n",
       "    </tr>\n",
       "    <tr>\n",
       "      <th>0</th>\n",
       "      <td>ENSG00000187905</td>\n",
       "      <td>DISTANCE</td>\n",
       "      <td>9.633641e-07</td>\n",
       "      <td>0.000188</td>\n",
       "      <td>Plasma</td>\n",
       "      <td>0.012171</td>\n",
       "      <td>True</td>\n",
       "    </tr>\n",
       "  </tbody>\n",
       "</table>\n",
       "</div>"
      ],
      "text/plain": [
       "       Gene_burden burden_type        pvalue      beta cell_label  \\\n",
       "0  ENSG00000075234    DISTANCE  2.302263e-06  0.000016     CD4 NC   \n",
       "0  ENSG00000187905    DISTANCE  9.633641e-07  0.000188     Plasma   \n",
       "\n",
       "   pvalue_corrected  significant  \n",
       "0          0.029087         True  \n",
       "0          0.012171         True  "
      ]
     },
     "execution_count": 17,
     "metadata": {},
     "output_type": "execute_result"
    }
   ],
   "source": [
    "all_res.query(\"significant & burden_type== 'DISTANCE'\")"
   ]
  },
  {
   "cell_type": "code",
   "execution_count": 18,
   "id": "8811243b-3ae0-4497-9eb0-233d86660531",
   "metadata": {},
   "outputs": [
    {
     "data": {
      "text/html": [
       "<div>\n",
       "<style scoped>\n",
       "    .dataframe tbody tr th:only-of-type {\n",
       "        vertical-align: middle;\n",
       "    }\n",
       "\n",
       "    .dataframe tbody tr th {\n",
       "        vertical-align: top;\n",
       "    }\n",
       "\n",
       "    .dataframe thead th {\n",
       "        text-align: right;\n",
       "    }\n",
       "</style>\n",
       "<table border=\"1\" class=\"dataframe\">\n",
       "  <thead>\n",
       "    <tr style=\"text-align: right;\">\n",
       "      <th></th>\n",
       "      <th>cell_label</th>\n",
       "      <th>burden_type</th>\n",
       "      <th>count</th>\n",
       "    </tr>\n",
       "  </thead>\n",
       "  <tbody>\n",
       "    <tr>\n",
       "      <th>0</th>\n",
       "      <td>B IN</td>\n",
       "      <td>CADD_PHRED</td>\n",
       "      <td>2</td>\n",
       "    </tr>\n",
       "    <tr>\n",
       "      <th>1</th>\n",
       "      <td>B IN</td>\n",
       "      <td>DISTANCE</td>\n",
       "      <td>0</td>\n",
       "    </tr>\n",
       "    <tr>\n",
       "      <th>2</th>\n",
       "      <td>B Mem</td>\n",
       "      <td>CADD_PHRED</td>\n",
       "      <td>0</td>\n",
       "    </tr>\n",
       "    <tr>\n",
       "      <th>3</th>\n",
       "      <td>B Mem</td>\n",
       "      <td>DISTANCE</td>\n",
       "      <td>0</td>\n",
       "    </tr>\n",
       "    <tr>\n",
       "      <th>4</th>\n",
       "      <td>CD4 ET</td>\n",
       "      <td>CADD_PHRED</td>\n",
       "      <td>1</td>\n",
       "    </tr>\n",
       "    <tr>\n",
       "      <th>5</th>\n",
       "      <td>CD4 ET</td>\n",
       "      <td>DISTANCE</td>\n",
       "      <td>0</td>\n",
       "    </tr>\n",
       "    <tr>\n",
       "      <th>6</th>\n",
       "      <td>CD4 NC</td>\n",
       "      <td>CADD_PHRED</td>\n",
       "      <td>5</td>\n",
       "    </tr>\n",
       "    <tr>\n",
       "      <th>7</th>\n",
       "      <td>CD4 NC</td>\n",
       "      <td>DISTANCE</td>\n",
       "      <td>1</td>\n",
       "    </tr>\n",
       "    <tr>\n",
       "      <th>8</th>\n",
       "      <td>CD4 SOX4</td>\n",
       "      <td>CADD_PHRED</td>\n",
       "      <td>0</td>\n",
       "    </tr>\n",
       "    <tr>\n",
       "      <th>9</th>\n",
       "      <td>CD4 SOX4</td>\n",
       "      <td>DISTANCE</td>\n",
       "      <td>0</td>\n",
       "    </tr>\n",
       "    <tr>\n",
       "      <th>10</th>\n",
       "      <td>CD8 ET</td>\n",
       "      <td>CADD_PHRED</td>\n",
       "      <td>3</td>\n",
       "    </tr>\n",
       "    <tr>\n",
       "      <th>11</th>\n",
       "      <td>CD8 ET</td>\n",
       "      <td>DISTANCE</td>\n",
       "      <td>0</td>\n",
       "    </tr>\n",
       "    <tr>\n",
       "      <th>12</th>\n",
       "      <td>CD8 NC</td>\n",
       "      <td>CADD_PHRED</td>\n",
       "      <td>3</td>\n",
       "    </tr>\n",
       "    <tr>\n",
       "      <th>13</th>\n",
       "      <td>CD8 NC</td>\n",
       "      <td>DISTANCE</td>\n",
       "      <td>0</td>\n",
       "    </tr>\n",
       "    <tr>\n",
       "      <th>14</th>\n",
       "      <td>CD8 S100B</td>\n",
       "      <td>CADD_PHRED</td>\n",
       "      <td>0</td>\n",
       "    </tr>\n",
       "    <tr>\n",
       "      <th>15</th>\n",
       "      <td>CD8 S100B</td>\n",
       "      <td>DISTANCE</td>\n",
       "      <td>0</td>\n",
       "    </tr>\n",
       "    <tr>\n",
       "      <th>16</th>\n",
       "      <td>DC</td>\n",
       "      <td>CADD_PHRED</td>\n",
       "      <td>1</td>\n",
       "    </tr>\n",
       "    <tr>\n",
       "      <th>17</th>\n",
       "      <td>DC</td>\n",
       "      <td>DISTANCE</td>\n",
       "      <td>0</td>\n",
       "    </tr>\n",
       "    <tr>\n",
       "      <th>18</th>\n",
       "      <td>Erythrocytes</td>\n",
       "      <td>CADD_PHRED</td>\n",
       "      <td>0</td>\n",
       "    </tr>\n",
       "    <tr>\n",
       "      <th>19</th>\n",
       "      <td>Erythrocytes</td>\n",
       "      <td>DISTANCE</td>\n",
       "      <td>0</td>\n",
       "    </tr>\n",
       "    <tr>\n",
       "      <th>20</th>\n",
       "      <td>Mono C</td>\n",
       "      <td>CADD_PHRED</td>\n",
       "      <td>0</td>\n",
       "    </tr>\n",
       "    <tr>\n",
       "      <th>21</th>\n",
       "      <td>Mono C</td>\n",
       "      <td>DISTANCE</td>\n",
       "      <td>0</td>\n",
       "    </tr>\n",
       "    <tr>\n",
       "      <th>22</th>\n",
       "      <td>Mono NC</td>\n",
       "      <td>CADD_PHRED</td>\n",
       "      <td>0</td>\n",
       "    </tr>\n",
       "    <tr>\n",
       "      <th>23</th>\n",
       "      <td>Mono NC</td>\n",
       "      <td>DISTANCE</td>\n",
       "      <td>0</td>\n",
       "    </tr>\n",
       "    <tr>\n",
       "      <th>24</th>\n",
       "      <td>NK</td>\n",
       "      <td>CADD_PHRED</td>\n",
       "      <td>3</td>\n",
       "    </tr>\n",
       "    <tr>\n",
       "      <th>25</th>\n",
       "      <td>NK</td>\n",
       "      <td>DISTANCE</td>\n",
       "      <td>0</td>\n",
       "    </tr>\n",
       "    <tr>\n",
       "      <th>26</th>\n",
       "      <td>NK R</td>\n",
       "      <td>CADD_PHRED</td>\n",
       "      <td>1</td>\n",
       "    </tr>\n",
       "    <tr>\n",
       "      <th>27</th>\n",
       "      <td>NK R</td>\n",
       "      <td>DISTANCE</td>\n",
       "      <td>0</td>\n",
       "    </tr>\n",
       "    <tr>\n",
       "      <th>28</th>\n",
       "      <td>Plasma</td>\n",
       "      <td>CADD_PHRED</td>\n",
       "      <td>0</td>\n",
       "    </tr>\n",
       "    <tr>\n",
       "      <th>29</th>\n",
       "      <td>Plasma</td>\n",
       "      <td>DISTANCE</td>\n",
       "      <td>1</td>\n",
       "    </tr>\n",
       "    <tr>\n",
       "      <th>30</th>\n",
       "      <td>Platelets</td>\n",
       "      <td>CADD_PHRED</td>\n",
       "      <td>0</td>\n",
       "    </tr>\n",
       "    <tr>\n",
       "      <th>31</th>\n",
       "      <td>Platelets</td>\n",
       "      <td>DISTANCE</td>\n",
       "      <td>0</td>\n",
       "    </tr>\n",
       "  </tbody>\n",
       "</table>\n",
       "</div>"
      ],
      "text/plain": [
       "      cell_label burden_type  count\n",
       "0           B IN  CADD_PHRED      2\n",
       "1           B IN    DISTANCE      0\n",
       "2          B Mem  CADD_PHRED      0\n",
       "3          B Mem    DISTANCE      0\n",
       "4         CD4 ET  CADD_PHRED      1\n",
       "5         CD4 ET    DISTANCE      0\n",
       "6         CD4 NC  CADD_PHRED      5\n",
       "7         CD4 NC    DISTANCE      1\n",
       "8       CD4 SOX4  CADD_PHRED      0\n",
       "9       CD4 SOX4    DISTANCE      0\n",
       "10        CD8 ET  CADD_PHRED      3\n",
       "11        CD8 ET    DISTANCE      0\n",
       "12        CD8 NC  CADD_PHRED      3\n",
       "13        CD8 NC    DISTANCE      0\n",
       "14     CD8 S100B  CADD_PHRED      0\n",
       "15     CD8 S100B    DISTANCE      0\n",
       "16            DC  CADD_PHRED      1\n",
       "17            DC    DISTANCE      0\n",
       "18  Erythrocytes  CADD_PHRED      0\n",
       "19  Erythrocytes    DISTANCE      0\n",
       "20        Mono C  CADD_PHRED      0\n",
       "21        Mono C    DISTANCE      0\n",
       "22       Mono NC  CADD_PHRED      0\n",
       "23       Mono NC    DISTANCE      0\n",
       "24            NK  CADD_PHRED      3\n",
       "25            NK    DISTANCE      0\n",
       "26          NK R  CADD_PHRED      1\n",
       "27          NK R    DISTANCE      0\n",
       "28        Plasma  CADD_PHRED      0\n",
       "29        Plasma    DISTANCE      1\n",
       "30     Platelets  CADD_PHRED      0\n",
       "31     Platelets    DISTANCE      0"
      ]
     },
     "execution_count": 18,
     "metadata": {},
     "output_type": "execute_result"
    }
   ],
   "source": [
    "e_genes_per_cell_type = all_res\\\n",
    "    .groupby([cell_type_col, \"burden_type\"])[\"significant\"].sum()\\\n",
    "    .to_frame(name = \"count\").reset_index()\n",
    "e_genes_per_cell_type"
   ]
  },
  {
   "cell_type": "code",
   "execution_count": 28,
   "id": "07844f14-aa42-47c5-a2a9-2f7f2ab228a3",
   "metadata": {},
   "outputs": [],
   "source": [
    "zero_types = list(e_genes_per_cell_type.groupby(\"cell_label\").sum().query(\"count ==0\").index)"
   ]
  },
  {
   "cell_type": "code",
   "execution_count": 61,
   "id": "ec7a19ba-2ab9-4fc3-9e42-87351545e464",
   "metadata": {},
   "outputs": [
    {
     "name": "stdout",
     "output_type": "stream",
     "text": [
      "[2024-10-10 21:13:30,610] INFO:matplotlib.font_manager: Fontsize 0.00 < 1.0 pt not allowed by FreeType. Setting fontsize = 1 pt\n"
     ]
    },
    {
     "data": {
      "image/png": "[encoded data removed]"
     },
     "metadata": {
      "image/png": {
       "height": 300,
       "width": 500
      }
     },
     "output_type": "display_data"
    }
   ],
   "source": [
    "plot = (\n",
    "    ggplot(e_genes_per_cell_type.query(\"cell_label not in @zero_types\"), \n",
    "           aes(x='cell_label', y='count'))  # Specify the x and y variables\n",
    "    + geom_bar(aes(fill = \"burden_type\"), stat = \"identity\")  # Add the boxplot layer\n",
    "    + theme_classic()  # Optional: use a clean theme\n",
    "    + theme(axis_text_x = element_text(angle = 45, hjust = 1, vjust = 1), figure_size = (5,3)) \n",
    "            #legend_position=\"none\")\n",
    "    + labs(y = \"Number of E-Genes\", x = \"\", fill = \"Burden annotation\")\n",
    "    + scale_fill_manual(values = ['darkred', \"grey\"], labels = [\"CADD\",  \"TSS Distance\"])\n",
    ")\n",
    "plot"
   ]
  },
  {
   "cell_type": "code",
   "execution_count": 39,
   "id": "67ed58d5-b96d-4587-a53a-3e757d637b3b",
   "metadata": {},
   "outputs": [
    {
     "name": "stdout",
     "output_type": "stream",
     "text": [
      "[2024-10-10 19:40:32,984] INFO:matplotlib.font_manager: Fontsize 0.00 < 1.0 pt not allowed by FreeType. Setting fontsize = 1 pt\n"
     ]
    },
    {
     "data": {
      "image/png": "[encoded data removed]"
     },
     "metadata": {
      "image/png": {
       "height": 300,
       "width": 300
      }
     },
     "output_type": "display_data"
    }
   ],
   "source": [
    "df = all_res.copy().query(\"burden_type == 'CADD_PHRED'\")\n",
    "\n",
    "df = df.sort_values(\"pvalue\")\n",
    "df[\"-log10pval_expected\"] = -np.log10(np.arange(1, len(df) + 1) / len(df))\n",
    "\n",
    "if \"-log10pval\" not in df.columns:\n",
    "    df[\"-log10pval\"] = -np.log10(df[\"pvalue\"])\n",
    "\n",
    "aes_kwargs = dict(x=\"-log10pval_expected\", y=\"-log10pval\")\n",
    "plot = (\n",
    "    ggplot(df, aes(**aes_kwargs, color=\"significant\"))\n",
    "    + labs(title=\"QQ plot\")\n",
    "    + scale_color_manual(values = [\"black\", \"red\"])\n",
    "    + theme_classic()\n",
    "    + geom_abline(intercept=0, slope=1, color=\"red\")\n",
    "    + geom_point()\n",
    "    + theme(legend_position=\"top\", figure_size = (3,3))\n",
    ")\n",
    "plot"
   ]
  },
  {
   "cell_type": "code",
   "execution_count": 87,
   "id": "9cc61808-1c71-4281-80b6-67d6b58678dd",
   "metadata": {},
   "outputs": [
    {
     "name": "stderr",
     "output_type": "stream",
     "text": [
      "/scratch/tmp/hoev/ipykernel_1415524/3448583063.py:1: FutureWarning: The default of observed=False is deprecated and will be changed to True in a future version of pandas. Pass observed=False to retain current behavior or observed=True to adopt the future default and silence this warning.\n"
     ]
    },
    {
     "data": {
      "text/plain": [
       "cell_label\n",
       "Erythrocytes       680\n",
       "Plasma            3625\n",
       "Platelets         4041\n",
       "CD4 SOX4          4065\n",
       "DC                8690\n",
       "NK R              9677\n",
       "Mono NC          15166\n",
       "CD8 S100B        34528\n",
       "Mono C           38233\n",
       "B Mem            48023\n",
       "CD4 ET           61786\n",
       "B IN             82068\n",
       "CD8 NC          133482\n",
       "NK              159820\n",
       "CD8 ET          205077\n",
       "CD4 NC          463528\n",
       "dtype: int64"
      ]
     },
     "execution_count": 87,
     "metadata": {},
     "output_type": "execute_result"
    }
   ],
   "source": [
    "ddata.adata.obs.groupby(cell_type_col).size().sort_values()"
   ]
  },
  {
   "cell_type": "code",
   "execution_count": 66,
   "id": "18e3c3fa-d086-4a9d-8a8a-e029f08c2084",
   "metadata": {},
   "outputs": [
    {
     "data": {
      "text/html": [
       "<div>\n",
       "<style scoped>\n",
       "    .dataframe tbody tr th:only-of-type {\n",
       "        vertical-align: middle;\n",
       "    }\n",
       "\n",
       "    .dataframe tbody tr th {\n",
       "        vertical-align: top;\n",
       "    }\n",
       "\n",
       "    .dataframe thead th {\n",
       "        text-align: right;\n",
       "    }\n",
       "</style>\n",
       "<table border=\"1\" class=\"dataframe\">\n",
       "  <thead>\n",
       "    <tr style=\"text-align: right;\">\n",
       "      <th></th>\n",
       "      <th>Gene_burden</th>\n",
       "      <th>burden_type</th>\n",
       "      <th>pvalue</th>\n",
       "      <th>beta</th>\n",
       "      <th>cell_label</th>\n",
       "      <th>pvalue_corrected</th>\n",
       "      <th>significant</th>\n",
       "    </tr>\n",
       "  </thead>\n",
       "  <tbody>\n",
       "    <tr>\n",
       "      <th>0</th>\n",
       "      <td>ENSG00000187905</td>\n",
       "      <td>DISTANCE</td>\n",
       "      <td>9.633641e-07</td>\n",
       "      <td>0.000188</td>\n",
       "      <td>Plasma</td>\n",
       "      <td>0.012171</td>\n",
       "      <td>True</td>\n",
       "    </tr>\n",
       "  </tbody>\n",
       "</table>\n",
       "</div>"
      ],
      "text/plain": [
       "       Gene_burden burden_type        pvalue      beta cell_label  \\\n",
       "0  ENSG00000187905    DISTANCE  9.633641e-07  0.000188     Plasma   \n",
       "\n",
       "   pvalue_corrected  significant  \n",
       "0          0.012171         True  "
      ]
     },
     "execution_count": 66,
     "metadata": {},
     "output_type": "execute_result"
    }
   ],
   "source": [
    "sig_genes_cd4 = all_res.query(\"cell_label == 'CD4 NC' & significant\")[\"Gene_burden\"].unique()\n",
    "sig_genes_cd4\n",
    "all_res.query(\"significant & Gene_burden not in @sig_genes_cd4\")"
   ]
  },
  {
   "cell_type": "code",
   "execution_count": 44,
   "id": "5b88ba23-5ca5-48cb-80a8-27501faa7e72",
   "metadata": {},
   "outputs": [],
   "source": [
    "gene_oi = \"ENSG00000187905\""
   ]
  },
  {
   "cell_type": "code",
   "execution_count": 67,
   "id": "c1d3d702-5897-4dbe-8eff-2e62cbee82e4",
   "metadata": {},
   "outputs": [
    {
     "data": {
      "text/html": [
       "<div>\n",
       "<style scoped>\n",
       "    .dataframe tbody tr th:only-of-type {\n",
       "        vertical-align: middle;\n",
       "    }\n",
       "\n",
       "    .dataframe tbody tr th {\n",
       "        vertical-align: top;\n",
       "    }\n",
       "\n",
       "    .dataframe thead th {\n",
       "        text-align: right;\n",
       "    }\n",
       "</style>\n",
       "<table border=\"1\" class=\"dataframe\">\n",
       "  <thead>\n",
       "    <tr style=\"text-align: right;\">\n",
       "      <th></th>\n",
       "      <th>Gene_burden</th>\n",
       "      <th>burden_type</th>\n",
       "      <th>pvalue</th>\n",
       "      <th>beta</th>\n",
       "      <th>cell_label</th>\n",
       "      <th>pvalue_corrected</th>\n",
       "      <th>significant</th>\n",
       "    </tr>\n",
       "  </thead>\n",
       "  <tbody>\n",
       "    <tr>\n",
       "      <th>0</th>\n",
       "      <td>ENSG00000187905</td>\n",
       "      <td>DISTANCE</td>\n",
       "      <td>4.364780e-01</td>\n",
       "      <td>-0.000091</td>\n",
       "      <td>CD8 ET</td>\n",
       "      <td>5514.463312</td>\n",
       "      <td>False</td>\n",
       "    </tr>\n",
       "    <tr>\n",
       "      <th>0</th>\n",
       "      <td>ENSG00000187905</td>\n",
       "      <td>DISTANCE</td>\n",
       "      <td>6.917693e-01</td>\n",
       "      <td>-0.000042</td>\n",
       "      <td>CD8 NC</td>\n",
       "      <td>8739.813258</td>\n",
       "      <td>False</td>\n",
       "    </tr>\n",
       "    <tr>\n",
       "      <th>0</th>\n",
       "      <td>ENSG00000187905</td>\n",
       "      <td>DISTANCE</td>\n",
       "      <td>3.604805e-01</td>\n",
       "      <td>-0.000120</td>\n",
       "      <td>CD4 NC</td>\n",
       "      <td>4554.310969</td>\n",
       "      <td>False</td>\n",
       "    </tr>\n",
       "    <tr>\n",
       "      <th>0</th>\n",
       "      <td>ENSG00000187905</td>\n",
       "      <td>DISTANCE</td>\n",
       "      <td>7.208982e-01</td>\n",
       "      <td>0.000022</td>\n",
       "      <td>Mono C</td>\n",
       "      <td>9107.828178</td>\n",
       "      <td>False</td>\n",
       "    </tr>\n",
       "    <tr>\n",
       "      <th>0</th>\n",
       "      <td>ENSG00000187905</td>\n",
       "      <td>DISTANCE</td>\n",
       "      <td>6.070644e-01</td>\n",
       "      <td>0.000054</td>\n",
       "      <td>NK</td>\n",
       "      <td>7669.651712</td>\n",
       "      <td>False</td>\n",
       "    </tr>\n",
       "    <tr>\n",
       "      <th>0</th>\n",
       "      <td>ENSG00000187905</td>\n",
       "      <td>DISTANCE</td>\n",
       "      <td>9.076210e-01</td>\n",
       "      <td>-0.000011</td>\n",
       "      <td>B IN</td>\n",
       "      <td>11466.884235</td>\n",
       "      <td>False</td>\n",
       "    </tr>\n",
       "    <tr>\n",
       "      <th>0</th>\n",
       "      <td>ENSG00000187905</td>\n",
       "      <td>DISTANCE</td>\n",
       "      <td>7.097806e-01</td>\n",
       "      <td>0.000027</td>\n",
       "      <td>CD4 ET</td>\n",
       "      <td>8967.368283</td>\n",
       "      <td>False</td>\n",
       "    </tr>\n",
       "    <tr>\n",
       "      <th>0</th>\n",
       "      <td>ENSG00000187905</td>\n",
       "      <td>DISTANCE</td>\n",
       "      <td>1.524448e-01</td>\n",
       "      <td>0.000061</td>\n",
       "      <td>Mono NC</td>\n",
       "      <td>1925.988184</td>\n",
       "      <td>False</td>\n",
       "    </tr>\n",
       "    <tr>\n",
       "      <th>0</th>\n",
       "      <td>ENSG00000187905</td>\n",
       "      <td>DISTANCE</td>\n",
       "      <td>6.397567e-01</td>\n",
       "      <td>0.000028</td>\n",
       "      <td>CD8 S100B</td>\n",
       "      <td>8082.685830</td>\n",
       "      <td>False</td>\n",
       "    </tr>\n",
       "    <tr>\n",
       "      <th>0</th>\n",
       "      <td>ENSG00000187905</td>\n",
       "      <td>DISTANCE</td>\n",
       "      <td>1.797661e-01</td>\n",
       "      <td>-0.000093</td>\n",
       "      <td>B Mem</td>\n",
       "      <td>2271.165480</td>\n",
       "      <td>False</td>\n",
       "    </tr>\n",
       "    <tr>\n",
       "      <th>0</th>\n",
       "      <td>ENSG00000187905</td>\n",
       "      <td>DISTANCE</td>\n",
       "      <td>9.633641e-07</td>\n",
       "      <td>0.000188</td>\n",
       "      <td>Plasma</td>\n",
       "      <td>0.012171</td>\n",
       "      <td>True</td>\n",
       "    </tr>\n",
       "  </tbody>\n",
       "</table>\n",
       "</div>"
      ],
      "text/plain": [
       "       Gene_burden burden_type        pvalue      beta cell_label  \\\n",
       "0  ENSG00000187905    DISTANCE  4.364780e-01 -0.000091     CD8 ET   \n",
       "0  ENSG00000187905    DISTANCE  6.917693e-01 -0.000042     CD8 NC   \n",
       "0  ENSG00000187905    DISTANCE  3.604805e-01 -0.000120     CD4 NC   \n",
       "0  ENSG00000187905    DISTANCE  7.208982e-01  0.000022     Mono C   \n",
       "0  ENSG00000187905    DISTANCE  6.070644e-01  0.000054         NK   \n",
       "0  ENSG00000187905    DISTANCE  9.076210e-01 -0.000011       B IN   \n",
       "0  ENSG00000187905    DISTANCE  7.097806e-01  0.000027     CD4 ET   \n",
       "0  ENSG00000187905    DISTANCE  1.524448e-01  0.000061    Mono NC   \n",
       "0  ENSG00000187905    DISTANCE  6.397567e-01  0.000028  CD8 S100B   \n",
       "0  ENSG00000187905    DISTANCE  1.797661e-01 -0.000093      B Mem   \n",
       "0  ENSG00000187905    DISTANCE  9.633641e-07  0.000188     Plasma   \n",
       "\n",
       "   pvalue_corrected  significant  \n",
       "0       5514.463312        False  \n",
       "0       8739.813258        False  \n",
       "0       4554.310969        False  \n",
       "0       9107.828178        False  \n",
       "0       7669.651712        False  \n",
       "0      11466.884235        False  \n",
       "0       8967.368283        False  \n",
       "0       1925.988184        False  \n",
       "0       8082.685830        False  \n",
       "0       2271.165480        False  \n",
       "0          0.012171         True  "
      ]
     },
     "execution_count": 67,
     "metadata": {},
     "output_type": "execute_result"
    }
   ],
   "source": [
    "all_res.query(\"Gene_burden == @gene_oi & burden_type == 'DISTANCE'\")"
   ]
  },
  {
   "cell_type": "code",
   "execution_count": 45,
   "id": "5ca95e23-b4c6-462f-8c92-100c1fabbf70",
   "metadata": {},
   "outputs": [
    {
     "data": {
      "text/plain": [
       "Number of Sig. cell types    1\n",
       "Name: ENSG00000187905, dtype: int64"
      ]
     },
     "execution_count": 45,
     "metadata": {},
     "output_type": "execute_result"
    }
   ],
   "source": [
    "all_res.query(\"significant\").groupby(\"Gene_burden\").size().to_frame(name = \"Number of Sig. cell types\").loc[gene_oi]"
   ]
  },
  {
   "cell_type": "code",
   "execution_count": 46,
   "id": "effce2b9-2d30-4d4b-816c-9af972a37649",
   "metadata": {},
   "outputs": [
    {
     "name": "stdout",
     "output_type": "stream",
     "text": [
      "Normalizing and log1p transforming data\n"
     ]
    },
    {
     "name": "stderr",
     "output_type": "stream",
     "text": [
      "/opt/modules/i12g/anaconda/envs/eh_scgenetics_v1/lib/python3.10/site-packages/scanpy/preprocessing/_normalization.py:207: UserWarning: Received a view of an AnnData. Making a copy.\n",
      "/data/nasif12/home_if12/hoev/git/sc-genetics/src/cellink/_core/donordata.py:282: ImplicitModificationWarning: Setting element `.obsm['pseudo_mean']` of view, initializing view as actual.\n"
     ]
    },
    {
     "name": "stdout",
     "output_type": "stream",
     "text": [
      "Normalizing and log1p transforming data\n"
     ]
    },
    {
     "name": "stderr",
     "output_type": "stream",
     "text": [
      "/opt/modules/i12g/anaconda/envs/eh_scgenetics_v1/lib/python3.10/site-packages/scanpy/preprocessing/_normalization.py:207: UserWarning: Received a view of an AnnData. Making a copy.\n",
      "/opt/modules/i12g/anaconda/envs/eh_scgenetics_v1/lib/python3.10/site-packages/scanpy/preprocessing/_normalization.py:234: UserWarning: Some cells have zero counts\n",
      "/data/nasif12/home_if12/hoev/git/sc-genetics/src/cellink/_core/donordata.py:282: ImplicitModificationWarning: Setting element `.obsm['pseudo_mean']` of view, initializing view as actual.\n"
     ]
    }
   ],
   "source": [
    "this_ddata_mono = compute_pseudobulks(ddata, \"Plasma\")\n",
    "this_ddata_cd = compute_pseudobulks(ddata, \"CD4 NC\")"
   ]
  },
  {
   "cell_type": "code",
   "execution_count": 47,
   "id": "004cdfc0-4ef9-422c-9baf-82d9fc9cd09c",
   "metadata": {},
   "outputs": [],
   "source": [
    "y_cd = this_ddata_cd.gdata.obsm[\"pseudo_mean\"][gene_oi] \n",
    "y_mono = this_ddata_mono.gdata.obsm[\"pseudo_mean\"][gene_oi]\n",
    "b = this_ddata_mono.gdata.uns['gene_burdens'].query(\"Gene == @gene_oi\")[\"CADD_PHRED\"]"
   ]
  },
  {
   "cell_type": "code",
   "execution_count": 51,
   "id": "782ad33a-5d43-4e7e-b89a-3fde824c7c30",
   "metadata": {},
   "outputs": [
    {
     "data": {
      "text/html": [
       "<div>\n",
       "<style scoped>\n",
       "    .dataframe tbody tr th:only-of-type {\n",
       "        vertical-align: middle;\n",
       "    }\n",
       "\n",
       "    .dataframe tbody tr th {\n",
       "        vertical-align: top;\n",
       "    }\n",
       "\n",
       "    .dataframe thead th {\n",
       "        text-align: right;\n",
       "    }\n",
       "</style>\n",
       "<table border=\"1\" class=\"dataframe\">\n",
       "  <thead>\n",
       "    <tr style=\"text-align: right;\">\n",
       "      <th></th>\n",
       "      <th>CADD_PHRED</th>\n",
       "      <th>id</th>\n",
       "      <th>Cell type</th>\n",
       "      <th>Expression</th>\n",
       "    </tr>\n",
       "  </thead>\n",
       "  <tbody>\n",
       "    <tr>\n",
       "      <th>0</th>\n",
       "      <td>9.514</td>\n",
       "      <td>1_1</td>\n",
       "      <td>CD4 NC</td>\n",
       "      <td>0.000924</td>\n",
       "    </tr>\n",
       "    <tr>\n",
       "      <th>1</th>\n",
       "      <td>0.000</td>\n",
       "      <td>2_2</td>\n",
       "      <td>CD4 NC</td>\n",
       "      <td>0.000000</td>\n",
       "    </tr>\n",
       "    <tr>\n",
       "      <th>2</th>\n",
       "      <td>0.000</td>\n",
       "      <td>3_3</td>\n",
       "      <td>CD4 NC</td>\n",
       "      <td>0.002641</td>\n",
       "    </tr>\n",
       "    <tr>\n",
       "      <th>3</th>\n",
       "      <td>0.000</td>\n",
       "      <td>4_4</td>\n",
       "      <td>CD4 NC</td>\n",
       "      <td>0.001961</td>\n",
       "    </tr>\n",
       "    <tr>\n",
       "      <th>4</th>\n",
       "      <td>0.000</td>\n",
       "      <td>6_6</td>\n",
       "      <td>CD4 NC</td>\n",
       "      <td>0.000885</td>\n",
       "    </tr>\n",
       "    <tr>\n",
       "      <th>...</th>\n",
       "      <td>...</td>\n",
       "      <td>...</td>\n",
       "      <td>...</td>\n",
       "      <td>...</td>\n",
       "    </tr>\n",
       "    <tr>\n",
       "      <th>1957</th>\n",
       "      <td>0.000</td>\n",
       "      <td>1077_1078</td>\n",
       "      <td>Plasma</td>\n",
       "      <td>0.000000</td>\n",
       "    </tr>\n",
       "    <tr>\n",
       "      <th>1958</th>\n",
       "      <td>0.000</td>\n",
       "      <td>1078_1079</td>\n",
       "      <td>Plasma</td>\n",
       "      <td>0.000000</td>\n",
       "    </tr>\n",
       "    <tr>\n",
       "      <th>1959</th>\n",
       "      <td>0.000</td>\n",
       "      <td>1079_1080</td>\n",
       "      <td>Plasma</td>\n",
       "      <td>0.000000</td>\n",
       "    </tr>\n",
       "    <tr>\n",
       "      <th>1960</th>\n",
       "      <td>3.481</td>\n",
       "      <td>1080_1081</td>\n",
       "      <td>Plasma</td>\n",
       "      <td>0.000000</td>\n",
       "    </tr>\n",
       "    <tr>\n",
       "      <th>1961</th>\n",
       "      <td>0.000</td>\n",
       "      <td>1081_1082</td>\n",
       "      <td>Plasma</td>\n",
       "      <td>0.000000</td>\n",
       "    </tr>\n",
       "  </tbody>\n",
       "</table>\n",
       "<p>1962 rows × 4 columns</p>\n",
       "</div>"
      ],
      "text/plain": [
       "      CADD_PHRED         id Cell type  Expression\n",
       "0          9.514        1_1    CD4 NC    0.000924\n",
       "1          0.000        2_2    CD4 NC    0.000000\n",
       "2          0.000        3_3    CD4 NC    0.002641\n",
       "3          0.000        4_4    CD4 NC    0.001961\n",
       "4          0.000        6_6    CD4 NC    0.000885\n",
       "...          ...        ...       ...         ...\n",
       "1957       0.000  1077_1078    Plasma    0.000000\n",
       "1958       0.000  1078_1079    Plasma    0.000000\n",
       "1959       0.000  1079_1080    Plasma    0.000000\n",
       "1960       3.481  1080_1081    Plasma    0.000000\n",
       "1961       0.000  1081_1082    Plasma    0.000000\n",
       "\n",
       "[1962 rows x 4 columns]"
      ]
     },
     "execution_count": 51,
     "metadata": {},
     "output_type": "execute_result"
    }
   ],
   "source": [
    "merged = y_cd.to_frame(name = \"CD4 NC\").join(y_mono.to_frame(name = \"Plasma\")).join(b)\n",
    "merged = merged.reset_index()\\\n",
    "    .melt(id_vars = [\"CADD_PHRED\", \"id\"], value_vars = [\"CD4 NC\",\"Plasma\"], var_name = \"Cell type\", value_name = \"Expression\")\n",
    "merged"
   ]
  },
  {
   "cell_type": "code",
   "execution_count": 58,
   "id": "0ea27c20-1448-4562-8bd7-cfd2c44a803c",
   "metadata": {},
   "outputs": [
    {
     "name": "stderr",
     "output_type": "stream",
     "text": [
      "/opt/modules/i12g/anaconda/envs/eh_scgenetics_v1/lib/python3.10/site-packages/plotnine/layer.py:364: PlotnineWarning: geom_point : Removed 72 rows containing missing values.\n"
     ]
    },
    {
     "data": {
      "image/png": "[encoded data removed]"
     },
     "metadata": {
      "image/png": {
       "height": 300,
       "width": 450
      }
     },
     "output_type": "display_data"
    }
   ],
   "source": [
    "plot = (\n",
    "    ggplot(merged, aes(x = \"CADD_PHRED\", y = \"Expression\"))\n",
    "    + labs(x = \"Gene score\")\n",
    "    + theme_classic()\n",
    "    + geom_smooth()\n",
    "    + geom_point()\n",
    "    + facet_wrap(\"Cell type\", scales = \"free\")\n",
    "    + theme(legend_position=\"top\", figure_size = (4.5,3))\n",
    ")\n",
    "plot"
   ]
  }
 ],
 "metadata": {
  "kernelspec": {
   "display_name": "eh_scgenetics_v1",
   "language": "python",
   "name": "eh_scgenetics_v1"
  },
  "language_info": {
   "codemirror_mode": {
    "name": "ipython",
    "version": 3
   },
   "file_extension": ".py",
   "mimetype": "text/x-python",
   "name": "python",
   "nbconvert_exporter": "python",
   "pygments_lexer": "ipython3",
   "version": "3.10.15"
  }
 },
 "nbformat": 4,
 "nbformat_minor": 5
}
