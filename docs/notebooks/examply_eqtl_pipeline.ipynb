{
 "cells": [
  {
   "cell_type": "code",
   "execution_count": 1,
   "metadata": {},
   "outputs": [
    {
     "name": "stdout",
     "output_type": "stream",
     "text": [
      "/home/lollo/Work/code/repos/forks/sc-genetics/docs/notebooks\n"
     ]
    }
   ],
   "source": [
    "## installing the package\n",
    "! pip uninstall -q -y cellink\n",
    "! pip install -q ../../.\n",
    "! pwd\n",
    "\n",
    "## importing the libraries\n",
    "from pathlib import Path\n",
    "import os\n",
    "import pandas as pd\n",
    "\n",
    "import scanpy as sc\n",
    "import cellink as cl\n",
    "\n",
    "## defining the path to the data\n",
    "scdata_path = \"/home/lollo/Work/hackathon/data/Yazar_OneK1K/debug_OneK1K_cohort_gene_expression_matrix_14_celltypes.h5ad\"\n",
    "annotation_path = \"/home/lollo/Work/hackathon/data/Yazar_OneK1K/gene_annotation.csv\"\n",
    "gdata_path = \"/home/lollo/Work/hackathon/data/Yazar_OneK1K/OneK1K_imputation_post_qc_r2_08/plink/\"\n",
    "dump_path = \"/home/lollo/Work/out/dumps-sc-genetics\"\n",
    "## defining target chromosome and cell type\n",
    "target_chromosome = \"2\"\n",
    "target_cell_type = \"CD4 ET\""
   ]
  },
  {
   "cell_type": "code",
   "execution_count": 2,
   "metadata": {},
   "outputs": [
    {
     "name": "stdout",
     "output_type": "stream",
     "text": [
      "[2024-11-18 19:54:26,162] INFO:cellink._core.donordata: Keeping 20/1034 donors\n",
      "[2024-11-18 19:54:26,163] INFO:cellink._core.donordata: Dropping 1014/1034 donors from genetic data\n",
      "[2024-11-18 19:54:26,163] INFO:cellink._core.donordata: Dropping 0/20 donors from single-cell data\n"
     ]
    }
   ],
   "source": [
    "## reading single cell data\n",
    "scdata = sc.read_h5ad(scdata_path)\n",
    "## reading annotation data\n",
    "annotation_df = pd.read_csv(annotation_path).loc[\n",
    "    :, [\"ensembl_gene_id\", \"start_position\", \"end_position\", \"chromosome_name\"]\n",
    "]\n",
    "annotation_df = annotation_df.loc[annotation_df.ensembl_gene_id.isin(scdata.var_names)]\n",
    "## merging the scdata.var df with the annotations\n",
    "merged_df = pd.merge(scdata.var, annotation_df, left_index=True, right_on=\"ensembl_gene_id\")\n",
    "merged_df = merged_df.rename(\n",
    "    columns={\n",
    "        \"ensembl_gene_id\": \"Geneid\",\n",
    "        \"start_position\": \"start\",\n",
    "        \"end_position\": \"end\",\n",
    "        \"chromosome_name\": \"chrom\",\n",
    "    }\n",
    ")\n",
    "merged_df.index = merged_df[\"Geneid\"]\n",
    "scdata.var = merged_df\n",
    "## loading the genetics data\n",
    "plink_file = os.path.join(gdata_path, f\"chr{target_chromosome}.dose.filtered.R2_0.8\")\n",
    "gdata = cl.io.read_plink(plink_file)\n",
    "## constructing donor data\n",
    "data = cl.DonorData(adata=scdata, gdata=gdata, donor_key_in_sc_adata=\"individual\")"
   ]
  },
  {
   "cell_type": "code",
   "execution_count": 3,
   "metadata": {},
   "outputs": [
    {
     "name": "stderr",
     "output_type": "stream",
     "text": [
      "/home/lollo/miniconda3/envs/theislab-combosciplex/lib/python3.12/site-packages/cellink/tl/_eqtl.py:206: FutureWarning: The default of observed=False is deprecated and will be changed to True in a future version of pandas. Pass observed=False to retain current behavior or observed=True to adopt the future default and silence this warning.\n",
      "  reference_data = reference_data.groupby(donor_key_in_scdata).agg([\"unique\"])\n",
      "/home/lollo/miniconda3/envs/theislab-combosciplex/lib/python3.12/site-packages/cellink/tl/_eqtl.py:206: FutureWarning: The default of observed=False is deprecated and will be changed to True in a future version of pandas. Pass observed=False to retain current behavior or observed=True to adopt the future default and silence this warning.\n",
      "  reference_data = reference_data.groupby(donor_key_in_scdata).agg([\"unique\"])\n",
      "/home/lollo/miniconda3/envs/theislab-combosciplex/lib/python3.12/site-packages/scanpy/preprocessing/_pca.py:377: FutureWarning: Argument `use_highly_variable` is deprecated, consider using the mask argument. Use_highly_variable=True can be called through mask_var=\"highly_variable\". Use_highly_variable=False can be called through mask_var=None\n",
      "  warn(msg, FutureWarning)\n"
     ]
    }
   ],
   "source": [
    "## running eqtl\n",
    "cl.tl.eqtl(\n",
    "    data, \n",
    "    target_cell_type, \n",
    "    target_chromosome,\n",
    "    n_sc_comps= 15,\n",
    "    n_genetic_pcs = 15,\n",
    "    dump_dir = dump_path\n",
    ")"
   ]
  }
 ],
 "metadata": {
  "kernelspec": {
   "display_name": "theislab-combosciplex",
   "language": "python",
   "name": "python3"
  },
  "language_info": {
   "codemirror_mode": {
    "name": "ipython",
    "version": 3
   },
   "file_extension": ".py",
   "mimetype": "text/x-python",
   "name": "python",
   "nbconvert_exporter": "python",
   "pygments_lexer": "ipython3",
   "version": "3.12.5"
  }
 },
 "nbformat": 4,
 "nbformat_minor": 2
}
