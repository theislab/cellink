{
 "cells": [
  {
   "cell_type": "code",
   "execution_count": 1,
   "id": "3fdcf27c",
   "metadata": {},
   "outputs": [],
   "source": [
    "import anndata as ad\n",
    "from pathlib import Path\n",
    "from scipy.sparse import csr_array\n",
    "import numpy as np\n",
    "from tqdm.auto import tqdm"
   ]
  },
  {
   "cell_type": "code",
   "execution_count": 2,
   "id": "00283b59",
   "metadata": {},
   "outputs": [],
   "source": [
    "import gc"
   ]
  },
  {
   "cell_type": "code",
   "execution_count": 3,
   "id": "22285917",
   "metadata": {},
   "outputs": [],
   "source": [
    "obs_map = {\n",
    "    \"Age\": \"age\",\n",
    "    \"CellCycle\": \"cell_cycle\",\n",
    "    \"CellID\": \"cell_id\",\n",
    "    \"Chemistry\": \"chemistry\",\n",
    "    \"Clusters\": \"clusters\",\n",
    "    \"Donor\": \"donor\",\n",
    "    \"NGenes\": \"n_genes\",\n",
    "    \"ROIGroupCoarse\": \"roi_group_coarse\",\n",
    "    \"ROIGroupFine\": \"roi_group_fine\",\n",
    "    \"Roi\": \"roi\",\n",
    "    \"SampleID\": \"sample_id\",\n",
    "    \"Sex\": \"sex\",\n",
    "    \"Subclusters\": \"subclusters\",\n",
    "    \"Tissue\": \"tissue\",\n",
    "    \"TotalUMI\": \"total_umi\",\n",
    "}\n",
    "\n",
    "var_map = {\n",
    "    \"Accession\": \"accession\",\n",
    "    \"Gene\": \"gene\",\n",
    "    \"Valid\": \"valid\",\n",
    "}"
   ]
  },
  {
   "cell_type": "code",
   "execution_count": 4,
   "id": "5b4b8160",
   "metadata": {},
   "outputs": [
    {
     "data": {
      "text/plain": [
       "AnnData object with n_obs × n_vars = 50000 × 59480\n",
       "    obs: 'age', 'cell_cycle', 'chemistry', 'clusters', 'donor', 'n_genes', 'roi_group_coarse', 'roi_group_fine', 'roi', 'sample_id', 'sex', 'subclusters', 'tissue', 'total_umi', 'chunk'\n",
       "    var: 'accession', 'gene', 'valid'"
      ]
     },
     "execution_count": 4,
     "metadata": {},
     "output_type": "execute_result"
    }
   ],
   "source": [
    "adatas_paths = list(\n",
    "    Path(\"/project/genomics/ayshan/ldsc_analysis/data_2/Single_cell_Siletti_Duncan/h5ad_chunks_new\").glob(\"*.h5ad\")\n",
    ")\n",
    "\n",
    "\n",
    "def read_h5ad(apath):\n",
    "    adata = ad.read_h5ad(apath)\n",
    "    adata.X = csr_array(adata.X.astype(np.uint16, copy=False))\n",
    "    adata.obs = adata.obs.rename(columns=obs_map)\n",
    "    adata.var = adata.var.rename(columns=var_map)\n",
    "    adata.obs[\"chunk\"] = apath.stem\n",
    "    adata.obs = adata.obs.set_index(\"cell_id\")\n",
    "    return adata\n",
    "\n",
    "\n",
    "adata = read_h5ad(adatas_paths[0])\n",
    "adata.write_h5ad(\"/lustre/groups/shared/scgenetics/single_cell_siletti_duncan_single_chunk.h5ad\")\n",
    "adata"
   ]
  },
  {
   "cell_type": "code",
   "execution_count": null,
   "id": "e0b2b8dd",
   "metadata": {},
   "outputs": [
    {
     "data": {
      "application/vnd.jupyter.widget-view+json": {
       "model_id": "13f97890116b459394539a9ecec79ff1",
       "version_major": 2,
       "version_minor": 0
      },
      "text/plain": [
       "  0%|          | 0/67 [00:00<?, ?it/s]"
      ]
     },
     "metadata": {},
     "output_type": "display_data"
    },
    {
     "name": "stdout",
     "output_type": "stream",
     "text": [
      "Error merging /project/genomics/ayshan/ldsc_analysis/data_2/Single_cell_Siletti_Duncan/h5ad_chunks_new/adata_chunk_3250000_3300000.h5ad\n",
      "Error merging /project/genomics/ayshan/ldsc_analysis/data_2/Single_cell_Siletti_Duncan/h5ad_chunks_new/adata_chunk_1050000_1100000.h5ad\n",
      "Error merging /project/genomics/ayshan/ldsc_analysis/data_2/Single_cell_Siletti_Duncan/h5ad_chunks_new/adata_chunk_2150000_2200000.h5ad\n"
     ]
    }
   ],
   "source": [
    "for apath in tqdm(adatas_paths[1:]):\n",
    "    try:\n",
    "        adata2 = read_h5ad(apath)\n",
    "        adata = ad.concat([adata, adata2], join=\"outer\", merge=\"same\")\n",
    "        gc.collect()\n",
    "    except Exception as e:\n",
    "        print(f\"Error merging {apath}\")\n",
    "        continue\n",
    "adata"
   ]
  },
  {
   "cell_type": "code",
   "execution_count": null,
   "id": "1733201c",
   "metadata": {},
   "outputs": [
    {
     "data": {
      "text/plain": [
       "AnnData object with n_obs × n_vars = 1150000 × 59480\n",
       "    obs: 'age', 'cell_cycle', 'chemistry', 'clusters', 'donor', 'n_genes', 'roi_group_coarse', 'roi_group_fine', 'roi', 'sample_id', 'sex', 'subclusters', 'tissue', 'total_umi', 'chunk'\n",
       "    var: 'accession', 'gene', 'valid'"
      ]
     },
     "execution_count": 6,
     "metadata": {},
     "output_type": "execute_result"
    }
   ],
   "source": [
    "adata"
   ]
  },
  {
   "cell_type": "code",
   "execution_count": null,
   "id": "45c12aca",
   "metadata": {},
   "outputs": [
    {
     "ename": "KeyboardInterrupt",
     "evalue": "",
     "output_type": "error",
     "traceback": [
      "\u001b[31m---------------------------------------------------------------------------\u001b[39m",
      "\u001b[31mKeyboardInterrupt\u001b[39m                         Traceback (most recent call last)",
      "\u001b[36mCell\u001b[39m\u001b[36m \u001b[39m\u001b[32mIn[8]\u001b[39m\u001b[32m, line 1\u001b[39m\n\u001b[32m----> \u001b[39m\u001b[32m1\u001b[39m \u001b[43madata\u001b[49m\u001b[43m.\u001b[49m\u001b[43mwrite_h5ad\u001b[49m\u001b[43m(\u001b[49m\u001b[33;43m\"\u001b[39;49m\u001b[33;43m/lustre/groups/shared/scgenetics/single_cell_siletti_duncan_merged.h5ad\u001b[39;49m\u001b[33;43m\"\u001b[39;49m\u001b[43m)\u001b[49m\n",
      "\u001b[36mFile \u001b[39m\u001b[32m/ictstr01/home/icb/jan.engelmann/micromamba/envs/adata/lib/python3.12/site-packages/legacy_api_wrap/__init__.py:82\u001b[39m, in \u001b[36mlegacy_api.<locals>.wrapper.<locals>.fn_compatible\u001b[39m\u001b[34m(*args_all, **kw)\u001b[39m\n\u001b[32m     79\u001b[39m \u001b[38;5;129m@wraps\u001b[39m(fn)\n\u001b[32m     80\u001b[39m \u001b[38;5;28;01mdef\u001b[39;00m\u001b[38;5;250m \u001b[39m\u001b[34mfn_compatible\u001b[39m(*args_all: P.args, **kw: P.kwargs) -> R:\n\u001b[32m     81\u001b[39m     \u001b[38;5;28;01mif\u001b[39;00m \u001b[38;5;28mlen\u001b[39m(args_all) <= n_positional:\n\u001b[32m---> \u001b[39m\u001b[32m82\u001b[39m         \u001b[38;5;28;01mreturn\u001b[39;00m \u001b[43mfn\u001b[49m\u001b[43m(\u001b[49m\u001b[43m*\u001b[49m\u001b[43margs_all\u001b[49m\u001b[43m,\u001b[49m\u001b[43m \u001b[49m\u001b[43m*\u001b[49m\u001b[43m*\u001b[49m\u001b[43mkw\u001b[49m\u001b[43m)\u001b[49m\n\u001b[32m     84\u001b[39m     args_pos: P.args\n\u001b[32m     85\u001b[39m     args_pos, args_rest = args_all[:n_positional], args_all[n_positional:]\n",
      "\u001b[36mFile \u001b[39m\u001b[32m/ictstr01/home/icb/jan.engelmann/micromamba/envs/adata/lib/python3.12/site-packages/anndata/_core/anndata.py:1902\u001b[39m, in \u001b[36mAnnData.write_h5ad\u001b[39m\u001b[34m(self, filename, convert_strings_to_categoricals, compression, compression_opts, as_dense)\u001b[39m\n\u001b[32m   1899\u001b[39m \u001b[38;5;28;01mif\u001b[39;00m filename \u001b[38;5;129;01mis\u001b[39;00m \u001b[38;5;28;01mNone\u001b[39;00m:\n\u001b[32m   1900\u001b[39m     filename = \u001b[38;5;28mself\u001b[39m.filename\n\u001b[32m-> \u001b[39m\u001b[32m1902\u001b[39m \u001b[43mwrite_h5ad\u001b[49m\u001b[43m(\u001b[49m\n\u001b[32m   1903\u001b[39m \u001b[43m    \u001b[49m\u001b[43mPath\u001b[49m\u001b[43m(\u001b[49m\u001b[43mfilename\u001b[49m\u001b[43m)\u001b[49m\u001b[43m,\u001b[49m\n\u001b[32m   1904\u001b[39m \u001b[43m    \u001b[49m\u001b[38;5;28;43mself\u001b[39;49m\u001b[43m,\u001b[49m\n\u001b[32m   1905\u001b[39m \u001b[43m    \u001b[49m\u001b[43mconvert_strings_to_categoricals\u001b[49m\u001b[43m=\u001b[49m\u001b[43mconvert_strings_to_categoricals\u001b[49m\u001b[43m,\u001b[49m\n\u001b[32m   1906\u001b[39m \u001b[43m    \u001b[49m\u001b[43mcompression\u001b[49m\u001b[43m=\u001b[49m\u001b[43mcompression\u001b[49m\u001b[43m,\u001b[49m\n\u001b[32m   1907\u001b[39m \u001b[43m    \u001b[49m\u001b[43mcompression_opts\u001b[49m\u001b[43m=\u001b[49m\u001b[43mcompression_opts\u001b[49m\u001b[43m,\u001b[49m\n\u001b[32m   1908\u001b[39m \u001b[43m    \u001b[49m\u001b[43mas_dense\u001b[49m\u001b[43m=\u001b[49m\u001b[43mas_dense\u001b[49m\u001b[43m,\u001b[49m\n\u001b[32m   1909\u001b[39m \u001b[43m\u001b[49m\u001b[43m)\u001b[49m\n\u001b[32m   1911\u001b[39m \u001b[38;5;28;01mif\u001b[39;00m \u001b[38;5;28mself\u001b[39m.isbacked:\n\u001b[32m   1912\u001b[39m     \u001b[38;5;28mself\u001b[39m.file.filename = filename\n",
      "\u001b[36mFile \u001b[39m\u001b[32m/ictstr01/home/icb/jan.engelmann/micromamba/envs/adata/lib/python3.12/site-packages/anndata/_io/utils.py:325\u001b[39m, in \u001b[36mno_write_dataset_2d.<locals>.raise_error_if_dataset_2d_present\u001b[39m\u001b[34m(store, adata, *args, **kwargs)\u001b[39m\n\u001b[32m    318\u001b[39m     msg = (\n\u001b[32m    319\u001b[39m         \u001b[33m\"\u001b[39m\u001b[33mWriting AnnData objects with a Dataset2D not supported yet. \u001b[39m\u001b[33m\"\u001b[39m\n\u001b[32m    320\u001b[39m         \u001b[33m\"\u001b[39m\u001b[33mPlease use `ds.to_memory` to bring the dataset into memory. \u001b[39m\u001b[33m\"\u001b[39m\n\u001b[32m    321\u001b[39m         \u001b[33m\"\u001b[39m\u001b[33mNote that if you have generated this object by concatenating several `AnnData` objects\u001b[39m\u001b[33m\"\u001b[39m\n\u001b[32m    322\u001b[39m         \u001b[33m\"\u001b[39m\u001b[33mthe original types may be lost.\u001b[39m\u001b[33m\"\u001b[39m\n\u001b[32m    323\u001b[39m     )\n\u001b[32m    324\u001b[39m     \u001b[38;5;28;01mraise\u001b[39;00m \u001b[38;5;167;01mNotImplementedError\u001b[39;00m(msg)\n\u001b[32m--> \u001b[39m\u001b[32m325\u001b[39m \u001b[38;5;28;01mreturn\u001b[39;00m \u001b[43mwrite\u001b[49m\u001b[43m(\u001b[49m\u001b[43mstore\u001b[49m\u001b[43m,\u001b[49m\u001b[43m \u001b[49m\u001b[43madata\u001b[49m\u001b[43m,\u001b[49m\u001b[43m \u001b[49m\u001b[43m*\u001b[49m\u001b[43margs\u001b[49m\u001b[43m,\u001b[49m\u001b[43m \u001b[49m\u001b[43m*\u001b[49m\u001b[43m*\u001b[49m\u001b[43mkwargs\u001b[49m\u001b[43m)\u001b[49m\n",
      "\u001b[36mFile \u001b[39m\u001b[32m/ictstr01/home/icb/jan.engelmann/micromamba/envs/adata/lib/python3.12/site-packages/anndata/_io/h5ad.py:90\u001b[39m, in \u001b[36mwrite_h5ad\u001b[39m\u001b[34m(filepath, adata, as_dense, convert_strings_to_categoricals, dataset_kwargs, **kwargs)\u001b[39m\n\u001b[32m     87\u001b[39m f.attrs.setdefault(\u001b[33m\"\u001b[39m\u001b[33mencoding-type\u001b[39m\u001b[33m\"\u001b[39m, \u001b[33m\"\u001b[39m\u001b[33manndata\u001b[39m\u001b[33m\"\u001b[39m)\n\u001b[32m     88\u001b[39m f.attrs.setdefault(\u001b[33m\"\u001b[39m\u001b[33mencoding-version\u001b[39m\u001b[33m\"\u001b[39m, \u001b[33m\"\u001b[39m\u001b[33m0.1.0\u001b[39m\u001b[33m\"\u001b[39m)\n\u001b[32m---> \u001b[39m\u001b[32m90\u001b[39m \u001b[43m_write_x\u001b[49m\u001b[43m(\u001b[49m\n\u001b[32m     91\u001b[39m \u001b[43m    \u001b[49m\u001b[43mf\u001b[49m\u001b[43m,\u001b[49m\n\u001b[32m     92\u001b[39m \u001b[43m    \u001b[49m\u001b[43madata\u001b[49m\u001b[43m,\u001b[49m\u001b[43m  \u001b[49m\u001b[38;5;66;43;03m# accessing adata.X reopens adata.file if it’s backed\u001b[39;49;00m\n\u001b[32m     93\u001b[39m \u001b[43m    \u001b[49m\u001b[43mis_backed\u001b[49m\u001b[43m=\u001b[49m\u001b[43madata\u001b[49m\u001b[43m.\u001b[49m\u001b[43misbacked\u001b[49m\u001b[43m \u001b[49m\u001b[38;5;129;43;01mand\u001b[39;49;00m\u001b[43m \u001b[49m\u001b[43madata\u001b[49m\u001b[43m.\u001b[49m\u001b[43mfilename\u001b[49m\u001b[43m \u001b[49m\u001b[43m==\u001b[49m\u001b[43m \u001b[49m\u001b[43mfilepath\u001b[49m\u001b[43m,\u001b[49m\n\u001b[32m     94\u001b[39m \u001b[43m    \u001b[49m\u001b[43mas_dense\u001b[49m\u001b[43m=\u001b[49m\u001b[43mas_dense\u001b[49m\u001b[43m,\u001b[49m\n\u001b[32m     95\u001b[39m \u001b[43m    \u001b[49m\u001b[43mdataset_kwargs\u001b[49m\u001b[43m=\u001b[49m\u001b[43mdataset_kwargs\u001b[49m\u001b[43m,\u001b[49m\n\u001b[32m     96\u001b[39m \u001b[43m\u001b[49m\u001b[43m)\u001b[49m\n\u001b[32m     97\u001b[39m _write_raw(f, adata.raw, as_dense=as_dense, dataset_kwargs=dataset_kwargs)\n\u001b[32m     98\u001b[39m write_elem(f, \u001b[33m\"\u001b[39m\u001b[33mobs\u001b[39m\u001b[33m\"\u001b[39m, adata.obs, dataset_kwargs=dataset_kwargs)\n",
      "\u001b[36mFile \u001b[39m\u001b[32m/ictstr01/home/icb/jan.engelmann/micromamba/envs/adata/lib/python3.12/site-packages/anndata/_io/h5ad.py:123\u001b[39m, in \u001b[36m_write_x\u001b[39m\u001b[34m(f, adata, is_backed, as_dense, dataset_kwargs)\u001b[39m\n\u001b[32m    121\u001b[39m     f.pop(\u001b[33m\"\u001b[39m\u001b[33mX\u001b[39m\u001b[33m\"\u001b[39m, \u001b[38;5;28;01mNone\u001b[39;00m)\n\u001b[32m    122\u001b[39m \u001b[38;5;28;01melse\u001b[39;00m:\n\u001b[32m--> \u001b[39m\u001b[32m123\u001b[39m     \u001b[43mwrite_elem\u001b[49m\u001b[43m(\u001b[49m\u001b[43mf\u001b[49m\u001b[43m,\u001b[49m\u001b[43m \u001b[49m\u001b[33;43m\"\u001b[39;49m\u001b[33;43mX\u001b[39;49m\u001b[33;43m\"\u001b[39;49m\u001b[43m,\u001b[49m\u001b[43m \u001b[49m\u001b[43madata\u001b[49m\u001b[43m.\u001b[49m\u001b[43mX\u001b[49m\u001b[43m,\u001b[49m\u001b[43m \u001b[49m\u001b[43mdataset_kwargs\u001b[49m\u001b[43m=\u001b[49m\u001b[43mdataset_kwargs\u001b[49m\u001b[43m)\u001b[49m\n",
      "\u001b[36mFile \u001b[39m\u001b[32m/ictstr01/home/icb/jan.engelmann/micromamba/envs/adata/lib/python3.12/site-packages/anndata/_io/specs/registry.py:521\u001b[39m, in \u001b[36mwrite_elem\u001b[39m\u001b[34m(store, k, elem, dataset_kwargs)\u001b[39m\n\u001b[32m    497\u001b[39m \u001b[38;5;28;01mdef\u001b[39;00m\u001b[38;5;250m \u001b[39m\u001b[34mwrite_elem\u001b[39m(\n\u001b[32m    498\u001b[39m     store: GroupStorageType,\n\u001b[32m    499\u001b[39m     k: \u001b[38;5;28mstr\u001b[39m,\n\u001b[32m   (...)\u001b[39m\u001b[32m    502\u001b[39m     dataset_kwargs: Mapping[\u001b[38;5;28mstr\u001b[39m, Any] = MappingProxyType({}),\n\u001b[32m    503\u001b[39m ) -> \u001b[38;5;28;01mNone\u001b[39;00m:\n\u001b[32m    504\u001b[39m \u001b[38;5;250m    \u001b[39m\u001b[33;03m\"\"\"\u001b[39;00m\n\u001b[32m    505\u001b[39m \u001b[33;03m    Write an element to a storage group using anndata encoding.\u001b[39;00m\n\u001b[32m    506\u001b[39m \n\u001b[32m   (...)\u001b[39m\u001b[32m    519\u001b[39m \u001b[33;03m        E.g. for zarr this would be `chunks`, `compressor`.\u001b[39;00m\n\u001b[32m    520\u001b[39m \u001b[33;03m    \"\"\"\u001b[39;00m\n\u001b[32m--> \u001b[39m\u001b[32m521\u001b[39m     \u001b[43mWriter\u001b[49m\u001b[43m(\u001b[49m\u001b[43m_REGISTRY\u001b[49m\u001b[43m)\u001b[49m\u001b[43m.\u001b[49m\u001b[43mwrite_elem\u001b[49m\u001b[43m(\u001b[49m\u001b[43mstore\u001b[49m\u001b[43m,\u001b[49m\u001b[43m \u001b[49m\u001b[43mk\u001b[49m\u001b[43m,\u001b[49m\u001b[43m \u001b[49m\u001b[43melem\u001b[49m\u001b[43m,\u001b[49m\u001b[43m \u001b[49m\u001b[43mdataset_kwargs\u001b[49m\u001b[43m=\u001b[49m\u001b[43mdataset_kwargs\u001b[49m\u001b[43m)\u001b[49m\n",
      "\u001b[36mFile \u001b[39m\u001b[32m/ictstr01/home/icb/jan.engelmann/micromamba/envs/adata/lib/python3.12/site-packages/anndata/_io/utils.py:248\u001b[39m, in \u001b[36mreport_write_key_on_error.<locals>.func_wrapper\u001b[39m\u001b[34m(*args, **kwargs)\u001b[39m\n\u001b[32m    246\u001b[39m     \u001b[38;5;28;01mraise\u001b[39;00m \u001b[38;5;167;01mValueError\u001b[39;00m(msg)\n\u001b[32m    247\u001b[39m \u001b[38;5;28;01mtry\u001b[39;00m:\n\u001b[32m--> \u001b[39m\u001b[32m248\u001b[39m     \u001b[38;5;28;01mreturn\u001b[39;00m \u001b[43mfunc\u001b[49m\u001b[43m(\u001b[49m\u001b[43m*\u001b[49m\u001b[43margs\u001b[49m\u001b[43m,\u001b[49m\u001b[43m \u001b[49m\u001b[43m*\u001b[49m\u001b[43m*\u001b[49m\u001b[43mkwargs\u001b[49m\u001b[43m)\u001b[49m\n\u001b[32m    249\u001b[39m \u001b[38;5;28;01mexcept\u001b[39;00m \u001b[38;5;167;01mException\u001b[39;00m \u001b[38;5;28;01mas\u001b[39;00m e:\n\u001b[32m    250\u001b[39m     path = _get_display_path(store)\n",
      "\u001b[36mFile \u001b[39m\u001b[32m/ictstr01/home/icb/jan.engelmann/micromamba/envs/adata/lib/python3.12/site-packages/anndata/_io/specs/registry.py:392\u001b[39m, in \u001b[36mWriter.write_elem\u001b[39m\u001b[34m(self, store, k, elem, dataset_kwargs, modifiers)\u001b[39m\n\u001b[32m    389\u001b[39m write_func = \u001b[38;5;28mself\u001b[39m.find_write_func(dest_type, elem, modifiers)\n\u001b[32m    391\u001b[39m \u001b[38;5;28;01mif\u001b[39;00m \u001b[38;5;28mself\u001b[39m.callback \u001b[38;5;129;01mis\u001b[39;00m \u001b[38;5;28;01mNone\u001b[39;00m:\n\u001b[32m--> \u001b[39m\u001b[32m392\u001b[39m     \u001b[38;5;28;01mreturn\u001b[39;00m \u001b[43mwrite_func\u001b[49m\u001b[43m(\u001b[49m\u001b[43mstore\u001b[49m\u001b[43m,\u001b[49m\u001b[43m \u001b[49m\u001b[43mk\u001b[49m\u001b[43m,\u001b[49m\u001b[43m \u001b[49m\u001b[43melem\u001b[49m\u001b[43m,\u001b[49m\u001b[43m \u001b[49m\u001b[43mdataset_kwargs\u001b[49m\u001b[43m=\u001b[49m\u001b[43mdataset_kwargs\u001b[49m\u001b[43m)\u001b[49m\n\u001b[32m    393\u001b[39m \u001b[38;5;28;01mreturn\u001b[39;00m \u001b[38;5;28mself\u001b[39m.callback(\n\u001b[32m    394\u001b[39m     write_func,\n\u001b[32m    395\u001b[39m     store,\n\u001b[32m   (...)\u001b[39m\u001b[32m    399\u001b[39m     iospec=\u001b[38;5;28mself\u001b[39m.registry.get_spec(elem),\n\u001b[32m    400\u001b[39m )\n",
      "\u001b[36mFile \u001b[39m\u001b[32m/ictstr01/home/icb/jan.engelmann/micromamba/envs/adata/lib/python3.12/site-packages/anndata/_io/specs/registry.py:76\u001b[39m, in \u001b[36mwrite_spec.<locals>.decorator.<locals>.wrapper\u001b[39m\u001b[34m(g, k, *args, **kwargs)\u001b[39m\n\u001b[32m     74\u001b[39m \u001b[38;5;129m@wraps\u001b[39m(func)\n\u001b[32m     75\u001b[39m \u001b[38;5;28;01mdef\u001b[39;00m\u001b[38;5;250m \u001b[39m\u001b[34mwrapper\u001b[39m(g: GroupStorageType, k: \u001b[38;5;28mstr\u001b[39m, *args, **kwargs):\n\u001b[32m---> \u001b[39m\u001b[32m76\u001b[39m     result = \u001b[43mfunc\u001b[49m\u001b[43m(\u001b[49m\u001b[43mg\u001b[49m\u001b[43m,\u001b[49m\u001b[43m \u001b[49m\u001b[43mk\u001b[49m\u001b[43m,\u001b[49m\u001b[43m \u001b[49m\u001b[43m*\u001b[49m\u001b[43margs\u001b[49m\u001b[43m,\u001b[49m\u001b[43m \u001b[49m\u001b[43m*\u001b[49m\u001b[43m*\u001b[49m\u001b[43mkwargs\u001b[49m\u001b[43m)\u001b[49m\n\u001b[32m     77\u001b[39m     g[k].attrs.setdefault(\u001b[33m\"\u001b[39m\u001b[33mencoding-type\u001b[39m\u001b[33m\"\u001b[39m, spec.encoding_type)\n\u001b[32m     78\u001b[39m     g[k].attrs.setdefault(\u001b[33m\"\u001b[39m\u001b[33mencoding-version\u001b[39m\u001b[33m\"\u001b[39m, spec.encoding_version)\n",
      "\u001b[36mFile \u001b[39m\u001b[32m/ictstr01/home/icb/jan.engelmann/micromamba/envs/adata/lib/python3.12/site-packages/anndata/_io/specs/methods.py:736\u001b[39m, in \u001b[36mwrite_sparse_compressed\u001b[39m\u001b[34m(f, key, value, _writer, fmt, dataset_kwargs)\u001b[39m\n\u001b[32m    734\u001b[39m dtype = indptr_dtype \u001b[38;5;28;01mif\u001b[39;00m attr_name == \u001b[33m\"\u001b[39m\u001b[33mindptr\u001b[39m\u001b[33m\"\u001b[39m \u001b[38;5;28;01melse\u001b[39;00m attr.dtype\n\u001b[32m    735\u001b[39m \u001b[38;5;28;01mif\u001b[39;00m \u001b[38;5;28misinstance\u001b[39m(f, H5Group) \u001b[38;5;129;01mor\u001b[39;00m is_zarr_v2():\n\u001b[32m--> \u001b[39m\u001b[32m736\u001b[39m     \u001b[43mg\u001b[49m\u001b[43m.\u001b[49m\u001b[43mcreate_dataset\u001b[49m\u001b[43m(\u001b[49m\n\u001b[32m    737\u001b[39m \u001b[43m        \u001b[49m\u001b[43mattr_name\u001b[49m\u001b[43m,\u001b[49m\u001b[43m \u001b[49m\u001b[43mdata\u001b[49m\u001b[43m=\u001b[49m\u001b[43mattr\u001b[49m\u001b[43m,\u001b[49m\u001b[43m \u001b[49m\u001b[43mshape\u001b[49m\u001b[43m=\u001b[49m\u001b[43mattr\u001b[49m\u001b[43m.\u001b[49m\u001b[43mshape\u001b[49m\u001b[43m,\u001b[49m\u001b[43m \u001b[49m\u001b[43mdtype\u001b[49m\u001b[43m=\u001b[49m\u001b[43mdtype\u001b[49m\u001b[43m,\u001b[49m\u001b[43m \u001b[49m\u001b[43m*\u001b[49m\u001b[43m*\u001b[49m\u001b[43mdataset_kwargs\u001b[49m\n\u001b[32m    738\u001b[39m \u001b[43m    \u001b[49m\u001b[43m)\u001b[49m\n\u001b[32m    739\u001b[39m \u001b[38;5;28;01melse\u001b[39;00m:\n\u001b[32m    740\u001b[39m     arr = g.create_array(\n\u001b[32m    741\u001b[39m         attr_name, shape=attr.shape, dtype=dtype, **dataset_kwargs\n\u001b[32m    742\u001b[39m     )\n",
      "\u001b[36mFile \u001b[39m\u001b[32m/ictstr01/home/icb/jan.engelmann/micromamba/envs/adata/lib/python3.12/site-packages/h5py/_hl/group.py:186\u001b[39m, in \u001b[36mGroup.create_dataset\u001b[39m\u001b[34m(self, name, shape, dtype, data, **kwds)\u001b[39m\n\u001b[32m    183\u001b[39m         parent_path, name = name.rsplit(\u001b[33mb\u001b[39m\u001b[33m'\u001b[39m\u001b[33m/\u001b[39m\u001b[33m'\u001b[39m, \u001b[32m1\u001b[39m)\n\u001b[32m    184\u001b[39m         group = \u001b[38;5;28mself\u001b[39m.require_group(parent_path)\n\u001b[32m--> \u001b[39m\u001b[32m186\u001b[39m dsid = \u001b[43mdataset\u001b[49m\u001b[43m.\u001b[49m\u001b[43mmake_new_dset\u001b[49m\u001b[43m(\u001b[49m\u001b[43mgroup\u001b[49m\u001b[43m,\u001b[49m\u001b[43m \u001b[49m\u001b[43mshape\u001b[49m\u001b[43m,\u001b[49m\u001b[43m \u001b[49m\u001b[43mdtype\u001b[49m\u001b[43m,\u001b[49m\u001b[43m \u001b[49m\u001b[43mdata\u001b[49m\u001b[43m,\u001b[49m\u001b[43m \u001b[49m\u001b[43mname\u001b[49m\u001b[43m,\u001b[49m\u001b[43m \u001b[49m\u001b[43m*\u001b[49m\u001b[43m*\u001b[49m\u001b[43mkwds\u001b[49m\u001b[43m)\u001b[49m\n\u001b[32m    187\u001b[39m dset = dataset.Dataset(dsid)\n\u001b[32m    188\u001b[39m \u001b[38;5;28;01mreturn\u001b[39;00m dset\n",
      "\u001b[36mFile \u001b[39m\u001b[32m/ictstr01/home/icb/jan.engelmann/micromamba/envs/adata/lib/python3.12/site-packages/h5py/_hl/dataset.py:178\u001b[39m, in \u001b[36mmake_new_dset\u001b[39m\u001b[34m(parent, shape, dtype, data, name, chunks, compression, shuffle, fletcher32, maxshape, compression_opts, fillvalue, scaleoffset, track_times, external, track_order, dcpl, dapl, efile_prefix, virtual_prefix, allow_unknown_filter, rdcc_nslots, rdcc_nbytes, rdcc_w0, fill_time)\u001b[39m\n\u001b[32m    175\u001b[39m dset_id = h5d.create(parent.id, name, tid, sid, dcpl=dcpl, dapl=dapl)\n\u001b[32m    177\u001b[39m \u001b[38;5;28;01mif\u001b[39;00m (data \u001b[38;5;129;01mis\u001b[39;00m \u001b[38;5;129;01mnot\u001b[39;00m \u001b[38;5;28;01mNone\u001b[39;00m) \u001b[38;5;129;01mand\u001b[39;00m (\u001b[38;5;129;01mnot\u001b[39;00m \u001b[38;5;28misinstance\u001b[39m(data, Empty)):\n\u001b[32m--> \u001b[39m\u001b[32m178\u001b[39m     \u001b[43mdset_id\u001b[49m\u001b[43m.\u001b[49m\u001b[43mwrite\u001b[49m\u001b[43m(\u001b[49m\u001b[43mh5s\u001b[49m\u001b[43m.\u001b[49m\u001b[43mALL\u001b[49m\u001b[43m,\u001b[49m\u001b[43m \u001b[49m\u001b[43mh5s\u001b[49m\u001b[43m.\u001b[49m\u001b[43mALL\u001b[49m\u001b[43m,\u001b[49m\u001b[43m \u001b[49m\u001b[43mdata\u001b[49m\u001b[43m)\u001b[49m\n\u001b[32m    180\u001b[39m \u001b[38;5;28;01mreturn\u001b[39;00m dset_id\n",
      "\u001b[31mKeyboardInterrupt\u001b[39m: "
     ]
    }
   ],
   "source": [
    "adata.write_h5ad(\"/lustre/groups/shared/scgenetics/single_cell_siletti_duncan_merged.h5ad\")"
   ]
  },
  {
   "cell_type": "code",
   "execution_count": null,
   "id": "a4ed7665",
   "metadata": {},
   "outputs": [],
   "source": []
  }
 ],
 "metadata": {
  "kernelspec": {
   "display_name": "adata",
   "language": "python",
   "name": "python3"
  },
  "language_info": {
   "codemirror_mode": {
    "name": "ipython",
    "version": 3
   },
   "file_extension": ".py",
   "mimetype": "text/x-python",
   "name": "python",
   "nbconvert_exporter": "python",
   "pygments_lexer": "ipython3",
   "version": "3.12.11"
  }
 },
 "nbformat": 4,
 "nbformat_minor": 5
}
