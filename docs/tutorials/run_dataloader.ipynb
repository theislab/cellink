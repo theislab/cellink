{
 "cells": [
  {
   "cell_type": "markdown",
   "metadata": {},
   "source": [
    "# Tutorial: Using the `MILDataset` and PyTorch `DataLoader` in `cellink`\n",
    "\n",
    "This tutorial shows how to use the `MILDataset` together with PyTorch's `DataLoader` to prepare multimodal input for model training in the `cellink` framework. This pipeline is designed to support **donor-level learning** using single-cell transcriptomic measurements.\n",
    "\n",
    "We will use the `OneK1K` dataset and demonstrate how to:\n",
    "\n",
    "- Filter for CD8 Naive T cells,\n",
    "- Package the data using `DonorData`,\n",
    "- Wrap it into a `MILDataset`,\n",
    "- Load it with a PyTorch `DataLoader`,\n",
    "- Train a `DonorMILModel`.\n"
   ]
  },
  {
   "cell_type": "markdown",
   "metadata": {},
   "source": [
    "## Setup and Configuration\n",
    "\n",
    "We start by importing relevant modules and creating local directories to store input/output files. This ensures that any annotation tools have a consistent file structure to work with."
   ]
  },
  {
   "cell_type": "code",
   "execution_count": 1,
   "metadata": {},
   "outputs": [],
   "source": [
    "from cellink.datasets import get_onek1k\n",
    "from cellink.ml.dataset import MILDataset\n",
    "from torch.utils.data import DataLoader\n",
    "from cellink.ml.dataset import mil_collate_fn\n",
    "from cellink.ml.model import DonorMILModel\n",
    "import pytorch_lightning as pl\n",
    "from cellink._core import DAnn, GAnn\n",
    "import numpy as np"
   ]
  },
  {
   "cell_type": "markdown",
   "metadata": {},
   "source": [
    "## Load Genotype Data (`gdata`)\n",
    "\n",
    "We load the example dataset using `get_onek1k()`. The `DonorData` object contains a `.G` attribute (`gdata`) that stores genotype information at the variant level. These variants will be the target of our annotations. We filter for chromosome 22 and CD8 Naive for fast execution of the notebook."
   ]
  },
  {
   "cell_type": "code",
   "execution_count": 2,
   "metadata": {},
   "outputs": [
    {
     "name": "stdout",
     "output_type": "stream",
     "text": [
      "/Users/larnoldt/cellink_sample_data/onek1k/onek1k_cellxgene.h5ad already exists. Verifying checksum.\n",
      "/Users/larnoldt/cellink_sample_data/onek1k/OneK1K.noGP.vcf.gz already exists. Verifying checksum.\n",
      "/Users/larnoldt/cellink_sample_data/onek1k/OneK1K.noGP.vcf.gz.csi already exists. Verifying checksum.\n",
      "/Users/larnoldt/cellink_sample_data/onek1k/gene_counts_Ensembl_105_phenotype_metadata.tsv.gz already exists. Verifying checksum.\n"
     ]
    },
    {
     "name": "stderr",
     "output_type": "stream",
     "text": [
      "/opt/miniconda3/envs/single_cell_base3/lib/python3.12/site-packages/pandas/core/internals/blocks.py:2588: RuntimeWarning: invalid value encountered in cast\n",
      "  return self.values.astype(_dtype_obj)\n"
     ]
    },
    {
     "data": {
      "text/html": [
       "<pre style=\"white-space:pre;overflow-x:auto;line-height:normal;font-family:Menlo,'DejaVu Sans Mono',consolas,'Courier New',monospace\">╔═<span style=\"color: #ff005f; text-decoration-color: #ff005f; font-weight: bold\"> DonorData(n_donors=981, n_cells_per_donor=[333-3,511], donor_id='donor_id') </span>═══════════════════════════════╗\n",
       "║ ┏━━━━━━━━━━━━━━━━━━━━━━━━━━━━━━━━━━━━━━━━━━━━━━━━━━━━┳━━━━━━━━━━━━━━━━━━━━━━━━━━━━━━━━━━━━━━━━━━━━━━━━━━━━┓ ║\n",
       "║ ┃<span style=\"color: #ff005f; text-decoration-color: #ff005f; font-weight: bold\"> G (donors)                                         </span>┃<span style=\"color: #ff005f; text-decoration-color: #ff005f; font-weight: bold\"> C (cells)                                          </span>┃ ║\n",
       "║ ┡━━━━━━━━━━━━━━━━━━━━━━━━━━━━━━━━━━━━━━━━━━━━━━━━━━━━╇━━━━━━━━━━━━━━━━━━━━━━━━━━━━━━━━━━━━━━━━━━━━━━━━━━━━┩ ║\n",
       "║ │ AnnData object with n_obs × n_vars = 981 ×         │ AnnData object with n_obs × n_vars = 1,248,980 ×   │ ║\n",
       "║ │ 10,595,884                                         │ 36,469                                             │ ║\n",
       "║ │     var: 'chrom', 'pos', 'a0', 'a1', 'AC',         │     obs: 'orig.ident', 'nCount_RNA',               │ ║\n",
       "║ │ 'AC_Hemi', 'AC_Het', 'AC_Hom', 'AF', 'AN', 'ER2',  │ 'nFeature_RNA', 'percent.mt', <span style=\"color: #ff005f; text-decoration-color: #ff005f; font-weight: bold\">'donor_id', </span>         │ ║\n",
       "║ │ 'ExcHet', 'HWE', 'IMPUTED', 'maf', 'NS', 'R2',     │ 'pool_number', 'predicted.celltype.l2',            │ ║\n",
       "║ │ 'TYPED', 'TYPED_ONLY', 'id', 'id_mask', 'length',  │ 'predicted.celltype.l2.score', 'age',              │ ║\n",
       "║ │ 'quality', 'pos_hg19', 'id_hg19'                   │ 'organism_ontology_term_id',                       │ ║\n",
       "║ │                                                    │ 'tissue_ontology_term_id',                         │ ║\n",
       "║ │                                                    │ 'assay_ontology_term_id',                          │ ║\n",
       "║ │                                                    │ 'disease_ontology_term_id',                        │ ║\n",
       "║ │                                                    │ 'cell_type_ontology_term_id',                      │ ║\n",
       "║ │                                                    │ 'self_reported_ethnicity_ontology_term_id',        │ ║\n",
       "║ │                                                    │ 'development_stage_ontology_term_id',              │ ║\n",
       "║ │                                                    │ 'sex_ontology_term_id', 'is_primary_data',         │ ║\n",
       "║ │                                                    │ 'suspension_type', 'tissue_type', 'cell_type',     │ ║\n",
       "║ │                                                    │ 'assay', 'disease', 'organism', 'sex', 'tissue',   │ ║\n",
       "║ │                                                    │ 'self_reported_ethnicity', 'development_stage',    │ ║\n",
       "║ │                                                    │ 'observation_joinid'                               │ ║\n",
       "║ │     uns: 'kinship'                                 │     var: 'vst.mean', 'vst.variance',               │ ║\n",
       "║ │                                                    │ 'vst.variance.expected',                           │ ║\n",
       "║ │                                                    │ 'vst.variance.standardized', 'vst.variable',       │ ║\n",
       "║ │                                                    │ 'feature_is_filtered', 'feature_name',             │ ║\n",
       "║ │                                                    │ 'feature_reference', 'feature_biotype',            │ ║\n",
       "║ │                                                    │ 'feature_length', 'feature_type'                   │ ║\n",
       "║ │     obsm: 'gPCs'                                   │     uns: 'cell_type_ontology_term_id_colors',      │ ║\n",
       "║ │                                                    │ 'citation', 'default_embedding',                   │ ║\n",
       "║ │                                                    │ 'schema_reference', 'schema_version', 'title'      │ ║\n",
       "║ │     varm: 'filter'                                 │     obsm: 'X_azimuth_spca', 'X_azimuth_umap',      │ ║\n",
       "║ │                                                    │ 'X_harmony', 'X_pca', 'X_umap'                     │ ║\n",
       "║ │                                                    │     varm: 'PCs'                                    │ ║\n",
       "║ └────────────────────────────────────────────────────┴────────────────────────────────────────────────────┘ ║\n",
       "╚═════════════════════════════════════════════════════════════════════════════════════════════════════════════╝\n",
       "</pre>\n"
      ],
      "text/plain": [
       "╔═\u001b[1;38;5;197m DonorData(n_donors=981, n_cells_per_donor=[333-3,511], donor_id='donor_id') \u001b[0m═══════════════════════════════╗\n",
       "║ ┏━━━━━━━━━━━━━━━━━━━━━━━━━━━━━━━━━━━━━━━━━━━━━━━━━━━━┳━━━━━━━━━━━━━━━━━━━━━━━━━━━━━━━━━━━━━━━━━━━━━━━━━━━━┓ ║\n",
       "║ ┃\u001b[1;38;5;197m \u001b[0m\u001b[1;38;5;197mG (donors)                                        \u001b[0m\u001b[1;38;5;197m \u001b[0m┃\u001b[1;38;5;197m \u001b[0m\u001b[1;38;5;197mC (cells)                                         \u001b[0m\u001b[1;38;5;197m \u001b[0m┃ ║\n",
       "║ ┡━━━━━━━━━━━━━━━━━━━━━━━━━━━━━━━━━━━━━━━━━━━━━━━━━━━━╇━━━━━━━━━━━━━━━━━━━━━━━━━━━━━━━━━━━━━━━━━━━━━━━━━━━━┩ ║\n",
       "║ │ AnnData object with n_obs × n_vars = 981 ×         │ AnnData object with n_obs × n_vars = 1,248,980 ×   │ ║\n",
       "║ │ 10,595,884                                         │ 36,469                                             │ ║\n",
       "║ │     var: 'chrom', 'pos', 'a0', 'a1', 'AC',         │     obs: 'orig.ident', 'nCount_RNA',               │ ║\n",
       "║ │ 'AC_Hemi', 'AC_Het', 'AC_Hom', 'AF', 'AN', 'ER2',  │ 'nFeature_RNA', 'percent.mt', \u001b[1;38;5;197m'donor_id', \u001b[0m         │ ║\n",
       "║ │ 'ExcHet', 'HWE', 'IMPUTED', 'maf', 'NS', 'R2',     │ 'pool_number', 'predicted.celltype.l2',            │ ║\n",
       "║ │ 'TYPED', 'TYPED_ONLY', 'id', 'id_mask', 'length',  │ 'predicted.celltype.l2.score', 'age',              │ ║\n",
       "║ │ 'quality', 'pos_hg19', 'id_hg19'                   │ 'organism_ontology_term_id',                       │ ║\n",
       "║ │                                                    │ 'tissue_ontology_term_id',                         │ ║\n",
       "║ │                                                    │ 'assay_ontology_term_id',                          │ ║\n",
       "║ │                                                    │ 'disease_ontology_term_id',                        │ ║\n",
       "║ │                                                    │ 'cell_type_ontology_term_id',                      │ ║\n",
       "║ │                                                    │ 'self_reported_ethnicity_ontology_term_id',        │ ║\n",
       "║ │                                                    │ 'development_stage_ontology_term_id',              │ ║\n",
       "║ │                                                    │ 'sex_ontology_term_id', 'is_primary_data',         │ ║\n",
       "║ │                                                    │ 'suspension_type', 'tissue_type', 'cell_type',     │ ║\n",
       "║ │                                                    │ 'assay', 'disease', 'organism', 'sex', 'tissue',   │ ║\n",
       "║ │                                                    │ 'self_reported_ethnicity', 'development_stage',    │ ║\n",
       "║ │                                                    │ 'observation_joinid'                               │ ║\n",
       "║ │     uns: 'kinship'                                 │     var: 'vst.mean', 'vst.variance',               │ ║\n",
       "║ │                                                    │ 'vst.variance.expected',                           │ ║\n",
       "║ │                                                    │ 'vst.variance.standardized', 'vst.variable',       │ ║\n",
       "║ │                                                    │ 'feature_is_filtered', 'feature_name',             │ ║\n",
       "║ │                                                    │ 'feature_reference', 'feature_biotype',            │ ║\n",
       "║ │                                                    │ 'feature_length', 'feature_type'                   │ ║\n",
       "║ │     obsm: 'gPCs'                                   │     uns: 'cell_type_ontology_term_id_colors',      │ ║\n",
       "║ │                                                    │ 'citation', 'default_embedding',                   │ ║\n",
       "║ │                                                    │ 'schema_reference', 'schema_version', 'title'      │ ║\n",
       "║ │     varm: 'filter'                                 │     obsm: 'X_azimuth_spca', 'X_azimuth_umap',      │ ║\n",
       "║ │                                                    │ 'X_harmony', 'X_pca', 'X_umap'                     │ ║\n",
       "║ │                                                    │     varm: 'PCs'                                    │ ║\n",
       "║ └────────────────────────────────────────────────────┴────────────────────────────────────────────────────┘ ║\n",
       "╚═════════════════════════════════════════════════════════════════════════════════════════════════════════════╝\n"
      ]
     },
     "metadata": {},
     "output_type": "display_data"
    },
    {
     "data": {
      "text/plain": []
     },
     "execution_count": 2,
     "metadata": {},
     "output_type": "execute_result"
    }
   ],
   "source": [
    "dd = get_onek1k(config_path='../../src/cellink/resources/config/onek1k.yaml')\n",
    "dd"
   ]
  },
  {
   "cell_type": "code",
   "execution_count": 3,
   "metadata": {},
   "outputs": [],
   "source": [
    "def _get_ensembl_gene_id_start_end_chr():\n",
    "    from pybiomart import Server\n",
    "    server = Server(host='http://www.ensembl.org')\n",
    "    dataset = (server.marts['ENSEMBL_MART_ENSEMBL'].datasets['hsapiens_gene_ensembl'])\n",
    "    ensembl_gene_id_start_end_chr = dataset.query(attributes=['ensembl_gene_id', 'start_position', 'end_position', 'chromosome_name'])\n",
    "    ensembl_gene_id_start_end_chr = ensembl_gene_id_start_end_chr.set_index(\"Gene stable ID\")\n",
    "    ensembl_gene_id_start_end_chr = ensembl_gene_id_start_end_chr.rename(columns={\n",
    "        \"Gene start (bp)\": GAnn.start,\n",
    "        \"Gene end (bp)\": GAnn.end,\n",
    "        \"Chromosome/scaffold name\": GAnn.chrom,\n",
    "    })\n",
    "    return ensembl_gene_id_start_end_chr\n",
    "\n",
    "ensembl_gene_id_start_end_chr = _get_ensembl_gene_id_start_end_chr()\n",
    "ensembl_gene_id_start_end_chr\n",
    "\n",
    "dd.C.var = dd.C.var.join(ensembl_gene_id_start_end_chr)"
   ]
  },
  {
   "cell_type": "code",
   "execution_count": 4,
   "metadata": {},
   "outputs": [
    {
     "data": {
      "text/html": [
       "<pre style=\"white-space:pre;overflow-x:auto;line-height:normal;font-family:Menlo,'DejaVu Sans Mono',consolas,'Courier New',monospace\">╔═<span style=\"color: #ff005f; text-decoration-color: #ff005f; font-weight: bold\"> DonorData(n_donors=981, n_cells_per_donor=[333-3,511], donor_id='donor_id') </span>═══════════════════════════════╗\n",
       "║ ┏━━━━━━━━━━━━━━━━━━━━━━━━━━━━━━━━━━━━━━━━━━━━━━━━━━━━┳━━━━━━━━━━━━━━━━━━━━━━━━━━━━━━━━━━━━━━━━━━━━━━━━━━━━┓ ║\n",
       "║ ┃<span style=\"color: #ff005f; text-decoration-color: #ff005f; font-weight: bold\"> G (donors)                                         </span>┃<span style=\"color: #ff005f; text-decoration-color: #ff005f; font-weight: bold\"> C (cells)                                          </span>┃ ║\n",
       "║ ┡━━━━━━━━━━━━━━━━━━━━━━━━━━━━━━━━━━━━━━━━━━━━━━━━━━━━╇━━━━━━━━━━━━━━━━━━━━━━━━━━━━━━━━━━━━━━━━━━━━━━━━━━━━┩ ║\n",
       "║ │ AnnData object with n_obs × n_vars = 981 × 136,776 │ AnnData object with n_obs × n_vars = 1,248,980 ×   │ ║\n",
       "║ │                                                    │ 880                                                │ ║\n",
       "║ │     var: 'chrom', 'pos', 'a0', 'a1', 'AC',         │     obs: 'orig.ident', 'nCount_RNA',               │ ║\n",
       "║ │ 'AC_Hemi', 'AC_Het', 'AC_Hom', 'AF', 'AN', 'ER2',  │ 'nFeature_RNA', 'percent.mt', <span style=\"color: #ff005f; text-decoration-color: #ff005f; font-weight: bold\">'donor_id', </span>         │ ║\n",
       "║ │ 'ExcHet', 'HWE', 'IMPUTED', 'maf', 'NS', 'R2',     │ 'pool_number', 'predicted.celltype.l2',            │ ║\n",
       "║ │ 'TYPED', 'TYPED_ONLY', 'id', 'id_mask', 'length',  │ 'predicted.celltype.l2.score', 'age',              │ ║\n",
       "║ │ 'quality', 'pos_hg19', 'id_hg19'                   │ 'organism_ontology_term_id',                       │ ║\n",
       "║ │                                                    │ 'tissue_ontology_term_id',                         │ ║\n",
       "║ │                                                    │ 'assay_ontology_term_id',                          │ ║\n",
       "║ │                                                    │ 'disease_ontology_term_id',                        │ ║\n",
       "║ │                                                    │ 'cell_type_ontology_term_id',                      │ ║\n",
       "║ │                                                    │ 'self_reported_ethnicity_ontology_term_id',        │ ║\n",
       "║ │                                                    │ 'development_stage_ontology_term_id',              │ ║\n",
       "║ │                                                    │ 'sex_ontology_term_id', 'is_primary_data',         │ ║\n",
       "║ │                                                    │ 'suspension_type', 'tissue_type', 'cell_type',     │ ║\n",
       "║ │                                                    │ 'assay', 'disease', 'organism', 'sex', 'tissue',   │ ║\n",
       "║ │                                                    │ 'self_reported_ethnicity', 'development_stage',    │ ║\n",
       "║ │                                                    │ 'observation_joinid'                               │ ║\n",
       "║ │     uns: 'kinship'                                 │     var: 'vst.mean', 'vst.variance',               │ ║\n",
       "║ │                                                    │ 'vst.variance.expected',                           │ ║\n",
       "║ │                                                    │ 'vst.variance.standardized', 'vst.variable',       │ ║\n",
       "║ │                                                    │ 'feature_is_filtered', 'feature_name',             │ ║\n",
       "║ │                                                    │ 'feature_reference', 'feature_biotype',            │ ║\n",
       "║ │                                                    │ 'feature_length', 'feature_type', 'start', 'end',  │ ║\n",
       "║ │                                                    │ 'chrom'                                            │ ║\n",
       "║ │     obsm: 'gPCs'                                   │     uns: 'cell_type_ontology_term_id_colors',      │ ║\n",
       "║ │                                                    │ 'citation', 'default_embedding',                   │ ║\n",
       "║ │                                                    │ 'schema_reference', 'schema_version', 'title'      │ ║\n",
       "║ │     varm: 'filter'                                 │     obsm: 'X_azimuth_spca', 'X_azimuth_umap',      │ ║\n",
       "║ │                                                    │ 'X_harmony', 'X_pca', 'X_umap'                     │ ║\n",
       "║ │                                                    │     varm: 'PCs'                                    │ ║\n",
       "║ └────────────────────────────────────────────────────┴────────────────────────────────────────────────────┘ ║\n",
       "╚═════════════════════════════════════════════════════════════════════════════════════════════════════════════╝\n",
       "</pre>\n"
      ],
      "text/plain": [
       "╔═\u001b[1;38;5;197m DonorData(n_donors=981, n_cells_per_donor=[333-3,511], donor_id='donor_id') \u001b[0m═══════════════════════════════╗\n",
       "║ ┏━━━━━━━━━━━━━━━━━━━━━━━━━━━━━━━━━━━━━━━━━━━━━━━━━━━━┳━━━━━━━━━━━━━━━━━━━━━━━━━━━━━━━━━━━━━━━━━━━━━━━━━━━━┓ ║\n",
       "║ ┃\u001b[1;38;5;197m \u001b[0m\u001b[1;38;5;197mG (donors)                                        \u001b[0m\u001b[1;38;5;197m \u001b[0m┃\u001b[1;38;5;197m \u001b[0m\u001b[1;38;5;197mC (cells)                                         \u001b[0m\u001b[1;38;5;197m \u001b[0m┃ ║\n",
       "║ ┡━━━━━━━━━━━━━━━━━━━━━━━━━━━━━━━━━━━━━━━━━━━━━━━━━━━━╇━━━━━━━━━━━━━━━━━━━━━━━━━━━━━━━━━━━━━━━━━━━━━━━━━━━━┩ ║\n",
       "║ │ AnnData object with n_obs × n_vars = 981 × 136,776 │ AnnData object with n_obs × n_vars = 1,248,980 ×   │ ║\n",
       "║ │                                                    │ 880                                                │ ║\n",
       "║ │     var: 'chrom', 'pos', 'a0', 'a1', 'AC',         │     obs: 'orig.ident', 'nCount_RNA',               │ ║\n",
       "║ │ 'AC_Hemi', 'AC_Het', 'AC_Hom', 'AF', 'AN', 'ER2',  │ 'nFeature_RNA', 'percent.mt', \u001b[1;38;5;197m'donor_id', \u001b[0m         │ ║\n",
       "║ │ 'ExcHet', 'HWE', 'IMPUTED', 'maf', 'NS', 'R2',     │ 'pool_number', 'predicted.celltype.l2',            │ ║\n",
       "║ │ 'TYPED', 'TYPED_ONLY', 'id', 'id_mask', 'length',  │ 'predicted.celltype.l2.score', 'age',              │ ║\n",
       "║ │ 'quality', 'pos_hg19', 'id_hg19'                   │ 'organism_ontology_term_id',                       │ ║\n",
       "║ │                                                    │ 'tissue_ontology_term_id',                         │ ║\n",
       "║ │                                                    │ 'assay_ontology_term_id',                          │ ║\n",
       "║ │                                                    │ 'disease_ontology_term_id',                        │ ║\n",
       "║ │                                                    │ 'cell_type_ontology_term_id',                      │ ║\n",
       "║ │                                                    │ 'self_reported_ethnicity_ontology_term_id',        │ ║\n",
       "║ │                                                    │ 'development_stage_ontology_term_id',              │ ║\n",
       "║ │                                                    │ 'sex_ontology_term_id', 'is_primary_data',         │ ║\n",
       "║ │                                                    │ 'suspension_type', 'tissue_type', 'cell_type',     │ ║\n",
       "║ │                                                    │ 'assay', 'disease', 'organism', 'sex', 'tissue',   │ ║\n",
       "║ │                                                    │ 'self_reported_ethnicity', 'development_stage',    │ ║\n",
       "║ │                                                    │ 'observation_joinid'                               │ ║\n",
       "║ │     uns: 'kinship'                                 │     var: 'vst.mean', 'vst.variance',               │ ║\n",
       "║ │                                                    │ 'vst.variance.expected',                           │ ║\n",
       "║ │                                                    │ 'vst.variance.standardized', 'vst.variable',       │ ║\n",
       "║ │                                                    │ 'feature_is_filtered', 'feature_name',             │ ║\n",
       "║ │                                                    │ 'feature_reference', 'feature_biotype',            │ ║\n",
       "║ │                                                    │ 'feature_length', 'feature_type', 'start', 'end',  │ ║\n",
       "║ │                                                    │ 'chrom'                                            │ ║\n",
       "║ │     obsm: 'gPCs'                                   │     uns: 'cell_type_ontology_term_id_colors',      │ ║\n",
       "║ │                                                    │ 'citation', 'default_embedding',                   │ ║\n",
       "║ │                                                    │ 'schema_reference', 'schema_version', 'title'      │ ║\n",
       "║ │     varm: 'filter'                                 │     obsm: 'X_azimuth_spca', 'X_azimuth_umap',      │ ║\n",
       "║ │                                                    │ 'X_harmony', 'X_pca', 'X_umap'                     │ ║\n",
       "║ │                                                    │     varm: 'PCs'                                    │ ║\n",
       "║ └────────────────────────────────────────────────────┴────────────────────────────────────────────────────┘ ║\n",
       "╚═════════════════════════════════════════════════════════════════════════════════════════════════════════════╝\n"
      ]
     },
     "metadata": {},
     "output_type": "display_data"
    },
    {
     "data": {
      "text/plain": []
     },
     "execution_count": 4,
     "metadata": {},
     "output_type": "execute_result"
    }
   ],
   "source": [
    "chrom = 22\n",
    "dd = dd.sel(G_var=dd.G.var.chrom == str(chrom), C_var=dd.C.var.chrom == str(chrom)).copy()\n",
    "dd"
   ]
  },
  {
   "cell_type": "code",
   "execution_count": 5,
   "metadata": {},
   "outputs": [
    {
     "data": {
      "text/html": [
       "<pre style=\"white-space:pre;overflow-x:auto;line-height:normal;font-family:Menlo,'DejaVu Sans Mono',consolas,'Courier New',monospace\">╔═<span style=\"color: #ff005f; text-decoration-color: #ff005f; font-weight: bold\"> DonorData(n_donors=980, n_cells_per_donor=[1-583], donor_id='donor_id') </span>═══════════════════════════════════╗\n",
       "║ ┏━━━━━━━━━━━━━━━━━━━━━━━━━━━━━━━━━━━━━━━━━━━━━━━━━━━━┳━━━━━━━━━━━━━━━━━━━━━━━━━━━━━━━━━━━━━━━━━━━━━━━━━━━━┓ ║\n",
       "║ ┃<span style=\"color: #ff005f; text-decoration-color: #ff005f; font-weight: bold\"> G (donors)                                         </span>┃<span style=\"color: #ff005f; text-decoration-color: #ff005f; font-weight: bold\"> C (cells)                                          </span>┃ ║\n",
       "║ ┡━━━━━━━━━━━━━━━━━━━━━━━━━━━━━━━━━━━━━━━━━━━━━━━━━━━━╇━━━━━━━━━━━━━━━━━━━━━━━━━━━━━━━━━━━━━━━━━━━━━━━━━━━━┩ ║\n",
       "║ │ AnnData object with n_obs × n_vars = 980 × 136,776 │ AnnData object with n_obs × n_vars = 52,538 × 880  │ ║\n",
       "║ │     var: 'chrom', 'pos', 'a0', 'a1', 'AC',         │     obs: 'orig.ident', 'nCount_RNA',               │ ║\n",
       "║ │ 'AC_Hemi', 'AC_Het', 'AC_Hom', 'AF', 'AN', 'ER2',  │ 'nFeature_RNA', 'percent.mt', <span style=\"color: #ff005f; text-decoration-color: #ff005f; font-weight: bold\">'donor_id', </span>         │ ║\n",
       "║ │ 'ExcHet', 'HWE', 'IMPUTED', 'maf', 'NS', 'R2',     │ 'pool_number', 'predicted.celltype.l2',            │ ║\n",
       "║ │ 'TYPED', 'TYPED_ONLY', 'id', 'id_mask', 'length',  │ 'predicted.celltype.l2.score', 'age',              │ ║\n",
       "║ │ 'quality', 'pos_hg19', 'id_hg19'                   │ 'organism_ontology_term_id',                       │ ║\n",
       "║ │                                                    │ 'tissue_ontology_term_id',                         │ ║\n",
       "║ │                                                    │ 'assay_ontology_term_id',                          │ ║\n",
       "║ │                                                    │ 'disease_ontology_term_id',                        │ ║\n",
       "║ │                                                    │ 'cell_type_ontology_term_id',                      │ ║\n",
       "║ │                                                    │ 'self_reported_ethnicity_ontology_term_id',        │ ║\n",
       "║ │                                                    │ 'development_stage_ontology_term_id',              │ ║\n",
       "║ │                                                    │ 'sex_ontology_term_id', 'is_primary_data',         │ ║\n",
       "║ │                                                    │ 'suspension_type', 'tissue_type', 'cell_type',     │ ║\n",
       "║ │                                                    │ 'assay', 'disease', 'organism', 'sex', 'tissue',   │ ║\n",
       "║ │                                                    │ 'self_reported_ethnicity', 'development_stage',    │ ║\n",
       "║ │                                                    │ 'observation_joinid'                               │ ║\n",
       "║ │     uns: 'kinship'                                 │     var: 'vst.mean', 'vst.variance',               │ ║\n",
       "║ │                                                    │ 'vst.variance.expected',                           │ ║\n",
       "║ │                                                    │ 'vst.variance.standardized', 'vst.variable',       │ ║\n",
       "║ │                                                    │ 'feature_is_filtered', 'feature_name',             │ ║\n",
       "║ │                                                    │ 'feature_reference', 'feature_biotype',            │ ║\n",
       "║ │                                                    │ 'feature_length', 'feature_type', 'start', 'end',  │ ║\n",
       "║ │                                                    │ 'chrom'                                            │ ║\n",
       "║ │     obsm: 'gPCs'                                   │     uns: 'cell_type_ontology_term_id_colors',      │ ║\n",
       "║ │                                                    │ 'citation', 'default_embedding',                   │ ║\n",
       "║ │                                                    │ 'schema_reference', 'schema_version', 'title'      │ ║\n",
       "║ │     varm: 'filter'                                 │     obsm: 'X_azimuth_spca', 'X_azimuth_umap',      │ ║\n",
       "║ │                                                    │ 'X_harmony', 'X_pca', 'X_umap'                     │ ║\n",
       "║ │                                                    │     varm: 'PCs'                                    │ ║\n",
       "║ └────────────────────────────────────────────────────┴────────────────────────────────────────────────────┘ ║\n",
       "╚═════════════════════════════════════════════════════════════════════════════════════════════════════════════╝\n",
       "</pre>\n"
      ],
      "text/plain": [
       "╔═\u001b[1;38;5;197m DonorData(n_donors=980, n_cells_per_donor=[1-583], donor_id='donor_id') \u001b[0m═══════════════════════════════════╗\n",
       "║ ┏━━━━━━━━━━━━━━━━━━━━━━━━━━━━━━━━━━━━━━━━━━━━━━━━━━━━┳━━━━━━━━━━━━━━━━━━━━━━━━━━━━━━━━━━━━━━━━━━━━━━━━━━━━┓ ║\n",
       "║ ┃\u001b[1;38;5;197m \u001b[0m\u001b[1;38;5;197mG (donors)                                        \u001b[0m\u001b[1;38;5;197m \u001b[0m┃\u001b[1;38;5;197m \u001b[0m\u001b[1;38;5;197mC (cells)                                         \u001b[0m\u001b[1;38;5;197m \u001b[0m┃ ║\n",
       "║ ┡━━━━━━━━━━━━━━━━━━━━━━━━━━━━━━━━━━━━━━━━━━━━━━━━━━━━╇━━━━━━━━━━━━━━━━━━━━━━━━━━━━━━━━━━━━━━━━━━━━━━━━━━━━┩ ║\n",
       "║ │ AnnData object with n_obs × n_vars = 980 × 136,776 │ AnnData object with n_obs × n_vars = 52,538 × 880  │ ║\n",
       "║ │     var: 'chrom', 'pos', 'a0', 'a1', 'AC',         │     obs: 'orig.ident', 'nCount_RNA',               │ ║\n",
       "║ │ 'AC_Hemi', 'AC_Het', 'AC_Hom', 'AF', 'AN', 'ER2',  │ 'nFeature_RNA', 'percent.mt', \u001b[1;38;5;197m'donor_id', \u001b[0m         │ ║\n",
       "║ │ 'ExcHet', 'HWE', 'IMPUTED', 'maf', 'NS', 'R2',     │ 'pool_number', 'predicted.celltype.l2',            │ ║\n",
       "║ │ 'TYPED', 'TYPED_ONLY', 'id', 'id_mask', 'length',  │ 'predicted.celltype.l2.score', 'age',              │ ║\n",
       "║ │ 'quality', 'pos_hg19', 'id_hg19'                   │ 'organism_ontology_term_id',                       │ ║\n",
       "║ │                                                    │ 'tissue_ontology_term_id',                         │ ║\n",
       "║ │                                                    │ 'assay_ontology_term_id',                          │ ║\n",
       "║ │                                                    │ 'disease_ontology_term_id',                        │ ║\n",
       "║ │                                                    │ 'cell_type_ontology_term_id',                      │ ║\n",
       "║ │                                                    │ 'self_reported_ethnicity_ontology_term_id',        │ ║\n",
       "║ │                                                    │ 'development_stage_ontology_term_id',              │ ║\n",
       "║ │                                                    │ 'sex_ontology_term_id', 'is_primary_data',         │ ║\n",
       "║ │                                                    │ 'suspension_type', 'tissue_type', 'cell_type',     │ ║\n",
       "║ │                                                    │ 'assay', 'disease', 'organism', 'sex', 'tissue',   │ ║\n",
       "║ │                                                    │ 'self_reported_ethnicity', 'development_stage',    │ ║\n",
       "║ │                                                    │ 'observation_joinid'                               │ ║\n",
       "║ │     uns: 'kinship'                                 │     var: 'vst.mean', 'vst.variance',               │ ║\n",
       "║ │                                                    │ 'vst.variance.expected',                           │ ║\n",
       "║ │                                                    │ 'vst.variance.standardized', 'vst.variable',       │ ║\n",
       "║ │                                                    │ 'feature_is_filtered', 'feature_name',             │ ║\n",
       "║ │                                                    │ 'feature_reference', 'feature_biotype',            │ ║\n",
       "║ │                                                    │ 'feature_length', 'feature_type', 'start', 'end',  │ ║\n",
       "║ │                                                    │ 'chrom'                                            │ ║\n",
       "║ │     obsm: 'gPCs'                                   │     uns: 'cell_type_ontology_term_id_colors',      │ ║\n",
       "║ │                                                    │ 'citation', 'default_embedding',                   │ ║\n",
       "║ │                                                    │ 'schema_reference', 'schema_version', 'title'      │ ║\n",
       "║ │     varm: 'filter'                                 │     obsm: 'X_azimuth_spca', 'X_azimuth_umap',      │ ║\n",
       "║ │                                                    │ 'X_harmony', 'X_pca', 'X_umap'                     │ ║\n",
       "║ │                                                    │     varm: 'PCs'                                    │ ║\n",
       "║ └────────────────────────────────────────────────────┴────────────────────────────────────────────────────┘ ║\n",
       "╚═════════════════════════════════════════════════════════════════════════════════════════════════════════════╝\n"
      ]
     },
     "metadata": {},
     "output_type": "display_data"
    },
    {
     "data": {
      "text/plain": []
     },
     "execution_count": 5,
     "metadata": {},
     "output_type": "execute_result"
    }
   ],
   "source": [
    "cell_type = \"CD8 Naive\"\n",
    "celltype_key = \"predicted.celltype.l2\"\n",
    "dd = dd[..., dd.C.obs[celltype_key] == cell_type, :].copy()\n",
    "dd"
   ]
  },
  {
   "cell_type": "markdown",
   "metadata": {},
   "source": [
    "## Wrap the Data with `MILDataset`\n",
    "We use the `MILDataset` to create a wrapper that returns bags of cells for each donor. This enables multiple instance learning (MIL) with donor labels. The `MILDataset` automatically packages all labels, categorical and continuous covariates and data matrices, when available. You may adjust the keys. Please note, that for demosntration purposes we are randomly generating labels now."
   ]
  },
  {
   "cell_type": "code",
   "execution_count": 6,
   "metadata": {},
   "outputs": [],
   "source": [
    "dd.G.obs[\"donor_id\"] = dd.G.obs.index\n",
    "dd.G.obs[\"donor_labels\"] = np.random.randint(2, size=len(dd.G.obs))\n",
    "dd.C.obs[\"pool_number\"] = dd.C.obs[\"pool_number\"].astype(\"float\")"
   ]
  },
  {
   "cell_type": "code",
   "execution_count": 7,
   "metadata": {},
   "outputs": [],
   "source": [
    "dataset = MILDataset(\n",
    "    dd,\n",
    "    donor_labels_key=\"donor_labels\",\n",
    "    cell_batch_key=\"pool_number\",  \n",
    "    #split_donors=[\"OneK1K_1\", \"OneK1K_10\", \"OneK1K_1000\"],\n",
    "    split_indices=list(range(10))\n",
    ")"
   ]
  },
  {
   "cell_type": "markdown",
   "metadata": {},
   "source": [
    "## Create a PyTorch `DataLoader`\n",
    "We now build a PyTorch `DataLoader` that will feed batches of donors (each with a variable number of cells) into the model. We use the `mil_collate_fn` to handle the collation of variable-length inputs."
   ]
  },
  {
   "cell_type": "code",
   "execution_count": 8,
   "metadata": {},
   "outputs": [],
   "source": [
    "dataloader = DataLoader(\n",
    "    dataset,\n",
    "    batch_size=2,\n",
    "    shuffle=True,\n",
    "    collate_fn=mil_collate_fn\n",
    ")"
   ]
  },
  {
   "cell_type": "markdown",
   "metadata": {},
   "source": [
    "## Initialize and Train a Model\n",
    "We now create a `DonorMILModel`, specifying the dimensionality of the donor and cell input features. We then use PyTorch Lightning to train for a single epoch."
   ]
  },
  {
   "cell_type": "code",
   "execution_count": 9,
   "metadata": {},
   "outputs": [],
   "source": [
    "model = DonorMILModel(\n",
    "    n_input_donor=dd.G.n_vars,\n",
    "    n_input_cell=dd.C.n_vars\n",
    ")"
   ]
  },
  {
   "cell_type": "code",
   "execution_count": 10,
   "metadata": {},
   "outputs": [
    {
     "name": "stderr",
     "output_type": "stream",
     "text": [
      "INFO:pytorch_lightning.utilities.rank_zero:GPU available: True (mps), used: True\n",
      "INFO:pytorch_lightning.utilities.rank_zero:TPU available: False, using: 0 TPU cores\n",
      "INFO:pytorch_lightning.utilities.rank_zero:HPU available: False, using: 0 HPUs\n",
      "/opt/miniconda3/envs/single_cell_base3/lib/python3.12/site-packages/pytorch_lightning/trainer/configuration_validator.py:70: You defined a `validation_step` but have no `val_dataloader`. Skipping val loop.\n",
      "INFO:pytorch_lightning.callbacks.model_summary:\n",
      "  | Name          | Type       | Params | Mode \n",
      "-----------------------------------------------------\n",
      "0 | donor_encoder | Linear     | 17.5 M | train\n",
      "1 | cell_encoder  | Sequential | 112 K  | train\n",
      "2 | attention     | Sequential | 8.3 K  | train\n",
      "3 | classifier    | Sequential | 257    | train\n",
      "-----------------------------------------------------\n",
      "17.6 M    Trainable params\n",
      "0         Non-trainable params\n",
      "17.6 M    Total params\n",
      "70.515    Total estimated model params size (MB)\n",
      "11        Modules in train mode\n",
      "0         Modules in eval mode\n",
      "/opt/miniconda3/envs/single_cell_base3/lib/python3.12/site-packages/pytorch_lightning/trainer/connectors/data_connector.py:425: The 'train_dataloader' does not have many workers which may be a bottleneck. Consider increasing the value of the `num_workers` argument` to `num_workers=7` in the `DataLoader` to improve performance.\n",
      "/opt/miniconda3/envs/single_cell_base3/lib/python3.12/site-packages/pytorch_lightning/loops/fit_loop.py:310: The number of training batches (5) is smaller than the logging interval Trainer(log_every_n_steps=50). Set a lower value for log_every_n_steps if you want to see logs for the training epoch.\n"
     ]
    },
    {
     "data": {
      "application/vnd.jupyter.widget-view+json": {
       "model_id": "c951a95cb9ef4acf94d843781d5c120c",
       "version_major": 2,
       "version_minor": 0
      },
      "text/plain": [
       "Training: |          | 0/? [00:00<?, ?it/s]"
      ]
     },
     "metadata": {},
     "output_type": "display_data"
    },
    {
     "name": "stderr",
     "output_type": "stream",
     "text": [
      "/Users/larnoldt/sc-genetics/src/cellink/ml/model.py:57: UserWarning: Using a target size (torch.Size([2, 1])) that is different to the input size (torch.Size([2])). This will likely lead to incorrect results due to broadcasting. Please ensure they have the same size.\n",
      "  loss = F.mse_loss(y_hat, y)\n",
      "INFO:pytorch_lightning.utilities.rank_zero:`Trainer.fit` stopped: `max_epochs=2` reached.\n"
     ]
    }
   ],
   "source": [
    "trainer = pl.Trainer(max_epochs=2)\n",
    "trainer.fit(model, dataloader)"
   ]
  },
  {
   "cell_type": "code",
   "execution_count": null,
   "metadata": {},
   "outputs": [],
   "source": []
  }
 ],
 "metadata": {
  "kernelspec": {
   "display_name": "single_cell_base3",
   "language": "python",
   "name": "python3"
  },
  "language_info": {
   "codemirror_mode": {
    "name": "ipython",
    "version": 3
   },
   "file_extension": ".py",
   "mimetype": "text/x-python",
   "name": "python",
   "nbconvert_exporter": "python",
   "pygments_lexer": "ipython3",
   "version": "3.12.8"
  }
 },
 "nbformat": 4,
 "nbformat_minor": 4
}
