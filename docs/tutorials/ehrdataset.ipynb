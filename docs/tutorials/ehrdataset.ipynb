{
 "cells": [
  {
   "cell_type": "markdown",
   "metadata": {},
   "source": [
    "# Tutorial: Using EHR Data as Donor-Level Input in `cellink`\n",
    "\n",
    "The `cellink` package was originally developed for integrating single-cell measurements with donor-level **genetic data**, but its modular design allows you to swap in **any structured donor-level modality**. In this tutorial, we demonstrate how to use **electronic health records (EHR)** as the donor-level input, replacing genotypes. \n",
    "\n",
    "This unlocks a wide range of applications — for example, using blood pressure, lab values, or medical history in combination with cell-level transcriptomics."
   ]
  },
  {
   "cell_type": "markdown",
   "metadata": {},
   "source": [
    "## Setup and Configuration\n",
    "\n",
    "We start by importing relevant modules and creating local directories to store input/output files. This ensures that any annotation tools have a consistent file structure to work with."
   ]
  },
  {
   "cell_type": "code",
   "execution_count": 1,
   "metadata": {},
   "outputs": [],
   "source": [
    "import numpy as np\n",
    "import pandas as pd\n",
    "import anndata as ad\n",
    "import ehrdata as ed\n",
    "from cellink import DonorData"
   ]
  },
  {
   "cell_type": "markdown",
   "metadata": {},
   "source": [
    "## Create Repeated EHR Measurements\n",
    "\n",
    "We begin by simulating repeated clinical measurements for two patients across three visits. These measurements could represent time-varying vital signs or lab results."
   ]
  },
  {
   "cell_type": "code",
   "execution_count": 2,
   "metadata": {},
   "outputs": [],
   "source": [
    "patients = pd.DataFrame(\n",
    "    {\n",
    "        \"patient_id\": [\"P001\", \"P002\"],\n",
    "        \"birthdate\": [\"1980-01-01\", \"1975-05-15\"],\n",
    "        \"gender\": [\"M\", \"F\"]\n",
    "    }\n",
    ").set_index(\"patient_id\")\n",
    "\n",
    "clinical_parameters = pd.DataFrame(\n",
    "    {\n",
    "        \"parameter_id\": [\"BP_Systolic\", \"BP_Diastolic\"],\n",
    "        \"name\": [\"Systolic Blood Pressure\", \"Diastolic Blood Pressure\"],\n",
    "        \"unit\": [\"mmHg\", \"mmHg\"],\n",
    "    }\n",
    ").set_index(\"parameter_id\")\n",
    "\n",
    "visit_dates = pd.DataFrame({\n",
    "    \"visit_number\": [\"1\", \"2\", \"3\"],\n",
    "    \"visit_id\": [\"V001\", \"V002\", \"V003\"]\n",
    "}).set_index(\"visit_number\")\n",
    "\n",
    "repeated_measurements = np.array([\n",
    "    [\n",
    "        [120, 118, 121],\n",
    "        [81, 80, 82],\n",
    "    ],\n",
    "    [\n",
    "        [130, 135, 125],\n",
    "        [84, 81, 80],\n",
    "    ]\n",
    "])"
   ]
  },
  {
   "cell_type": "markdown",
   "metadata": {},
   "source": [
    "## Construct the `EHRData` Object\n",
    "We wrap the patient information, clinical parameters, and repeated measurements into an `EHRData` object. This object mirrors the structure expected by cellink, and will later be used in place of genetic data."
   ]
  },
  {
   "cell_type": "code",
   "execution_count": 3,
   "metadata": {},
   "outputs": [],
   "source": [
    "ehr = ed.EHRData(\n",
    "    r=repeated_measurements,\n",
    "    obs=patients,\n",
    "    var=clinical_parameters,\n",
    "    t=visit_dates,\n",
    ")\n",
    "\n",
    "ehr.obs[\"donor_id\"] = [\"D0\", \"D1\"]\n",
    "ehr.obs.index = ehr.obs[\"donor_id\"]"
   ]
  },
  {
   "cell_type": "markdown",
   "metadata": {},
   "source": [
    "## Simulate Single-Cell RNA-seq Data\n",
    "To demonstrate multimodal integration, we generate a synthetic single-cell RNA-seq dataset. Each cell is assigned to a donor and annotated with a predicted cell type. We filter to keep only CD8 Naive cells."
   ]
  },
  {
   "cell_type": "code",
   "execution_count": 4,
   "metadata": {},
   "outputs": [],
   "source": [
    "n_cells = 200\n",
    "n_genes = 100\n",
    "\n",
    "X = np.random.poisson(1.5, size=(n_cells, n_genes)).astype(np.float32)\n",
    "\n",
    "cell_obs = pd.DataFrame({\n",
    "    \"cell_id\": [f\"C{i}\" for i in range(n_cells)],\n",
    "    \"donor_id\": np.random.choice([\"D0\", \"D1\"], size=n_cells),\n",
    "    \"predicted.celltype.l2\": np.random.choice([\"CD8 Naive\", \"CD4 TCM\"], size=n_cells)\n",
    "}).set_index(\"cell_id\")\n",
    "\n",
    "gene_var = pd.DataFrame(index=[f\"gene_{i}\" for i in range(n_genes)])\n",
    "\n",
    "adata = ad.AnnData(X=X, obs=cell_obs, var=gene_var)\n",
    "adata = adata[adata.obs[\"predicted.celltype.l2\"] == \"CD8 Naive\", :].copy()"
   ]
  },
  {
   "cell_type": "markdown",
   "metadata": {},
   "source": [
    "## Combine EHR and Single-Cell Data via `DonorData`\n",
    "We now use `DonorData` to merge the donor-level EHR data with the cell-level transcriptomics. This object enables unified access and is used throughout the cellink pipeline."
   ]
  },
  {
   "cell_type": "code",
   "execution_count": 5,
   "metadata": {},
   "outputs": [
    {
     "data": {
      "text/html": [
       "<pre style=\"white-space:pre;overflow-x:auto;line-height:normal;font-family:Menlo,'DejaVu Sans Mono',consolas,'Courier New',monospace\">╔═<span style=\"color: #ff005f; text-decoration-color: #ff005f; font-weight: bold\"> DonorData(n_donors=2, n_cells_per_donor=[54-55], donor_id='donor_id') </span>═══════════════════════════╗\n",
       "║ ┏━━━━━━━━━━━━━━━━━━━━━━━━━━━━━━━━━━━━━━━━━━━━━┳━━━━━━━━━━━━━━━━━━━━━━━━━━━━━━━━━━━━━━━━━━━━━━━━━┓ ║\n",
       "║ ┃<span style=\"color: #ff005f; text-decoration-color: #ff005f; font-weight: bold\"> G (donors)                                  </span>┃<span style=\"color: #ff005f; text-decoration-color: #ff005f; font-weight: bold\"> C (cells)                                       </span>┃ ║\n",
       "║ ┡━━━━━━━━━━━━━━━━━━━━━━━━━━━━━━━━━━━━━━━━━━━━━╇━━━━━━━━━━━━━━━━━━━━━━━━━━━━━━━━━━━━━━━━━━━━━━━━━┩ ║\n",
       "║ │ AnnData object with n_obs × n_vars = 2 × 2  │ AnnData object with n_obs × n_vars = 109 × 100  │ ║\n",
       "║ │     obs: 'birthdate', 'gender', 'donor_id'  │     obs: <span style=\"color: #ff005f; text-decoration-color: #ff005f; font-weight: bold\">'donor_id', </span>'predicted.celltype.l2'    │ ║\n",
       "║ │     var: 'name', 'unit'                     │                                                 │ ║\n",
       "║ │     layers: 'r_layer'                       │                                                 │ ║\n",
       "║ └─────────────────────────────────────────────┴─────────────────────────────────────────────────┘ ║\n",
       "╚═══════════════════════════════════════════════════════════════════════════════════════════════════╝\n",
       "</pre>\n"
      ],
      "text/plain": [
       "╔═\u001b[1;38;5;197m DonorData(n_donors=2, n_cells_per_donor=[54-55], donor_id='donor_id') \u001b[0m═══════════════════════════╗\n",
       "║ ┏━━━━━━━━━━━━━━━━━━━━━━━━━━━━━━━━━━━━━━━━━━━━━┳━━━━━━━━━━━━━━━━━━━━━━━━━━━━━━━━━━━━━━━━━━━━━━━━━┓ ║\n",
       "║ ┃\u001b[1;38;5;197m \u001b[0m\u001b[1;38;5;197mG (donors)                                 \u001b[0m\u001b[1;38;5;197m \u001b[0m┃\u001b[1;38;5;197m \u001b[0m\u001b[1;38;5;197mC (cells)                                      \u001b[0m\u001b[1;38;5;197m \u001b[0m┃ ║\n",
       "║ ┡━━━━━━━━━━━━━━━━━━━━━━━━━━━━━━━━━━━━━━━━━━━━━╇━━━━━━━━━━━━━━━━━━━━━━━━━━━━━━━━━━━━━━━━━━━━━━━━━┩ ║\n",
       "║ │ AnnData object with n_obs × n_vars = 2 × 2  │ AnnData object with n_obs × n_vars = 109 × 100  │ ║\n",
       "║ │     obs: 'birthdate', 'gender', 'donor_id'  │     obs: \u001b[1;38;5;197m'donor_id', \u001b[0m'predicted.celltype.l2'    │ ║\n",
       "║ │     var: 'name', 'unit'                     │                                                 │ ║\n",
       "║ │     layers: 'r_layer'                       │                                                 │ ║\n",
       "║ └─────────────────────────────────────────────┴─────────────────────────────────────────────────┘ ║\n",
       "╚═══════════════════════════════════════════════════════════════════════════════════════════════════╝\n"
      ]
     },
     "metadata": {},
     "output_type": "display_data"
    },
    {
     "data": {
      "text/plain": []
     },
     "execution_count": 5,
     "metadata": {},
     "output_type": "execute_result"
    }
   ],
   "source": [
    "dd = DonorData(G=ehr, C=adata).copy()\n",
    "dd"
   ]
  },
  {
   "cell_type": "code",
   "execution_count": null,
   "metadata": {},
   "outputs": [],
   "source": []
  }
 ],
 "metadata": {
  "kernelspec": {
   "display_name": "single_cell_base3",
   "language": "python",
   "name": "python3"
  },
  "language_info": {
   "codemirror_mode": {
    "name": "ipython",
    "version": 3
   },
   "file_extension": ".py",
   "mimetype": "text/x-python",
   "name": "python",
   "nbconvert_exporter": "python",
   "pygments_lexer": "ipython3",
   "version": "3.12.8"
  }
 },
 "nbformat": 4,
 "nbformat_minor": 4
}
