{
 "cells": [
  {
   "cell_type": "code",
   "execution_count": 1,
   "id": "3fdcf27c",
   "metadata": {},
   "outputs": [],
   "source": [
    "import anndata as ad\n",
    "from pathlib import Path\n",
    "from scipy.sparse import csr_array\n",
    "import numpy as np\n",
    "from tqdm.auto import tqdm"
   ]
  },
  {
   "cell_type": "code",
   "execution_count": 2,
   "id": "00283b59",
   "metadata": {},
   "outputs": [],
   "source": [
    "import gc"
   ]
  },
  {
   "cell_type": "code",
   "execution_count": 3,
   "id": "22285917",
   "metadata": {},
   "outputs": [],
   "source": [
    "obs_map = {\n",
    "    \"Age\": \"age\",\n",
    "    \"CellCycle\": \"cell_cycle\",\n",
    "    \"CellID\": \"cell_id\",\n",
    "    \"Chemistry\": \"chemistry\",\n",
    "    \"Clusters\": \"clusters\",\n",
    "    \"Donor\": \"donor\",\n",
    "    \"NGenes\": \"n_genes\",\n",
    "    \"ROIGroupCoarse\": \"roi_group_coarse\",\n",
    "    \"ROIGroupFine\": \"roi_group_fine\",\n",
    "    \"Roi\": \"roi\",\n",
    "    \"SampleID\": \"sample_id\",\n",
    "    \"Sex\": \"sex\",\n",
    "    \"Subclusters\": \"subclusters\",\n",
    "    \"Tissue\": \"tissue\",\n",
    "    \"TotalUMI\": \"total_umi\",\n",
    "}\n",
    "\n",
    "var_map = {\n",
    "    \"Accession\": \"accession\",\n",
    "    \"Gene\": \"gene\",\n",
    "    \"Valid\": \"valid\",\n",
    "}"
   ]
  },
  {
   "cell_type": "code",
   "execution_count": 4,
   "id": "5b4b8160",
   "metadata": {},
   "outputs": [
    {
     "data": {
      "text/plain": [
       "AnnData object with n_obs × n_vars = 50000 × 59480\n",
       "    obs: 'age', 'cell_cycle', 'chemistry', 'clusters', 'donor', 'n_genes', 'roi_group_coarse', 'roi_group_fine', 'roi', 'sample_id', 'sex', 'subclusters', 'tissue', 'total_umi', 'chunk'\n",
       "    var: 'accession', 'gene', 'valid'"
      ]
     },
     "execution_count": 4,
     "metadata": {},
     "output_type": "execute_result"
    }
   ],
   "source": [
    "adatas_paths = list(\n",
    "    Path(\"/project/genomics/ayshan/ldsc_analysis/data_2/Single_cell_Siletti_Duncan/h5ad_chunks_new\").glob(\"*.h5ad\")\n",
    ")\n",
    "\n",
    "\n",
    "def read_h5ad(apath):\n",
    "    adata = ad.read_h5ad(apath)\n",
    "    adata.X = csr_array(adata.X.astype(np.uint16, copy=False))\n",
    "    adata.obs = adata.obs.rename(columns=obs_map)\n",
    "    adata.var = adata.var.rename(columns=var_map)\n",
    "    adata.obs[\"chunk\"] = apath.stem\n",
    "    adata.obs = adata.obs.set_index(\"cell_id\")\n",
    "    return adata\n",
    "\n",
    "\n",
    "adata = read_h5ad(adatas_paths[0])\n",
    "adata.write_h5ad(\"/lustre/groups/shared/scgenetics/single_cell_siletti_duncan_single_chunk.h5ad\")\n",
    "adata"
   ]
  },
  {
   "cell_type": "code",
   "execution_count": 5,
   "id": "e0b2b8dd",
   "metadata": {},
   "outputs": [
    {
     "data": {
      "application/vnd.jupyter.widget-view+json": {
       "model_id": "13f97890116b459394539a9ecec79ff1",
       "version_major": 2,
       "version_minor": 0
      },
      "text/plain": [
       "  0%|          | 0/67 [00:00<?, ?it/s]"
      ]
     },
     "metadata": {},
     "output_type": "display_data"
    },
    {
     "name": "stdout",
     "output_type": "stream",
     "text": [
      "Error merging /project/genomics/ayshan/ldsc_analysis/data_2/Single_cell_Siletti_Duncan/h5ad_chunks_new/adata_chunk_3250000_3300000.h5ad\n",
      "Error merging /project/genomics/ayshan/ldsc_analysis/data_2/Single_cell_Siletti_Duncan/h5ad_chunks_new/adata_chunk_1050000_1100000.h5ad\n",
      "Error merging /project/genomics/ayshan/ldsc_analysis/data_2/Single_cell_Siletti_Duncan/h5ad_chunks_new/adata_chunk_2150000_2200000.h5ad\n"
     ]
    },
    {
     "data": {
      "text/plain": [
       "AnnData object with n_obs × n_vars = 3219219 × 59480\n",
       "    obs: 'age', 'cell_cycle', 'chemistry', 'clusters', 'donor', 'n_genes', 'roi_group_coarse', 'roi_group_fine', 'roi', 'sample_id', 'sex', 'subclusters', 'tissue', 'total_umi', 'chunk'\n",
       "    var: 'accession', 'gene', 'valid'"
      ]
     },
     "execution_count": 5,
     "metadata": {},
     "output_type": "execute_result"
    }
   ],
   "source": [
    "for apath in tqdm(adatas_paths[1:]):\n",
    "    try:\n",
    "        adata2 = read_h5ad(apath)\n",
    "        adata = ad.concat([adata, adata2], join=\"outer\", merge=\"same\")\n",
    "        gc.collect()\n",
    "    except Exception as e:\n",
    "        print(f\"Error merging {apath}\")\n",
    "        continue\n",
    "adata"
   ]
  },
  {
   "cell_type": "code",
   "execution_count": 6,
   "id": "1733201c",
   "metadata": {},
   "outputs": [
    {
     "data": {
      "text/plain": [
       "AnnData object with n_obs × n_vars = 3219219 × 59480\n",
       "    obs: 'age', 'cell_cycle', 'chemistry', 'clusters', 'donor', 'n_genes', 'roi_group_coarse', 'roi_group_fine', 'roi', 'sample_id', 'sex', 'subclusters', 'tissue', 'total_umi', 'chunk'\n",
       "    var: 'accession', 'gene', 'valid'"
      ]
     },
     "execution_count": 6,
     "metadata": {},
     "output_type": "execute_result"
    }
   ],
   "source": [
    "adata"
   ]
  },
  {
   "cell_type": "code",
   "execution_count": 7,
   "id": "45c12aca",
   "metadata": {},
   "outputs": [],
   "source": [
    "adata.write_h5ad(\"/lustre/groups/shared/scgenetics/single_cell_siletti_duncan_merged.h5ad\")"
   ]
  },
  {
   "cell_type": "code",
   "execution_count": 8,
   "id": "a4ed7665",
   "metadata": {},
   "outputs": [
    {
     "data": {
      "text/plain": [
       "np.int64(59479)"
      ]
     },
     "execution_count": 8,
     "metadata": {},
     "output_type": "execute_result"
    }
   ],
   "source": [
    "adata.X.indices.max()"
   ]
  },
  {
   "cell_type": "code",
   "execution_count": 9,
   "id": "3488646b",
   "metadata": {},
   "outputs": [
    {
     "data": {
      "text/plain": [
       "np.int64(15334884749)"
      ]
     },
     "execution_count": 9,
     "metadata": {},
     "output_type": "execute_result"
    }
   ],
   "source": [
    "adata.X.indptr.max()"
   ]
  },
  {
   "cell_type": "code",
   "execution_count": 10,
   "id": "404c6800",
   "metadata": {},
   "outputs": [
    {
     "data": {
      "text/plain": [
       "dtype('int64')"
      ]
     },
     "execution_count": 10,
     "metadata": {},
     "output_type": "execute_result"
    }
   ],
   "source": [
    "adata.X.indptr.dtype"
   ]
  },
  {
   "cell_type": "code",
   "execution_count": null,
   "id": "a1034c23",
   "metadata": {},
   "outputs": [],
   "source": []
  }
 ],
 "metadata": {
  "kernelspec": {
   "display_name": "adata",
   "language": "python",
   "name": "python3"
  },
  "language_info": {
   "codemirror_mode": {
    "name": "ipython",
    "version": 3
   },
   "file_extension": ".py",
   "mimetype": "text/x-python",
   "name": "python",
   "nbconvert_exporter": "python",
   "pygments_lexer": "ipython3",
   "version": "3.12.11"
  }
 },
 "nbformat": 4,
 "nbformat_minor": 5
}
