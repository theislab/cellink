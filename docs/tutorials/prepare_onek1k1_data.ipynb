{
 "cells": [
  {
   "cell_type": "code",
   "execution_count": null,
   "id": "8d87997b",
   "metadata": {},
   "outputs": [],
   "source": [
    "from pathlib import Path\n",
    "\n",
    "import anndata as ad\n",
    "import cellink as cl"
   ]
  },
  {
   "cell_type": "code",
   "execution_count": null,
   "id": "f043a20f",
   "metadata": {},
   "outputs": [],
   "source": [
    "DATA = Path(cl.__file__).parent.parent.parent / \"docs/tutorials/data\"\n",
    "print(DATA)\n",
    "GENODATA = DATA / \"eqtl_cat_genotypes\"\n",
    "\n",
    "gpc_path = GENODATA / \"pcdir/OneK1K.noGP.filtered.pruned.eigenvec\"\n",
    "adata_path = DATA / \"onk1k_cellxgene.h5ad\"\n",
    "gdata_path = GENODATA / \"sample.vcz\"\n",
    "adata_path_out = DATA / \"onk1k_cellxgene_donor_mapped.h5ad.gz\"\n",
    "adata_path_out_test = DATA / \"onk1k_cellxgene_donor_mapped_cd4_naive.h5ad.gz\""
   ]
  },
  {
   "cell_type": "markdown",
   "id": "1eaf4e48",
   "metadata": {},
   "source": [
    "## Get the data \n",
    " \n",
    "wget https://datasets.cellxgene.cziscience.com/81d84489-bff9-4fb6-b0ee-78348126eada.h5ad # move to DATA / onk1k_cellxgene.h5ad \n",
    "\n",
    "wget https://zenodo.org/records/7619796/files/OneK1K.noGP.vcf.gz.csi?download=1 # mv to GENODATA / OneK1K.noGP.vcf.gz.csi\n",
    "\n",
    "wget https://zenodo.org/records/7619796/files/OneK1K.noGP.vcf.gz?download=1 # mv to GENODATA / OneK1K.noGP.vcf.gz\n",
    "\n",
    "wget https://zenodo.org/records/7619796/files/gene_counts_Ensembl_105_phenotype_metadata.tsv.gz?download=1 # mv to DATA / gene_annotation.csv\n"
   ]
  },
  {
   "cell_type": "markdown",
   "id": "f92e8122",
   "metadata": {},
   "source": [
    "## Prepare genotypes \n",
    "\n",
    "## genotypes for chr22 \n",
    "`cd GENODATA`\n",
    "\n",
    "`bcftools view -r 22 OneK1K.noGP.vcf.gz -Oz -o OneK1K.noGP_chr22.vcf.gz`\n",
    "\n",
    "`vcf2zarr explode OneK1K.noGP_chr22.vcf.gz  sample.icf`\n",
    "\n",
    "`vcf2zarr encode sample.icf sample.vcz`\n",
    "\n",
    "## genetic PCs and Kinship\n",
    "`python ./create_gdata/01_vcf_to_plink.py`\n",
    "\n",
    "`python ./create_gdata/02_geno_pcs.py`\n",
    "\n",
    "`python ./create_gdata/03_kinship.py`\n"
   ]
  },
  {
   "cell_type": "markdown",
   "id": "c1d4688b",
   "metadata": {},
   "source": [
    "## Prepare sc data "
   ]
  },
  {
   "cell_type": "code",
   "execution_count": 15,
   "id": "5e853cd9",
   "metadata": {},
   "outputs": [],
   "source": [
    "gdata = cl.io.read_sgkit_zarr(gdata_path)"
   ]
  },
  {
   "cell_type": "code",
   "execution_count": 11,
   "id": "47133482",
   "metadata": {},
   "outputs": [],
   "source": [
    "adata = ad.read_h5ad(adata_path)"
   ]
  },
  {
   "cell_type": "code",
   "execution_count": 13,
   "id": "2bcb3b4d",
   "metadata": {},
   "outputs": [],
   "source": [
    "adata.obs[\"donor_id\"] = \"OneK1K_\" + adata.obs[\"donor_id\"].str.split(\"_\").str[1]"
   ]
  },
  {
   "cell_type": "code",
   "execution_count": 16,
   "id": "c876f957",
   "metadata": {},
   "outputs": [
    {
     "data": {
      "text/plain": [
       "117"
      ]
     },
     "execution_count": 16,
     "metadata": {},
     "output_type": "execute_result"
    }
   ],
   "source": [
    "len(set(gdata.obs.index) - set(adata.obs[\"donor_id\"]))"
   ]
  },
  {
   "cell_type": "code",
   "execution_count": 17,
   "id": "3f327966",
   "metadata": {},
   "outputs": [
    {
     "data": {
      "text/plain": [
       "117"
      ]
     },
     "execution_count": 17,
     "metadata": {},
     "output_type": "execute_result"
    }
   ],
   "source": [
    "len(gdata.obs.index) - len(adata.obs[\"donor_id\"].drop_duplicates())"
   ]
  },
  {
   "cell_type": "code",
   "execution_count": null,
   "id": "36dbb05c",
   "metadata": {},
   "outputs": [],
   "source": [
    "adata.obs[\"sex\"] = adata.obs[\"sex\"].astype(\"bool\").astype(\"int\")\n",
    "adata.obs[\"age\"] = adata.obs[\"age\"].astype(\"int\")"
   ]
  },
  {
   "cell_type": "code",
   "execution_count": 10,
   "id": "d0d6e0ba",
   "metadata": {},
   "outputs": [
    {
     "data": {
      "text/plain": [
       "age    int64\n",
       "sex    int64\n",
       "dtype: object"
      ]
     },
     "execution_count": 10,
     "metadata": {},
     "output_type": "execute_result"
    }
   ],
   "source": [
    "adata.obs[[\"age\", \"sex\"]].dtypes"
   ]
  },
  {
   "cell_type": "code",
   "execution_count": 11,
   "id": "ae58a0bd",
   "metadata": {},
   "outputs": [
    {
     "data": {
      "text/plain": [
       "AnnData object with n_obs × n_vars = 1248980 × 36469\n",
       "    obs: 'orig.ident', 'nCount_RNA', 'nFeature_RNA', 'percent.mt', 'donor_id', 'pool_number', 'predicted.celltype.l2', 'predicted.celltype.l2.score', 'age', 'organism_ontology_term_id', 'tissue_ontology_term_id', 'assay_ontology_term_id', 'disease_ontology_term_id', 'cell_type_ontology_term_id', 'self_reported_ethnicity_ontology_term_id', 'development_stage_ontology_term_id', 'sex_ontology_term_id', 'is_primary_data', 'suspension_type', 'tissue_type', 'cell_type', 'assay', 'disease', 'organism', 'sex', 'tissue', 'self_reported_ethnicity', 'development_stage', 'observation_joinid'\n",
       "    var: 'vst.mean', 'vst.variance', 'vst.variance.expected', 'vst.variance.standardized', 'vst.variable', 'feature_is_filtered', 'feature_name', 'feature_reference', 'feature_biotype', 'feature_length', 'feature_type'\n",
       "    uns: 'cell_type_ontology_term_id_colors', 'citation', 'default_embedding', 'schema_reference', 'schema_version', 'title'\n",
       "    obsm: 'X_azimuth_spca', 'X_azimuth_umap', 'X_harmony', 'X_pca', 'X_umap'\n",
       "    varm: 'PCs'"
      ]
     },
     "execution_count": 11,
     "metadata": {},
     "output_type": "execute_result"
    }
   ],
   "source": [
    "adata.write(adata_path_out, compression=\"gzip\")\n",
    "adata"
   ]
  },
  {
   "cell_type": "code",
   "execution_count": 13,
   "id": "cc549efd",
   "metadata": {},
   "outputs": [],
   "source": [
    "cell_type = \"CD4 Naive\"\n",
    "celltype_key = \"predicted.celltype.l2\""
   ]
  },
  {
   "cell_type": "code",
   "execution_count": 14,
   "id": "6fad2f98",
   "metadata": {},
   "outputs": [
    {
     "data": {
      "text/plain": [
       "AnnData object with n_obs × n_vars = 259012 × 36469\n",
       "    obs: 'orig.ident', 'nCount_RNA', 'nFeature_RNA', 'percent.mt', 'donor_id', 'pool_number', 'predicted.celltype.l2', 'predicted.celltype.l2.score', 'age', 'organism_ontology_term_id', 'tissue_ontology_term_id', 'assay_ontology_term_id', 'disease_ontology_term_id', 'cell_type_ontology_term_id', 'self_reported_ethnicity_ontology_term_id', 'development_stage_ontology_term_id', 'sex_ontology_term_id', 'is_primary_data', 'suspension_type', 'tissue_type', 'cell_type', 'assay', 'disease', 'organism', 'sex', 'tissue', 'self_reported_ethnicity', 'development_stage', 'observation_joinid'\n",
       "    var: 'vst.mean', 'vst.variance', 'vst.variance.expected', 'vst.variance.standardized', 'vst.variable', 'feature_is_filtered', 'feature_name', 'feature_reference', 'feature_biotype', 'feature_length', 'feature_type'\n",
       "    uns: 'cell_type_ontology_term_id_colors', 'citation', 'default_embedding', 'schema_reference', 'schema_version', 'title'\n",
       "    obsm: 'X_azimuth_spca', 'X_azimuth_umap', 'X_harmony', 'X_pca', 'X_umap'\n",
       "    varm: 'PCs'"
      ]
     },
     "execution_count": 14,
     "metadata": {},
     "output_type": "execute_result"
    }
   ],
   "source": [
    "adata_test = adata[adata.obs[celltype_key] == cell_type].copy()\n",
    "adata_test"
   ]
  },
  {
   "cell_type": "code",
   "execution_count": 16,
   "id": "ca89f17d",
   "metadata": {},
   "outputs": [
    {
     "data": {
      "text/plain": [
       "AnnData object with n_obs × n_vars = 1248980 × 36469\n",
       "    obs: 'orig.ident', 'nCount_RNA', 'nFeature_RNA', 'percent.mt', 'donor_id', 'pool_number', 'predicted.celltype.l2', 'predicted.celltype.l2.score', 'age', 'organism_ontology_term_id', 'tissue_ontology_term_id', 'assay_ontology_term_id', 'disease_ontology_term_id', 'cell_type_ontology_term_id', 'self_reported_ethnicity_ontology_term_id', 'development_stage_ontology_term_id', 'sex_ontology_term_id', 'is_primary_data', 'suspension_type', 'tissue_type', 'cell_type', 'assay', 'disease', 'organism', 'sex', 'tissue', 'self_reported_ethnicity', 'development_stage', 'observation_joinid'\n",
       "    var: 'vst.mean', 'vst.variance', 'vst.variance.expected', 'vst.variance.standardized', 'vst.variable', 'feature_is_filtered', 'feature_name', 'feature_reference', 'feature_biotype', 'feature_length', 'feature_type'\n",
       "    uns: 'cell_type_ontology_term_id_colors', 'citation', 'default_embedding', 'schema_reference', 'schema_version', 'title'\n",
       "    obsm: 'X_azimuth_spca', 'X_azimuth_umap', 'X_harmony', 'X_pca', 'X_umap'\n",
       "    varm: 'PCs'"
      ]
     },
     "execution_count": 16,
     "metadata": {},
     "output_type": "execute_result"
    }
   ],
   "source": [
    "adata.write(adata_path_out_test, compression=\"gzip\")\n",
    "adata"
   ]
  }
 ],
 "metadata": {
  "kernelspec": {
   "display_name": "eh_scgenetics_v1",
   "language": "python",
   "name": "python3"
  },
  "language_info": {
   "codemirror_mode": {
    "name": "ipython",
    "version": 3
   },
   "file_extension": ".py",
   "mimetype": "text/x-python",
   "name": "python",
   "nbconvert_exporter": "python",
   "pygments_lexer": "ipython3",
   "version": "3.10.15"
  }
 },
 "nbformat": 4,
 "nbformat_minor": 5
}
