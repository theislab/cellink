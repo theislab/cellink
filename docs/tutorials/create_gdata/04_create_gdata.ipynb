{
 "cells": [
  {
   "cell_type": "code",
   "execution_count": 26,
   "metadata": {},
   "outputs": [],
   "source": [
    "import gc\n",
    "\n",
    "import anndata as ad\n",
    "import numpy as np\n",
    "import pandas as pd\n",
    "import scanpy as sc\n",
    "from cellink.io import read_plink\n",
    "from liftover import get_lifter\n",
    "import zarr\n",
    "\n",
    "\n",
    "from pysrc.cis_pipeline_v7.data import column_normalize\n",
    "from pysrc.paths import DATA"
   ]
  },
  {
   "cell_type": "code",
   "execution_count": 18,
   "metadata": {},
   "outputs": [],
   "source": [
    "converter = get_lifter(\"hg19\", \"hg38\", one_based=True)\n",
    "\n",
    "def try_liftover(row):\n",
    "    try:\n",
    "        return int(converter[str(row.chrom)][row.pos][0][1])\n",
    "    except:  # noqa\n",
    "        return np.nan"
   ]
  },
  {
   "cell_type": "code",
   "execution_count": 14,
   "metadata": {},
   "outputs": [
    {
     "data": {
      "text/plain": [
       "4751"
      ]
     },
     "execution_count": 14,
     "metadata": {},
     "output_type": "execute_result"
    }
   ],
   "source": [
    "adata = ad.read_h5ad(DATA / \"OneK1K_cohort_gene_expression_matrix_14_celltypes_f32.h5ad\")\n",
    "indis = np.array(list(adata.obs.individual.sort_values().unique()))\n",
    "obs = adata.obs.groupby(\"individual\", observed=True)[[\"sex\", \"age\"]].first().sort_index()\n",
    "obs.index = obs.index.astype(str)\n",
    "obs[\"sex\"] = obs[\"sex\"] - 1\n",
    "obs[\"age_std\"] = (obs[\"age\"] - obs[\"age\"].mean()) / obs[\"age\"].std()\n",
    "obs = obs.loc[indis]\n",
    "\n",
    "sc.pp.normalize_total(adata)\n",
    "sc.pp.log1p(adata)\n",
    "sc.pp.normalize_total(adata)\n",
    "mdata = sc.get.aggregate(adata, by=\"individual\", func=\"mean\")\n",
    "mdata.X = mdata.layers.pop(\"mean\")\n",
    "sc.pp.highly_variable_genes(mdata, n_top_genes=5000)\n",
    "sc.pp.pca(mdata)\n",
    "mdata = mdata[indis].copy()\n",
    "del adata\n",
    "gc.collect()"
   ]
  },
  {
   "cell_type": "code",
   "execution_count": 19,
   "metadata": {},
   "outputs": [
    {
     "data": {
      "text/plain": [
       "AnnData object with n_obs × n_vars = 981 × 7406085\n",
       "    obs: 'sex', 'age', 'age_std'\n",
       "    var: 'chrom', 'pos', 'a0', 'a1', 'id', 'pos_hg19', 'id_hg19'"
      ]
     },
     "execution_count": 19,
     "metadata": {},
     "output_type": "execute_result"
    }
   ],
   "source": [
    "chroms = np.arange(1, 23)\n",
    "gdatas = []\n",
    "GENODATA = DATA / \"OneK1K_imputation_post_qc_r2_08\"\n",
    "plinkdir = GENODATA / \"plink_v2\"\n",
    "for chrom in chroms:\n",
    "    gdata = read_plink(plinkdir / f\"chr{chrom}.dose.filtered.R2_0.8\")\n",
    "    gdata.obs = gdata.obs[[]]\n",
    "    gdata.var = gdata.var.drop(columns=[\"contig\"])\n",
    "    gdata = gdata[indis].copy()\n",
    "    new_pos = gdata.var.apply(lambda row: try_liftover(row), axis=1)\n",
    "    gdata.var[\"pos_hg19\"] = new_pos.astype(pd.Int64Dtype())\n",
    "    gdata.var[\"id_hg19\"] = (\n",
    "        gdata.var.chrom\n",
    "        + \"_\"\n",
    "        + gdata.var.pos_hg19.astype(str)\n",
    "        + \"_\"\n",
    "        + gdata.var.a0\n",
    "        + \"_\"\n",
    "        + gdata.var.a1\n",
    "    )\n",
    "    gdata.var[\"id_hg19\"] =  gdata.var[\"id_hg19\"].astype(str)\n",
    "    gdata.obs.index = gdata.obs.index.astype(str)\n",
    "    gdatas.append(gdata)\n",
    "gdata = ad.concat(gdatas, axis=1)\n",
    "gdata.obs = obs\n",
    "gdata"
   ]
  },
  {
   "cell_type": "code",
   "execution_count": 20,
   "metadata": {},
   "outputs": [],
   "source": [
    "gdata.obsm[\"ePCs\"] = pd.DataFrame(\n",
    "    mdata.obsm[\"X_pca\"],\n",
    "    index=gdata.obs_names,\n",
    "    columns=[f\"ePC{i}\" for i in range(1, mdata.obsm[\"X_pca\"].shape[1] + 1)],\n",
    ")"
   ]
  },
  {
   "cell_type": "code",
   "execution_count": 21,
   "metadata": {},
   "outputs": [],
   "source": [
    "gpcdf = (\n",
    "    pd.read_csv(\n",
    "        GENODATA / \"pcdir_v2/wgs.dose.filtered.R2_0.8.filtered.pruned.eigenvec\",\n",
    "        sep=\" \",\n",
    "        header=None,\n",
    "    )\n",
    "    .drop(columns=[0])\n",
    "    .set_index(1)\n",
    ")\n",
    "gpcdf.columns = [f\"gPC{i}\" for i in range(1, gpcdf.shape[1] + 1)]\n",
    "gpcdf = gpcdf.loc[indis]\n",
    "gdata.obsm[\"gPCs\"] = gpcdf\n",
    "gdata.obsm[\"gPCs\"].index.name = \"donor_id\""
   ]
  },
  {
   "cell_type": "code",
   "execution_count": 22,
   "metadata": {},
   "outputs": [],
   "source": [
    "kindf = pd.read_csv(\n",
    "    GENODATA / \"kinship_v2/wgs.dose.filtered.R2_0.8.filtered.pruned.rel\", sep=\"\\t\", header=None\n",
    ")\n",
    "indi_index = pd.read_csv(\n",
    "    GENODATA / \"kinship_v2/wgs.dose.filtered.R2_0.8.filtered.pruned.rel.id\", sep=\"\\t\", header=None\n",
    ")[1].values\n",
    "kindf.columns = indi_index\n",
    "kindf.index = indi_index\n",
    "kindf = kindf.loc[indis, indis]\n",
    "gdata.obsp[\"kinship\"] = kindf"
   ]
  },
  {
   "cell_type": "code",
   "execution_count": 23,
   "metadata": {},
   "outputs": [],
   "source": [
    "F = pd.DataFrame(index=gdata.obs_names)\n",
    "F[\"const\"] = 1\n",
    "F[\"sex\"] = obs[\"sex\"]\n",
    "F[\"age_std\"] = obs[\"age_std\"]\n",
    "F = pd.concat([F, gdata.obsm[\"ePCs\"].iloc[:, :15], gdata.obsm[\"gPCs\"].iloc[:, :20]], axis=1).astype(np.float64)\n",
    "F.iloc[:, 2:] = column_normalize(F.iloc[:, 2:].values)\n",
    "gdata.obsm[\"F\"] = F\n"
   ]
  },
  {
   "cell_type": "code",
   "execution_count": 24,
   "metadata": {},
   "outputs": [
    {
     "name": "stderr",
     "output_type": "stream",
     "text": [
      "... storing 'chrom' as categorical\n",
      "... storing 'a0' as categorical\n",
      "... storing 'a1' as categorical\n",
      "... storing 'id_hg19' as categorical\n"
     ]
    }
   ],
   "source": [
    "gdata.write_zarr(GENODATA / \"gdata_v2.zarr\")"
   ]
  },
  {
   "cell_type": "code",
   "execution_count": 25,
   "metadata": {},
   "outputs": [
    {
     "name": "stdout",
     "output_type": "stream",
     "text": [
      "Gdata created\n"
     ]
    }
   ],
   "source": [
    "print(\"Gdata created\")"
   ]
  },
  {
   "cell_type": "code",
   "execution_count": 27,
   "metadata": {},
   "outputs": [
    {
     "data": {
      "text/plain": [
       "AnnData object with n_obs × n_vars = 981 × 7406085\n",
       "    obs: 'sex', 'age', 'age_std'\n",
       "    var: 'chrom', 'pos', 'a0', 'a1', 'id', 'pos_hg19', 'id_hg19'\n",
       "    obsm: 'F', 'ePCs', 'gPCs'\n",
       "    obsp: 'kinship'"
      ]
     },
     "execution_count": 27,
     "metadata": {},
     "output_type": "execute_result"
    }
   ],
   "source": [
    "SPARSE_CHUNK_SIZE = 100_000\n",
    "\n",
    "with zarr.open(GENODATA / \"gdata_v2.zarr\", \"r\") as f:\n",
    "    adata = ad.AnnData(**{k: ad.io.read_elem(f[k]) for k in f.keys() if k != \"X\"})\n",
    "    adata.X = ad.experimental.read_elem_as_dask(\n",
    "        f[\"X\"], chunks=(adata.shape[0], SPARSE_CHUNK_SIZE)\n",
    "    )\n",
    "adata\n"
   ]
  },
  {
   "cell_type": "code",
   "execution_count": 28,
   "metadata": {},
   "outputs": [
    {
     "data": {
      "text/plain": [
       "<IntegerArray>\n",
       "[  779885,   779987,   782105,   785001,   785910,   791414,   794252,\n",
       "   794299,   796338,   798969,\n",
       " ...\n",
       " 50759174, 50760141, 50760440, 50760478, 50760570, 50764320, 50770140,\n",
       " 50772603, 50775185, 50778136]\n",
       "Length: 7255546, dtype: Int64"
      ]
     },
     "execution_count": 28,
     "metadata": {},
     "output_type": "execute_result"
    }
   ],
   "source": [
    "adata.var.pos_hg19.unique()"
   ]
  }
 ],
 "metadata": {
  "kernelspec": {
   "display_name": "gtn",
   "language": "python",
   "name": "python3"
  },
  "language_info": {
   "codemirror_mode": {
    "name": "ipython",
    "version": 3
   },
   "file_extension": ".py",
   "mimetype": "text/x-python",
   "name": "python",
   "nbconvert_exporter": "python",
   "pygments_lexer": "ipython3",
   "version": "3.10.15"
  }
 },
 "nbformat": 4,
 "nbformat_minor": 2
}
