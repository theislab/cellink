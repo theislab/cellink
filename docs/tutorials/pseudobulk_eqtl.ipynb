{
 "cells": [
  {
   "cell_type": "markdown",
   "metadata": {},
   "source": [
    "# Tutorial: Pseudobulk eQTL Analysis with `cellink`\n",
    "\n",
    "This tutorial demonstrates how to perform pseudobulk eQTL analysis using the `cellink` package, which integrates single-cell transcriptomics with genotype data. We focus on one cell type and test for cis-eQTLs across the genome, illustrating key steps such as pseudobulk aggregation, dimensionality reduction, filtering, and linear modeling.\n",
    "\n",
    "This notebook assumes familiarity with single-cell data processing and basic statistical genetics concepts (e.g., eQTLs, PCA). If you're new to `cellink`, we recommend reviewing the [documentation page](#) for a conceptual overview of the package."
   ]
  },
  {
   "cell_type": "markdown",
   "metadata": {},
   "source": [
    "## Environment Setup\n",
    "\n",
    "We begin by importing necessary libraries and defining key parameters for our analysis. `cellink` provides utilities that extend `AnnData` to handle both donor-level genotype data and single-cell RNA-seq data efficiently."
   ]
  },
  {
   "cell_type": "code",
   "execution_count": 1,
   "metadata": {},
   "outputs": [],
   "source": [
    "import gc\n",
    "from pathlib import Path\n",
    "import warnings\n",
    "\n",
    "import anndata as ad\n",
    "import scanpy as sc\n",
    "import dask.array as da\n",
    "import numpy as np\n",
    "import pandas as pd\n",
    "from statsmodels.stats.multitest import fdrcorrection\n",
    "from tqdm.auto import tqdm\n",
    "\n",
    "import cellink as cl\n",
    "from cellink._core import DAnn, GAnn\n",
    "from cellink.at.gwas import GWAS\n",
    "from cellink.utils import column_normalize, gaussianize\n",
    "from cellink.resources import get_onek1k"
   ]
  },
  {
   "cell_type": "code",
   "execution_count": 3,
   "metadata": {},
   "outputs": [],
   "source": [
    "n_gpcs = 20\n",
    "n_epcs = 15\n",
    "batch_e_pcs_n_top_genes = 2000\n",
    "chrom = 22\n",
    "cis_window = 500_000\n",
    "cell_type = \"CD8 Naive\"\n",
    "celltype_key = \"predicted.celltype.l2\"\n",
    "pb_gex_key = f\"PB_{cell_type}\"  # pseudobulk expression in dd.G.obsm[key_added]\n",
    "original_donor_col = \"donor_id\"\n",
    "min_percent_donors_expressed = 0.1\n",
    "do_debug = False"
   ]
  },
  {
   "cell_type": "markdown",
   "metadata": {},
   "source": [
    "## Load and Prepare Data\n",
    "\n",
    "Here, we load a prepared dataset (`onek1k`) that includes genotype and expression information from human donors. We also extract gene annotations using Ensembl via `pybiomart`, which are essential for defining cis-windows during eQTL analysis."
   ]
  },
  {
   "cell_type": "code",
   "execution_count": null,
   "metadata": {},
   "outputs": [
    {
     "name": "stdout",
     "output_type": "stream",
     "text": [
      "/Users/larnoldt/cellink_sample_data/onek1k/onek1k_cellxgene.h5ad already exists. Verifying checksum.\n",
      "/Users/larnoldt/cellink_sample_data/onek1k/OneK1K.noGP.vcf.gz already exists. Verifying checksum.\n",
      "/Users/larnoldt/cellink_sample_data/onek1k/OneK1K.noGP.vcf.gz.csi already exists. Verifying checksum.\n",
      "/Users/larnoldt/cellink_sample_data/onek1k/gene_counts_Ensembl_105_phenotype_metadata.tsv.gz already exists. Verifying checksum.\n"
     ]
    },
    {
     "name": "stderr",
     "output_type": "stream",
     "text": [
      "/opt/miniconda3/envs/single_cell_base3/lib/python3.12/site-packages/pandas/core/internals/blocks.py:2588: RuntimeWarning: invalid value encountered in cast\n",
      "  return self.values.astype(_dtype_obj)\n"
     ]
    },
    {
     "data": {
      "text/html": [
       "<pre style=\"white-space:pre;overflow-x:auto;line-height:normal;font-family:Menlo,'DejaVu Sans Mono',consolas,'Courier New',monospace\">       ╭──────────────────────────────────────────────────────────────────────────────────────────────────╮        \n",
       "       │ <span style=\"color: #ff005f; text-decoration-color: #ff005f; font-weight: bold\">     DonorData(981 x n_donors=10,595,884, n_cells_per_donor=[333-3,511], donor_id = 'donor_id') </span> │        \n",
       "       ╰──────────────────────────────────────────────────────────────────────────────────────────────────╯        \n",
       "┏━━━━━━━━━━━━━━━━━━━━━━━━━━━━━━━━━━━━━━━━━━━━━━━━━━━━┳━━━━━━━━━━━━━━━━━━━━━━━━━━━━━━━━━━━━━━━━━━━━━━━━━━━━┓\n",
       "┃<span style=\"color: #ff005f; text-decoration-color: #ff005f; font-weight: bold\"> G (donors)                                         </span>┃<span style=\"color: #ff005f; text-decoration-color: #ff005f; font-weight: bold\"> C (cells)                                          </span>┃\n",
       "┡━━━━━━━━━━━━━━━━━━━━━━━━━━━━━━━━━━━━━━━━━━━━━━━━━━━━╇━━━━━━━━━━━━━━━━━━━━━━━━━━━━━━━━━━━━━━━━━━━━━━━━━━━━┩\n",
       "│ AnnData object with n_obs × n_vars = 981 ×         │ AnnData object with n_obs × n_vars = 1,248,980 ×   │\n",
       "│ 10,595,884                                         │ 36,469                                             │\n",
       "│     var: 'chrom', 'pos', 'a0', 'a1', 'AC',         │     obs: 'orig.ident', 'nCount_RNA',               │\n",
       "│ 'AC_Hemi', 'AC_Het', 'AC_Hom', 'AF', 'AN', 'ER2',  │ 'nFeature_RNA', 'percent.mt', <span style=\"color: #ff005f; text-decoration-color: #ff005f; font-weight: bold\">'donor_id', </span>         │\n",
       "│ 'ExcHet', 'HWE', 'IMPUTED', 'maf', 'NS', 'R2',     │ 'pool_number', 'predicted.celltype.l2',            │\n",
       "│ 'TYPED', 'TYPED_ONLY', 'id', 'id_mask', 'length',  │ 'predicted.celltype.l2.score', 'age',              │\n",
       "│ 'quality', 'pos_hg19', 'id_hg19'                   │ 'organism_ontology_term_id',                       │\n",
       "│                                                    │ 'tissue_ontology_term_id',                         │\n",
       "│                                                    │ 'assay_ontology_term_id',                          │\n",
       "│                                                    │ 'disease_ontology_term_id',                        │\n",
       "│                                                    │ 'cell_type_ontology_term_id',                      │\n",
       "│                                                    │ 'self_reported_ethnicity_ontology_term_id',        │\n",
       "│                                                    │ 'development_stage_ontology_term_id',              │\n",
       "│                                                    │ 'sex_ontology_term_id', 'is_primary_data',         │\n",
       "│                                                    │ 'suspension_type', 'tissue_type', 'cell_type',     │\n",
       "│                                                    │ 'assay', 'disease', 'organism', 'sex', 'tissue',   │\n",
       "│                                                    │ 'self_reported_ethnicity', 'development_stage',    │\n",
       "│                                                    │ 'observation_joinid'                               │\n",
       "│     uns: 'kinship'                                 │     var: 'vst.mean', 'vst.variance',               │\n",
       "│                                                    │ 'vst.variance.expected',                           │\n",
       "│                                                    │ 'vst.variance.standardized', 'vst.variable',       │\n",
       "│                                                    │ 'feature_is_filtered', 'feature_name',             │\n",
       "│                                                    │ 'feature_reference', 'feature_biotype',            │\n",
       "│                                                    │ 'feature_length', 'feature_type'                   │\n",
       "│     obsm: 'gPCs'                                   │     uns: 'cell_type_ontology_term_id_colors',      │\n",
       "│                                                    │ 'citation', 'default_embedding',                   │\n",
       "│                                                    │ 'schema_reference', 'schema_version', 'title'      │\n",
       "│     varm: 'filter'                                 │     obsm: 'X_azimuth_spca', 'X_azimuth_umap',      │\n",
       "│                                                    │ 'X_harmony', 'X_pca', 'X_umap'                     │\n",
       "│                                                    │     varm: 'PCs'                                    │\n",
       "└────────────────────────────────────────────────────┴────────────────────────────────────────────────────┘\n",
       "</pre>\n"
      ],
      "text/plain": [
       "       ╭──────────────────────────────────────────────────────────────────────────────────────────────────╮        \n",
       "       │ \u001b[1;38;5;197m     DonorData(981 x n_donors=10,595,884, n_cells_per_donor=[333-3,511], donor_id = 'donor_id') \u001b[0m │        \n",
       "       ╰──────────────────────────────────────────────────────────────────────────────────────────────────╯        \n",
       "┏━━━━━━━━━━━━━━━━━━━━━━━━━━━━━━━━━━━━━━━━━━━━━━━━━━━━┳━━━━━━━━━━━━━━━━━━━━━━━━━━━━━━━━━━━━━━━━━━━━━━━━━━━━┓\n",
       "┃\u001b[1;38;5;197m \u001b[0m\u001b[1;38;5;197mG (donors)                                        \u001b[0m\u001b[1;38;5;197m \u001b[0m┃\u001b[1;38;5;197m \u001b[0m\u001b[1;38;5;197mC (cells)                                         \u001b[0m\u001b[1;38;5;197m \u001b[0m┃\n",
       "┡━━━━━━━━━━━━━━━━━━━━━━━━━━━━━━━━━━━━━━━━━━━━━━━━━━━━╇━━━━━━━━━━━━━━━━━━━━━━━━━━━━━━━━━━━━━━━━━━━━━━━━━━━━┩\n",
       "│ AnnData object with n_obs × n_vars = 981 ×         │ AnnData object with n_obs × n_vars = 1,248,980 ×   │\n",
       "│ 10,595,884                                         │ 36,469                                             │\n",
       "│     var: 'chrom', 'pos', 'a0', 'a1', 'AC',         │     obs: 'orig.ident', 'nCount_RNA',               │\n",
       "│ 'AC_Hemi', 'AC_Het', 'AC_Hom', 'AF', 'AN', 'ER2',  │ 'nFeature_RNA', 'percent.mt', \u001b[1;38;5;197m'donor_id', \u001b[0m         │\n",
       "│ 'ExcHet', 'HWE', 'IMPUTED', 'maf', 'NS', 'R2',     │ 'pool_number', 'predicted.celltype.l2',            │\n",
       "│ 'TYPED', 'TYPED_ONLY', 'id', 'id_mask', 'length',  │ 'predicted.celltype.l2.score', 'age',              │\n",
       "│ 'quality', 'pos_hg19', 'id_hg19'                   │ 'organism_ontology_term_id',                       │\n",
       "│                                                    │ 'tissue_ontology_term_id',                         │\n",
       "│                                                    │ 'assay_ontology_term_id',                          │\n",
       "│                                                    │ 'disease_ontology_term_id',                        │\n",
       "│                                                    │ 'cell_type_ontology_term_id',                      │\n",
       "│                                                    │ 'self_reported_ethnicity_ontology_term_id',        │\n",
       "│                                                    │ 'development_stage_ontology_term_id',              │\n",
       "│                                                    │ 'sex_ontology_term_id', 'is_primary_data',         │\n",
       "│                                                    │ 'suspension_type', 'tissue_type', 'cell_type',     │\n",
       "│                                                    │ 'assay', 'disease', 'organism', 'sex', 'tissue',   │\n",
       "│                                                    │ 'self_reported_ethnicity', 'development_stage',    │\n",
       "│                                                    │ 'observation_joinid'                               │\n",
       "│     uns: 'kinship'                                 │     var: 'vst.mean', 'vst.variance',               │\n",
       "│                                                    │ 'vst.variance.expected',                           │\n",
       "│                                                    │ 'vst.variance.standardized', 'vst.variable',       │\n",
       "│                                                    │ 'feature_is_filtered', 'feature_name',             │\n",
       "│                                                    │ 'feature_reference', 'feature_biotype',            │\n",
       "│                                                    │ 'feature_length', 'feature_type'                   │\n",
       "│     obsm: 'gPCs'                                   │     uns: 'cell_type_ontology_term_id_colors',      │\n",
       "│                                                    │ 'citation', 'default_embedding',                   │\n",
       "│                                                    │ 'schema_reference', 'schema_version', 'title'      │\n",
       "│     varm: 'filter'                                 │     obsm: 'X_azimuth_spca', 'X_azimuth_umap',      │\n",
       "│                                                    │ 'X_harmony', 'X_pca', 'X_umap'                     │\n",
       "│                                                    │     varm: 'PCs'                                    │\n",
       "└────────────────────────────────────────────────────┴────────────────────────────────────────────────────┘\n"
      ]
     },
     "metadata": {},
     "output_type": "display_data"
    },
    {
     "data": {
      "text/plain": []
     },
     "metadata": {},
     "output_type": "display_data"
    }
   ],
   "source": [
    "dd = get_onek1k(config_path='../../src/cellink/resources/config/onek1k.yaml')\n",
    "dd"
   ]
  },
  {
   "cell_type": "code",
   "execution_count": null,
   "metadata": {},
   "outputs": [],
   "source": [
    "def _get_ensembl_gene_id_start_end_chr():\n",
    "    from pybiomart import Server\n",
    "    server = Server(host='http://www.ensembl.org')\n",
    "    dataset = (server.marts['ENSEMBL_MART_ENSEMBL'].datasets['hsapiens_gene_ensembl'])\n",
    "    ensembl_gene_id_start_end_chr = dataset.query(attributes=['ensembl_gene_id', 'start_position', 'end_position', 'chromosome_name'])\n",
    "    ensembl_gene_id_start_end_chr = ensembl_gene_id_start_end_chr.set_index(\"Gene stable ID\")\n",
    "    ensembl_gene_id_start_end_chr = ensembl_gene_id_start_end_chr.rename(columns={\n",
    "        \"Gene start (bp)\": GAnn.start,\n",
    "        \"Gene end (bp)\": GAnn.end,\n",
    "        \"Chromosome/scaffold name\": GAnn.chrom,\n",
    "    })\n",
    "    return ensembl_gene_id_start_end_chr"
   ]
  },
  {
   "cell_type": "code",
   "execution_count": null,
   "metadata": {},
   "outputs": [
    {
     "data": {
      "text/html": [
       "<div>\n",
       "<style scoped>\n",
       "    .dataframe tbody tr th:only-of-type {\n",
       "        vertical-align: middle;\n",
       "    }\n",
       "\n",
       "    .dataframe tbody tr th {\n",
       "        vertical-align: top;\n",
       "    }\n",
       "\n",
       "    .dataframe thead th {\n",
       "        text-align: right;\n",
       "    }\n",
       "</style>\n",
       "<table border=\"1\" class=\"dataframe\">\n",
       "  <thead>\n",
       "    <tr style=\"text-align: right;\">\n",
       "      <th></th>\n",
       "      <th>start</th>\n",
       "      <th>end</th>\n",
       "      <th>chrom</th>\n",
       "    </tr>\n",
       "    <tr>\n",
       "      <th>Gene stable ID</th>\n",
       "      <th></th>\n",
       "      <th></th>\n",
       "      <th></th>\n",
       "    </tr>\n",
       "  </thead>\n",
       "  <tbody>\n",
       "    <tr>\n",
       "      <th>ENSG00000210049</th>\n",
       "      <td>577</td>\n",
       "      <td>647</td>\n",
       "      <td>MT</td>\n",
       "    </tr>\n",
       "    <tr>\n",
       "      <th>ENSG00000211459</th>\n",
       "      <td>648</td>\n",
       "      <td>1601</td>\n",
       "      <td>MT</td>\n",
       "    </tr>\n",
       "    <tr>\n",
       "      <th>ENSG00000210077</th>\n",
       "      <td>1602</td>\n",
       "      <td>1670</td>\n",
       "      <td>MT</td>\n",
       "    </tr>\n",
       "    <tr>\n",
       "      <th>ENSG00000210082</th>\n",
       "      <td>1671</td>\n",
       "      <td>3229</td>\n",
       "      <td>MT</td>\n",
       "    </tr>\n",
       "    <tr>\n",
       "      <th>ENSG00000209082</th>\n",
       "      <td>3230</td>\n",
       "      <td>3304</td>\n",
       "      <td>MT</td>\n",
       "    </tr>\n",
       "    <tr>\n",
       "      <th>...</th>\n",
       "      <td>...</td>\n",
       "      <td>...</td>\n",
       "      <td>...</td>\n",
       "    </tr>\n",
       "    <tr>\n",
       "      <th>ENSG00000197989</th>\n",
       "      <td>28578536</td>\n",
       "      <td>28583132</td>\n",
       "      <td>1</td>\n",
       "    </tr>\n",
       "    <tr>\n",
       "      <th>ENSG00000229388</th>\n",
       "      <td>28643159</td>\n",
       "      <td>28648829</td>\n",
       "      <td>1</td>\n",
       "    </tr>\n",
       "    <tr>\n",
       "      <th>ENSG00000289291</th>\n",
       "      <td>28736044</td>\n",
       "      <td>28737670</td>\n",
       "      <td>1</td>\n",
       "    </tr>\n",
       "    <tr>\n",
       "      <th>ENSG00000274978</th>\n",
       "      <td>28648600</td>\n",
       "      <td>28648734</td>\n",
       "      <td>1</td>\n",
       "    </tr>\n",
       "    <tr>\n",
       "      <th>ENSG00000296488</th>\n",
       "      <td>144460887</td>\n",
       "      <td>144462283</td>\n",
       "      <td>1</td>\n",
       "    </tr>\n",
       "  </tbody>\n",
       "</table>\n",
       "<p>86364 rows × 3 columns</p>\n",
       "</div>"
      ],
      "text/plain": [
       "                     start        end chrom\n",
       "Gene stable ID                             \n",
       "ENSG00000210049        577        647    MT\n",
       "ENSG00000211459        648       1601    MT\n",
       "ENSG00000210077       1602       1670    MT\n",
       "ENSG00000210082       1671       3229    MT\n",
       "ENSG00000209082       3230       3304    MT\n",
       "...                    ...        ...   ...\n",
       "ENSG00000197989   28578536   28583132     1\n",
       "ENSG00000229388   28643159   28648829     1\n",
       "ENSG00000289291   28736044   28737670     1\n",
       "ENSG00000274978   28648600   28648734     1\n",
       "ENSG00000296488  144460887  144462283     1\n",
       "\n",
       "[86364 rows x 3 columns]"
      ]
     },
     "metadata": {},
     "output_type": "display_data"
    }
   ],
   "source": [
    "ensembl_gene_id_start_end_chr = _get_ensembl_gene_id_start_end_chr()\n",
    "ensembl_gene_id_start_end_chr"
   ]
  },
  {
   "cell_type": "code",
   "execution_count": null,
   "metadata": {},
   "outputs": [],
   "source": [
    "dd.C.var = dd.C.var.join(ensembl_gene_id_start_end_chr)\n",
    "dd.C.obs[DAnn.donor] = dd.C.obs[original_donor_col]\n",
    "dd.G.obsm[\"gPCs\"] = dd.G.obsm[\"gPCs\"][dd.G.obsm[\"gPCs\"].columns[:n_gpcs]]"
   ]
  },
  {
   "cell_type": "markdown",
   "metadata": {},
   "source": [
    "## Normalize and Filter Expression Data\n",
    "\n",
    "We normalize single-cell expression using total-count normalization and log transformation. We then filter the dataset to only include cells of a specific type (`CD8 Naive`). This step ensures we're analyzing homogeneous populations, which increases power in eQTL detection."
   ]
  },
  {
   "cell_type": "code",
   "execution_count": null,
   "metadata": {},
   "outputs": [],
   "source": [
    "sc.pp.normalize_total(dd.C)\n",
    "sc.pp.log1p(dd.C)\n",
    "sc.pp.normalize_total(dd.C)\n",
    "\n",
    "mdata = sc.get.aggregate(dd.C, by=DAnn.donor, func=\"mean\")\n",
    "mdata.X = mdata.layers.pop(\"mean\")\n",
    "\n",
    "sc.pp.highly_variable_genes(mdata, n_top_genes=batch_e_pcs_n_top_genes)\n",
    "sc.tl.pca(mdata, n_comps=n_epcs)\n",
    "\n",
    "dd.G.obsm[\"ePCs\"] = mdata[dd.G.obs_names].obsm[\"X_pca\"]"
   ]
  },
  {
   "cell_type": "code",
   "execution_count": null,
   "metadata": {},
   "outputs": [
    {
     "data": {
      "text/html": [
       "<pre style=\"white-space:pre;overflow-x:auto;line-height:normal;font-family:Menlo,'DejaVu Sans Mono',consolas,'Courier New',monospace\">       ╭──────────────────────────────────────────────────────────────────────────────────────────────────╮        \n",
       "       │ <span style=\"color: #ff005f; text-decoration-color: #ff005f; font-weight: bold\">       DonorData(980 x n_donors=10,595,884, n_cells_per_donor=[1-583], donor_id = 'donor_id')   </span> │        \n",
       "       ╰──────────────────────────────────────────────────────────────────────────────────────────────────╯        \n",
       "┏━━━━━━━━━━━━━━━━━━━━━━━━━━━━━━━━━━━━━━━━━━━━━━━━━━━━┳━━━━━━━━━━━━━━━━━━━━━━━━━━━━━━━━━━━━━━━━━━━━━━━━━━━━┓\n",
       "┃<span style=\"color: #ff005f; text-decoration-color: #ff005f; font-weight: bold\"> G (donors)                                         </span>┃<span style=\"color: #ff005f; text-decoration-color: #ff005f; font-weight: bold\"> C (cells)                                          </span>┃\n",
       "┡━━━━━━━━━━━━━━━━━━━━━━━━━━━━━━━━━━━━━━━━━━━━━━━━━━━━╇━━━━━━━━━━━━━━━━━━━━━━━━━━━━━━━━━━━━━━━━━━━━━━━━━━━━┩\n",
       "│ AnnData object with n_obs × n_vars = 980 ×         │ AnnData object with n_obs × n_vars = 52,538 ×      │\n",
       "│ 10,595,884                                         │ 36,469                                             │\n",
       "│     var: 'chrom', 'pos', 'a0', 'a1', 'AC',         │     obs: 'orig.ident', 'nCount_RNA',               │\n",
       "│ 'AC_Hemi', 'AC_Het', 'AC_Hom', 'AF', 'AN', 'ER2',  │ 'nFeature_RNA', 'percent.mt', <span style=\"color: #ff005f; text-decoration-color: #ff005f; font-weight: bold\">'donor_id', </span>         │\n",
       "│ 'ExcHet', 'HWE', 'IMPUTED', 'maf', 'NS', 'R2',     │ 'pool_number', 'predicted.celltype.l2',            │\n",
       "│ 'TYPED', 'TYPED_ONLY', 'id', 'id_mask', 'length',  │ 'predicted.celltype.l2.score', 'age',              │\n",
       "│ 'quality', 'pos_hg19', 'id_hg19'                   │ 'organism_ontology_term_id',                       │\n",
       "│                                                    │ 'tissue_ontology_term_id',                         │\n",
       "│                                                    │ 'assay_ontology_term_id',                          │\n",
       "│                                                    │ 'disease_ontology_term_id',                        │\n",
       "│                                                    │ 'cell_type_ontology_term_id',                      │\n",
       "│                                                    │ 'self_reported_ethnicity_ontology_term_id',        │\n",
       "│                                                    │ 'development_stage_ontology_term_id',              │\n",
       "│                                                    │ 'sex_ontology_term_id', 'is_primary_data',         │\n",
       "│                                                    │ 'suspension_type', 'tissue_type', 'cell_type',     │\n",
       "│                                                    │ 'assay', 'disease', 'organism', 'sex', 'tissue',   │\n",
       "│                                                    │ 'self_reported_ethnicity', 'development_stage',    │\n",
       "│                                                    │ 'observation_joinid'                               │\n",
       "│     uns: 'kinship'                                 │     var: 'vst.mean', 'vst.variance',               │\n",
       "│                                                    │ 'vst.variance.expected',                           │\n",
       "│                                                    │ 'vst.variance.standardized', 'vst.variable',       │\n",
       "│                                                    │ 'feature_is_filtered', 'feature_name',             │\n",
       "│                                                    │ 'feature_reference', 'feature_biotype',            │\n",
       "│                                                    │ 'feature_length', 'feature_type', 'start', 'end',  │\n",
       "│                                                    │ 'chrom'                                            │\n",
       "│     obsm: 'gPCs', 'ePCs'                           │     uns: 'cell_type_ontology_term_id_colors',      │\n",
       "│                                                    │ 'citation', 'default_embedding',                   │\n",
       "│                                                    │ 'schema_reference', 'schema_version', 'title',     │\n",
       "│                                                    │ 'log1p'                                            │\n",
       "│     varm: 'filter'                                 │     obsm: 'X_azimuth_spca', 'X_azimuth_umap',      │\n",
       "│                                                    │ 'X_harmony', 'X_pca', 'X_umap'                     │\n",
       "│                                                    │     varm: 'PCs'                                    │\n",
       "└────────────────────────────────────────────────────┴────────────────────────────────────────────────────┘\n",
       "</pre>\n"
      ],
      "text/plain": [
       "       ╭──────────────────────────────────────────────────────────────────────────────────────────────────╮        \n",
       "       │ \u001b[1;38;5;197m       DonorData(980 x n_donors=10,595,884, n_cells_per_donor=[1-583], donor_id = 'donor_id')   \u001b[0m │        \n",
       "       ╰──────────────────────────────────────────────────────────────────────────────────────────────────╯        \n",
       "┏━━━━━━━━━━━━━━━━━━━━━━━━━━━━━━━━━━━━━━━━━━━━━━━━━━━━┳━━━━━━━━━━━━━━━━━━━━━━━━━━━━━━━━━━━━━━━━━━━━━━━━━━━━┓\n",
       "┃\u001b[1;38;5;197m \u001b[0m\u001b[1;38;5;197mG (donors)                                        \u001b[0m\u001b[1;38;5;197m \u001b[0m┃\u001b[1;38;5;197m \u001b[0m\u001b[1;38;5;197mC (cells)                                         \u001b[0m\u001b[1;38;5;197m \u001b[0m┃\n",
       "┡━━━━━━━━━━━━━━━━━━━━━━━━━━━━━━━━━━━━━━━━━━━━━━━━━━━━╇━━━━━━━━━━━━━━━━━━━━━━━━━━━━━━━━━━━━━━━━━━━━━━━━━━━━┩\n",
       "│ AnnData object with n_obs × n_vars = 980 ×         │ AnnData object with n_obs × n_vars = 52,538 ×      │\n",
       "│ 10,595,884                                         │ 36,469                                             │\n",
       "│     var: 'chrom', 'pos', 'a0', 'a1', 'AC',         │     obs: 'orig.ident', 'nCount_RNA',               │\n",
       "│ 'AC_Hemi', 'AC_Het', 'AC_Hom', 'AF', 'AN', 'ER2',  │ 'nFeature_RNA', 'percent.mt', \u001b[1;38;5;197m'donor_id', \u001b[0m         │\n",
       "│ 'ExcHet', 'HWE', 'IMPUTED', 'maf', 'NS', 'R2',     │ 'pool_number', 'predicted.celltype.l2',            │\n",
       "│ 'TYPED', 'TYPED_ONLY', 'id', 'id_mask', 'length',  │ 'predicted.celltype.l2.score', 'age',              │\n",
       "│ 'quality', 'pos_hg19', 'id_hg19'                   │ 'organism_ontology_term_id',                       │\n",
       "│                                                    │ 'tissue_ontology_term_id',                         │\n",
       "│                                                    │ 'assay_ontology_term_id',                          │\n",
       "│                                                    │ 'disease_ontology_term_id',                        │\n",
       "│                                                    │ 'cell_type_ontology_term_id',                      │\n",
       "│                                                    │ 'self_reported_ethnicity_ontology_term_id',        │\n",
       "│                                                    │ 'development_stage_ontology_term_id',              │\n",
       "│                                                    │ 'sex_ontology_term_id', 'is_primary_data',         │\n",
       "│                                                    │ 'suspension_type', 'tissue_type', 'cell_type',     │\n",
       "│                                                    │ 'assay', 'disease', 'organism', 'sex', 'tissue',   │\n",
       "│                                                    │ 'self_reported_ethnicity', 'development_stage',    │\n",
       "│                                                    │ 'observation_joinid'                               │\n",
       "│     uns: 'kinship'                                 │     var: 'vst.mean', 'vst.variance',               │\n",
       "│                                                    │ 'vst.variance.expected',                           │\n",
       "│                                                    │ 'vst.variance.standardized', 'vst.variable',       │\n",
       "│                                                    │ 'feature_is_filtered', 'feature_name',             │\n",
       "│                                                    │ 'feature_reference', 'feature_biotype',            │\n",
       "│                                                    │ 'feature_length', 'feature_type', 'start', 'end',  │\n",
       "│                                                    │ 'chrom'                                            │\n",
       "│     obsm: 'gPCs', 'ePCs'                           │     uns: 'cell_type_ontology_term_id_colors',      │\n",
       "│                                                    │ 'citation', 'default_embedding',                   │\n",
       "│                                                    │ 'schema_reference', 'schema_version', 'title',     │\n",
       "│                                                    │ 'log1p'                                            │\n",
       "│     varm: 'filter'                                 │     obsm: 'X_azimuth_spca', 'X_azimuth_umap',      │\n",
       "│                                                    │ 'X_harmony', 'X_pca', 'X_umap'                     │\n",
       "│                                                    │     varm: 'PCs'                                    │\n",
       "└────────────────────────────────────────────────────┴────────────────────────────────────────────────────┘\n"
      ]
     },
     "metadata": {},
     "output_type": "display_data"
    },
    {
     "data": {
      "text/plain": []
     },
     "metadata": {},
     "output_type": "display_data"
    }
   ],
   "source": [
    "dd = dd[..., dd.C.obs[celltype_key] == cell_type, :].copy()\n",
    "dd"
   ]
  },
  {
   "cell_type": "code",
   "execution_count": null,
   "metadata": {},
   "outputs": [
    {
     "data": {
      "text/plain": [
       "230"
      ]
     },
     "metadata": {},
     "output_type": "display_data"
    }
   ],
   "source": [
    "gc.collect()"
   ]
  },
  {
   "cell_type": "markdown",
   "metadata": {},
   "source": [
    "## Pseudobulk Aggregation and ePC Calculation\n",
    "\n",
    "We compute pseudobulk expression profiles by averaging expression across all cells from the same donor. From these profiles, we identify highly variable genes and compute expression PCs (ePCs), which will be used as covariates in the regression model to control for expression heterogeneity."
   ]
  },
  {
   "cell_type": "code",
   "execution_count": 9,
   "metadata": {},
   "outputs": [
    {
     "name": "stdout",
     "output_type": "stream",
     "text": [
      "[2025-02-10 19:00:16,399] INFO:cellink._core.donordata: Aggregated X to PB_CD8 NC\n",
      "[2025-02-10 19:00:16,400] INFO:cellink._core.donordata: Observation found for 981 donors.\n"
     ]
    },
    {
     "data": {
      "text/html": [
       "<pre style=\"white-space:pre;overflow-x:auto;line-height:normal;font-family:Menlo,'DejaVu Sans Mono',consolas,'Courier New',monospace\">       ╭──────────────────────────────────────────────────────────────────────────────────────────────────╮        \n",
       "       │ <span style=\"color: #ff005f; text-decoration-color: #ff005f; font-weight: bold\">        DonorData(981 x n_donors=143,083, n_cells_per_donor=[9-479], donor_id = 'donor_id')     </span> │        \n",
       "       ╰──────────────────────────────────────────────────────────────────────────────────────────────────╯        \n",
       "┏━━━━━━━━━━━━━━━━━━━━━━━━━━━━━━━━━━━━━━━━━━━━━━━━━━━━┳━━━━━━━━━━━━━━━━━━━━━━━━━━━━━━━━━━━━━━━━━━━━━━━━━━━━┓\n",
       "┃<span style=\"color: #ff005f; text-decoration-color: #ff005f; font-weight: bold\"> G (donors)                                         </span>┃<span style=\"color: #ff005f; text-decoration-color: #ff005f; font-weight: bold\"> C (cells)                                          </span>┃\n",
       "┡━━━━━━━━━━━━━━━━━━━━━━━━━━━━━━━━━━━━━━━━━━━━━━━━━━━━╇━━━━━━━━━━━━━━━━━━━━━━━━━━━━━━━━━━━━━━━━━━━━━━━━━━━━┩\n",
       "│ AnnData object with n_obs × n_vars = 981 × 143,083 │ AnnData object with n_obs × n_vars = 133,482 ×     │\n",
       "│                                                    │ 32,738                                             │\n",
       "│     obs: 'sex', 'age'                              │     obs: 'orig.ident', 'nCount_RNA',               │\n",
       "│                                                    │ 'nFeature_RNA', 'pool', 'individual',              │\n",
       "│                                                    │ 'percent.mt', 'latent', 'nCount_SCT',              │\n",
       "│                                                    │ 'nFeature_SCT', 'cell_type', 'cell_label', 'sex',  │\n",
       "│                                                    │ 'age', <span style=\"color: #ff005f; text-decoration-color: #ff005f; font-weight: bold\">'donor_id'</span>                                  │\n",
       "│     var: 'chrom', 'pos', 'a0', 'a1', 'AF', 'ER2',  │     var: 'GeneSymbol', 'features', 'start', 'end', │\n",
       "│ 'maf', 'R2', 'contig', 'id', 'id_mask', 'quality'  │ 'chrom', 'strand', 'description', 'wikigene_name', │\n",
       "│                                                    │ 'wikigene_id'                                      │\n",
       "│     obsm: 'ePCs', <span style=\"color: #ff005f; text-decoration-color: #ff005f; font-weight: bold\">'PB_CD8 NC'</span>                      │     uns: 'log1p'                                   │\n",
       "│     varm: 'filter'                                 │                                                    │\n",
       "└────────────────────────────────────────────────────┴────────────────────────────────────────────────────┘\n",
       "</pre>\n"
      ],
      "text/plain": [
       "       ╭──────────────────────────────────────────────────────────────────────────────────────────────────╮        \n",
       "       │ \u001b[1;38;5;197m        DonorData(981 x n_donors=143,083, n_cells_per_donor=[9-479], donor_id = 'donor_id')     \u001b[0m │        \n",
       "       ╰──────────────────────────────────────────────────────────────────────────────────────────────────╯        \n",
       "┏━━━━━━━━━━━━━━━━━━━━━━━━━━━━━━━━━━━━━━━━━━━━━━━━━━━━┳━━━━━━━━━━━━━━━━━━━━━━━━━━━━━━━━━━━━━━━━━━━━━━━━━━━━┓\n",
       "┃\u001b[1;38;5;197m \u001b[0m\u001b[1;38;5;197mG (donors)                                        \u001b[0m\u001b[1;38;5;197m \u001b[0m┃\u001b[1;38;5;197m \u001b[0m\u001b[1;38;5;197mC (cells)                                         \u001b[0m\u001b[1;38;5;197m \u001b[0m┃\n",
       "┡━━━━━━━━━━━━━━━━━━━━━━━━━━━━━━━━━━━━━━━━━━━━━━━━━━━━╇━━━━━━━━━━━━━━━━━━━━━━━━━━━━━━━━━━━━━━━━━━━━━━━━━━━━┩\n",
       "│ AnnData object with n_obs × n_vars = 981 × 143,083 │ AnnData object with n_obs × n_vars = 133,482 ×     │\n",
       "│                                                    │ 32,738                                             │\n",
       "│     obs: 'sex', 'age'                              │     obs: 'orig.ident', 'nCount_RNA',               │\n",
       "│                                                    │ 'nFeature_RNA', 'pool', 'individual',              │\n",
       "│                                                    │ 'percent.mt', 'latent', 'nCount_SCT',              │\n",
       "│                                                    │ 'nFeature_SCT', 'cell_type', 'cell_label', 'sex',  │\n",
       "│                                                    │ 'age', \u001b[1;38;5;197m'donor_id'\u001b[0m                                  │\n",
       "│     var: 'chrom', 'pos', 'a0', 'a1', 'AF', 'ER2',  │     var: 'GeneSymbol', 'features', 'start', 'end', │\n",
       "│ 'maf', 'R2', 'contig', 'id', 'id_mask', 'quality'  │ 'chrom', 'strand', 'description', 'wikigene_name', │\n",
       "│                                                    │ 'wikigene_id'                                      │\n",
       "│     obsm: 'ePCs', \u001b[1;38;5;197m'PB_CD8 NC'\u001b[0m                      │     uns: 'log1p'                                   │\n",
       "│     varm: 'filter'                                 │                                                    │\n",
       "└────────────────────────────────────────────────────┴────────────────────────────────────────────────────┘\n"
      ]
     },
     "metadata": {},
     "output_type": "display_data"
    },
    {
     "data": {
      "text/plain": []
     },
     "execution_count": 9,
     "metadata": {},
     "output_type": "execute_result"
    }
   ],
   "source": [
    "dd.aggregate(key_added=pb_gex_key, sync_var=True, verbose=True)\n",
    "dd.aggregate(obs=[\"sex\", \"age\"], func=\"first\", add_to_obs=True)\n",
    "dd"
   ]
  },
  {
   "cell_type": "markdown",
   "metadata": {},
   "source": [
    "## Filter Genes Based on Donor Expression Coverage\n",
    "\n",
    "To ensure statistical robustness, we exclude genes that are not expressed in at least 10% of donors. This prevents unreliable associations driven by low expression or sparse data."
   ]
  },
  {
   "cell_type": "code",
   "execution_count": 12,
   "metadata": {},
   "outputs": [
    {
     "name": "stdout",
     "output_type": "stream",
     "text": [
      "PB_CD8 NC shape: (981, 32738)\n",
      "dd.shape: (981, 143083, 133482, 32738)\n",
      "after filtering\n",
      "PB_CD8 NC shape: (981, 14119)\n",
      "dd.shape: (981, 143083, 133482, 14119)\n"
     ]
    }
   ],
   "source": [
    "print(f\"{pb_gex_key} shape:\", dd.G.obsm[pb_gex_key].shape)\n",
    "print(\"dd.shape:\", dd.shape)\n",
    "\n",
    "keep_genes = ((dd.G.obsm[pb_gex_key] > 0).mean(axis=0) >= min_percent_donors_expressed).values\n",
    "dd = dd[..., keep_genes]\n",
    "print(\"after filtering\")\n",
    "print(f\"{pb_gex_key} shape:\", dd.G.obsm[pb_gex_key].shape)\n",
    "print(\"dd.shape:\", dd.shape)"
   ]
  },
  {
   "cell_type": "markdown",
   "metadata": {},
   "source": [
    "## Prepare Covariate Matrix\n",
    "\n",
    "We construct a covariate matrix including sex, age, genotype PCs (gPCs), and expression PCs (ePCs). These help control for confounding effects in the association analysis. Covariates are normalized before being used in the regression model."
   ]
  },
  {
   "cell_type": "code",
   "execution_count": 13,
   "metadata": {},
   "outputs": [],
   "source": [
    "F = np.concatenate(\n",
    "    [\n",
    "        np.ones((dd.shape[0], 1)),\n",
    "        dd.G.obs[[\"sex\"]].values - 1,\n",
    "        dd.G.obs[[\"age\"]].values,\n",
    "        dd.G.obsm[\"gPCs\"].values,\n",
    "        dd.G.obsm[\"ePCs\"],\n",
    "    ],\n",
    "    axis=1,\n",
    ")\n",
    "F[:, 2:] = column_normalize(F[:, 2:])"
   ]
  },
  {
   "cell_type": "markdown",
   "metadata": {},
   "source": [
    "## Run cis-eQTL Mapping\n",
    "\n",
    "We perform linear regression for each gene against all SNPs within a ±500kb cis-window. For each gene, we retain the top associated SNP and record statistics such as p-value, beta, and likelihood ratio test (LRT) values."
   ]
  },
  {
   "cell_type": "code",
   "execution_count": 14,
   "metadata": {},
   "outputs": [
    {
     "data": {
      "text/html": [
       "<pre style=\"white-space:pre;overflow-x:auto;line-height:normal;font-family:Menlo,'DejaVu Sans Mono',consolas,'Courier New',monospace\">       ╭──────────────────────────────────────────────────────────────────────────────────────────────────╮        \n",
       "       │ <span style=\"color: #ff005f; text-decoration-color: #ff005f; font-weight: bold\">        DonorData(981 x n_donors=143,083, n_cells_per_donor=[9-479], donor_id = 'donor_id')     </span> │        \n",
       "       ╰──────────────────────────────────────────────────────────────────────────────────────────────────╯        \n",
       "┏━━━━━━━━━━━━━━━━━━━━━━━━━━━━━━━━━━━━━━━━━━━━━━━━━━━━┳━━━━━━━━━━━━━━━━━━━━━━━━━━━━━━━━━━━━━━━━━━━━━━━━━━━━┓\n",
       "┃<span style=\"color: #ff005f; text-decoration-color: #ff005f; font-weight: bold\"> G (donors)                                         </span>┃<span style=\"color: #ff005f; text-decoration-color: #ff005f; font-weight: bold\"> C (cells)                                          </span>┃\n",
       "┡━━━━━━━━━━━━━━━━━━━━━━━━━━━━━━━━━━━━━━━━━━━━━━━━━━━━╇━━━━━━━━━━━━━━━━━━━━━━━━━━━━━━━━━━━━━━━━━━━━━━━━━━━━┩\n",
       "│ AnnData object with n_obs × n_vars = 981 × 143,083 │ AnnData object with n_obs × n_vars = 133,482 × 360 │\n",
       "│     obs: 'sex', 'age'                              │     obs: 'orig.ident', 'nCount_RNA',               │\n",
       "│                                                    │ 'nFeature_RNA', 'pool', 'individual',              │\n",
       "│                                                    │ 'percent.mt', 'latent', 'nCount_SCT',              │\n",
       "│                                                    │ 'nFeature_SCT', 'cell_type', 'cell_label', 'sex',  │\n",
       "│                                                    │ 'age', <span style=\"color: #ff005f; text-decoration-color: #ff005f; font-weight: bold\">'donor_id'</span>                                  │\n",
       "│     var: 'chrom', 'pos', 'a0', 'a1', 'AF', 'ER2',  │     var: 'GeneSymbol', 'features', 'start', 'end', │\n",
       "│ 'maf', 'R2', 'contig', 'id', 'id_mask', 'quality'  │ 'chrom', 'strand', 'description', 'wikigene_name', │\n",
       "│                                                    │ 'wikigene_id'                                      │\n",
       "│     obsm: 'ePCs', <span style=\"color: #ff005f; text-decoration-color: #ff005f; font-weight: bold\">'PB_CD8 NC', </span>'gPCs'              │     uns: 'log1p'                                   │\n",
       "│     varm: 'filter'                                 │                                                    │\n",
       "└────────────────────────────────────────────────────┴────────────────────────────────────────────────────┘\n",
       "</pre>\n"
      ],
      "text/plain": [
       "       ╭──────────────────────────────────────────────────────────────────────────────────────────────────╮        \n",
       "       │ \u001b[1;38;5;197m        DonorData(981 x n_donors=143,083, n_cells_per_donor=[9-479], donor_id = 'donor_id')     \u001b[0m │        \n",
       "       ╰──────────────────────────────────────────────────────────────────────────────────────────────────╯        \n",
       "┏━━━━━━━━━━━━━━━━━━━━━━━━━━━━━━━━━━━━━━━━━━━━━━━━━━━━┳━━━━━━━━━━━━━━━━━━━━━━━━━━━━━━━━━━━━━━━━━━━━━━━━━━━━┓\n",
       "┃\u001b[1;38;5;197m \u001b[0m\u001b[1;38;5;197mG (donors)                                        \u001b[0m\u001b[1;38;5;197m \u001b[0m┃\u001b[1;38;5;197m \u001b[0m\u001b[1;38;5;197mC (cells)                                         \u001b[0m\u001b[1;38;5;197m \u001b[0m┃\n",
       "┡━━━━━━━━━━━━━━━━━━━━━━━━━━━━━━━━━━━━━━━━━━━━━━━━━━━━╇━━━━━━━━━━━━━━━━━━━━━━━━━━━━━━━━━━━━━━━━━━━━━━━━━━━━┩\n",
       "│ AnnData object with n_obs × n_vars = 981 × 143,083 │ AnnData object with n_obs × n_vars = 133,482 × 360 │\n",
       "│     obs: 'sex', 'age'                              │     obs: 'orig.ident', 'nCount_RNA',               │\n",
       "│                                                    │ 'nFeature_RNA', 'pool', 'individual',              │\n",
       "│                                                    │ 'percent.mt', 'latent', 'nCount_SCT',              │\n",
       "│                                                    │ 'nFeature_SCT', 'cell_type', 'cell_label', 'sex',  │\n",
       "│                                                    │ 'age', \u001b[1;38;5;197m'donor_id'\u001b[0m                                  │\n",
       "│     var: 'chrom', 'pos', 'a0', 'a1', 'AF', 'ER2',  │     var: 'GeneSymbol', 'features', 'start', 'end', │\n",
       "│ 'maf', 'R2', 'contig', 'id', 'id_mask', 'quality'  │ 'chrom', 'strand', 'description', 'wikigene_name', │\n",
       "│                                                    │ 'wikigene_id'                                      │\n",
       "│     obsm: 'ePCs', \u001b[1;38;5;197m'PB_CD8 NC', \u001b[0m'gPCs'              │     uns: 'log1p'                                   │\n",
       "│     varm: 'filter'                                 │                                                    │\n",
       "└────────────────────────────────────────────────────┴────────────────────────────────────────────────────┘\n"
      ]
     },
     "metadata": {},
     "output_type": "display_data"
    },
    {
     "data": {
      "text/plain": []
     },
     "execution_count": 14,
     "metadata": {},
     "output_type": "execute_result"
    }
   ],
   "source": [
    "# alternative to dd[:, dd.G.var.chrom == str(chrom), :, dd.C.var.chrom == str(chrom)]\n",
    "dd = dd.sel(G_var=dd.G.var.chrom == str(chrom), C_var=dd.C.var.chrom == str(chrom)).copy()\n",
    "dd"
   ]
  },
  {
   "cell_type": "code",
   "execution_count": 15,
   "metadata": {},
   "outputs": [
    {
     "data": {
      "application/vnd.jupyter.widget-view+json": {
       "model_id": "26a93278727d4e43bc6b833f2f6bfa5d",
       "version_major": 2,
       "version_minor": 0
      },
      "text/plain": [
       "  0%|          | 0/360 [00:00<?, ?it/s]"
      ]
     },
     "metadata": {},
     "output_type": "display_data"
    },
    {
     "data": {
      "text/html": [
       "<div>\n",
       "<style scoped>\n",
       "    .dataframe tbody tr th:only-of-type {\n",
       "        vertical-align: middle;\n",
       "    }\n",
       "\n",
       "    .dataframe tbody tr th {\n",
       "        vertical-align: top;\n",
       "    }\n",
       "\n",
       "    .dataframe thead th {\n",
       "        text-align: right;\n",
       "    }\n",
       "</style>\n",
       "<table border=\"1\" class=\"dataframe\">\n",
       "  <thead>\n",
       "    <tr style=\"text-align: right;\">\n",
       "      <th></th>\n",
       "      <th>snp</th>\n",
       "      <th>egene</th>\n",
       "      <th>n_cis_snps</th>\n",
       "      <th>pv</th>\n",
       "      <th>beta</th>\n",
       "      <th>betaste</th>\n",
       "      <th>lrt</th>\n",
       "    </tr>\n",
       "  </thead>\n",
       "  <tbody>\n",
       "    <tr>\n",
       "      <th>0</th>\n",
       "      <td>22_17476696_T_C</td>\n",
       "      <td>ENSG00000100181</td>\n",
       "      <td>1688</td>\n",
       "      <td>2.071223e-03</td>\n",
       "      <td>-0.349170</td>\n",
       "      <td>0.113373</td>\n",
       "      <td>9.485322</td>\n",
       "    </tr>\n",
       "    <tr>\n",
       "      <th>1</th>\n",
       "      <td>22_17739317_G_A</td>\n",
       "      <td>ENSG00000237438</td>\n",
       "      <td>2939</td>\n",
       "      <td>4.633734e-06</td>\n",
       "      <td>-0.937499</td>\n",
       "      <td>0.204662</td>\n",
       "      <td>20.983014</td>\n",
       "    </tr>\n",
       "    <tr>\n",
       "      <th>2</th>\n",
       "      <td>22_17732851_A_G</td>\n",
       "      <td>ENSG00000177663</td>\n",
       "      <td>3188</td>\n",
       "      <td>5.967313e-04</td>\n",
       "      <td>0.312597</td>\n",
       "      <td>0.091054</td>\n",
       "      <td>11.786146</td>\n",
       "    </tr>\n",
       "    <tr>\n",
       "      <th>3</th>\n",
       "      <td>22_17986900_G_A</td>\n",
       "      <td>ENSG00000069998</td>\n",
       "      <td>3378</td>\n",
       "      <td>3.983074e-04</td>\n",
       "      <td>1.301109</td>\n",
       "      <td>0.367420</td>\n",
       "      <td>12.540117</td>\n",
       "    </tr>\n",
       "    <tr>\n",
       "      <th>4</th>\n",
       "      <td>22_17206294_C_A</td>\n",
       "      <td>ENSG00000185837</td>\n",
       "      <td>3376</td>\n",
       "      <td>1.363376e-03</td>\n",
       "      <td>0.155577</td>\n",
       "      <td>0.048583</td>\n",
       "      <td>10.254690</td>\n",
       "    </tr>\n",
       "    <tr>\n",
       "      <th>...</th>\n",
       "      <td>...</td>\n",
       "      <td>...</td>\n",
       "      <td>...</td>\n",
       "      <td>...</td>\n",
       "      <td>...</td>\n",
       "      <td>...</td>\n",
       "      <td>...</td>\n",
       "    </tr>\n",
       "    <tr>\n",
       "      <th>355</th>\n",
       "      <td>22_51100218_C_T</td>\n",
       "      <td>ENSG00000205560</td>\n",
       "      <td>3415</td>\n",
       "      <td>1.832598e-03</td>\n",
       "      <td>-0.384827</td>\n",
       "      <td>0.123496</td>\n",
       "      <td>9.710082</td>\n",
       "    </tr>\n",
       "    <tr>\n",
       "      <th>356</th>\n",
       "      <td>22_51017082_T_A</td>\n",
       "      <td>ENSG00000100288</td>\n",
       "      <td>3337</td>\n",
       "      <td>2.352505e-04</td>\n",
       "      <td>-0.170751</td>\n",
       "      <td>0.046427</td>\n",
       "      <td>13.526244</td>\n",
       "    </tr>\n",
       "    <tr>\n",
       "      <th>357</th>\n",
       "      <td>22_51023924_C_T</td>\n",
       "      <td>ENSG00000205559</td>\n",
       "      <td>3317</td>\n",
       "      <td>9.775330e-05</td>\n",
       "      <td>0.355925</td>\n",
       "      <td>0.091354</td>\n",
       "      <td>15.179609</td>\n",
       "    </tr>\n",
       "    <tr>\n",
       "      <th>358</th>\n",
       "      <td>22_51064416_T_C</td>\n",
       "      <td>ENSG00000100299</td>\n",
       "      <td>3068</td>\n",
       "      <td>6.481592e-13</td>\n",
       "      <td>-0.489005</td>\n",
       "      <td>0.068012</td>\n",
       "      <td>51.695355</td>\n",
       "    </tr>\n",
       "    <tr>\n",
       "      <th>359</th>\n",
       "      <td>22_51146473_A_G</td>\n",
       "      <td>ENSG00000079974</td>\n",
       "      <td>2246</td>\n",
       "      <td>2.245280e-04</td>\n",
       "      <td>-1.307555</td>\n",
       "      <td>0.354381</td>\n",
       "      <td>13.613808</td>\n",
       "    </tr>\n",
       "  </tbody>\n",
       "</table>\n",
       "<p>360 rows × 7 columns</p>\n",
       "</div>"
      ],
      "text/plain": [
       "                 snp            egene  n_cis_snps            pv      beta  \\\n",
       "0    22_17476696_T_C  ENSG00000100181        1688  2.071223e-03 -0.349170   \n",
       "1    22_17739317_G_A  ENSG00000237438        2939  4.633734e-06 -0.937499   \n",
       "2    22_17732851_A_G  ENSG00000177663        3188  5.967313e-04  0.312597   \n",
       "3    22_17986900_G_A  ENSG00000069998        3378  3.983074e-04  1.301109   \n",
       "4    22_17206294_C_A  ENSG00000185837        3376  1.363376e-03  0.155577   \n",
       "..               ...              ...         ...           ...       ...   \n",
       "355  22_51100218_C_T  ENSG00000205560        3415  1.832598e-03 -0.384827   \n",
       "356  22_51017082_T_A  ENSG00000100288        3337  2.352505e-04 -0.170751   \n",
       "357  22_51023924_C_T  ENSG00000205559        3317  9.775330e-05  0.355925   \n",
       "358  22_51064416_T_C  ENSG00000100299        3068  6.481592e-13 -0.489005   \n",
       "359  22_51146473_A_G  ENSG00000079974        2246  2.245280e-04 -1.307555   \n",
       "\n",
       "      betaste        lrt  \n",
       "0    0.113373   9.485322  \n",
       "1    0.204662  20.983014  \n",
       "2    0.091054  11.786146  \n",
       "3    0.367420  12.540117  \n",
       "4    0.048583  10.254690  \n",
       "..        ...        ...  \n",
       "355  0.123496   9.710082  \n",
       "356  0.046427  13.526244  \n",
       "357  0.091354  15.179609  \n",
       "358  0.068012  51.695355  \n",
       "359  0.354381  13.613808  \n",
       "\n",
       "[360 rows x 7 columns]"
      ]
     },
     "execution_count": 15,
     "metadata": {},
     "output_type": "execute_result"
    }
   ],
   "source": [
    "results = []\n",
    "if isinstance(dd.G.X, da.Array | ad._core.views.DaskArrayView):\n",
    "    if dd.G.is_view:\n",
    "        dd._G = dd._G.copy()  # TODO: discuss with SWEs\n",
    "    dd.G.X = dd.G.X.compute()\n",
    "\n",
    "if do_debug:\n",
    "    warnings.filterwarnings(\"ignore\", category=RuntimeWarning)\n",
    "\n",
    "for gene, row in tqdm(dd.C.var.iterrows(), total=dd.shape[3]):\n",
    "    Y = gaussianize(dd.G.obsm[pb_gex_key][[gene]].values + 1e-5 * np.random.randn(dd.shape[0], 1))\n",
    "\n",
    "    start = max(0, row.start - cis_window)\n",
    "    end = row.end + cis_window\n",
    "    _G = dd.G[:, (dd.G.var.pos < end)]\n",
    "    _G = _G[:, (_G.var.pos > start)]\n",
    "    _G = _G[:, (_G.X.std(0) != 0)]\n",
    "    G = _G.X\n",
    "\n",
    "    gwas = GWAS(Y, F)\n",
    "    gwas.process(G)\n",
    "\n",
    "    snp_idx = gwas.getPv().argmin()\n",
    "\n",
    "    def _get_top_snp(arr, snp_idx=snp_idx):\n",
    "        return arr.ravel()[snp_idx].item()\n",
    "\n",
    "    rdict = {\n",
    "        \"snp\": _G.var.iloc[snp_idx].name,\n",
    "        \"egene\": gene,\n",
    "        \"n_cis_snps\": G.shape[1],\n",
    "        \"pv\": _get_top_snp(gwas.getPv()),\n",
    "        \"beta\": _get_top_snp(gwas.getBetaSNP()),\n",
    "        \"betaste\": _get_top_snp(gwas.getBetaSNPste()),\n",
    "        \"lrt\": _get_top_snp(gwas.getLRT()),\n",
    "    }\n",
    "    results.append(rdict)\n",
    "\n",
    "rdf = pd.DataFrame(results)\n",
    "rdf"
   ]
  },
  {
   "cell_type": "markdown",
   "metadata": {},
   "source": [
    "## Collect and Adjust Results\n",
    "\n",
    "We collect all results into a DataFrame and perform multiple testing correction. The Benjamini-Hochberg FDR (`qv`) is computed to identify statistically significant gene-SNP pairs.\n",
    "\n",
    "We then count the number of genes with significant associations (FDR < 0.05)."
   ]
  },
  {
   "cell_type": "code",
   "execution_count": 16,
   "metadata": {},
   "outputs": [
    {
     "data": {
      "text/plain": [
       "46"
      ]
     },
     "execution_count": 16,
     "metadata": {},
     "output_type": "execute_result"
    }
   ],
   "source": [
    "rdf[\"pv_adj\"] = np.clip(rdf[\"pv\"] * rdf[\"n_cis_snps\"], 0, 1)  # gene-wise Bonferroni\n",
    "rdf[\"qv\"] = fdrcorrection(rdf[\"pv_adj\"])[1]\n",
    "\n",
    "(rdf.qv < 0.05).sum()"
   ]
  }
 ],
 "metadata": {
  "kernelspec": {
   "display_name": "scgeno",
   "language": "python",
   "name": "python3"
  },
  "language_info": {
   "codemirror_mode": {
    "name": "ipython",
    "version": 3
   },
   "file_extension": ".py",
   "mimetype": "text/x-python",
   "name": "python",
   "nbconvert_exporter": "python",
   "pygments_lexer": "ipython3",
   "version": "3.10.15"
  }
 },
 "nbformat": 4,
 "nbformat_minor": 2
}
