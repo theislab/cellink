{
 "cells": [
  {
   "cell_type": "markdown",
   "metadata": {},
   "source": [
    "# Pseudobulk eQTL Analysis"
   ]
  },
  {
   "cell_type": "code",
   "execution_count": 1,
   "metadata": {},
   "outputs": [],
   "source": [
    "import gc\n",
    "import warnings\n",
    "from pathlib import Path\n",
    "\n",
    "import anndata as ad\n",
    "\n",
    "with warnings.catch_warnings():\n",
    "    warnings.simplefilter(\"ignore\", category=FutureWarning)\n",
    "    import scanpy as sc\n",
    "\n",
    "import dask.array as da\n",
    "import numpy as np\n",
    "import pandas as pd\n",
    "from statsmodels.stats.multitest import fdrcorrection\n",
    "from tqdm.auto import tqdm\n",
    "\n",
    "import cellink as cl\n",
    "from cellink._core import DAnn, GAnn\n",
    "from cellink.tl.gwas import GWAS\n",
    "from cellink.utils import column_normalize, gaussianize"
   ]
  },
  {
   "cell_type": "code",
   "execution_count": 2,
   "metadata": {},
   "outputs": [],
   "source": [
    "DATA = Path(cl.__file__).parent.parent.parent / \"data\"\n",
    "\n",
    "gpc_path = DATA / \"OneK1K_imputation_post_qc_r2_08/pcdir/wgs.dose.filtered.R2_0.8.filtered.pruned.eigenvec\"\n",
    "adata_path = DATA / \"OneK1K_cohort_gene_expression_matrix_14_celltypes.h5ad.gz\"\n",
    "gdata_path = DATA / \"OneK1K_imputation_post_qc_r2_08/filter_zarr_r08/chr22.dose.filtered.R2_0.8.vcz\""
   ]
  },
  {
   "cell_type": "code",
   "execution_count": 3,
   "metadata": {},
   "outputs": [],
   "source": [
    "n_gpcs = 20\n",
    "n_epcs = 15\n",
    "batch_e_pcs_n_top_genes = 2000\n",
    "chrom = 22\n",
    "cis_window = 500_000\n",
    "cell_type = \"CD4 ET\"\n",
    "pb_gex_key = f\"PB_{cell_type}\"  # pseudobulk expression in dd.G.obsm[key_added]\n",
    "original_donor_col = \"individual\"\n",
    "min_percent_donors_expressed = 0.1\n",
    "celltype_key = \"cell_label\"\n",
    "do_debug = True"
   ]
  },
  {
   "cell_type": "code",
   "execution_count": 4,
   "metadata": {},
   "outputs": [
    {
     "data": {
      "text/plain": [
       "AnnData object with n_obs × n_vars = 25908 × 32738\n",
       "    obs: 'orig.ident', 'nCount_RNA', 'nFeature_RNA', 'pool', 'individual', 'percent.mt', 'latent', 'nCount_SCT', 'nFeature_SCT', 'cell_type', 'cell_label', 'sex', 'age', 'donor_id'\n",
       "    var: 'GeneSymbol', 'features', 'start', 'end', 'chrom', 'strand', 'description', 'wikigene_name', 'wikigene_id'"
      ]
     },
     "execution_count": 4,
     "metadata": {},
     "output_type": "execute_result"
    }
   ],
   "source": [
    "if do_debug:\n",
    "    adata_path = DATA / \"debug_OneK1K_cohort_gene_expression_matrix_14_celltypes.h5ad\"\n",
    "\n",
    "adata = ad.read_h5ad(adata_path)\n",
    "gdata = cl.io.read_sgkit_zarr(gdata_path)\n",
    "\n",
    "gene_ann = pd.read_csv(DATA / \"gene_annotation.csv\").set_index(\"ensembl_gene_id\")\n",
    "adata.var = pd.concat([adata.var, gene_ann.loc[adata.var.index]], axis=1).rename(\n",
    "    columns={\n",
    "        \"start_position\": GAnn.start,\n",
    "        \"end_position\": GAnn.end,\n",
    "        \"chromosome_name\": GAnn.chrom,\n",
    "    }\n",
    ")\n",
    "adata.obs[DAnn.donor] = adata.obs[original_donor_col]\n",
    "adata"
   ]
  },
  {
   "cell_type": "code",
   "execution_count": 5,
   "metadata": {},
   "outputs": [],
   "source": [
    "sc.pp.normalize_total(adata)\n",
    "sc.pp.log1p(adata)\n",
    "sc.pp.normalize_total(adata)\n",
    "\n",
    "mdata = sc.get.aggregate(adata, by=DAnn.donor, func=\"mean\")\n",
    "mdata.X = mdata.layers.pop(\"mean\")\n",
    "\n",
    "sc.pp.highly_variable_genes(mdata, n_top_genes=batch_e_pcs_n_top_genes)\n",
    "sc.tl.pca(mdata, n_comps=n_epcs)"
   ]
  },
  {
   "cell_type": "code",
   "execution_count": 6,
   "metadata": {},
   "outputs": [
    {
     "data": {
      "text/plain": [
       "AnnData object with n_obs × n_vars = 20 × 32738\n",
       "    obs: 'donor_id'\n",
       "    var: 'GeneSymbol', 'features', 'start', 'end', 'chrom', 'strand', 'description', 'wikigene_name', 'wikigene_id', 'highly_variable', 'means', 'dispersions', 'dispersions_norm'\n",
       "    uns: 'hvg', 'pca'\n",
       "    obsm: 'X_pca'\n",
       "    varm: 'PCs'"
      ]
     },
     "execution_count": 6,
     "metadata": {},
     "output_type": "execute_result"
    }
   ],
   "source": [
    "mdata"
   ]
  },
  {
   "cell_type": "code",
   "execution_count": 7,
   "metadata": {},
   "outputs": [
    {
     "data": {
      "text/plain": [
       "338"
      ]
     },
     "execution_count": 7,
     "metadata": {},
     "output_type": "execute_result"
    }
   ],
   "source": [
    "adata = adata[adata.obs[celltype_key] == cell_type].copy()\n",
    "gc.collect()"
   ]
  },
  {
   "cell_type": "code",
   "execution_count": 8,
   "metadata": {},
   "outputs": [
    {
     "data": {
      "text/html": [
       "<pre style=\"white-space:pre;overflow-x:auto;line-height:normal;font-family:Menlo,'DejaVu Sans Mono',consolas,'Courier New',monospace\">┏━━━━━━━━━━━━━━━━━━━━━━━━━━━━━━━━━━━━━━━━━━━━━━━━━━━━┳━━━━━━━━━━━━━━━━━━━━━━━━━━━━━━━━━━━━━━━━━━━━━━━━━━━━┓\n",
       "┃<span style=\"color: #ff005f; text-decoration-color: #ff005f; font-weight: bold\"> G (donors)                                         </span>┃<span style=\"color: #ff005f; text-decoration-color: #ff005f; font-weight: bold\"> C (cells)                                          </span>┃\n",
       "┡━━━━━━━━━━━━━━━━━━━━━━━━━━━━━━━━━━━━━━━━━━━━━━━━━━━━╇━━━━━━━━━━━━━━━━━━━━━━━━━━━━━━━━━━━━━━━━━━━━━━━━━━━━┩\n",
       "│ AnnData object with n_obs × n_vars = 20 × 143,083  │ AnnData object with n_obs × n_vars = 1,332 ×       │\n",
       "│                                                    │ 32,738                                             │\n",
       "│     var: 'chrom', 'pos', 'a0', 'a1', 'AF', 'ER2',  │     obs: 'orig.ident', 'nCount_RNA',               │\n",
       "│ 'maf', 'R2', 'contig', 'id', 'id_mask', 'quality'  │ 'nFeature_RNA', 'pool', 'individual',              │\n",
       "│                                                    │ 'percent.mt', 'latent', 'nCount_SCT',              │\n",
       "│                                                    │ 'nFeature_SCT', 'cell_type', 'cell_label', 'sex',  │\n",
       "│                                                    │ 'age', <span style=\"color: #ff005f; text-decoration-color: #ff005f; font-weight: bold\">'donor_id'</span>                                  │\n",
       "│     varm: 'filter'                                 │     var: 'GeneSymbol', 'features', 'start', 'end', │\n",
       "│                                                    │ 'chrom', 'strand', 'description', 'wikigene_name', │\n",
       "│                                                    │ 'wikigene_id'                                      │\n",
       "│                                                    │     uns: 'log1p'                                   │\n",
       "└────────────────────────────────────────────────────┴────────────────────────────────────────────────────┘\n",
       "</pre>\n"
      ],
      "text/plain": [
       "┏━━━━━━━━━━━━━━━━━━━━━━━━━━━━━━━━━━━━━━━━━━━━━━━━━━━━┳━━━━━━━━━━━━━━━━━━━━━━━━━━━━━━━━━━━━━━━━━━━━━━━━━━━━┓\n",
       "┃\u001b[1;38;5;197m \u001b[0m\u001b[1;38;5;197mG (donors)                                        \u001b[0m\u001b[1;38;5;197m \u001b[0m┃\u001b[1;38;5;197m \u001b[0m\u001b[1;38;5;197mC (cells)                                         \u001b[0m\u001b[1;38;5;197m \u001b[0m┃\n",
       "┡━━━━━━━━━━━━━━━━━━━━━━━━━━━━━━━━━━━━━━━━━━━━━━━━━━━━╇━━━━━━━━━━━━━━━━━━━━━━━━━━━━━━━━━━━━━━━━━━━━━━━━━━━━┩\n",
       "│ AnnData object with n_obs × n_vars = 20 × 143,083  │ AnnData object with n_obs × n_vars = 1,332 ×       │\n",
       "│                                                    │ 32,738                                             │\n",
       "│     var: 'chrom', 'pos', 'a0', 'a1', 'AF', 'ER2',  │     obs: 'orig.ident', 'nCount_RNA',               │\n",
       "│ 'maf', 'R2', 'contig', 'id', 'id_mask', 'quality'  │ 'nFeature_RNA', 'pool', 'individual',              │\n",
       "│                                                    │ 'percent.mt', 'latent', 'nCount_SCT',              │\n",
       "│                                                    │ 'nFeature_SCT', 'cell_type', 'cell_label', 'sex',  │\n",
       "│                                                    │ 'age', \u001b[1;38;5;197m'donor_id'\u001b[0m                                  │\n",
       "│     varm: 'filter'                                 │     var: 'GeneSymbol', 'features', 'start', 'end', │\n",
       "│                                                    │ 'chrom', 'strand', 'description', 'wikigene_name', │\n",
       "│                                                    │ 'wikigene_id'                                      │\n",
       "│                                                    │     uns: 'log1p'                                   │\n",
       "└────────────────────────────────────────────────────┴────────────────────────────────────────────────────┘\n"
      ]
     },
     "metadata": {},
     "output_type": "display_data"
    },
    {
     "data": {
      "text/plain": []
     },
     "execution_count": 8,
     "metadata": {},
     "output_type": "execute_result"
    }
   ],
   "source": [
    "dd = cl.DonorData(G=gdata, C=adata).copy()\n",
    "dd"
   ]
  },
  {
   "cell_type": "code",
   "execution_count": 9,
   "metadata": {},
   "outputs": [
    {
     "data": {
      "text/html": [
       "<pre style=\"white-space:pre;overflow-x:auto;line-height:normal;font-family:Menlo,'DejaVu Sans Mono',consolas,'Courier New',monospace\">┏━━━━━━━━━━━━━━━━━━━━━━━━━━━━━━━━━━━━━━━━━━━━━━━━━━━━┳━━━━━━━━━━━━━━━━━━━━━━━━━━━━━━━━━━━━━━━━━━━━━━━━━━━━┓\n",
       "┃<span style=\"color: #ff005f; text-decoration-color: #ff005f; font-weight: bold\"> G (donors)                                         </span>┃<span style=\"color: #ff005f; text-decoration-color: #ff005f; font-weight: bold\"> C (cells)                                          </span>┃\n",
       "┡━━━━━━━━━━━━━━━━━━━━━━━━━━━━━━━━━━━━━━━━━━━━━━━━━━━━╇━━━━━━━━━━━━━━━━━━━━━━━━━━━━━━━━━━━━━━━━━━━━━━━━━━━━┩\n",
       "│ AnnData object with n_obs × n_vars = 20 × 143,083  │ AnnData object with n_obs × n_vars = 1,332 ×       │\n",
       "│                                                    │ 32,738                                             │\n",
       "│     obs: 'sex', 'age'                              │     obs: 'orig.ident', 'nCount_RNA',               │\n",
       "│                                                    │ 'nFeature_RNA', 'pool', 'individual',              │\n",
       "│                                                    │ 'percent.mt', 'latent', 'nCount_SCT',              │\n",
       "│                                                    │ 'nFeature_SCT', 'cell_type', 'cell_label', 'sex',  │\n",
       "│                                                    │ 'age', <span style=\"color: #ff005f; text-decoration-color: #ff005f; font-weight: bold\">'donor_id'</span>                                  │\n",
       "│     var: 'chrom', 'pos', 'a0', 'a1', 'AF', 'ER2',  │     var: 'GeneSymbol', 'features', 'start', 'end', │\n",
       "│ 'maf', 'R2', 'contig', 'id', 'id_mask', 'quality'  │ 'chrom', 'strand', 'description', 'wikigene_name', │\n",
       "│                                                    │ 'wikigene_id'                                      │\n",
       "│     obsm: <span style=\"color: #ff005f; text-decoration-color: #ff005f; font-weight: bold\">'PB_CD4 ET'</span>                              │     uns: 'log1p'                                   │\n",
       "│     varm: 'filter'                                 │                                                    │\n",
       "└────────────────────────────────────────────────────┴────────────────────────────────────────────────────┘\n",
       "</pre>\n"
      ],
      "text/plain": [
       "┏━━━━━━━━━━━━━━━━━━━━━━━━━━━━━━━━━━━━━━━━━━━━━━━━━━━━┳━━━━━━━━━━━━━━━━━━━━━━━━━━━━━━━━━━━━━━━━━━━━━━━━━━━━┓\n",
       "┃\u001b[1;38;5;197m \u001b[0m\u001b[1;38;5;197mG (donors)                                        \u001b[0m\u001b[1;38;5;197m \u001b[0m┃\u001b[1;38;5;197m \u001b[0m\u001b[1;38;5;197mC (cells)                                         \u001b[0m\u001b[1;38;5;197m \u001b[0m┃\n",
       "┡━━━━━━━━━━━━━━━━━━━━━━━━━━━━━━━━━━━━━━━━━━━━━━━━━━━━╇━━━━━━━━━━━━━━━━━━━━━━━━━━━━━━━━━━━━━━━━━━━━━━━━━━━━┩\n",
       "│ AnnData object with n_obs × n_vars = 20 × 143,083  │ AnnData object with n_obs × n_vars = 1,332 ×       │\n",
       "│                                                    │ 32,738                                             │\n",
       "│     obs: 'sex', 'age'                              │     obs: 'orig.ident', 'nCount_RNA',               │\n",
       "│                                                    │ 'nFeature_RNA', 'pool', 'individual',              │\n",
       "│                                                    │ 'percent.mt', 'latent', 'nCount_SCT',              │\n",
       "│                                                    │ 'nFeature_SCT', 'cell_type', 'cell_label', 'sex',  │\n",
       "│                                                    │ 'age', \u001b[1;38;5;197m'donor_id'\u001b[0m                                  │\n",
       "│     var: 'chrom', 'pos', 'a0', 'a1', 'AF', 'ER2',  │     var: 'GeneSymbol', 'features', 'start', 'end', │\n",
       "│ 'maf', 'R2', 'contig', 'id', 'id_mask', 'quality'  │ 'chrom', 'strand', 'description', 'wikigene_name', │\n",
       "│                                                    │ 'wikigene_id'                                      │\n",
       "│     obsm: \u001b[1;38;5;197m'PB_CD4 ET'\u001b[0m                              │     uns: 'log1p'                                   │\n",
       "│     varm: 'filter'                                 │                                                    │\n",
       "└────────────────────────────────────────────────────┴────────────────────────────────────────────────────┘\n"
      ]
     },
     "metadata": {},
     "output_type": "display_data"
    },
    {
     "data": {
      "text/plain": []
     },
     "execution_count": 9,
     "metadata": {},
     "output_type": "execute_result"
    }
   ],
   "source": [
    "dd.aggregate(key_added=pb_gex_key, filter_key=celltype_key, filter_value=cell_type, sync_var=True)\n",
    "dd.aggregate(obs=[\"sex\", \"age\"], func=\"first\", add_to_obs=True)\n",
    "dd"
   ]
  },
  {
   "cell_type": "code",
   "execution_count": 10,
   "metadata": {},
   "outputs": [
    {
     "data": {
      "text/plain": [
       "(20, 32738)"
      ]
     },
     "execution_count": 10,
     "metadata": {},
     "output_type": "execute_result"
    }
   ],
   "source": [
    "dd.G.obsm[\"PB_CD4 ET\"].shape"
   ]
  },
  {
   "cell_type": "code",
   "execution_count": 11,
   "metadata": {},
   "outputs": [],
   "source": [
    "gpcs = pd.read_csv(gpc_path, sep=r\"\\s+\", index_col=1, header=None).drop(columns=0)\n",
    "dd.G.obsm[\"gPCs\"] = gpcs.loc[dd.G.obs.index].iloc[:, :n_gpcs]"
   ]
  },
  {
   "cell_type": "code",
   "execution_count": 12,
   "metadata": {},
   "outputs": [
    {
     "name": "stdout",
     "output_type": "stream",
     "text": [
      "(20, 32738)\n",
      "(20, 143083, 1332, 32738)\n"
     ]
    },
    {
     "ename": "IndexError",
     "evalue": "Boolean index does not match AnnData’s shape along this dimension. Boolean index has shape (32738,) while AnnData index has shape (143083,).",
     "output_type": "error",
     "traceback": [
      "\u001b[0;31m---------------------------------------------------------------------------\u001b[0m",
      "\u001b[0;31mIndexError\u001b[0m                                Traceback (most recent call last)",
      "Cell \u001b[0;32mIn[12], line 5\u001b[0m\n\u001b[1;32m      2\u001b[0m \u001b[38;5;28mprint\u001b[39m(dd\u001b[38;5;241m.\u001b[39mshape)\n\u001b[1;32m      4\u001b[0m keep_genes \u001b[38;5;241m=\u001b[39m ((dd\u001b[38;5;241m.\u001b[39mG\u001b[38;5;241m.\u001b[39mobsm[pb_gex_key] \u001b[38;5;241m>\u001b[39m \u001b[38;5;241m0\u001b[39m)\u001b[38;5;241m.\u001b[39mmean(axis\u001b[38;5;241m=\u001b[39m\u001b[38;5;241m0\u001b[39m) \u001b[38;5;241m>\u001b[39m\u001b[38;5;241m=\u001b[39m min_percent_donors_expressed)\u001b[38;5;241m.\u001b[39mvalues\n\u001b[0;32m----> 5\u001b[0m dd \u001b[38;5;241m=\u001b[39m \u001b[43mdd\u001b[49m\u001b[43m[\u001b[49m\u001b[38;5;241;43m.\u001b[39;49m\u001b[38;5;241;43m.\u001b[39;49m\u001b[38;5;241;43m.\u001b[39;49m\u001b[43m,\u001b[49m\u001b[43m \u001b[49m\u001b[43mkeep_genes\u001b[49m\u001b[43m]\u001b[49m\n\u001b[1;32m      6\u001b[0m \u001b[38;5;66;03m# dd[C_obs=keep_donors, :, C_obs=keep_cells, C_var=keep_genes]\u001b[39;00m\n\u001b[1;32m      8\u001b[0m \u001b[38;5;28mprint\u001b[39m(dd\u001b[38;5;241m.\u001b[39mG\u001b[38;5;241m.\u001b[39mobsm[pb_gex_key]\u001b[38;5;241m.\u001b[39mshape)\n",
      "File \u001b[0;32m~/projects/sc-genetics/src/cellink/_core/donordata.py:160\u001b[0m, in \u001b[0;36mDonorData.__getitem__\u001b[0;34m(self, key)\u001b[0m\n\u001b[1;32m    156\u001b[0m key \u001b[38;5;241m=\u001b[39m \u001b[38;5;28mtuple\u001b[39m(\n\u001b[1;32m    157\u001b[0m     (idx,) \u001b[38;5;28;01mif\u001b[39;00m \u001b[38;5;28misinstance\u001b[39m(idx, \u001b[38;5;28mstr\u001b[39m) \u001b[38;5;28;01melse\u001b[39;00m idx \u001b[38;5;28;01mfor\u001b[39;00m idx \u001b[38;5;129;01min\u001b[39;00m key\n\u001b[1;32m    158\u001b[0m )  \u001b[38;5;66;03m# needed because Mudata[str] looks up modalities\u001b[39;00m\n\u001b[1;32m    159\u001b[0m _G \u001b[38;5;241m=\u001b[39m \u001b[38;5;28mself\u001b[39m\u001b[38;5;241m.\u001b[39mG[key[\u001b[38;5;241m0\u001b[39m]]\n\u001b[0;32m--> 160\u001b[0m _G \u001b[38;5;241m=\u001b[39m \u001b[43m_G\u001b[49m\u001b[43m[\u001b[49m\u001b[43m:\u001b[49m\u001b[43m,\u001b[49m\u001b[43m \u001b[49m\u001b[43mkey\u001b[49m\u001b[43m[\u001b[49m\u001b[38;5;241;43m1\u001b[39;49m\u001b[43m]\u001b[49m\u001b[43m]\u001b[49m\n\u001b[1;32m    161\u001b[0m _C \u001b[38;5;241m=\u001b[39m \u001b[38;5;28mself\u001b[39m\u001b[38;5;241m.\u001b[39mC[key[\u001b[38;5;241m2\u001b[39m]]\n\u001b[1;32m    162\u001b[0m _C \u001b[38;5;241m=\u001b[39m _C[:, key[\u001b[38;5;241m3\u001b[39m]]\n",
      "File \u001b[0;32m~/mambaforge/envs/scgeno/lib/python3.10/site-packages/anndata/_core/anndata.py:1022\u001b[0m, in \u001b[0;36mAnnData.__getitem__\u001b[0;34m(self, index)\u001b[0m\n\u001b[1;32m   1020\u001b[0m \u001b[38;5;28;01mdef\u001b[39;00m \u001b[38;5;21m__getitem__\u001b[39m(\u001b[38;5;28mself\u001b[39m, index: Index) \u001b[38;5;241m-\u001b[39m\u001b[38;5;241m>\u001b[39m AnnData:\n\u001b[1;32m   1021\u001b[0m \u001b[38;5;250m    \u001b[39m\u001b[38;5;124;03m\"\"\"Returns a sliced view of the object.\"\"\"\u001b[39;00m\n\u001b[0;32m-> 1022\u001b[0m     oidx, vidx \u001b[38;5;241m=\u001b[39m \u001b[38;5;28;43mself\u001b[39;49m\u001b[38;5;241;43m.\u001b[39;49m\u001b[43m_normalize_indices\u001b[49m\u001b[43m(\u001b[49m\u001b[43mindex\u001b[49m\u001b[43m)\u001b[49m\n\u001b[1;32m   1023\u001b[0m     \u001b[38;5;28;01mreturn\u001b[39;00m AnnData(\u001b[38;5;28mself\u001b[39m, oidx\u001b[38;5;241m=\u001b[39moidx, vidx\u001b[38;5;241m=\u001b[39mvidx, asview\u001b[38;5;241m=\u001b[39m\u001b[38;5;28;01mTrue\u001b[39;00m)\n",
      "File \u001b[0;32m~/mambaforge/envs/scgeno/lib/python3.10/site-packages/anndata/_core/anndata.py:1003\u001b[0m, in \u001b[0;36mAnnData._normalize_indices\u001b[0;34m(self, index)\u001b[0m\n\u001b[1;32m   1002\u001b[0m \u001b[38;5;28;01mdef\u001b[39;00m \u001b[38;5;21m_normalize_indices\u001b[39m(\u001b[38;5;28mself\u001b[39m, index: Index \u001b[38;5;241m|\u001b[39m \u001b[38;5;28;01mNone\u001b[39;00m) \u001b[38;5;241m-\u001b[39m\u001b[38;5;241m>\u001b[39m \u001b[38;5;28mtuple\u001b[39m[\u001b[38;5;28mslice\u001b[39m, \u001b[38;5;28mslice\u001b[39m]:\n\u001b[0;32m-> 1003\u001b[0m     \u001b[38;5;28;01mreturn\u001b[39;00m \u001b[43m_normalize_indices\u001b[49m\u001b[43m(\u001b[49m\u001b[43mindex\u001b[49m\u001b[43m,\u001b[49m\u001b[43m \u001b[49m\u001b[38;5;28;43mself\u001b[39;49m\u001b[38;5;241;43m.\u001b[39;49m\u001b[43mobs_names\u001b[49m\u001b[43m,\u001b[49m\u001b[43m \u001b[49m\u001b[38;5;28;43mself\u001b[39;49m\u001b[38;5;241;43m.\u001b[39;49m\u001b[43mvar_names\u001b[49m\u001b[43m)\u001b[49m\n",
      "File \u001b[0;32m~/mambaforge/envs/scgeno/lib/python3.10/site-packages/anndata/_core/index.py:33\u001b[0m, in \u001b[0;36m_normalize_indices\u001b[0;34m(index, names0, names1)\u001b[0m\n\u001b[1;32m     31\u001b[0m ax0, ax1 \u001b[38;5;241m=\u001b[39m unpack_index(index)\n\u001b[1;32m     32\u001b[0m ax0 \u001b[38;5;241m=\u001b[39m _normalize_index(ax0, names0)\n\u001b[0;32m---> 33\u001b[0m ax1 \u001b[38;5;241m=\u001b[39m \u001b[43m_normalize_index\u001b[49m\u001b[43m(\u001b[49m\u001b[43max1\u001b[49m\u001b[43m,\u001b[49m\u001b[43m \u001b[49m\u001b[43mnames1\u001b[49m\u001b[43m)\u001b[49m\n\u001b[1;32m     34\u001b[0m \u001b[38;5;28;01mreturn\u001b[39;00m ax0, ax1\n",
      "File \u001b[0;32m~/mambaforge/envs/scgeno/lib/python3.10/site-packages/anndata/_core/index.py:95\u001b[0m, in \u001b[0;36m_normalize_index\u001b[0;34m(indexer, index)\u001b[0m\n\u001b[1;32m     93\u001b[0m \u001b[38;5;28;01melif\u001b[39;00m \u001b[38;5;28missubclass\u001b[39m(indexer\u001b[38;5;241m.\u001b[39mdtype\u001b[38;5;241m.\u001b[39mtype, np\u001b[38;5;241m.\u001b[39mbool_):\n\u001b[1;32m     94\u001b[0m     \u001b[38;5;28;01mif\u001b[39;00m indexer\u001b[38;5;241m.\u001b[39mshape \u001b[38;5;241m!=\u001b[39m index\u001b[38;5;241m.\u001b[39mshape:\n\u001b[0;32m---> 95\u001b[0m         \u001b[38;5;28;01mraise\u001b[39;00m \u001b[38;5;167;01mIndexError\u001b[39;00m(\n\u001b[1;32m     96\u001b[0m             \u001b[38;5;124mf\u001b[39m\u001b[38;5;124m\"\u001b[39m\u001b[38;5;124mBoolean index does not match AnnData’s shape along this \u001b[39m\u001b[38;5;124m\"\u001b[39m\n\u001b[1;32m     97\u001b[0m             \u001b[38;5;124mf\u001b[39m\u001b[38;5;124m\"\u001b[39m\u001b[38;5;124mdimension. Boolean index has shape \u001b[39m\u001b[38;5;132;01m{\u001b[39;00mindexer\u001b[38;5;241m.\u001b[39mshape\u001b[38;5;132;01m}\u001b[39;00m\u001b[38;5;124m while \u001b[39m\u001b[38;5;124m\"\u001b[39m\n\u001b[1;32m     98\u001b[0m             \u001b[38;5;124mf\u001b[39m\u001b[38;5;124m\"\u001b[39m\u001b[38;5;124mAnnData index has shape \u001b[39m\u001b[38;5;132;01m{\u001b[39;00mindex\u001b[38;5;241m.\u001b[39mshape\u001b[38;5;132;01m}\u001b[39;00m\u001b[38;5;124m.\u001b[39m\u001b[38;5;124m\"\u001b[39m\n\u001b[1;32m     99\u001b[0m         )\n\u001b[1;32m    100\u001b[0m     \u001b[38;5;28;01mreturn\u001b[39;00m indexer\n\u001b[1;32m    101\u001b[0m \u001b[38;5;28;01melse\u001b[39;00m:  \u001b[38;5;66;03m# indexer should be string array\u001b[39;00m\n",
      "\u001b[0;31mIndexError\u001b[0m: Boolean index does not match AnnData’s shape along this dimension. Boolean index has shape (32738,) while AnnData index has shape (143083,)."
     ]
    }
   ],
   "source": [
    "print(dd.G.obsm[pb_gex_key].shape)\n",
    "print(dd.shape)\n",
    "\n",
    "keep_genes = ((dd.G.obsm[pb_gex_key] > 0).mean(axis=0) >= min_percent_donors_expressed).values\n",
    "dd = dd[..., keep_genes]\n",
    "# dd[C_obs=keep_donors, :, C_obs=keep_cells, C_var=keep_genes]\n",
    "\n",
    "print(dd.G.obsm[pb_gex_key].shape)\n",
    "print(dd.shape)"
   ]
  },
  {
   "cell_type": "code",
   "execution_count": 15,
   "metadata": {},
   "outputs": [],
   "source": [
    "dd.G.obsm[\"ePCs\"] = mdata[dd.G.obs_names].obsm[\"X_pca\"]"
   ]
  },
  {
   "cell_type": "code",
   "execution_count": 16,
   "metadata": {},
   "outputs": [],
   "source": [
    "F = np.concatenate(\n",
    "    [\n",
    "        np.ones((dd.shape[0], 1)),\n",
    "        dd.G.obs[[\"sex\"]].values - 1,\n",
    "        dd.G.obs[[\"age\"]].values,\n",
    "        dd.G.obsm[\"gPCs\"].values,\n",
    "        dd.G.obsm[\"ePCs\"],\n",
    "    ],\n",
    "    axis=1,\n",
    ")\n",
    "F[:, 2:] = column_normalize(F[:, 2:])"
   ]
  },
  {
   "cell_type": "code",
   "execution_count": 17,
   "metadata": {},
   "outputs": [
    {
     "name": "stderr",
     "output_type": "stream",
     "text": [
      "/Users/jan.engelmann/projects/sc-genetics/src/cellink/_core/donordata.py:129: ImplicitModificationWarning: Setting element `.obsm['PB_CD4 ET']` of view, initializing view as actual.\n",
      "  _D.obsm[key] = _D.obsm[key].loc[:, _C.var.index]\n"
     ]
    },
    {
     "data": {
      "text/html": [
       "<pre style=\"white-space:pre;overflow-x:auto;line-height:normal;font-family:Menlo,'DejaVu Sans Mono',consolas,'Courier New',monospace\">┏━━━━━━━━━━━━━━━━━━━━━━━━━━━━━━━━━━━━━━━━━━━━━━━━━━━━┳━━━━━━━━━━━━━━━━━━━━━━━━━━━━━━━━━━━━━━━━━━━━━━━━━━━━┓\n",
       "┃<span style=\"color: #ff005f; text-decoration-color: #ff005f; font-weight: bold\"> D (donors)                                         </span>┃<span style=\"color: #ff005f; text-decoration-color: #ff005f; font-weight: bold\"> C (cells)                                          </span>┃\n",
       "┡━━━━━━━━━━━━━━━━━━━━━━━━━━━━━━━━━━━━━━━━━━━━━━━━━━━━╇━━━━━━━━━━━━━━━━━━━━━━━━━━━━━━━━━━━━━━━━━━━━━━━━━━━━┩\n",
       "│ AnnData object with n_obs × n_vars = 981 × 143083  │ AnnData object with n_obs × n_vars = 61786 × 320   │\n",
       "│     obs: 'sex', 'age'                              │     obs: 'orig.ident', 'nCount_RNA',               │\n",
       "│                                                    │ 'nFeature_RNA', 'pool', 'individual',              │\n",
       "│                                                    │ 'percent.mt', 'latent', 'nCount_SCT',              │\n",
       "│                                                    │ 'nFeature_SCT', 'cell_type', 'cell_label', 'sex',  │\n",
       "│                                                    │ 'age', <span style=\"color: #ff005f; text-decoration-color: #ff005f; font-weight: bold\">'donor_id'</span>                                  │\n",
       "│     var: 'chrom', 'pos', 'a0', 'a1', 'AF', 'ER2',  │     var: 'GeneSymbol', 'features', 'start', 'end', │\n",
       "│ 'maf', 'R2', 'contig', 'id', 'id_mask', 'quality'  │ 'chrom', 'strand', 'description', 'wikigene_name', │\n",
       "│                                                    │ 'wikigene_id'                                      │\n",
       "│     obsm: <span style=\"color: #ff005f; text-decoration-color: #ff005f; font-weight: bold\">'PB_CD4 ET', </span>'gPCs', 'ePCs'              │     uns: 'log1p'                                   │\n",
       "│     varm: 'filter'                                 │                                                    │\n",
       "└────────────────────────────────────────────────────┴────────────────────────────────────────────────────┘\n",
       "</pre>\n"
      ],
      "text/plain": [
       "┏━━━━━━━━━━━━━━━━━━━━━━━━━━━━━━━━━━━━━━━━━━━━━━━━━━━━┳━━━━━━━━━━━━━━━━━━━━━━━━━━━━━━━━━━━━━━━━━━━━━━━━━━━━┓\n",
       "┃\u001b[1;38;5;197m \u001b[0m\u001b[1;38;5;197mD (donors)                                        \u001b[0m\u001b[1;38;5;197m \u001b[0m┃\u001b[1;38;5;197m \u001b[0m\u001b[1;38;5;197mC (cells)                                         \u001b[0m\u001b[1;38;5;197m \u001b[0m┃\n",
       "┡━━━━━━━━━━━━━━━━━━━━━━━━━━━━━━━━━━━━━━━━━━━━━━━━━━━━╇━━━━━━━━━━━━━━━━━━━━━━━━━━━━━━━━━━━━━━━━━━━━━━━━━━━━┩\n",
       "│ AnnData object with n_obs × n_vars = 981 × 143083  │ AnnData object with n_obs × n_vars = 61786 × 320   │\n",
       "│     obs: 'sex', 'age'                              │     obs: 'orig.ident', 'nCount_RNA',               │\n",
       "│                                                    │ 'nFeature_RNA', 'pool', 'individual',              │\n",
       "│                                                    │ 'percent.mt', 'latent', 'nCount_SCT',              │\n",
       "│                                                    │ 'nFeature_SCT', 'cell_type', 'cell_label', 'sex',  │\n",
       "│                                                    │ 'age', \u001b[1;38;5;197m'donor_id'\u001b[0m                                  │\n",
       "│     var: 'chrom', 'pos', 'a0', 'a1', 'AF', 'ER2',  │     var: 'GeneSymbol', 'features', 'start', 'end', │\n",
       "│ 'maf', 'R2', 'contig', 'id', 'id_mask', 'quality'  │ 'chrom', 'strand', 'description', 'wikigene_name', │\n",
       "│                                                    │ 'wikigene_id'                                      │\n",
       "│     obsm: \u001b[1;38;5;197m'PB_CD4 ET', \u001b[0m'gPCs', 'ePCs'              │     uns: 'log1p'                                   │\n",
       "│     varm: 'filter'                                 │                                                    │\n",
       "└────────────────────────────────────────────────────┴────────────────────────────────────────────────────┘\n"
      ]
     },
     "metadata": {},
     "output_type": "display_data"
    },
    {
     "data": {
      "text/plain": []
     },
     "execution_count": 17,
     "metadata": {},
     "output_type": "execute_result"
    }
   ],
   "source": [
    "dd = dd[:, dd.G.var.chrom == str(chrom), :, dd.C.var.chrom == str(chrom)]\n",
    "dd"
   ]
  },
  {
   "cell_type": "code",
   "execution_count": 18,
   "metadata": {},
   "outputs": [
    {
     "data": {
      "application/vnd.jupyter.widget-view+json": {
       "model_id": "3a18c2e222cc4071861e8d5d35b94c67",
       "version_major": 2,
       "version_minor": 0
      },
      "text/plain": [
       "  0%|          | 0/320 [00:00<?, ?it/s]"
      ]
     },
     "metadata": {},
     "output_type": "display_data"
    },
    {
     "data": {
      "text/html": [
       "<div>\n",
       "<style scoped>\n",
       "    .dataframe tbody tr th:only-of-type {\n",
       "        vertical-align: middle;\n",
       "    }\n",
       "\n",
       "    .dataframe tbody tr th {\n",
       "        vertical-align: top;\n",
       "    }\n",
       "\n",
       "    .dataframe thead th {\n",
       "        text-align: right;\n",
       "    }\n",
       "</style>\n",
       "<table border=\"1\" class=\"dataframe\">\n",
       "  <thead>\n",
       "    <tr style=\"text-align: right;\">\n",
       "      <th></th>\n",
       "      <th>snp</th>\n",
       "      <th>egene</th>\n",
       "      <th>n_cis_snps</th>\n",
       "      <th>pv</th>\n",
       "      <th>beta</th>\n",
       "      <th>betaste</th>\n",
       "      <th>lrt</th>\n",
       "    </tr>\n",
       "  </thead>\n",
       "  <tbody>\n",
       "    <tr>\n",
       "      <th>0</th>\n",
       "      <td>22_17274624_G_A</td>\n",
       "      <td>ENSG00000100181</td>\n",
       "      <td>1688</td>\n",
       "      <td>5.791056e-04</td>\n",
       "      <td>0.641658</td>\n",
       "      <td>0.186462</td>\n",
       "      <td>11.841969</td>\n",
       "    </tr>\n",
       "    <tr>\n",
       "      <th>1</th>\n",
       "      <td>22_17435280_G_A</td>\n",
       "      <td>ENSG00000177663</td>\n",
       "      <td>3188</td>\n",
       "      <td>2.904333e-04</td>\n",
       "      <td>0.462711</td>\n",
       "      <td>0.127691</td>\n",
       "      <td>13.131106</td>\n",
       "    </tr>\n",
       "    <tr>\n",
       "      <th>2</th>\n",
       "      <td>22_18104924_A_G</td>\n",
       "      <td>ENSG00000069998</td>\n",
       "      <td>3378</td>\n",
       "      <td>1.294364e-03</td>\n",
       "      <td>3.192388</td>\n",
       "      <td>0.992279</td>\n",
       "      <td>10.350546</td>\n",
       "    </tr>\n",
       "    <tr>\n",
       "      <th>3</th>\n",
       "      <td>22_17860359_C_T</td>\n",
       "      <td>ENSG00000093072</td>\n",
       "      <td>3567</td>\n",
       "      <td>1.397507e-03</td>\n",
       "      <td>0.498323</td>\n",
       "      <td>0.155962</td>\n",
       "      <td>10.209082</td>\n",
       "    </tr>\n",
       "    <tr>\n",
       "      <th>4</th>\n",
       "      <td>22_18077593_G_A</td>\n",
       "      <td>ENSG00000131100</td>\n",
       "      <td>4579</td>\n",
       "      <td>1.063775e-03</td>\n",
       "      <td>-3.243186</td>\n",
       "      <td>0.990863</td>\n",
       "      <td>10.713138</td>\n",
       "    </tr>\n",
       "    <tr>\n",
       "      <th>...</th>\n",
       "      <td>...</td>\n",
       "      <td>...</td>\n",
       "      <td>...</td>\n",
       "      <td>...</td>\n",
       "      <td>...</td>\n",
       "      <td>...</td>\n",
       "      <td>...</td>\n",
       "    </tr>\n",
       "    <tr>\n",
       "      <th>315</th>\n",
       "      <td>22_50633993_G_A</td>\n",
       "      <td>ENSG00000205560</td>\n",
       "      <td>3415</td>\n",
       "      <td>1.246329e-03</td>\n",
       "      <td>-1.108288</td>\n",
       "      <td>0.343330</td>\n",
       "      <td>10.420370</td>\n",
       "    </tr>\n",
       "    <tr>\n",
       "      <th>316</th>\n",
       "      <td>22_50957733_C_T</td>\n",
       "      <td>ENSG00000100288</td>\n",
       "      <td>3337</td>\n",
       "      <td>1.087430e-03</td>\n",
       "      <td>0.657518</td>\n",
       "      <td>0.201268</td>\n",
       "      <td>10.672450</td>\n",
       "    </tr>\n",
       "    <tr>\n",
       "      <th>317</th>\n",
       "      <td>22_50978217_C_T</td>\n",
       "      <td>ENSG00000205559</td>\n",
       "      <td>3317</td>\n",
       "      <td>8.843337e-04</td>\n",
       "      <td>0.770082</td>\n",
       "      <td>0.231607</td>\n",
       "      <td>11.055314</td>\n",
       "    </tr>\n",
       "    <tr>\n",
       "      <th>318</th>\n",
       "      <td>22_51064416_T_C</td>\n",
       "      <td>ENSG00000100299</td>\n",
       "      <td>3068</td>\n",
       "      <td>8.601285e-08</td>\n",
       "      <td>-0.374713</td>\n",
       "      <td>0.069987</td>\n",
       "      <td>28.665721</td>\n",
       "    </tr>\n",
       "    <tr>\n",
       "      <th>319</th>\n",
       "      <td>22_51178090_G_A</td>\n",
       "      <td>ENSG00000079974</td>\n",
       "      <td>2246</td>\n",
       "      <td>1.899797e-04</td>\n",
       "      <td>0.355402</td>\n",
       "      <td>0.095232</td>\n",
       "      <td>13.927684</td>\n",
       "    </tr>\n",
       "  </tbody>\n",
       "</table>\n",
       "<p>320 rows × 7 columns</p>\n",
       "</div>"
      ],
      "text/plain": [
       "                 snp            egene  n_cis_snps            pv      beta  \\\n",
       "0    22_17274624_G_A  ENSG00000100181        1688  5.791056e-04  0.641658   \n",
       "1    22_17435280_G_A  ENSG00000177663        3188  2.904333e-04  0.462711   \n",
       "2    22_18104924_A_G  ENSG00000069998        3378  1.294364e-03  3.192388   \n",
       "3    22_17860359_C_T  ENSG00000093072        3567  1.397507e-03  0.498323   \n",
       "4    22_18077593_G_A  ENSG00000131100        4579  1.063775e-03 -3.243186   \n",
       "..               ...              ...         ...           ...       ...   \n",
       "315  22_50633993_G_A  ENSG00000205560        3415  1.246329e-03 -1.108288   \n",
       "316  22_50957733_C_T  ENSG00000100288        3337  1.087430e-03  0.657518   \n",
       "317  22_50978217_C_T  ENSG00000205559        3317  8.843337e-04  0.770082   \n",
       "318  22_51064416_T_C  ENSG00000100299        3068  8.601285e-08 -0.374713   \n",
       "319  22_51178090_G_A  ENSG00000079974        2246  1.899797e-04  0.355402   \n",
       "\n",
       "      betaste        lrt  \n",
       "0    0.186462  11.841969  \n",
       "1    0.127691  13.131106  \n",
       "2    0.992279  10.350546  \n",
       "3    0.155962  10.209082  \n",
       "4    0.990863  10.713138  \n",
       "..        ...        ...  \n",
       "315  0.343330  10.420370  \n",
       "316  0.201268  10.672450  \n",
       "317  0.231607  11.055314  \n",
       "318  0.069987  28.665721  \n",
       "319  0.095232  13.927684  \n",
       "\n",
       "[320 rows x 7 columns]"
      ]
     },
     "execution_count": 18,
     "metadata": {},
     "output_type": "execute_result"
    }
   ],
   "source": [
    "results = []\n",
    "if isinstance(dd.G.X, da.Array | ad._core.views.DaskArrayView):\n",
    "    if dd.G.is_view:\n",
    "        dd._G = dd._G.copy()  # TODO: discuss with SWEs\n",
    "    dd.G.X = dd.G.X.compute()\n",
    "\n",
    "\n",
    "for gene, row in tqdm(dd.C.var.iterrows(), total=dd.shape[3]):\n",
    "    Y = gaussianize(dd.G.obsm[pb_gex_key][[gene]].values + 1e-5 * np.random.randn(dd.shape[0], 1))\n",
    "\n",
    "    start = max(0, row.start - cis_window)\n",
    "    end = row.end + cis_window\n",
    "    _G = dd.G[:, (dd.G.var.pos < end)]\n",
    "    _G = _G[:, (_G.var.pos > start)]\n",
    "    _G = _G[:, (_G.X.std(0) != 0)]\n",
    "    G = _G.X\n",
    "\n",
    "    gwas = GWAS(Y, F)\n",
    "    gwas.process(G)\n",
    "\n",
    "    snp_idx = gwas.getPv().argmin()\n",
    "\n",
    "    def _get_top_snp(arr, snp_idx=snp_idx):\n",
    "        return arr.ravel()[snp_idx].item()\n",
    "\n",
    "    rdict = {\n",
    "        \"snp\": _G.var.iloc[snp_idx].name,\n",
    "        \"egene\": gene,\n",
    "        \"n_cis_snps\": G.shape[1],\n",
    "        \"pv\": _get_top_snp(gwas.getPv()),\n",
    "        \"beta\": _get_top_snp(gwas.getBetaSNP()),\n",
    "        \"betaste\": _get_top_snp(gwas.getBetaSNPste()),\n",
    "        \"lrt\": _get_top_snp(gwas.getLRT()),\n",
    "    }\n",
    "    results.append(rdict)\n",
    "\n",
    "rdf = pd.DataFrame(results)\n",
    "rdf"
   ]
  },
  {
   "cell_type": "code",
   "execution_count": 19,
   "metadata": {},
   "outputs": [
    {
     "data": {
      "text/plain": [
       "24"
      ]
     },
     "execution_count": 19,
     "metadata": {},
     "output_type": "execute_result"
    }
   ],
   "source": [
    "rdf[\"pv_adj\"] = np.clip(rdf[\"pv\"] * rdf[\"n_cis_snps\"], 0, 1)  # gene-wise Bonferroni\n",
    "rdf[\"qv\"] = fdrcorrection(rdf[\"pv_adj\"])[1]\n",
    "\n",
    "(rdf.qv < 0.05).sum()"
   ]
  }
 ],
 "metadata": {
  "kernelspec": {
   "display_name": "scgeno",
   "language": "python",
   "name": "python3"
  },
  "language_info": {
   "codemirror_mode": {
    "name": "ipython",
    "version": 3
   },
   "file_extension": ".py",
   "mimetype": "text/x-python",
   "name": "python",
   "nbconvert_exporter": "python",
   "pygments_lexer": "ipython3",
   "version": "3.10.15"
  }
 },
 "nbformat": 4,
 "nbformat_minor": 2
}
