{
 "cells": [
  {
   "cell_type": "markdown",
   "metadata": {},
   "source": [
    "# Pseudobulk eQTL Analysis"
   ]
  },
  {
   "cell_type": "code",
   "execution_count": 1,
   "metadata": {},
   "outputs": [],
   "source": [
    "import gc\n",
    "from pathlib import Path\n",
    "import warnings\n",
    "\n",
    "import anndata as ad\n",
    "import scanpy as sc\n",
    "import dask.array as da\n",
    "import numpy as np\n",
    "import pandas as pd\n",
    "from statsmodels.stats.multitest import fdrcorrection\n",
    "from tqdm.auto import tqdm\n",
    "\n",
    "import cellink as cl\n",
    "from cellink._core import DAnn, GAnn\n",
    "from cellink.tl.gwas import GWAS\n",
    "from cellink.utils import column_normalize, gaussianize"
   ]
  },
  {
   "cell_type": "code",
   "execution_count": 2,
   "metadata": {},
   "outputs": [],
   "source": [
    "DATA = Path(cl.__file__).parent.parent.parent / \"data\"\n",
    "GENODATA = DATA / \"OneK1K_imputation_post_qc_r2_08\"\n",
    "\n",
    "gpc_path = GENODATA / \"pcdir/wgs.dose.filtered.R2_0.8.filtered.pruned.eigenvec\"\n",
    "adata_path = DATA / \"OneK1K_cohort_gene_expression_matrix_14_celltypes.h5ad.gz\"\n",
    "gdata_path = GENODATA / \"filter_zarr_r08/chr22.dose.filtered.R2_0.8.vcz\""
   ]
  },
  {
   "cell_type": "code",
   "execution_count": 3,
   "metadata": {},
   "outputs": [],
   "source": [
    "n_gpcs = 20\n",
    "n_epcs = 15\n",
    "batch_e_pcs_n_top_genes = 2000\n",
    "chrom = 22\n",
    "cis_window = 500_000\n",
    "cell_type = \"CD8 NC\"\n",
    "pb_gex_key = f\"PB_{cell_type}\"  # pseudobulk expression in dd.G.obsm[key_added]\n",
    "original_donor_col = \"individual\"\n",
    "min_percent_donors_expressed = 0.1\n",
    "celltype_key = \"cell_label\"\n",
    "do_debug = False"
   ]
  },
  {
   "cell_type": "code",
   "execution_count": 4,
   "metadata": {},
   "outputs": [
    {
     "data": {
      "text/plain": [
       "AnnData object with n_obs × n_vars = 1272489 × 32738\n",
       "    obs: 'orig.ident', 'nCount_RNA', 'nFeature_RNA', 'pool', 'individual', 'percent.mt', 'latent', 'nCount_SCT', 'nFeature_SCT', 'cell_type', 'cell_label', 'sex', 'age', 'donor_id'\n",
       "    var: 'GeneSymbol', 'features', 'start', 'end', 'chrom', 'strand', 'description', 'wikigene_name', 'wikigene_id'"
      ]
     },
     "execution_count": 4,
     "metadata": {},
     "output_type": "execute_result"
    }
   ],
   "source": [
    "if do_debug:\n",
    "    adata_path = DATA / \"debug_OneK1K_cohort_gene_expression_matrix_14_celltypes.h5ad\"\n",
    "\n",
    "adata = ad.read_h5ad(adata_path)\n",
    "gdata = cl.io.read_sgkit_zarr(gdata_path)\n",
    "\n",
    "gene_ann = pd.read_csv(DATA / \"gene_annotation.csv\").set_index(\"ensembl_gene_id\")\n",
    "adata.var = pd.concat([adata.var, gene_ann.loc[adata.var.index]], axis=1).rename(\n",
    "    columns={\n",
    "        \"start_position\": GAnn.start,\n",
    "        \"end_position\": GAnn.end,\n",
    "        \"chromosome_name\": GAnn.chrom,\n",
    "    }\n",
    ")\n",
    "adata.obs[DAnn.donor] = adata.obs[original_donor_col]\n",
    "adata"
   ]
  },
  {
   "cell_type": "code",
   "execution_count": 5,
   "metadata": {},
   "outputs": [
    {
     "data": {
      "text/html": [
       "<pre style=\"white-space:pre;overflow-x:auto;line-height:normal;font-family:Menlo,'DejaVu Sans Mono',consolas,'Courier New',monospace\">       ╭──────────────────────────────────────────────────────────────────────────────────────────────────╮        \n",
       "       │ <span style=\"color: #ff005f; text-decoration-color: #ff005f; font-weight: bold\">      DonorData(981 x n_donors=143,083, n_cells_per_donor=[343-3,523], donor_id = 'donor_id')   </span> │        \n",
       "       ╰──────────────────────────────────────────────────────────────────────────────────────────────────╯        \n",
       "┏━━━━━━━━━━━━━━━━━━━━━━━━━━━━━━━━━━━━━━━━━━━━━━━━━━━━┳━━━━━━━━━━━━━━━━━━━━━━━━━━━━━━━━━━━━━━━━━━━━━━━━━━━━┓\n",
       "┃<span style=\"color: #ff005f; text-decoration-color: #ff005f; font-weight: bold\"> G (donors)                                         </span>┃<span style=\"color: #ff005f; text-decoration-color: #ff005f; font-weight: bold\"> C (cells)                                          </span>┃\n",
       "┡━━━━━━━━━━━━━━━━━━━━━━━━━━━━━━━━━━━━━━━━━━━━━━━━━━━━╇━━━━━━━━━━━━━━━━━━━━━━━━━━━━━━━━━━━━━━━━━━━━━━━━━━━━┩\n",
       "│ AnnData object with n_obs × n_vars = 981 × 143,083 │ AnnData object with n_obs × n_vars = 1,272,489 ×   │\n",
       "│                                                    │ 32,738                                             │\n",
       "│     var: 'chrom', 'pos', 'a0', 'a1', 'AF', 'ER2',  │     obs: 'orig.ident', 'nCount_RNA',               │\n",
       "│ 'maf', 'R2', 'contig', 'id', 'id_mask', 'quality'  │ 'nFeature_RNA', 'pool', 'individual',              │\n",
       "│                                                    │ 'percent.mt', 'latent', 'nCount_SCT',              │\n",
       "│                                                    │ 'nFeature_SCT', 'cell_type', 'cell_label', 'sex',  │\n",
       "│                                                    │ 'age', <span style=\"color: #ff005f; text-decoration-color: #ff005f; font-weight: bold\">'donor_id'</span>                                  │\n",
       "│     varm: 'filter'                                 │     var: 'GeneSymbol', 'features', 'start', 'end', │\n",
       "│                                                    │ 'chrom', 'strand', 'description', 'wikigene_name', │\n",
       "│                                                    │ 'wikigene_id'                                      │\n",
       "└────────────────────────────────────────────────────┴────────────────────────────────────────────────────┘\n",
       "</pre>\n"
      ],
      "text/plain": [
       "       ╭──────────────────────────────────────────────────────────────────────────────────────────────────╮        \n",
       "       │ \u001b[1;38;5;197m      DonorData(981 x n_donors=143,083, n_cells_per_donor=[343-3,523], donor_id = 'donor_id')   \u001b[0m │        \n",
       "       ╰──────────────────────────────────────────────────────────────────────────────────────────────────╯        \n",
       "┏━━━━━━━━━━━━━━━━━━━━━━━━━━━━━━━━━━━━━━━━━━━━━━━━━━━━┳━━━━━━━━━━━━━━━━━━━━━━━━━━━━━━━━━━━━━━━━━━━━━━━━━━━━┓\n",
       "┃\u001b[1;38;5;197m \u001b[0m\u001b[1;38;5;197mG (donors)                                        \u001b[0m\u001b[1;38;5;197m \u001b[0m┃\u001b[1;38;5;197m \u001b[0m\u001b[1;38;5;197mC (cells)                                         \u001b[0m\u001b[1;38;5;197m \u001b[0m┃\n",
       "┡━━━━━━━━━━━━━━━━━━━━━━━━━━━━━━━━━━━━━━━━━━━━━━━━━━━━╇━━━━━━━━━━━━━━━━━━━━━━━━━━━━━━━━━━━━━━━━━━━━━━━━━━━━┩\n",
       "│ AnnData object with n_obs × n_vars = 981 × 143,083 │ AnnData object with n_obs × n_vars = 1,272,489 ×   │\n",
       "│                                                    │ 32,738                                             │\n",
       "│     var: 'chrom', 'pos', 'a0', 'a1', 'AF', 'ER2',  │     obs: 'orig.ident', 'nCount_RNA',               │\n",
       "│ 'maf', 'R2', 'contig', 'id', 'id_mask', 'quality'  │ 'nFeature_RNA', 'pool', 'individual',              │\n",
       "│                                                    │ 'percent.mt', 'latent', 'nCount_SCT',              │\n",
       "│                                                    │ 'nFeature_SCT', 'cell_type', 'cell_label', 'sex',  │\n",
       "│                                                    │ 'age', \u001b[1;38;5;197m'donor_id'\u001b[0m                                  │\n",
       "│     varm: 'filter'                                 │     var: 'GeneSymbol', 'features', 'start', 'end', │\n",
       "│                                                    │ 'chrom', 'strand', 'description', 'wikigene_name', │\n",
       "│                                                    │ 'wikigene_id'                                      │\n",
       "└────────────────────────────────────────────────────┴────────────────────────────────────────────────────┘\n"
      ]
     },
     "metadata": {},
     "output_type": "display_data"
    },
    {
     "data": {
      "text/plain": []
     },
     "execution_count": 5,
     "metadata": {},
     "output_type": "execute_result"
    }
   ],
   "source": [
    "dd = cl.DonorData(G=gdata, C=adata).copy()  # copy to avoid view warnings\n",
    "dd"
   ]
  },
  {
   "cell_type": "code",
   "execution_count": 6,
   "metadata": {},
   "outputs": [],
   "source": [
    "sc.pp.normalize_total(dd.C)\n",
    "sc.pp.log1p(dd.C)\n",
    "sc.pp.normalize_total(dd.C)\n",
    "\n",
    "mdata = sc.get.aggregate(dd.C, by=DAnn.donor, func=\"mean\")\n",
    "mdata.X = mdata.layers.pop(\"mean\")\n",
    "\n",
    "sc.pp.highly_variable_genes(mdata, n_top_genes=batch_e_pcs_n_top_genes)\n",
    "sc.tl.pca(mdata, n_comps=n_epcs)\n",
    "\n",
    "dd.G.obsm[\"ePCs\"] = mdata[dd.G.obs_names].obsm[\"X_pca\"]"
   ]
  },
  {
   "cell_type": "code",
   "execution_count": 7,
   "metadata": {},
   "outputs": [
    {
     "data": {
      "text/html": [
       "<pre style=\"white-space:pre;overflow-x:auto;line-height:normal;font-family:Menlo,'DejaVu Sans Mono',consolas,'Courier New',monospace\">       ╭──────────────────────────────────────────────────────────────────────────────────────────────────╮        \n",
       "       │ <span style=\"color: #ff005f; text-decoration-color: #ff005f; font-weight: bold\">        DonorData(981 x n_donors=143,083, n_cells_per_donor=[9-479], donor_id = 'donor_id')     </span> │        \n",
       "       ╰──────────────────────────────────────────────────────────────────────────────────────────────────╯        \n",
       "┏━━━━━━━━━━━━━━━━━━━━━━━━━━━━━━━━━━━━━━━━━━━━━━━━━━━━┳━━━━━━━━━━━━━━━━━━━━━━━━━━━━━━━━━━━━━━━━━━━━━━━━━━━━┓\n",
       "┃<span style=\"color: #ff005f; text-decoration-color: #ff005f; font-weight: bold\"> G (donors)                                         </span>┃<span style=\"color: #ff005f; text-decoration-color: #ff005f; font-weight: bold\"> C (cells)                                          </span>┃\n",
       "┡━━━━━━━━━━━━━━━━━━━━━━━━━━━━━━━━━━━━━━━━━━━━━━━━━━━━╇━━━━━━━━━━━━━━━━━━━━━━━━━━━━━━━━━━━━━━━━━━━━━━━━━━━━┩\n",
       "│ AnnData object with n_obs × n_vars = 981 × 143,083 │ AnnData object with n_obs × n_vars = 133,482 ×     │\n",
       "│                                                    │ 32,738                                             │\n",
       "│     var: 'chrom', 'pos', 'a0', 'a1', 'AF', 'ER2',  │     obs: 'orig.ident', 'nCount_RNA',               │\n",
       "│ 'maf', 'R2', 'contig', 'id', 'id_mask', 'quality'  │ 'nFeature_RNA', 'pool', 'individual',              │\n",
       "│                                                    │ 'percent.mt', 'latent', 'nCount_SCT',              │\n",
       "│                                                    │ 'nFeature_SCT', 'cell_type', 'cell_label', 'sex',  │\n",
       "│                                                    │ 'age', <span style=\"color: #ff005f; text-decoration-color: #ff005f; font-weight: bold\">'donor_id'</span>                                  │\n",
       "│     obsm: 'ePCs'                                   │     var: 'GeneSymbol', 'features', 'start', 'end', │\n",
       "│                                                    │ 'chrom', 'strand', 'description', 'wikigene_name', │\n",
       "│                                                    │ 'wikigene_id'                                      │\n",
       "│     varm: 'filter'                                 │     uns: 'log1p'                                   │\n",
       "└────────────────────────────────────────────────────┴────────────────────────────────────────────────────┘\n",
       "</pre>\n"
      ],
      "text/plain": [
       "       ╭──────────────────────────────────────────────────────────────────────────────────────────────────╮        \n",
       "       │ \u001b[1;38;5;197m        DonorData(981 x n_donors=143,083, n_cells_per_donor=[9-479], donor_id = 'donor_id')     \u001b[0m │        \n",
       "       ╰──────────────────────────────────────────────────────────────────────────────────────────────────╯        \n",
       "┏━━━━━━━━━━━━━━━━━━━━━━━━━━━━━━━━━━━━━━━━━━━━━━━━━━━━┳━━━━━━━━━━━━━━━━━━━━━━━━━━━━━━━━━━━━━━━━━━━━━━━━━━━━┓\n",
       "┃\u001b[1;38;5;197m \u001b[0m\u001b[1;38;5;197mG (donors)                                        \u001b[0m\u001b[1;38;5;197m \u001b[0m┃\u001b[1;38;5;197m \u001b[0m\u001b[1;38;5;197mC (cells)                                         \u001b[0m\u001b[1;38;5;197m \u001b[0m┃\n",
       "┡━━━━━━━━━━━━━━━━━━━━━━━━━━━━━━━━━━━━━━━━━━━━━━━━━━━━╇━━━━━━━━━━━━━━━━━━━━━━━━━━━━━━━━━━━━━━━━━━━━━━━━━━━━┩\n",
       "│ AnnData object with n_obs × n_vars = 981 × 143,083 │ AnnData object with n_obs × n_vars = 133,482 ×     │\n",
       "│                                                    │ 32,738                                             │\n",
       "│     var: 'chrom', 'pos', 'a0', 'a1', 'AF', 'ER2',  │     obs: 'orig.ident', 'nCount_RNA',               │\n",
       "│ 'maf', 'R2', 'contig', 'id', 'id_mask', 'quality'  │ 'nFeature_RNA', 'pool', 'individual',              │\n",
       "│                                                    │ 'percent.mt', 'latent', 'nCount_SCT',              │\n",
       "│                                                    │ 'nFeature_SCT', 'cell_type', 'cell_label', 'sex',  │\n",
       "│                                                    │ 'age', \u001b[1;38;5;197m'donor_id'\u001b[0m                                  │\n",
       "│     obsm: 'ePCs'                                   │     var: 'GeneSymbol', 'features', 'start', 'end', │\n",
       "│                                                    │ 'chrom', 'strand', 'description', 'wikigene_name', │\n",
       "│                                                    │ 'wikigene_id'                                      │\n",
       "│     varm: 'filter'                                 │     uns: 'log1p'                                   │\n",
       "└────────────────────────────────────────────────────┴────────────────────────────────────────────────────┘\n"
      ]
     },
     "metadata": {},
     "output_type": "display_data"
    },
    {
     "data": {
      "text/plain": []
     },
     "execution_count": 7,
     "metadata": {},
     "output_type": "execute_result"
    }
   ],
   "source": [
    "dd = dd[..., dd.C.obs[celltype_key] == cell_type, :].copy()\n",
    "dd"
   ]
  },
  {
   "cell_type": "code",
   "execution_count": 8,
   "metadata": {},
   "outputs": [
    {
     "data": {
      "text/plain": [
       "493"
      ]
     },
     "execution_count": 8,
     "metadata": {},
     "output_type": "execute_result"
    }
   ],
   "source": [
    "gc.collect()"
   ]
  },
  {
   "cell_type": "code",
   "execution_count": 9,
   "metadata": {},
   "outputs": [
    {
     "name": "stdout",
     "output_type": "stream",
     "text": [
      "[2025-02-10 19:00:16,399] INFO:cellink._core.donordata: Aggregated X to PB_CD8 NC\n",
      "[2025-02-10 19:00:16,400] INFO:cellink._core.donordata: Observation found for 981 donors.\n"
     ]
    },
    {
     "data": {
      "text/html": [
       "<pre style=\"white-space:pre;overflow-x:auto;line-height:normal;font-family:Menlo,'DejaVu Sans Mono',consolas,'Courier New',monospace\">       ╭──────────────────────────────────────────────────────────────────────────────────────────────────╮        \n",
       "       │ <span style=\"color: #ff005f; text-decoration-color: #ff005f; font-weight: bold\">        DonorData(981 x n_donors=143,083, n_cells_per_donor=[9-479], donor_id = 'donor_id')     </span> │        \n",
       "       ╰──────────────────────────────────────────────────────────────────────────────────────────────────╯        \n",
       "┏━━━━━━━━━━━━━━━━━━━━━━━━━━━━━━━━━━━━━━━━━━━━━━━━━━━━┳━━━━━━━━━━━━━━━━━━━━━━━━━━━━━━━━━━━━━━━━━━━━━━━━━━━━┓\n",
       "┃<span style=\"color: #ff005f; text-decoration-color: #ff005f; font-weight: bold\"> G (donors)                                         </span>┃<span style=\"color: #ff005f; text-decoration-color: #ff005f; font-weight: bold\"> C (cells)                                          </span>┃\n",
       "┡━━━━━━━━━━━━━━━━━━━━━━━━━━━━━━━━━━━━━━━━━━━━━━━━━━━━╇━━━━━━━━━━━━━━━━━━━━━━━━━━━━━━━━━━━━━━━━━━━━━━━━━━━━┩\n",
       "│ AnnData object with n_obs × n_vars = 981 × 143,083 │ AnnData object with n_obs × n_vars = 133,482 ×     │\n",
       "│                                                    │ 32,738                                             │\n",
       "│     obs: 'sex', 'age'                              │     obs: 'orig.ident', 'nCount_RNA',               │\n",
       "│                                                    │ 'nFeature_RNA', 'pool', 'individual',              │\n",
       "│                                                    │ 'percent.mt', 'latent', 'nCount_SCT',              │\n",
       "│                                                    │ 'nFeature_SCT', 'cell_type', 'cell_label', 'sex',  │\n",
       "│                                                    │ 'age', <span style=\"color: #ff005f; text-decoration-color: #ff005f; font-weight: bold\">'donor_id'</span>                                  │\n",
       "│     var: 'chrom', 'pos', 'a0', 'a1', 'AF', 'ER2',  │     var: 'GeneSymbol', 'features', 'start', 'end', │\n",
       "│ 'maf', 'R2', 'contig', 'id', 'id_mask', 'quality'  │ 'chrom', 'strand', 'description', 'wikigene_name', │\n",
       "│                                                    │ 'wikigene_id'                                      │\n",
       "│     obsm: 'ePCs', <span style=\"color: #ff005f; text-decoration-color: #ff005f; font-weight: bold\">'PB_CD8 NC'</span>                      │     uns: 'log1p'                                   │\n",
       "│     varm: 'filter'                                 │                                                    │\n",
       "└────────────────────────────────────────────────────┴────────────────────────────────────────────────────┘\n",
       "</pre>\n"
      ],
      "text/plain": [
       "       ╭──────────────────────────────────────────────────────────────────────────────────────────────────╮        \n",
       "       │ \u001b[1;38;5;197m        DonorData(981 x n_donors=143,083, n_cells_per_donor=[9-479], donor_id = 'donor_id')     \u001b[0m │        \n",
       "       ╰──────────────────────────────────────────────────────────────────────────────────────────────────╯        \n",
       "┏━━━━━━━━━━━━━━━━━━━━━━━━━━━━━━━━━━━━━━━━━━━━━━━━━━━━┳━━━━━━━━━━━━━━━━━━━━━━━━━━━━━━━━━━━━━━━━━━━━━━━━━━━━┓\n",
       "┃\u001b[1;38;5;197m \u001b[0m\u001b[1;38;5;197mG (donors)                                        \u001b[0m\u001b[1;38;5;197m \u001b[0m┃\u001b[1;38;5;197m \u001b[0m\u001b[1;38;5;197mC (cells)                                         \u001b[0m\u001b[1;38;5;197m \u001b[0m┃\n",
       "┡━━━━━━━━━━━━━━━━━━━━━━━━━━━━━━━━━━━━━━━━━━━━━━━━━━━━╇━━━━━━━━━━━━━━━━━━━━━━━━━━━━━━━━━━━━━━━━━━━━━━━━━━━━┩\n",
       "│ AnnData object with n_obs × n_vars = 981 × 143,083 │ AnnData object with n_obs × n_vars = 133,482 ×     │\n",
       "│                                                    │ 32,738                                             │\n",
       "│     obs: 'sex', 'age'                              │     obs: 'orig.ident', 'nCount_RNA',               │\n",
       "│                                                    │ 'nFeature_RNA', 'pool', 'individual',              │\n",
       "│                                                    │ 'percent.mt', 'latent', 'nCount_SCT',              │\n",
       "│                                                    │ 'nFeature_SCT', 'cell_type', 'cell_label', 'sex',  │\n",
       "│                                                    │ 'age', \u001b[1;38;5;197m'donor_id'\u001b[0m                                  │\n",
       "│     var: 'chrom', 'pos', 'a0', 'a1', 'AF', 'ER2',  │     var: 'GeneSymbol', 'features', 'start', 'end', │\n",
       "│ 'maf', 'R2', 'contig', 'id', 'id_mask', 'quality'  │ 'chrom', 'strand', 'description', 'wikigene_name', │\n",
       "│                                                    │ 'wikigene_id'                                      │\n",
       "│     obsm: 'ePCs', \u001b[1;38;5;197m'PB_CD8 NC'\u001b[0m                      │     uns: 'log1p'                                   │\n",
       "│     varm: 'filter'                                 │                                                    │\n",
       "└────────────────────────────────────────────────────┴────────────────────────────────────────────────────┘\n"
      ]
     },
     "metadata": {},
     "output_type": "display_data"
    },
    {
     "data": {
      "text/plain": []
     },
     "execution_count": 9,
     "metadata": {},
     "output_type": "execute_result"
    }
   ],
   "source": [
    "dd.aggregate(key_added=pb_gex_key, sync_var=True, verbose=True)\n",
    "dd.aggregate(obs=[\"sex\", \"age\"], func=\"first\", add_to_obs=True)\n",
    "dd"
   ]
  },
  {
   "cell_type": "code",
   "execution_count": 10,
   "metadata": {},
   "outputs": [
    {
     "data": {
      "text/plain": [
       "(981, 32738)"
      ]
     },
     "execution_count": 10,
     "metadata": {},
     "output_type": "execute_result"
    }
   ],
   "source": [
    "dd.G.obsm[pb_gex_key].shape"
   ]
  },
  {
   "cell_type": "code",
   "execution_count": 11,
   "metadata": {},
   "outputs": [],
   "source": [
    "gpcs = pd.read_csv(gpc_path, sep=r\"\\s+\", index_col=1, header=None).drop(columns=0)\n",
    "dd.G.obsm[\"gPCs\"] = gpcs.loc[dd.G.obs_names].iloc[:, :n_gpcs]"
   ]
  },
  {
   "cell_type": "code",
   "execution_count": 12,
   "metadata": {},
   "outputs": [
    {
     "name": "stdout",
     "output_type": "stream",
     "text": [
      "PB_CD8 NC shape: (981, 32738)\n",
      "dd.shape: (981, 143083, 133482, 32738)\n",
      "after filtering\n",
      "PB_CD8 NC shape: (981, 14119)\n",
      "dd.shape: (981, 143083, 133482, 14119)\n"
     ]
    }
   ],
   "source": [
    "print(f\"{pb_gex_key} shape:\", dd.G.obsm[pb_gex_key].shape)\n",
    "print(\"dd.shape:\", dd.shape)\n",
    "\n",
    "keep_genes = ((dd.G.obsm[pb_gex_key] > 0).mean(axis=0) >= min_percent_donors_expressed).values\n",
    "dd = dd[..., keep_genes]\n",
    "print(\"after filtering\")\n",
    "print(f\"{pb_gex_key} shape:\", dd.G.obsm[pb_gex_key].shape)\n",
    "print(\"dd.shape:\", dd.shape)"
   ]
  },
  {
   "cell_type": "code",
   "execution_count": 13,
   "metadata": {},
   "outputs": [],
   "source": [
    "F = np.concatenate(\n",
    "    [\n",
    "        np.ones((dd.shape[0], 1)),\n",
    "        dd.G.obs[[\"sex\"]].values - 1,\n",
    "        dd.G.obs[[\"age\"]].values,\n",
    "        dd.G.obsm[\"gPCs\"].values,\n",
    "        dd.G.obsm[\"ePCs\"],\n",
    "    ],\n",
    "    axis=1,\n",
    ")\n",
    "F[:, 2:] = column_normalize(F[:, 2:])"
   ]
  },
  {
   "cell_type": "code",
   "execution_count": 14,
   "metadata": {},
   "outputs": [
    {
     "data": {
      "text/html": [
       "<pre style=\"white-space:pre;overflow-x:auto;line-height:normal;font-family:Menlo,'DejaVu Sans Mono',consolas,'Courier New',monospace\">       ╭──────────────────────────────────────────────────────────────────────────────────────────────────╮        \n",
       "       │ <span style=\"color: #ff005f; text-decoration-color: #ff005f; font-weight: bold\">        DonorData(981 x n_donors=143,083, n_cells_per_donor=[9-479], donor_id = 'donor_id')     </span> │        \n",
       "       ╰──────────────────────────────────────────────────────────────────────────────────────────────────╯        \n",
       "┏━━━━━━━━━━━━━━━━━━━━━━━━━━━━━━━━━━━━━━━━━━━━━━━━━━━━┳━━━━━━━━━━━━━━━━━━━━━━━━━━━━━━━━━━━━━━━━━━━━━━━━━━━━┓\n",
       "┃<span style=\"color: #ff005f; text-decoration-color: #ff005f; font-weight: bold\"> G (donors)                                         </span>┃<span style=\"color: #ff005f; text-decoration-color: #ff005f; font-weight: bold\"> C (cells)                                          </span>┃\n",
       "┡━━━━━━━━━━━━━━━━━━━━━━━━━━━━━━━━━━━━━━━━━━━━━━━━━━━━╇━━━━━━━━━━━━━━━━━━━━━━━━━━━━━━━━━━━━━━━━━━━━━━━━━━━━┩\n",
       "│ AnnData object with n_obs × n_vars = 981 × 143,083 │ AnnData object with n_obs × n_vars = 133,482 × 360 │\n",
       "│     obs: 'sex', 'age'                              │     obs: 'orig.ident', 'nCount_RNA',               │\n",
       "│                                                    │ 'nFeature_RNA', 'pool', 'individual',              │\n",
       "│                                                    │ 'percent.mt', 'latent', 'nCount_SCT',              │\n",
       "│                                                    │ 'nFeature_SCT', 'cell_type', 'cell_label', 'sex',  │\n",
       "│                                                    │ 'age', <span style=\"color: #ff005f; text-decoration-color: #ff005f; font-weight: bold\">'donor_id'</span>                                  │\n",
       "│     var: 'chrom', 'pos', 'a0', 'a1', 'AF', 'ER2',  │     var: 'GeneSymbol', 'features', 'start', 'end', │\n",
       "│ 'maf', 'R2', 'contig', 'id', 'id_mask', 'quality'  │ 'chrom', 'strand', 'description', 'wikigene_name', │\n",
       "│                                                    │ 'wikigene_id'                                      │\n",
       "│     obsm: 'ePCs', <span style=\"color: #ff005f; text-decoration-color: #ff005f; font-weight: bold\">'PB_CD8 NC', </span>'gPCs'              │     uns: 'log1p'                                   │\n",
       "│     varm: 'filter'                                 │                                                    │\n",
       "└────────────────────────────────────────────────────┴────────────────────────────────────────────────────┘\n",
       "</pre>\n"
      ],
      "text/plain": [
       "       ╭──────────────────────────────────────────────────────────────────────────────────────────────────╮        \n",
       "       │ \u001b[1;38;5;197m        DonorData(981 x n_donors=143,083, n_cells_per_donor=[9-479], donor_id = 'donor_id')     \u001b[0m │        \n",
       "       ╰──────────────────────────────────────────────────────────────────────────────────────────────────╯        \n",
       "┏━━━━━━━━━━━━━━━━━━━━━━━━━━━━━━━━━━━━━━━━━━━━━━━━━━━━┳━━━━━━━━━━━━━━━━━━━━━━━━━━━━━━━━━━━━━━━━━━━━━━━━━━━━┓\n",
       "┃\u001b[1;38;5;197m \u001b[0m\u001b[1;38;5;197mG (donors)                                        \u001b[0m\u001b[1;38;5;197m \u001b[0m┃\u001b[1;38;5;197m \u001b[0m\u001b[1;38;5;197mC (cells)                                         \u001b[0m\u001b[1;38;5;197m \u001b[0m┃\n",
       "┡━━━━━━━━━━━━━━━━━━━━━━━━━━━━━━━━━━━━━━━━━━━━━━━━━━━━╇━━━━━━━━━━━━━━━━━━━━━━━━━━━━━━━━━━━━━━━━━━━━━━━━━━━━┩\n",
       "│ AnnData object with n_obs × n_vars = 981 × 143,083 │ AnnData object with n_obs × n_vars = 133,482 × 360 │\n",
       "│     obs: 'sex', 'age'                              │     obs: 'orig.ident', 'nCount_RNA',               │\n",
       "│                                                    │ 'nFeature_RNA', 'pool', 'individual',              │\n",
       "│                                                    │ 'percent.mt', 'latent', 'nCount_SCT',              │\n",
       "│                                                    │ 'nFeature_SCT', 'cell_type', 'cell_label', 'sex',  │\n",
       "│                                                    │ 'age', \u001b[1;38;5;197m'donor_id'\u001b[0m                                  │\n",
       "│     var: 'chrom', 'pos', 'a0', 'a1', 'AF', 'ER2',  │     var: 'GeneSymbol', 'features', 'start', 'end', │\n",
       "│ 'maf', 'R2', 'contig', 'id', 'id_mask', 'quality'  │ 'chrom', 'strand', 'description', 'wikigene_name', │\n",
       "│                                                    │ 'wikigene_id'                                      │\n",
       "│     obsm: 'ePCs', \u001b[1;38;5;197m'PB_CD8 NC', \u001b[0m'gPCs'              │     uns: 'log1p'                                   │\n",
       "│     varm: 'filter'                                 │                                                    │\n",
       "└────────────────────────────────────────────────────┴────────────────────────────────────────────────────┘\n"
      ]
     },
     "metadata": {},
     "output_type": "display_data"
    },
    {
     "data": {
      "text/plain": []
     },
     "execution_count": 14,
     "metadata": {},
     "output_type": "execute_result"
    }
   ],
   "source": [
    "# alternative to dd[:, dd.G.var.chrom == str(chrom), :, dd.C.var.chrom == str(chrom)]\n",
    "dd = dd.sel(G_var=dd.G.var.chrom == str(chrom), C_var=dd.C.var.chrom == str(chrom)).copy()\n",
    "dd"
   ]
  },
  {
   "cell_type": "code",
   "execution_count": 15,
   "metadata": {},
   "outputs": [
    {
     "data": {
      "application/vnd.jupyter.widget-view+json": {
       "model_id": "26a93278727d4e43bc6b833f2f6bfa5d",
       "version_major": 2,
       "version_minor": 0
      },
      "text/plain": [
       "  0%|          | 0/360 [00:00<?, ?it/s]"
      ]
     },
     "metadata": {},
     "output_type": "display_data"
    },
    {
     "data": {
      "text/html": [
       "<div>\n",
       "<style scoped>\n",
       "    .dataframe tbody tr th:only-of-type {\n",
       "        vertical-align: middle;\n",
       "    }\n",
       "\n",
       "    .dataframe tbody tr th {\n",
       "        vertical-align: top;\n",
       "    }\n",
       "\n",
       "    .dataframe thead th {\n",
       "        text-align: right;\n",
       "    }\n",
       "</style>\n",
       "<table border=\"1\" class=\"dataframe\">\n",
       "  <thead>\n",
       "    <tr style=\"text-align: right;\">\n",
       "      <th></th>\n",
       "      <th>snp</th>\n",
       "      <th>egene</th>\n",
       "      <th>n_cis_snps</th>\n",
       "      <th>pv</th>\n",
       "      <th>beta</th>\n",
       "      <th>betaste</th>\n",
       "      <th>lrt</th>\n",
       "    </tr>\n",
       "  </thead>\n",
       "  <tbody>\n",
       "    <tr>\n",
       "      <th>0</th>\n",
       "      <td>22_17476696_T_C</td>\n",
       "      <td>ENSG00000100181</td>\n",
       "      <td>1688</td>\n",
       "      <td>2.071223e-03</td>\n",
       "      <td>-0.349170</td>\n",
       "      <td>0.113373</td>\n",
       "      <td>9.485322</td>\n",
       "    </tr>\n",
       "    <tr>\n",
       "      <th>1</th>\n",
       "      <td>22_17739317_G_A</td>\n",
       "      <td>ENSG00000237438</td>\n",
       "      <td>2939</td>\n",
       "      <td>4.633734e-06</td>\n",
       "      <td>-0.937499</td>\n",
       "      <td>0.204662</td>\n",
       "      <td>20.983014</td>\n",
       "    </tr>\n",
       "    <tr>\n",
       "      <th>2</th>\n",
       "      <td>22_17732851_A_G</td>\n",
       "      <td>ENSG00000177663</td>\n",
       "      <td>3188</td>\n",
       "      <td>5.967313e-04</td>\n",
       "      <td>0.312597</td>\n",
       "      <td>0.091054</td>\n",
       "      <td>11.786146</td>\n",
       "    </tr>\n",
       "    <tr>\n",
       "      <th>3</th>\n",
       "      <td>22_17986900_G_A</td>\n",
       "      <td>ENSG00000069998</td>\n",
       "      <td>3378</td>\n",
       "      <td>3.983074e-04</td>\n",
       "      <td>1.301109</td>\n",
       "      <td>0.367420</td>\n",
       "      <td>12.540117</td>\n",
       "    </tr>\n",
       "    <tr>\n",
       "      <th>4</th>\n",
       "      <td>22_17206294_C_A</td>\n",
       "      <td>ENSG00000185837</td>\n",
       "      <td>3376</td>\n",
       "      <td>1.363376e-03</td>\n",
       "      <td>0.155577</td>\n",
       "      <td>0.048583</td>\n",
       "      <td>10.254690</td>\n",
       "    </tr>\n",
       "    <tr>\n",
       "      <th>...</th>\n",
       "      <td>...</td>\n",
       "      <td>...</td>\n",
       "      <td>...</td>\n",
       "      <td>...</td>\n",
       "      <td>...</td>\n",
       "      <td>...</td>\n",
       "      <td>...</td>\n",
       "    </tr>\n",
       "    <tr>\n",
       "      <th>355</th>\n",
       "      <td>22_51100218_C_T</td>\n",
       "      <td>ENSG00000205560</td>\n",
       "      <td>3415</td>\n",
       "      <td>1.832598e-03</td>\n",
       "      <td>-0.384827</td>\n",
       "      <td>0.123496</td>\n",
       "      <td>9.710082</td>\n",
       "    </tr>\n",
       "    <tr>\n",
       "      <th>356</th>\n",
       "      <td>22_51017082_T_A</td>\n",
       "      <td>ENSG00000100288</td>\n",
       "      <td>3337</td>\n",
       "      <td>2.352505e-04</td>\n",
       "      <td>-0.170751</td>\n",
       "      <td>0.046427</td>\n",
       "      <td>13.526244</td>\n",
       "    </tr>\n",
       "    <tr>\n",
       "      <th>357</th>\n",
       "      <td>22_51023924_C_T</td>\n",
       "      <td>ENSG00000205559</td>\n",
       "      <td>3317</td>\n",
       "      <td>9.775330e-05</td>\n",
       "      <td>0.355925</td>\n",
       "      <td>0.091354</td>\n",
       "      <td>15.179609</td>\n",
       "    </tr>\n",
       "    <tr>\n",
       "      <th>358</th>\n",
       "      <td>22_51064416_T_C</td>\n",
       "      <td>ENSG00000100299</td>\n",
       "      <td>3068</td>\n",
       "      <td>6.481592e-13</td>\n",
       "      <td>-0.489005</td>\n",
       "      <td>0.068012</td>\n",
       "      <td>51.695355</td>\n",
       "    </tr>\n",
       "    <tr>\n",
       "      <th>359</th>\n",
       "      <td>22_51146473_A_G</td>\n",
       "      <td>ENSG00000079974</td>\n",
       "      <td>2246</td>\n",
       "      <td>2.245280e-04</td>\n",
       "      <td>-1.307555</td>\n",
       "      <td>0.354381</td>\n",
       "      <td>13.613808</td>\n",
       "    </tr>\n",
       "  </tbody>\n",
       "</table>\n",
       "<p>360 rows × 7 columns</p>\n",
       "</div>"
      ],
      "text/plain": [
       "                 snp            egene  n_cis_snps            pv      beta  \\\n",
       "0    22_17476696_T_C  ENSG00000100181        1688  2.071223e-03 -0.349170   \n",
       "1    22_17739317_G_A  ENSG00000237438        2939  4.633734e-06 -0.937499   \n",
       "2    22_17732851_A_G  ENSG00000177663        3188  5.967313e-04  0.312597   \n",
       "3    22_17986900_G_A  ENSG00000069998        3378  3.983074e-04  1.301109   \n",
       "4    22_17206294_C_A  ENSG00000185837        3376  1.363376e-03  0.155577   \n",
       "..               ...              ...         ...           ...       ...   \n",
       "355  22_51100218_C_T  ENSG00000205560        3415  1.832598e-03 -0.384827   \n",
       "356  22_51017082_T_A  ENSG00000100288        3337  2.352505e-04 -0.170751   \n",
       "357  22_51023924_C_T  ENSG00000205559        3317  9.775330e-05  0.355925   \n",
       "358  22_51064416_T_C  ENSG00000100299        3068  6.481592e-13 -0.489005   \n",
       "359  22_51146473_A_G  ENSG00000079974        2246  2.245280e-04 -1.307555   \n",
       "\n",
       "      betaste        lrt  \n",
       "0    0.113373   9.485322  \n",
       "1    0.204662  20.983014  \n",
       "2    0.091054  11.786146  \n",
       "3    0.367420  12.540117  \n",
       "4    0.048583  10.254690  \n",
       "..        ...        ...  \n",
       "355  0.123496   9.710082  \n",
       "356  0.046427  13.526244  \n",
       "357  0.091354  15.179609  \n",
       "358  0.068012  51.695355  \n",
       "359  0.354381  13.613808  \n",
       "\n",
       "[360 rows x 7 columns]"
      ]
     },
     "execution_count": 15,
     "metadata": {},
     "output_type": "execute_result"
    }
   ],
   "source": [
    "results = []\n",
    "if isinstance(dd.G.X, da.Array | ad._core.views.DaskArrayView):\n",
    "    if dd.G.is_view:\n",
    "        dd._G = dd._G.copy()  # TODO: discuss with SWEs\n",
    "    dd.G.X = dd.G.X.compute()\n",
    "\n",
    "if do_debug:\n",
    "    warnings.filterwarnings(\"ignore\", category=RuntimeWarning)\n",
    "\n",
    "for gene, row in tqdm(dd.C.var.iterrows(), total=dd.shape[3]):\n",
    "    Y = gaussianize(dd.G.obsm[pb_gex_key][[gene]].values + 1e-5 * np.random.randn(dd.shape[0], 1))\n",
    "\n",
    "    start = max(0, row.start - cis_window)\n",
    "    end = row.end + cis_window\n",
    "    _G = dd.G[:, (dd.G.var.pos < end)]\n",
    "    _G = _G[:, (_G.var.pos > start)]\n",
    "    _G = _G[:, (_G.X.std(0) != 0)]\n",
    "    G = _G.X\n",
    "\n",
    "    gwas = GWAS(Y, F)\n",
    "    gwas.process(G)\n",
    "\n",
    "    snp_idx = gwas.getPv().argmin()\n",
    "\n",
    "    def _get_top_snp(arr, snp_idx=snp_idx):\n",
    "        return arr.ravel()[snp_idx].item()\n",
    "\n",
    "    rdict = {\n",
    "        \"snp\": _G.var.iloc[snp_idx].name,\n",
    "        \"egene\": gene,\n",
    "        \"n_cis_snps\": G.shape[1],\n",
    "        \"pv\": _get_top_snp(gwas.getPv()),\n",
    "        \"beta\": _get_top_snp(gwas.getBetaSNP()),\n",
    "        \"betaste\": _get_top_snp(gwas.getBetaSNPste()),\n",
    "        \"lrt\": _get_top_snp(gwas.getLRT()),\n",
    "    }\n",
    "    results.append(rdict)\n",
    "\n",
    "rdf = pd.DataFrame(results)\n",
    "rdf"
   ]
  },
  {
   "cell_type": "code",
   "execution_count": 16,
   "metadata": {},
   "outputs": [
    {
     "data": {
      "text/plain": [
       "46"
      ]
     },
     "execution_count": 16,
     "metadata": {},
     "output_type": "execute_result"
    }
   ],
   "source": [
    "rdf[\"pv_adj\"] = np.clip(rdf[\"pv\"] * rdf[\"n_cis_snps\"], 0, 1)  # gene-wise Bonferroni\n",
    "rdf[\"qv\"] = fdrcorrection(rdf[\"pv_adj\"])[1]\n",
    "\n",
    "(rdf.qv < 0.05).sum()"
   ]
  }
 ],
 "metadata": {
  "kernelspec": {
   "display_name": "scgeno",
   "language": "python",
   "name": "python3"
  },
  "language_info": {
   "codemirror_mode": {
    "name": "ipython",
    "version": 3
   },
   "file_extension": ".py",
   "mimetype": "text/x-python",
   "name": "python",
   "nbconvert_exporter": "python",
   "pygments_lexer": "ipython3",
   "version": "3.10.15"
  }
 },
 "nbformat": 4,
 "nbformat_minor": 2
}
