{
 "cells": [
  {
   "cell_type": "code",
   "execution_count": 210,
   "metadata": {},
   "outputs": [],
   "source": [
    "from typing import Union\n",
    "\n",
    "import anndata as ad\n",
    "import mudata as md\n",
    "import muon as mu\n",
    "import numpy as np\n",
    "import pandas as pd\n",
    "from anndata._core.anndata import AnnData\n",
    "from anndata.compat import Index\n",
    "\n",
    "from cellink._core.dummy_data import sim_adata, sim_gdata"
   ]
  },
  {
   "cell_type": "code",
   "execution_count": 334,
   "metadata": {},
   "outputs": [],
   "source": [
    "class BaseDonorData:\n",
    "    def _sync_donors(self, C, donor_id=\"donor_id\"):\n",
    "        overlap_donors = C.obs[donor_id].isin(self.obs_names)\n",
    "        if not overlap_donors.any():\n",
    "            raise ValueError(\n",
    "                (\n",
    "                    \"No overlapping donors between DonorData and C,\"\n",
    "                    \" make sure C.obs['%s'] exists and corresponds to DonorData.obs_names\"\n",
    "                ),\n",
    "                donor_id,\n",
    "            )\n",
    "        C = C[overlap_donors]\n",
    "        donor_order = pd.Series(range(len(self.obs_names)), index=self.obs_names)\n",
    "        order_cells_by_donor = C.obs[donor_id].map(donor_order).astype(int).sort_values().index\n",
    "        C = C[order_cells_by_donor]\n",
    "        return C\n",
    "\n",
    "    def _gen_repr_C(self) -> str:\n",
    "        n_cells_per_donor = self.C.obs.groupby(self.donor_id, observed=True).size()\n",
    "        min_n_cells = n_cells_per_donor.min()\n",
    "        max_n_cells = n_cells_per_donor.max()\n",
    "        _C_repr = str(self.C).split(\"\\n\")\n",
    "        C_repr = [_C_repr[0]]\n",
    "        C_repr += [\n",
    "            f\"    n_donors x n_cells x n_vars = {n_cells_per_donor.shape[0]} x [{min_n_cells}-{max_n_cells}] x {self.C.shape[1]}\"\n",
    "        ]\n",
    "        C_repr += [f\"    donor_id: {self.donor_id}\"] + _C_repr[1:]\n",
    "        C_repr = \"\\n       \".join(C_repr)\n",
    "        return C_repr\n",
    "\n",
    "    def _gen_repr(self, *args, **kwargs) -> str:\n",
    "        descr = super()._gen_repr(*args, **kwargs)\n",
    "        descr = descr.replace(self._base_cls.__name__, self.__class__.__name__)\n",
    "        descr += \"\\n    C: \" + self._gen_repr_C()\n",
    "        return descr\n",
    "\n",
    "    def _init_donor_data(self, C, donor_id=\"donor_id\"):\n",
    "        self.C = self._sync_donors(C, donor_id)\n",
    "        self.donor_id = donor_id\n",
    "\n",
    "\n",
    "class DonorAnnData(BaseDonorData, ad.AnnData):\n",
    "    _base_cls = ad.AnnData\n",
    "\n",
    "    def __init__(self, X, obs=None, var=None, uns=None, *, C, donor_id=\"donor_id\", **kwargs):\n",
    "        super().__init__(X, obs, var, uns, **kwargs)\n",
    "        self._init_donor_data(C, donor_id)\n",
    "\n",
    "    def __getitem__(self, index: Index) -> AnnData:\n",
    "        \"\"\"Returns a sliced view of the object.\"\"\"\n",
    "        oidx, vidx = self._normalize_indices(index)\n",
    "        C = self.C[self.C.obs[self.donor_id].isin(self.obs_names[oidx])]\n",
    "        return self.__class__(self, oidx=oidx, vidx=vidx, asview=True, C=C)\n",
    "\n",
    "\n",
    "md.set_options(pull_on_update=False)\n",
    "\n",
    "\n",
    "class DonorMuData(BaseDonorData, mu.MuData):\n",
    "    _base_cls = mu.MuData\n",
    "\n",
    "    def __init__(self, mdata, *, C, donor_id=\"donor_id\", **kwargs):\n",
    "        super()._init_as_actual(mdata, **kwargs)\n",
    "        self._init_donor_data(C, donor_id)\n",
    "\n",
    "    def __getitem__(self, index) -> Union[\"MuData\", AnnData]:\n",
    "        if isinstance(index, str):\n",
    "            return self.mod[index]\n",
    "        else:\n",
    "            from anndata._core.index import _normalize_indices\n",
    "\n",
    "            obsidx, varidx = _normalize_indices(index, self.obs.index, self.var.index)\n",
    "            C = self.C[self.C.obs[self.donor_id].isin(self.obs_names[obsidx])]\n",
    "            mdata = mu.MuData(self, as_view=True, index=index)\n",
    "            return self.__class__(mdata, C=C, donor_id=self.donor_id)"
   ]
  },
  {
   "cell_type": "code",
   "execution_count": 335,
   "metadata": {},
   "outputs": [
    {
     "data": {
      "text/plain": [
       "DonorAnnData object with n_obs × n_vars = 10 × 98\n",
       "    var: 'chrom', 'pos', 'a0', 'a1', 'maf'\n",
       "    C: View of AnnData object with n_obs × n_vars = 563 × 20\n",
       "           n_donors x n_cells x n_vars = 10 x [14-94] x 20\n",
       "           donor_id: donor_id\n",
       "           obs: 'celltype', 'cov1', 'cov2', 'cov3', 'donor_id'\n",
       "           var: 'chrom', 'start', 'end', 'strand'"
      ]
     },
     "execution_count": 335,
     "metadata": {},
     "output_type": "execute_result"
    }
   ],
   "source": [
    "adata = sim_adata()\n",
    "gdata = sim_gdata(adata=adata)\n",
    "shuffled_index = np.random.permutation(gdata.obs_names)\n",
    "gdata = gdata[shuffled_index].copy()\n",
    "dd = DonorAnnData(gdata, C=adata)\n",
    "assert (dd.obs_names == dd.C.obs[\"donor_id\"].unique()).all()\n",
    "dd"
   ]
  },
  {
   "cell_type": "code",
   "execution_count": 336,
   "metadata": {},
   "outputs": [
    {
     "name": "stdout",
     "output_type": "stream",
     "text": [
      "DonorMuData object with n_obs × n_vars = 10 × 98\n",
      "  1 modality\n",
      "    geno:\t10 x 98\n",
      "      var:\t'chrom', 'pos', 'a0', 'a1', 'maf'\n",
      "    C: View of AnnData object with n_obs × n_vars = 563 × 20\n",
      "           n_donors x n_cells x n_vars = 10 x [14-94] x 20\n",
      "           donor_id: donor_id\n",
      "           obs: 'celltype', 'cov1', 'cov2', 'cov3', 'donor_id'\n",
      "           var: 'chrom', 'start', 'end', 'strand'\n"
     ]
    }
   ],
   "source": [
    "mgdata = mu.MuData({\"geno\": gdata})\n",
    "mdd = DonorMuData(mgdata, C=adata)\n",
    "assert (mdd.obs_names == mdd.C.obs[\"donor_id\"].unique()).all()\n",
    "print(mdd)"
   ]
  },
  {
   "cell_type": "code",
   "execution_count": 338,
   "metadata": {},
   "outputs": [
    {
     "data": {
      "text/html": [
       "<pre>MuData object with n_obs × n_vars = 563 × 20\n",
       "  1 modality\n",
       "    rna:\t563 x 20\n",
       "      obs:\t&#x27;celltype&#x27;, &#x27;cov1&#x27;, &#x27;cov2&#x27;, &#x27;cov3&#x27;, &#x27;donor_id&#x27;\n",
       "      var:\t&#x27;chrom&#x27;, &#x27;start&#x27;, &#x27;end&#x27;, &#x27;strand&#x27;</pre>"
      ],
      "text/plain": [
       "MuData object with n_obs × n_vars = 563 × 20\n",
       "  1 modality\n",
       "    rna:\t563 x 20\n",
       "      obs:\t'celltype', 'cov1', 'cov2', 'cov3', 'donor_id'\n",
       "      var:\t'chrom', 'start', 'end', 'strand'"
      ]
     },
     "execution_count": 338,
     "metadata": {},
     "output_type": "execute_result"
    }
   ],
   "source": [
    "madata = mu.MuData({\"rna\": adata})\n",
    "madata"
   ]
  },
  {
   "cell_type": "code",
   "execution_count": 343,
   "metadata": {},
   "outputs": [
    {
     "data": {
      "text/plain": [
       "Index(['D0', 'D3', 'D4', 'D6', 'D1', 'D9', 'D5', 'D8', 'D7', 'D2'], dtype='object', name='donor_id')"
      ]
     },
     "execution_count": 343,
     "metadata": {},
     "output_type": "execute_result"
    }
   ],
   "source": [
    "mgdata.obs_names"
   ]
  },
  {
   "cell_type": "code",
   "execution_count": 351,
   "metadata": {},
   "outputs": [
    {
     "name": "stdout",
     "output_type": "stream",
     "text": [
      "DonorMuData object with n_obs × n_vars = 10 × 98\n",
      "  1 modality\n",
      "    geno:\t10 x 98\n",
      "      var:\t'chrom', 'pos', 'a0', 'a1', 'maf'\n",
      "    C: View of MuData object with n_obs × n_vars = 563 × 20\n",
      "           n_donors x n_cells x n_vars = 10 x [14-94] x 20\n",
      "           donor_id: donor_id\n",
      "         obs:\t'donor_id'\n",
      "         1 modality\n",
      "           rna:\t563 x 20\n",
      "             obs:\t'celltype', 'cov1', 'cov2', 'cov3', 'donor_id'\n",
      "             var:\t'chrom', 'start', 'end', 'strand'\n"
     ]
    }
   ],
   "source": [
    "mgdata = mu.MuData({\"geno\": gdata})\n",
    "madata = mu.MuData({\"rna\": adata})\n",
    "madata.obs[\"donor_id\"] = madata[\"rna\"].obs[\"donor_id\"]\n",
    "mdd = DonorMuData(mgdata, C=madata, donor_id=\"donor_id\")\n",
    "assert (mdd.obs_names == mdd.C.obs[\"donor_id\"].unique()).all()\n",
    "print(mdd)"
   ]
  },
  {
   "cell_type": "code",
   "execution_count": 353,
   "metadata": {},
   "outputs": [
    {
     "data": {
      "text/html": [
       "<pre>DonorMuData object with n_obs × n_vars = 2 × 98\n",
       "  1 modality\n",
       "    geno:\t2 x 98\n",
       "      var:\t&#x27;chrom&#x27;, &#x27;pos&#x27;, &#x27;a0&#x27;, &#x27;a1&#x27;, &#x27;maf&#x27;\n",
       "    C: View of MuData object with n_obs × n_vars = 153 × 20\n",
       "           n_donors x n_cells x n_vars = 2 x [59-94] x 20\n",
       "           donor_id: donor_id\n",
       "         obs:\t&#x27;donor_id&#x27;\n",
       "         1 modality\n",
       "           rna:\t153 x 20\n",
       "             obs:\t&#x27;celltype&#x27;, &#x27;cov1&#x27;, &#x27;cov2&#x27;, &#x27;cov3&#x27;, &#x27;donor_id&#x27;\n",
       "             var:\t&#x27;chrom&#x27;, &#x27;start&#x27;, &#x27;end&#x27;, &#x27;strand&#x27;</pre>"
      ],
      "text/plain": [
       "DonorMuData object with n_obs × n_vars = 2 × 98\n",
       "  1 modality\n",
       "    geno:\t2 x 98\n",
       "      var:\t'chrom', 'pos', 'a0', 'a1', 'maf'\n",
       "    C: View of MuData object with n_obs × n_vars = 153 × 20\n",
       "           n_donors x n_cells x n_vars = 2 x [59-94] x 20\n",
       "           donor_id: donor_id\n",
       "         obs:\t'donor_id'\n",
       "         1 modality\n",
       "           rna:\t153 x 20\n",
       "             obs:\t'celltype', 'cov1', 'cov2', 'cov3', 'donor_id'\n",
       "             var:\t'chrom', 'start', 'end', 'strand'"
      ]
     },
     "execution_count": 353,
     "metadata": {},
     "output_type": "execute_result"
    }
   ],
   "source": [
    "mdd[[\"D0\", \"D7\"]]"
   ]
  },
  {
   "cell_type": "code",
   "execution_count": null,
   "metadata": {},
   "outputs": [],
   "source": []
  }
 ],
 "metadata": {
  "kernelspec": {
   "display_name": "scgeno",
   "language": "python",
   "name": "python3"
  },
  "language_info": {
   "codemirror_mode": {
    "name": "ipython",
    "version": 3
   },
   "file_extension": ".py",
   "mimetype": "text/x-python",
   "name": "python",
   "nbconvert_exporter": "python",
   "pygments_lexer": "ipython3",
   "version": "3.10.15"
  }
 },
 "nbformat": 4,
 "nbformat_minor": 2
}
