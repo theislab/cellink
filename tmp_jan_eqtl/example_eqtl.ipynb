{
 "cells": [
  {
   "cell_type": "code",
   "execution_count": 1,
   "metadata": {},
   "outputs": [
    {
     "name": "stderr",
     "output_type": "stream",
     "text": [
      "/Users/jan.engelmann/mambaforge/envs/scgeno/lib/python3.10/site-packages/anndata/utils.py:429: FutureWarning: Importing read_csv from `anndata` is deprecated. Import anndata.io.read_csv instead.\n",
      "  warnings.warn(msg, FutureWarning)\n",
      "/Users/jan.engelmann/mambaforge/envs/scgeno/lib/python3.10/site-packages/anndata/utils.py:429: FutureWarning: Importing read_excel from `anndata` is deprecated. Import anndata.io.read_excel instead.\n",
      "  warnings.warn(msg, FutureWarning)\n",
      "/Users/jan.engelmann/mambaforge/envs/scgeno/lib/python3.10/site-packages/anndata/utils.py:429: FutureWarning: Importing read_hdf from `anndata` is deprecated. Import anndata.io.read_hdf instead.\n",
      "  warnings.warn(msg, FutureWarning)\n",
      "/Users/jan.engelmann/mambaforge/envs/scgeno/lib/python3.10/site-packages/anndata/utils.py:429: FutureWarning: Importing read_loom from `anndata` is deprecated. Import anndata.io.read_loom instead.\n",
      "  warnings.warn(msg, FutureWarning)\n",
      "/Users/jan.engelmann/mambaforge/envs/scgeno/lib/python3.10/site-packages/anndata/utils.py:429: FutureWarning: Importing read_mtx from `anndata` is deprecated. Import anndata.io.read_mtx instead.\n",
      "  warnings.warn(msg, FutureWarning)\n",
      "/Users/jan.engelmann/mambaforge/envs/scgeno/lib/python3.10/site-packages/anndata/utils.py:429: FutureWarning: Importing read_text from `anndata` is deprecated. Import anndata.io.read_text instead.\n",
      "  warnings.warn(msg, FutureWarning)\n",
      "/Users/jan.engelmann/mambaforge/envs/scgeno/lib/python3.10/site-packages/anndata/utils.py:429: FutureWarning: Importing read_umi_tools from `anndata` is deprecated. Import anndata.io.read_umi_tools instead.\n",
      "  warnings.warn(msg, FutureWarning)\n"
     ]
    }
   ],
   "source": [
    "import gc\n",
    "from pathlib import Path\n",
    "\n",
    "import anndata as ad\n",
    "import dask.array as da\n",
    "import numpy as np\n",
    "import pandas as pd\n",
    "import scanpy as sc\n",
    "from statsmodels.stats.multitest import fdrcorrection\n",
    "from tqdm.auto import tqdm\n",
    "from utils import GWAS, column_normalize, gaussianize\n",
    "\n",
    "import cellink as cl\n",
    "from cellink._core import DAnn, GAnn"
   ]
  },
  {
   "cell_type": "code",
   "execution_count": 2,
   "metadata": {},
   "outputs": [],
   "source": [
    "DATA = Path(cl.__file__).parent.parent.parent / \"data\"\n",
    "\n",
    "gpc_path = DATA / \"OneK1K_imputation_post_qc_r2_08/pcdir/wgs.dose.filtered.R2_0.8.filtered.pruned.eigenvec\"\n",
    "adata_path = DATA / \"OneK1K_cohort_gene_expression_matrix_14_celltypes.h5ad.gz\"\n",
    "gdata_path = DATA / \"OneK1K_imputation_post_qc_r2_08/filter_zarr_r08/chr22.dose.filtered.R2_0.8.vcz\""
   ]
  },
  {
   "cell_type": "code",
   "execution_count": 3,
   "metadata": {},
   "outputs": [],
   "source": [
    "n_gpcs = 20\n",
    "n_epcs = 15\n",
    "chrom = 22\n",
    "cis_window = 500_000\n",
    "cell_type = \"CD4 ET\"\n",
    "pb_gex_key = f\"PB_{cell_type}\"  # pseudobulk expression in dd.D.obsm[key_added]\n",
    "original_donor_col = \"individual\"\n",
    "batch_e_pcs_n_top_genes = 2000\n",
    "min_percent_donors_expressed = 0.1\n",
    "celltype_key = \"cell_label\"\n",
    "do_debug = False"
   ]
  },
  {
   "cell_type": "code",
   "execution_count": 4,
   "metadata": {},
   "outputs": [
    {
     "data": {
      "text/plain": [
       "AnnData object with n_obs × n_vars = 1272489 × 32738\n",
       "    obs: 'orig.ident', 'nCount_RNA', 'nFeature_RNA', 'pool', 'individual', 'percent.mt', 'latent', 'nCount_SCT', 'nFeature_SCT', 'cell_type', 'cell_label', 'sex', 'age', 'donor_id'\n",
       "    var: 'GeneSymbol', 'features', 'start', 'end', 'chrom', 'strand', 'description', 'wikigene_name', 'wikigene_id'"
      ]
     },
     "execution_count": 4,
     "metadata": {},
     "output_type": "execute_result"
    }
   ],
   "source": [
    "if do_debug:\n",
    "    adata_path = DATA / \"debug_OneK1K_cohort_gene_expression_matrix_14_celltypes.h5ad\"\n",
    "\n",
    "adata = ad.read_h5ad(adata_path)\n",
    "gdata = cl.io.read_sgkit_zarr(gdata_path)\n",
    "\n",
    "gene_ann = pd.read_csv(DATA / \"gene_annotation.csv\").set_index(\"ensembl_gene_id\")\n",
    "adata.var = pd.concat([adata.var, gene_ann.loc[adata.var.index]], axis=1).rename(\n",
    "    columns={\n",
    "        \"start_position\": GAnn.start,\n",
    "        \"end_position\": GAnn.end,\n",
    "        \"chromosome_name\": GAnn.chrom,\n",
    "    }\n",
    ")\n",
    "adata.obs[DAnn.donor] = adata.obs[original_donor_col]\n",
    "adata"
   ]
  },
  {
   "cell_type": "code",
   "execution_count": 5,
   "metadata": {},
   "outputs": [],
   "source": [
    "sc.pp.normalize_total(adata)\n",
    "sc.pp.log1p(adata)\n",
    "sc.pp.normalize_total(adata)\n",
    "\n",
    "mdata = sc.get.aggregate(adata, by=DAnn.donor, func=\"mean\")\n",
    "mdata.X = mdata.layers.pop(\"mean\")\n",
    "\n",
    "sc.pp.highly_variable_genes(mdata, n_top_genes=batch_e_pcs_n_top_genes)\n",
    "sc.tl.pca(mdata, n_comps=n_epcs)"
   ]
  },
  {
   "cell_type": "code",
   "execution_count": 6,
   "metadata": {},
   "outputs": [
    {
     "data": {
      "text/plain": [
       "AnnData object with n_obs × n_vars = 981 × 32738\n",
       "    obs: 'donor_id'\n",
       "    var: 'GeneSymbol', 'features', 'start', 'end', 'chrom', 'strand', 'description', 'wikigene_name', 'wikigene_id', 'highly_variable', 'means', 'dispersions', 'dispersions_norm'\n",
       "    uns: 'hvg', 'pca'\n",
       "    obsm: 'X_pca'\n",
       "    varm: 'PCs'"
      ]
     },
     "execution_count": 6,
     "metadata": {},
     "output_type": "execute_result"
    }
   ],
   "source": [
    "mdata"
   ]
  },
  {
   "cell_type": "code",
   "execution_count": 7,
   "metadata": {},
   "outputs": [
    {
     "data": {
      "text/plain": [
       "439"
      ]
     },
     "execution_count": 7,
     "metadata": {},
     "output_type": "execute_result"
    }
   ],
   "source": [
    "adata = adata[adata.obs[celltype_key] == cell_type].copy()\n",
    "gc.collect()"
   ]
  },
  {
   "cell_type": "code",
   "execution_count": 8,
   "metadata": {},
   "outputs": [
    {
     "data": {
      "text/html": [
       "<pre style=\"white-space:pre;overflow-x:auto;line-height:normal;font-family:Menlo,'DejaVu Sans Mono',consolas,'Courier New',monospace\">┏━━━━━━━━━━━━━━━━━━━━━━━━━━━━━━━━━━━━━━━━━━━━━━━━━━━━┳━━━━━━━━━━━━━━━━━━━━━━━━━━━━━━━━━━━━━━━━━━━━━━━━━━━━┓\n",
       "┃<span style=\"color: #ff005f; text-decoration-color: #ff005f; font-weight: bold\"> D (donors)                                         </span>┃<span style=\"color: #ff005f; text-decoration-color: #ff005f; font-weight: bold\"> C (cells)                                          </span>┃\n",
       "┡━━━━━━━━━━━━━━━━━━━━━━━━━━━━━━━━━━━━━━━━━━━━━━━━━━━━╇━━━━━━━━━━━━━━━━━━━━━━━━━━━━━━━━━━━━━━━━━━━━━━━━━━━━┩\n",
       "│ AnnData object with n_obs × n_vars = 981 × 143083  │ AnnData object with n_obs × n_vars = 61786 × 32738 │\n",
       "│     var: 'chrom', 'pos', 'a0', 'a1', 'AF', 'ER2',  │     obs: 'orig.ident', 'nCount_RNA',               │\n",
       "│ 'maf', 'R2', 'contig', 'id', 'id_mask', 'quality'  │ 'nFeature_RNA', 'pool', 'individual',              │\n",
       "│                                                    │ 'percent.mt', 'latent', 'nCount_SCT',              │\n",
       "│                                                    │ 'nFeature_SCT', 'cell_type', 'cell_label', 'sex',  │\n",
       "│                                                    │ 'age', <span style=\"color: #ff005f; text-decoration-color: #ff005f; font-weight: bold\">'donor_id'</span>                                  │\n",
       "│     varm: 'filter'                                 │     var: 'GeneSymbol', 'features', 'start', 'end', │\n",
       "│                                                    │ 'chrom', 'strand', 'description', 'wikigene_name', │\n",
       "│                                                    │ 'wikigene_id'                                      │\n",
       "│                                                    │     uns: 'log1p'                                   │\n",
       "└────────────────────────────────────────────────────┴────────────────────────────────────────────────────┘\n",
       "</pre>\n"
      ],
      "text/plain": [
       "┏━━━━━━━━━━━━━━━━━━━━━━━━━━━━━━━━━━━━━━━━━━━━━━━━━━━━┳━━━━━━━━━━━━━━━━━━━━━━━━━━━━━━━━━━━━━━━━━━━━━━━━━━━━┓\n",
       "┃\u001b[1;38;5;197m \u001b[0m\u001b[1;38;5;197mD (donors)                                        \u001b[0m\u001b[1;38;5;197m \u001b[0m┃\u001b[1;38;5;197m \u001b[0m\u001b[1;38;5;197mC (cells)                                         \u001b[0m\u001b[1;38;5;197m \u001b[0m┃\n",
       "┡━━━━━━━━━━━━━━━━━━━━━━━━━━━━━━━━━━━━━━━━━━━━━━━━━━━━╇━━━━━━━━━━━━━━━━━━━━━━━━━━━━━━━━━━━━━━━━━━━━━━━━━━━━┩\n",
       "│ AnnData object with n_obs × n_vars = 981 × 143083  │ AnnData object with n_obs × n_vars = 61786 × 32738 │\n",
       "│     var: 'chrom', 'pos', 'a0', 'a1', 'AF', 'ER2',  │     obs: 'orig.ident', 'nCount_RNA',               │\n",
       "│ 'maf', 'R2', 'contig', 'id', 'id_mask', 'quality'  │ 'nFeature_RNA', 'pool', 'individual',              │\n",
       "│                                                    │ 'percent.mt', 'latent', 'nCount_SCT',              │\n",
       "│                                                    │ 'nFeature_SCT', 'cell_type', 'cell_label', 'sex',  │\n",
       "│                                                    │ 'age', \u001b[1;38;5;197m'donor_id'\u001b[0m                                  │\n",
       "│     varm: 'filter'                                 │     var: 'GeneSymbol', 'features', 'start', 'end', │\n",
       "│                                                    │ 'chrom', 'strand', 'description', 'wikigene_name', │\n",
       "│                                                    │ 'wikigene_id'                                      │\n",
       "│                                                    │     uns: 'log1p'                                   │\n",
       "└────────────────────────────────────────────────────┴────────────────────────────────────────────────────┘\n"
      ]
     },
     "metadata": {},
     "output_type": "display_data"
    },
    {
     "data": {
      "text/plain": []
     },
     "execution_count": 8,
     "metadata": {},
     "output_type": "execute_result"
    }
   ],
   "source": [
    "dd = cl.DonorData(C=adata, D=gdata).copy()\n",
    "dd"
   ]
  },
  {
   "cell_type": "code",
   "execution_count": 9,
   "metadata": {},
   "outputs": [
    {
     "data": {
      "text/html": [
       "<pre style=\"white-space:pre;overflow-x:auto;line-height:normal;font-family:Menlo,'DejaVu Sans Mono',consolas,'Courier New',monospace\">┏━━━━━━━━━━━━━━━━━━━━━━━━━━━━━━━━━━━━━━━━━━━━━━━━━━━━┳━━━━━━━━━━━━━━━━━━━━━━━━━━━━━━━━━━━━━━━━━━━━━━━━━━━━┓\n",
       "┃<span style=\"color: #ff005f; text-decoration-color: #ff005f; font-weight: bold\"> D (donors)                                         </span>┃<span style=\"color: #ff005f; text-decoration-color: #ff005f; font-weight: bold\"> C (cells)                                          </span>┃\n",
       "┡━━━━━━━━━━━━━━━━━━━━━━━━━━━━━━━━━━━━━━━━━━━━━━━━━━━━╇━━━━━━━━━━━━━━━━━━━━━━━━━━━━━━━━━━━━━━━━━━━━━━━━━━━━┩\n",
       "│ AnnData object with n_obs × n_vars = 981 × 143083  │ AnnData object with n_obs × n_vars = 61786 × 32738 │\n",
       "│     obs: 'sex', 'age'                              │     obs: 'orig.ident', 'nCount_RNA',               │\n",
       "│                                                    │ 'nFeature_RNA', 'pool', 'individual',              │\n",
       "│                                                    │ 'percent.mt', 'latent', 'nCount_SCT',              │\n",
       "│                                                    │ 'nFeature_SCT', 'cell_type', 'cell_label', 'sex',  │\n",
       "│                                                    │ 'age', <span style=\"color: #ff005f; text-decoration-color: #ff005f; font-weight: bold\">'donor_id'</span>                                  │\n",
       "│     var: 'chrom', 'pos', 'a0', 'a1', 'AF', 'ER2',  │     var: 'GeneSymbol', 'features', 'start', 'end', │\n",
       "│ 'maf', 'R2', 'contig', 'id', 'id_mask', 'quality'  │ 'chrom', 'strand', 'description', 'wikigene_name', │\n",
       "│                                                    │ 'wikigene_id'                                      │\n",
       "│     obsm: <span style=\"color: #ff005f; text-decoration-color: #ff005f; font-weight: bold\">'PB_CD4 ET'</span>                              │     uns: 'log1p'                                   │\n",
       "│     varm: 'filter'                                 │                                                    │\n",
       "└────────────────────────────────────────────────────┴────────────────────────────────────────────────────┘\n",
       "</pre>\n"
      ],
      "text/plain": [
       "┏━━━━━━━━━━━━━━━━━━━━━━━━━━━━━━━━━━━━━━━━━━━━━━━━━━━━┳━━━━━━━━━━━━━━━━━━━━━━━━━━━━━━━━━━━━━━━━━━━━━━━━━━━━┓\n",
       "┃\u001b[1;38;5;197m \u001b[0m\u001b[1;38;5;197mD (donors)                                        \u001b[0m\u001b[1;38;5;197m \u001b[0m┃\u001b[1;38;5;197m \u001b[0m\u001b[1;38;5;197mC (cells)                                         \u001b[0m\u001b[1;38;5;197m \u001b[0m┃\n",
       "┡━━━━━━━━━━━━━━━━━━━━━━━━━━━━━━━━━━━━━━━━━━━━━━━━━━━━╇━━━━━━━━━━━━━━━━━━━━━━━━━━━━━━━━━━━━━━━━━━━━━━━━━━━━┩\n",
       "│ AnnData object with n_obs × n_vars = 981 × 143083  │ AnnData object with n_obs × n_vars = 61786 × 32738 │\n",
       "│     obs: 'sex', 'age'                              │     obs: 'orig.ident', 'nCount_RNA',               │\n",
       "│                                                    │ 'nFeature_RNA', 'pool', 'individual',              │\n",
       "│                                                    │ 'percent.mt', 'latent', 'nCount_SCT',              │\n",
       "│                                                    │ 'nFeature_SCT', 'cell_type', 'cell_label', 'sex',  │\n",
       "│                                                    │ 'age', \u001b[1;38;5;197m'donor_id'\u001b[0m                                  │\n",
       "│     var: 'chrom', 'pos', 'a0', 'a1', 'AF', 'ER2',  │     var: 'GeneSymbol', 'features', 'start', 'end', │\n",
       "│ 'maf', 'R2', 'contig', 'id', 'id_mask', 'quality'  │ 'chrom', 'strand', 'description', 'wikigene_name', │\n",
       "│                                                    │ 'wikigene_id'                                      │\n",
       "│     obsm: \u001b[1;38;5;197m'PB_CD4 ET'\u001b[0m                              │     uns: 'log1p'                                   │\n",
       "│     varm: 'filter'                                 │                                                    │\n",
       "└────────────────────────────────────────────────────┴────────────────────────────────────────────────────┘\n"
      ]
     },
     "metadata": {},
     "output_type": "display_data"
    },
    {
     "data": {
      "text/plain": []
     },
     "execution_count": 9,
     "metadata": {},
     "output_type": "execute_result"
    }
   ],
   "source": [
    "dd.aggregate(key_added=pb_gex_key, filter_key=celltype_key, filter_value=cell_type, sync_var=True)\n",
    "dd.aggregate(obs=[\"sex\", \"age\"], func=\"first\", add_to_obs=True)\n",
    "dd"
   ]
  },
  {
   "cell_type": "code",
   "execution_count": 10,
   "metadata": {},
   "outputs": [],
   "source": [
    "gpcs = pd.read_csv(gpc_path, sep=r\"\\s+\", index_col=1, header=None).drop(columns=0)\n",
    "dd.D.obsm[\"gPCs\"] = gpcs.loc[dd.D.obs.index].iloc[:, :n_gpcs]"
   ]
  },
  {
   "cell_type": "code",
   "execution_count": 11,
   "metadata": {},
   "outputs": [
    {
     "name": "stdout",
     "output_type": "stream",
     "text": [
      "(981, 32738)\n",
      "(981, 143083, 61786, 32738)\n",
      "(981, 12582)\n",
      "(981, 143083, 61786, 12582)\n"
     ]
    },
    {
     "name": "stderr",
     "output_type": "stream",
     "text": [
      "/Users/jan.engelmann/projects/sc-genetics/src/cellink/_core/donordata.py:131: ImplicitModificationWarning: Setting element `.obsm['PB_CD4 ET']` of view, initializing view as actual.\n",
      "  _D.obsm[key] = _D.obsm[key].loc[:, _C.var.index]\n"
     ]
    }
   ],
   "source": [
    "print(dd.D.obsm[pb_gex_key].shape)\n",
    "print(dd.shape)\n",
    "\n",
    "keep_genes = ((dd.D.obsm[pb_gex_key] > 0).mean(axis=0) >= min_percent_donors_expressed).values\n",
    "dd = dd[:, :, :, keep_genes]\n",
    "\n",
    "print(dd.D.obsm[pb_gex_key].shape)\n",
    "print(dd.shape)"
   ]
  },
  {
   "cell_type": "code",
   "execution_count": 12,
   "metadata": {},
   "outputs": [],
   "source": [
    "dd.D.obsm[\"ePCs\"] = mdata[dd.D.obs_names].obsm[\"X_pca\"]"
   ]
  },
  {
   "cell_type": "code",
   "execution_count": 13,
   "metadata": {},
   "outputs": [],
   "source": [
    "F = np.concatenate(\n",
    "    [\n",
    "        np.ones((dd.shape[0], 1)),\n",
    "        dd.D.obs[[\"sex\"]].values - 1,\n",
    "        dd.D.obs[[\"age\"]].values,\n",
    "        dd.D.obsm[\"gPCs\"].values,\n",
    "        dd.D.obsm[\"ePCs\"],\n",
    "    ],\n",
    "    axis=1,\n",
    ")\n",
    "F[:, 2:] = column_normalize(F[:, 2:])"
   ]
  },
  {
   "cell_type": "code",
   "execution_count": 14,
   "metadata": {},
   "outputs": [
    {
     "name": "stderr",
     "output_type": "stream",
     "text": [
      "/Users/jan.engelmann/projects/sc-genetics/src/cellink/_core/donordata.py:131: ImplicitModificationWarning: Setting element `.obsm['PB_CD4 ET']` of view, initializing view as actual.\n",
      "  _D.obsm[key] = _D.obsm[key].loc[:, _C.var.index]\n"
     ]
    },
    {
     "data": {
      "text/html": [
       "<pre style=\"white-space:pre;overflow-x:auto;line-height:normal;font-family:Menlo,'DejaVu Sans Mono',consolas,'Courier New',monospace\">┏━━━━━━━━━━━━━━━━━━━━━━━━━━━━━━━━━━━━━━━━━━━━━━━━━━━━┳━━━━━━━━━━━━━━━━━━━━━━━━━━━━━━━━━━━━━━━━━━━━━━━━━━━━┓\n",
       "┃<span style=\"color: #ff005f; text-decoration-color: #ff005f; font-weight: bold\"> D (donors)                                         </span>┃<span style=\"color: #ff005f; text-decoration-color: #ff005f; font-weight: bold\"> C (cells)                                          </span>┃\n",
       "┡━━━━━━━━━━━━━━━━━━━━━━━━━━━━━━━━━━━━━━━━━━━━━━━━━━━━╇━━━━━━━━━━━━━━━━━━━━━━━━━━━━━━━━━━━━━━━━━━━━━━━━━━━━┩\n",
       "│ AnnData object with n_obs × n_vars = 981 × 143083  │ AnnData object with n_obs × n_vars = 61786 × 320   │\n",
       "│     obs: 'sex', 'age'                              │     obs: 'orig.ident', 'nCount_RNA',               │\n",
       "│                                                    │ 'nFeature_RNA', 'pool', 'individual',              │\n",
       "│                                                    │ 'percent.mt', 'latent', 'nCount_SCT',              │\n",
       "│                                                    │ 'nFeature_SCT', 'cell_type', 'cell_label', 'sex',  │\n",
       "│                                                    │ 'age', <span style=\"color: #ff005f; text-decoration-color: #ff005f; font-weight: bold\">'donor_id'</span>                                  │\n",
       "│     var: 'chrom', 'pos', 'a0', 'a1', 'AF', 'ER2',  │     var: 'GeneSymbol', 'features', 'start', 'end', │\n",
       "│ 'maf', 'R2', 'contig', 'id', 'id_mask', 'quality'  │ 'chrom', 'strand', 'description', 'wikigene_name', │\n",
       "│                                                    │ 'wikigene_id'                                      │\n",
       "│     obsm: <span style=\"color: #ff005f; text-decoration-color: #ff005f; font-weight: bold\">'PB_CD4 ET', </span>'gPCs', 'ePCs'              │     uns: 'log1p'                                   │\n",
       "│     varm: 'filter'                                 │                                                    │\n",
       "└────────────────────────────────────────────────────┴────────────────────────────────────────────────────┘\n",
       "</pre>\n"
      ],
      "text/plain": [
       "┏━━━━━━━━━━━━━━━━━━━━━━━━━━━━━━━━━━━━━━━━━━━━━━━━━━━━┳━━━━━━━━━━━━━━━━━━━━━━━━━━━━━━━━━━━━━━━━━━━━━━━━━━━━┓\n",
       "┃\u001b[1;38;5;197m \u001b[0m\u001b[1;38;5;197mD (donors)                                        \u001b[0m\u001b[1;38;5;197m \u001b[0m┃\u001b[1;38;5;197m \u001b[0m\u001b[1;38;5;197mC (cells)                                         \u001b[0m\u001b[1;38;5;197m \u001b[0m┃\n",
       "┡━━━━━━━━━━━━━━━━━━━━━━━━━━━━━━━━━━━━━━━━━━━━━━━━━━━━╇━━━━━━━━━━━━━━━━━━━━━━━━━━━━━━━━━━━━━━━━━━━━━━━━━━━━┩\n",
       "│ AnnData object with n_obs × n_vars = 981 × 143083  │ AnnData object with n_obs × n_vars = 61786 × 320   │\n",
       "│     obs: 'sex', 'age'                              │     obs: 'orig.ident', 'nCount_RNA',               │\n",
       "│                                                    │ 'nFeature_RNA', 'pool', 'individual',              │\n",
       "│                                                    │ 'percent.mt', 'latent', 'nCount_SCT',              │\n",
       "│                                                    │ 'nFeature_SCT', 'cell_type', 'cell_label', 'sex',  │\n",
       "│                                                    │ 'age', \u001b[1;38;5;197m'donor_id'\u001b[0m                                  │\n",
       "│     var: 'chrom', 'pos', 'a0', 'a1', 'AF', 'ER2',  │     var: 'GeneSymbol', 'features', 'start', 'end', │\n",
       "│ 'maf', 'R2', 'contig', 'id', 'id_mask', 'quality'  │ 'chrom', 'strand', 'description', 'wikigene_name', │\n",
       "│                                                    │ 'wikigene_id'                                      │\n",
       "│     obsm: \u001b[1;38;5;197m'PB_CD4 ET', \u001b[0m'gPCs', 'ePCs'              │     uns: 'log1p'                                   │\n",
       "│     varm: 'filter'                                 │                                                    │\n",
       "└────────────────────────────────────────────────────┴────────────────────────────────────────────────────┘\n"
      ]
     },
     "metadata": {},
     "output_type": "display_data"
    },
    {
     "data": {
      "text/plain": []
     },
     "execution_count": 14,
     "metadata": {},
     "output_type": "execute_result"
    }
   ],
   "source": [
    "dd = dd[:, dd.D.var.chrom == str(chrom), :, dd.C.var.chrom == str(chrom)]\n",
    "dd"
   ]
  },
  {
   "cell_type": "code",
   "execution_count": 15,
   "metadata": {},
   "outputs": [
    {
     "data": {
      "application/vnd.jupyter.widget-view+json": {
       "model_id": "da746c254bce44b5bad265304a9357c9",
       "version_major": 2,
       "version_minor": 0
      },
      "text/plain": [
       "  0%|          | 0/320 [00:00<?, ?it/s]"
      ]
     },
     "metadata": {},
     "output_type": "display_data"
    },
    {
     "data": {
      "text/html": [
       "<div>\n",
       "<style scoped>\n",
       "    .dataframe tbody tr th:only-of-type {\n",
       "        vertical-align: middle;\n",
       "    }\n",
       "\n",
       "    .dataframe tbody tr th {\n",
       "        vertical-align: top;\n",
       "    }\n",
       "\n",
       "    .dataframe thead th {\n",
       "        text-align: right;\n",
       "    }\n",
       "</style>\n",
       "<table border=\"1\" class=\"dataframe\">\n",
       "  <thead>\n",
       "    <tr style=\"text-align: right;\">\n",
       "      <th></th>\n",
       "      <th>snp</th>\n",
       "      <th>egene</th>\n",
       "      <th>n_cis_snps</th>\n",
       "      <th>pv</th>\n",
       "      <th>beta</th>\n",
       "      <th>betaste</th>\n",
       "      <th>lrt</th>\n",
       "    </tr>\n",
       "  </thead>\n",
       "  <tbody>\n",
       "    <tr>\n",
       "      <th>0</th>\n",
       "      <td>22_17274624_G_A</td>\n",
       "      <td>ENSG00000100181</td>\n",
       "      <td>1688</td>\n",
       "      <td>5.248067e-04</td>\n",
       "      <td>0.639690</td>\n",
       "      <td>0.184468</td>\n",
       "      <td>12.025392</td>\n",
       "    </tr>\n",
       "    <tr>\n",
       "      <th>1</th>\n",
       "      <td>22_17435280_G_A</td>\n",
       "      <td>ENSG00000177663</td>\n",
       "      <td>3188</td>\n",
       "      <td>2.208257e-04</td>\n",
       "      <td>0.469891</td>\n",
       "      <td>0.127207</td>\n",
       "      <td>13.645024</td>\n",
       "    </tr>\n",
       "    <tr>\n",
       "      <th>2</th>\n",
       "      <td>22_18104924_A_G</td>\n",
       "      <td>ENSG00000069998</td>\n",
       "      <td>3378</td>\n",
       "      <td>1.307317e-03</td>\n",
       "      <td>3.191381</td>\n",
       "      <td>0.992848</td>\n",
       "      <td>10.332166</td>\n",
       "    </tr>\n",
       "    <tr>\n",
       "      <th>3</th>\n",
       "      <td>22_17860359_C_T</td>\n",
       "      <td>ENSG00000093072</td>\n",
       "      <td>3567</td>\n",
       "      <td>1.648999e-03</td>\n",
       "      <td>0.490301</td>\n",
       "      <td>0.155795</td>\n",
       "      <td>9.904224</td>\n",
       "    </tr>\n",
       "    <tr>\n",
       "      <th>4</th>\n",
       "      <td>22_18161979_G_A</td>\n",
       "      <td>ENSG00000131100</td>\n",
       "      <td>4579</td>\n",
       "      <td>1.441427e-03</td>\n",
       "      <td>0.197257</td>\n",
       "      <td>0.061909</td>\n",
       "      <td>10.152027</td>\n",
       "    </tr>\n",
       "    <tr>\n",
       "      <th>...</th>\n",
       "      <td>...</td>\n",
       "      <td>...</td>\n",
       "      <td>...</td>\n",
       "      <td>...</td>\n",
       "      <td>...</td>\n",
       "      <td>...</td>\n",
       "      <td>...</td>\n",
       "    </tr>\n",
       "    <tr>\n",
       "      <th>315</th>\n",
       "      <td>22_50896385_A_G</td>\n",
       "      <td>ENSG00000205560</td>\n",
       "      <td>3415</td>\n",
       "      <td>1.367158e-03</td>\n",
       "      <td>0.151194</td>\n",
       "      <td>0.047226</td>\n",
       "      <td>10.249578</td>\n",
       "    </tr>\n",
       "    <tr>\n",
       "      <th>316</th>\n",
       "      <td>22_50957733_C_T</td>\n",
       "      <td>ENSG00000100288</td>\n",
       "      <td>3337</td>\n",
       "      <td>1.897226e-03</td>\n",
       "      <td>0.625450</td>\n",
       "      <td>0.201377</td>\n",
       "      <td>9.646404</td>\n",
       "    </tr>\n",
       "    <tr>\n",
       "      <th>317</th>\n",
       "      <td>22_51066990_C_T</td>\n",
       "      <td>ENSG00000205559</td>\n",
       "      <td>3317</td>\n",
       "      <td>1.795486e-05</td>\n",
       "      <td>0.232390</td>\n",
       "      <td>0.054184</td>\n",
       "      <td>18.394786</td>\n",
       "    </tr>\n",
       "    <tr>\n",
       "      <th>318</th>\n",
       "      <td>22_51064416_T_C</td>\n",
       "      <td>ENSG00000100299</td>\n",
       "      <td>3068</td>\n",
       "      <td>4.209389e-07</td>\n",
       "      <td>-0.355121</td>\n",
       "      <td>0.070193</td>\n",
       "      <td>25.595872</td>\n",
       "    </tr>\n",
       "    <tr>\n",
       "      <th>319</th>\n",
       "      <td>22_50975753_G_A</td>\n",
       "      <td>ENSG00000079974</td>\n",
       "      <td>2246</td>\n",
       "      <td>2.869176e-04</td>\n",
       "      <td>0.171685</td>\n",
       "      <td>0.047337</td>\n",
       "      <td>13.153925</td>\n",
       "    </tr>\n",
       "  </tbody>\n",
       "</table>\n",
       "<p>320 rows × 7 columns</p>\n",
       "</div>"
      ],
      "text/plain": [
       "                 snp            egene  n_cis_snps            pv      beta  \\\n",
       "0    22_17274624_G_A  ENSG00000100181        1688  5.248067e-04  0.639690   \n",
       "1    22_17435280_G_A  ENSG00000177663        3188  2.208257e-04  0.469891   \n",
       "2    22_18104924_A_G  ENSG00000069998        3378  1.307317e-03  3.191381   \n",
       "3    22_17860359_C_T  ENSG00000093072        3567  1.648999e-03  0.490301   \n",
       "4    22_18161979_G_A  ENSG00000131100        4579  1.441427e-03  0.197257   \n",
       "..               ...              ...         ...           ...       ...   \n",
       "315  22_50896385_A_G  ENSG00000205560        3415  1.367158e-03  0.151194   \n",
       "316  22_50957733_C_T  ENSG00000100288        3337  1.897226e-03  0.625450   \n",
       "317  22_51066990_C_T  ENSG00000205559        3317  1.795486e-05  0.232390   \n",
       "318  22_51064416_T_C  ENSG00000100299        3068  4.209389e-07 -0.355121   \n",
       "319  22_50975753_G_A  ENSG00000079974        2246  2.869176e-04  0.171685   \n",
       "\n",
       "      betaste        lrt  \n",
       "0    0.184468  12.025392  \n",
       "1    0.127207  13.645024  \n",
       "2    0.992848  10.332166  \n",
       "3    0.155795   9.904224  \n",
       "4    0.061909  10.152027  \n",
       "..        ...        ...  \n",
       "315  0.047226  10.249578  \n",
       "316  0.201377   9.646404  \n",
       "317  0.054184  18.394786  \n",
       "318  0.070193  25.595872  \n",
       "319  0.047337  13.153925  \n",
       "\n",
       "[320 rows x 7 columns]"
      ]
     },
     "execution_count": 15,
     "metadata": {},
     "output_type": "execute_result"
    }
   ],
   "source": [
    "results = []\n",
    "if isinstance(dd.D.X, da.Array | ad._core.views.DaskArrayView):\n",
    "    if dd.D.is_view:\n",
    "        dd._D = dd._D.copy()\n",
    "    dd.D.X = dd.D.X.compute()\n",
    "\n",
    "\n",
    "for gene, row in tqdm(dd.C.var.iterrows(), total=dd.shape[3]):\n",
    "    Y = gaussianize(dd.D.obsm[pb_gex_key][[gene]].values + 1e-5 * np.random.randn(dd.shape[0], 1))\n",
    "\n",
    "    start = max(0, row.start - cis_window)\n",
    "    end = row.end + cis_window\n",
    "    _D = dd.D[:, (dd.D.var.pos < end)]\n",
    "    _D = _D[:, (_D.var.pos > start)]\n",
    "    _D = _D[:, (_D.X.std(0) != 0)]\n",
    "    G = _D.X\n",
    "\n",
    "    gwas = GWAS(Y, F)\n",
    "    gwas.process(G)\n",
    "\n",
    "    snp_idx = gwas.getPv().argmin()\n",
    "\n",
    "    def _get_top_snp(arr, snp_idx=snp_idx):\n",
    "        return arr.ravel()[snp_idx].item()\n",
    "\n",
    "    rdict = {\n",
    "        \"snp\": _D.var.iloc[snp_idx].name,\n",
    "        \"egene\": gene,\n",
    "        \"n_cis_snps\": G.shape[1],\n",
    "        \"pv\": _get_top_snp(gwas.getPv()),\n",
    "        \"beta\": _get_top_snp(gwas.getBetaSNP()),\n",
    "        \"betaste\": _get_top_snp(gwas.getBetaSNPste()),\n",
    "        \"lrt\": _get_top_snp(gwas.getLRT()),\n",
    "    }\n",
    "    results.append(rdict)\n",
    "\n",
    "rdf = pd.DataFrame(results)\n",
    "rdf"
   ]
  },
  {
   "cell_type": "code",
   "execution_count": 16,
   "metadata": {},
   "outputs": [
    {
     "data": {
      "text/plain": [
       "23"
      ]
     },
     "execution_count": 16,
     "metadata": {},
     "output_type": "execute_result"
    }
   ],
   "source": [
    "rdf[\"pv_adj\"] = np.clip(rdf[\"pv\"] * rdf[\"n_cis_snps\"], 0, 1)  # gene-wise Bonferroni\n",
    "rdf[\"qv\"] = fdrcorrection(rdf[\"pv_adj\"])[1]\n",
    "\n",
    "(rdf.qv < 0.05).sum()"
   ]
  }
 ],
 "metadata": {
  "kernelspec": {
   "display_name": "scgeno",
   "language": "python",
   "name": "python3"
  },
  "language_info": {
   "codemirror_mode": {
    "name": "ipython",
    "version": 3
   },
   "file_extension": ".py",
   "mimetype": "text/x-python",
   "name": "python",
   "nbconvert_exporter": "python",
   "pygments_lexer": "ipython3",
   "version": "3.10.15"
  }
 },
 "nbformat": 4,
 "nbformat_minor": 2
}
